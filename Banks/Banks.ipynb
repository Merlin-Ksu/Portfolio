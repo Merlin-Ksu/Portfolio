{
 "cells": [
  {
   "cell_type": "markdown",
   "metadata": {},
   "source": [
    "# Банки"
   ]
  },
  {
   "cell_type": "markdown",
   "metadata": {},
   "source": [
    "У нас есть данные о клиентах банка «Метанпром». Банк располагается в Ярославле и областных городах: Ростов Великий и Рыбинск. Наши главные задачи — анализ оттока клиентов, нахождение высокоотточных сегментов пользователей банка и создание рекомендаций по сокращению оттока.\n",
    "\n",
    "В рамках исследования были проведены следующие этапы:\n",
    "1. [Изучение данных](#1)\n",
    "2. [Предобработка данных](#2)\n",
    "3. [Исследовательский анализ данных](#3)\n",
    "4. [Проверка статистических гипотез](#4)\n",
    "5. [Сегментация отточных пользователей](#5)\n",
    "6. [Выводы и рекомендации по стимулированию высокоотточных сегментов](#6)"
   ]
  },
  {
   "cell_type": "markdown",
   "metadata": {},
   "source": [
    "<a id=\"1\"></a>\n",
    "## Изучение данных"
   ]
  },
  {
   "cell_type": "markdown",
   "metadata": {},
   "source": [
    "**1.1** Для начала подгрузим все необходимые для работы бибилиотеки. "
   ]
  },
  {
   "cell_type": "code",
   "execution_count": 1,
   "metadata": {},
   "outputs": [],
   "source": [
    "!pip install phik -q\n",
    "\n",
    "import pandas as pd\n",
    "import numpy as np\n",
    "import seaborn as sns\n",
    "from matplotlib import pyplot as plt\n",
    "import statistics\n",
    "import phik\n",
    "from phik import phik_matrix\n",
    "from phik.report import plot_correlation_matrix\n",
    "import scipy.stats as st\n",
    "from scipy.stats import binom\n",
    "import math as mth"
   ]
  },
  {
   "cell_type": "markdown",
   "metadata": {},
   "source": [
    "**1.2** Теперь загрузим данные для исследования в переменную `banks`."
   ]
  },
  {
   "cell_type": "code",
   "execution_count": 2,
   "metadata": {},
   "outputs": [
    {
     "data": {
      "text/html": [
       "<div>\n",
       "<style scoped>\n",
       "    .dataframe tbody tr th:only-of-type {\n",
       "        vertical-align: middle;\n",
       "    }\n",
       "\n",
       "    .dataframe tbody tr th {\n",
       "        vertical-align: top;\n",
       "    }\n",
       "\n",
       "    .dataframe thead th {\n",
       "        text-align: right;\n",
       "    }\n",
       "</style>\n",
       "<table border=\"1\" class=\"dataframe\">\n",
       "  <thead>\n",
       "    <tr style=\"text-align: right;\">\n",
       "      <th></th>\n",
       "      <th>USERID</th>\n",
       "      <th>score</th>\n",
       "      <th>city</th>\n",
       "      <th>gender</th>\n",
       "      <th>age</th>\n",
       "      <th>equity</th>\n",
       "      <th>balance</th>\n",
       "      <th>products</th>\n",
       "      <th>credit_card</th>\n",
       "      <th>last_activity</th>\n",
       "      <th>EST_SALARY</th>\n",
       "      <th>churn</th>\n",
       "    </tr>\n",
       "  </thead>\n",
       "  <tbody>\n",
       "    <tr>\n",
       "      <th>0</th>\n",
       "      <td>183012</td>\n",
       "      <td>850.0</td>\n",
       "      <td>Рыбинск</td>\n",
       "      <td>Ж</td>\n",
       "      <td>25.0</td>\n",
       "      <td>1</td>\n",
       "      <td>59214.82</td>\n",
       "      <td>2</td>\n",
       "      <td>0</td>\n",
       "      <td>1</td>\n",
       "      <td>75719.14</td>\n",
       "      <td>1</td>\n",
       "    </tr>\n",
       "    <tr>\n",
       "      <th>1</th>\n",
       "      <td>146556</td>\n",
       "      <td>861.0</td>\n",
       "      <td>Рыбинск</td>\n",
       "      <td>Ж</td>\n",
       "      <td>37.0</td>\n",
       "      <td>5</td>\n",
       "      <td>850594.33</td>\n",
       "      <td>3</td>\n",
       "      <td>1</td>\n",
       "      <td>0</td>\n",
       "      <td>86621.77</td>\n",
       "      <td>0</td>\n",
       "    </tr>\n",
       "    <tr>\n",
       "      <th>2</th>\n",
       "      <td>120722</td>\n",
       "      <td>892.0</td>\n",
       "      <td>Рыбинск</td>\n",
       "      <td>Ж</td>\n",
       "      <td>30.0</td>\n",
       "      <td>0</td>\n",
       "      <td>NaN</td>\n",
       "      <td>1</td>\n",
       "      <td>1</td>\n",
       "      <td>1</td>\n",
       "      <td>107683.34</td>\n",
       "      <td>0</td>\n",
       "    </tr>\n",
       "    <tr>\n",
       "      <th>3</th>\n",
       "      <td>225363</td>\n",
       "      <td>866.0</td>\n",
       "      <td>Ярославль</td>\n",
       "      <td>Ж</td>\n",
       "      <td>51.0</td>\n",
       "      <td>5</td>\n",
       "      <td>1524746.26</td>\n",
       "      <td>2</td>\n",
       "      <td>0</td>\n",
       "      <td>1</td>\n",
       "      <td>174423.53</td>\n",
       "      <td>1</td>\n",
       "    </tr>\n",
       "    <tr>\n",
       "      <th>4</th>\n",
       "      <td>157978</td>\n",
       "      <td>730.0</td>\n",
       "      <td>Ярославль</td>\n",
       "      <td>М</td>\n",
       "      <td>34.0</td>\n",
       "      <td>5</td>\n",
       "      <td>174.00</td>\n",
       "      <td>1</td>\n",
       "      <td>1</td>\n",
       "      <td>0</td>\n",
       "      <td>67353.16</td>\n",
       "      <td>1</td>\n",
       "    </tr>\n",
       "    <tr>\n",
       "      <th>5</th>\n",
       "      <td>202305</td>\n",
       "      <td>856.0</td>\n",
       "      <td>Рыбинск</td>\n",
       "      <td>М</td>\n",
       "      <td>56.0</td>\n",
       "      <td>4</td>\n",
       "      <td>863687.24</td>\n",
       "      <td>3</td>\n",
       "      <td>1</td>\n",
       "      <td>0</td>\n",
       "      <td>156619.80</td>\n",
       "      <td>0</td>\n",
       "    </tr>\n",
       "    <tr>\n",
       "      <th>6</th>\n",
       "      <td>177259</td>\n",
       "      <td>807.0</td>\n",
       "      <td>Ярославль</td>\n",
       "      <td>Ж</td>\n",
       "      <td>39.0</td>\n",
       "      <td>3</td>\n",
       "      <td>405042.44</td>\n",
       "      <td>3</td>\n",
       "      <td>0</td>\n",
       "      <td>1</td>\n",
       "      <td>103838.32</td>\n",
       "      <td>0</td>\n",
       "    </tr>\n",
       "    <tr>\n",
       "      <th>7</th>\n",
       "      <td>218868</td>\n",
       "      <td>825.0</td>\n",
       "      <td>Ярославль</td>\n",
       "      <td>Ж</td>\n",
       "      <td>38.0</td>\n",
       "      <td>4</td>\n",
       "      <td>458145.40</td>\n",
       "      <td>2</td>\n",
       "      <td>1</td>\n",
       "      <td>1</td>\n",
       "      <td>68085.48</td>\n",
       "      <td>0</td>\n",
       "    </tr>\n",
       "    <tr>\n",
       "      <th>8</th>\n",
       "      <td>211686</td>\n",
       "      <td>923.0</td>\n",
       "      <td>Ярославль</td>\n",
       "      <td>М</td>\n",
       "      <td>54.0</td>\n",
       "      <td>5</td>\n",
       "      <td>1206337.87</td>\n",
       "      <td>2</td>\n",
       "      <td>1</td>\n",
       "      <td>0</td>\n",
       "      <td>155371.79</td>\n",
       "      <td>0</td>\n",
       "    </tr>\n",
       "    <tr>\n",
       "      <th>9</th>\n",
       "      <td>133130</td>\n",
       "      <td>906.0</td>\n",
       "      <td>Ярославль</td>\n",
       "      <td>Ж</td>\n",
       "      <td>67.0</td>\n",
       "      <td>0</td>\n",
       "      <td>NaN</td>\n",
       "      <td>1</td>\n",
       "      <td>0</td>\n",
       "      <td>1</td>\n",
       "      <td>238055.53</td>\n",
       "      <td>0</td>\n",
       "    </tr>\n",
       "  </tbody>\n",
       "</table>\n",
       "</div>"
      ],
      "text/plain": [
       "   USERID  score       city gender   age  equity     balance  products  \\\n",
       "0  183012  850.0    Рыбинск      Ж  25.0       1    59214.82         2   \n",
       "1  146556  861.0    Рыбинск      Ж  37.0       5   850594.33         3   \n",
       "2  120722  892.0    Рыбинск      Ж  30.0       0         NaN         1   \n",
       "3  225363  866.0  Ярославль      Ж  51.0       5  1524746.26         2   \n",
       "4  157978  730.0  Ярославль      М  34.0       5      174.00         1   \n",
       "5  202305  856.0    Рыбинск      М  56.0       4   863687.24         3   \n",
       "6  177259  807.0  Ярославль      Ж  39.0       3   405042.44         3   \n",
       "7  218868  825.0  Ярославль      Ж  38.0       4   458145.40         2   \n",
       "8  211686  923.0  Ярославль      М  54.0       5  1206337.87         2   \n",
       "9  133130  906.0  Ярославль      Ж  67.0       0         NaN         1   \n",
       "\n",
       "   credit_card  last_activity  EST_SALARY  churn  \n",
       "0            0              1    75719.14      1  \n",
       "1            1              0    86621.77      0  \n",
       "2            1              1   107683.34      0  \n",
       "3            0              1   174423.53      1  \n",
       "4            1              0    67353.16      1  \n",
       "5            1              0   156619.80      0  \n",
       "6            0              1   103838.32      0  \n",
       "7            1              1    68085.48      0  \n",
       "8            1              0   155371.79      0  \n",
       "9            0              1   238055.53      0  "
      ]
     },
     "execution_count": 2,
     "metadata": {},
     "output_type": "execute_result"
    }
   ],
   "source": [
    "banks = pd.read_csv('datasets/bank_scrooge.csv')\n",
    "banks.head(10)"
   ]
  },
  {
   "cell_type": "markdown",
   "metadata": {},
   "source": [
    "**1.3** Изучим общую информацию о таблице. "
   ]
  },
  {
   "cell_type": "code",
   "execution_count": 3,
   "metadata": {},
   "outputs": [
    {
     "name": "stdout",
     "output_type": "stream",
     "text": [
      "<class 'pandas.core.frame.DataFrame'>\n",
      "RangeIndex: 10000 entries, 0 to 9999\n",
      "Data columns (total 12 columns):\n",
      " #   Column         Non-Null Count  Dtype  \n",
      "---  ------         --------------  -----  \n",
      " 0   USERID         10000 non-null  int64  \n",
      " 1   score          10000 non-null  float64\n",
      " 2   city           10000 non-null  object \n",
      " 3   gender         10000 non-null  object \n",
      " 4   age            9974 non-null   float64\n",
      " 5   equity         10000 non-null  int64  \n",
      " 6   balance        7705 non-null   float64\n",
      " 7   products       10000 non-null  int64  \n",
      " 8   credit_card    10000 non-null  int64  \n",
      " 9   last_activity  10000 non-null  int64  \n",
      " 10  EST_SALARY     10000 non-null  float64\n",
      " 11  churn          10000 non-null  int64  \n",
      "dtypes: float64(4), int64(6), object(2)\n",
      "memory usage: 937.6+ KB\n"
     ]
    }
   ],
   "source": [
    "banks.info()"
   ]
  },
  {
   "cell_type": "markdown",
   "metadata": {},
   "source": [
    "**1.4** Датасет состоит из 10 000 строк и 12 столбов:\n",
    "- `USERID` — идентификатор пользователя,\n",
    "- `score` — баллы кредитного скоринга,\n",
    "- `city` — город,\n",
    "- `gender` — пол,\n",
    "- `age` — возраст,\n",
    "- `equity` — приблизительная оценка собственности клиента,\n",
    "- `balance` — баланс на счёте,\n",
    "- `products` — количество продуктов, которыми пользуется клиент,\n",
    "- `credit_card` — есть ли кредитная карта (1/0),\n",
    "- `last_activity` — был ли клиент активен последнее время (1/0),\n",
    "- `EST_SALARY` — оценочный доход клиента,\n",
    "- `сhurn` — признак оттока (1/0)."
   ]
  },
  {
   "cell_type": "markdown",
   "metadata": {},
   "source": [
    "**1.5** Посмотрим, по какой шкале оценивается собственность клиента. "
   ]
  },
  {
   "cell_type": "code",
   "execution_count": 4,
   "metadata": {
    "scrolled": true
   },
   "outputs": [
    {
     "name": "stdout",
     "output_type": "stream",
     "text": [
      "Минимальная оценка собственности клиента: 0\n",
      "Максимальная оценка собственности клиента: 9\n"
     ]
    }
   ],
   "source": [
    "print('Минимальная оценка собственности клиента:', banks['equity'].min())\n",
    "print('Максимальная оценка собственности клиента:', banks['equity'].max())"
   ]
  },
  {
   "cell_type": "markdown",
   "metadata": {},
   "source": [
    "**1.6** Ценность собственности клиентов оценивается от 0 до 9 баллов.\n",
    "\n",
    "Перейдём к предобработке данных. "
   ]
  },
  {
   "cell_type": "markdown",
   "metadata": {},
   "source": [
    "<a id=\"2\"></a>\n",
    "## Предобработка данных"
   ]
  },
  {
   "cell_type": "markdown",
   "metadata": {},
   "source": [
    "**2.1** Для начала приведём названия столбцов `USERID` и `EST_SALARY` в предпочтительный вид. "
   ]
  },
  {
   "cell_type": "code",
   "execution_count": 5,
   "metadata": {},
   "outputs": [],
   "source": [
    "banks.rename(columns = {'USERID': 'user_id', 'EST_SALARY': 'est_salary'}, inplace=True)"
   ]
  },
  {
   "cell_type": "markdown",
   "metadata": {},
   "source": [
    "**2.2** Теперь посмотрим на пропуски в таблице. "
   ]
  },
  {
   "cell_type": "code",
   "execution_count": 6,
   "metadata": {},
   "outputs": [
    {
     "name": "stdout",
     "output_type": "stream",
     "text": [
      "<class 'pandas.core.frame.DataFrame'>\n",
      "RangeIndex: 10000 entries, 0 to 9999\n",
      "Data columns (total 12 columns):\n",
      " #   Column         Non-Null Count  Dtype  \n",
      "---  ------         --------------  -----  \n",
      " 0   user_id        10000 non-null  int64  \n",
      " 1   score          10000 non-null  float64\n",
      " 2   city           10000 non-null  object \n",
      " 3   gender         10000 non-null  object \n",
      " 4   age            9974 non-null   float64\n",
      " 5   equity         10000 non-null  int64  \n",
      " 6   balance        7705 non-null   float64\n",
      " 7   products       10000 non-null  int64  \n",
      " 8   credit_card    10000 non-null  int64  \n",
      " 9   last_activity  10000 non-null  int64  \n",
      " 10  est_salary     10000 non-null  float64\n",
      " 11  churn          10000 non-null  int64  \n",
      "dtypes: float64(4), int64(6), object(2)\n",
      "memory usage: 937.6+ KB\n"
     ]
    }
   ],
   "source": [
    "banks.info()"
   ]
  },
  {
   "cell_type": "markdown",
   "metadata": {},
   "source": [
    "**2.3** В датасете есть пропуски в столбцах `age` и `balance`.\n",
    "\n",
    "Возможно, пропуски в `balance` означают нулевой баланс. Проверим, есть ли в датасете клиенты с нулевым балансом. "
   ]
  },
  {
   "cell_type": "code",
   "execution_count": 7,
   "metadata": {},
   "outputs": [
    {
     "data": {
      "text/html": [
       "<div>\n",
       "<style scoped>\n",
       "    .dataframe tbody tr th:only-of-type {\n",
       "        vertical-align: middle;\n",
       "    }\n",
       "\n",
       "    .dataframe tbody tr th {\n",
       "        vertical-align: top;\n",
       "    }\n",
       "\n",
       "    .dataframe thead th {\n",
       "        text-align: right;\n",
       "    }\n",
       "</style>\n",
       "<table border=\"1\" class=\"dataframe\">\n",
       "  <thead>\n",
       "    <tr style=\"text-align: right;\">\n",
       "      <th></th>\n",
       "      <th>user_id</th>\n",
       "      <th>score</th>\n",
       "      <th>city</th>\n",
       "      <th>gender</th>\n",
       "      <th>age</th>\n",
       "      <th>equity</th>\n",
       "      <th>balance</th>\n",
       "      <th>products</th>\n",
       "      <th>credit_card</th>\n",
       "      <th>last_activity</th>\n",
       "      <th>est_salary</th>\n",
       "      <th>churn</th>\n",
       "    </tr>\n",
       "  </thead>\n",
       "  <tbody>\n",
       "    <tr>\n",
       "      <th>3900</th>\n",
       "      <td>179831</td>\n",
       "      <td>730.0</td>\n",
       "      <td>Ярославль</td>\n",
       "      <td>М</td>\n",
       "      <td>18.0</td>\n",
       "      <td>0</td>\n",
       "      <td>0.0</td>\n",
       "      <td>2</td>\n",
       "      <td>1</td>\n",
       "      <td>1</td>\n",
       "      <td>64548.33</td>\n",
       "      <td>0</td>\n",
       "    </tr>\n",
       "    <tr>\n",
       "      <th>6757</th>\n",
       "      <td>148456</td>\n",
       "      <td>813.0</td>\n",
       "      <td>Ярославль</td>\n",
       "      <td>М</td>\n",
       "      <td>20.0</td>\n",
       "      <td>2</td>\n",
       "      <td>0.0</td>\n",
       "      <td>2</td>\n",
       "      <td>1</td>\n",
       "      <td>0</td>\n",
       "      <td>23876.51</td>\n",
       "      <td>0</td>\n",
       "    </tr>\n",
       "  </tbody>\n",
       "</table>\n",
       "</div>"
      ],
      "text/plain": [
       "      user_id  score       city gender   age  equity  balance  products  \\\n",
       "3900   179831  730.0  Ярославль      М  18.0       0      0.0         2   \n",
       "6757   148456  813.0  Ярославль      М  20.0       2      0.0         2   \n",
       "\n",
       "      credit_card  last_activity  est_salary  churn  \n",
       "3900            1              1    64548.33      0  \n",
       "6757            1              0    23876.51      0  "
      ]
     },
     "execution_count": 7,
     "metadata": {},
     "output_type": "execute_result"
    }
   ],
   "source": [
    "banks.query('balance < 1')"
   ]
  },
  {
   "cell_type": "markdown",
   "metadata": {},
   "source": [
    "**2.4** В таблице есть клиенты с нулевым балансом, а значит, пропуски в `balance` могут означать не нулевой баланс, а отсутствие данных. Так как у нас нет уверенности в природе пропущенных значений и так как мы не можем удалить такое количество данных, оставим пропуски в таблице.\n",
    "\n",
    "А вот строки с пропусками в столбце `age` можно удалить, так как они составляют менее 0.5% от всех данных. При этом заполнить пропуски средними или медианными значениями мы не можем. "
   ]
  },
  {
   "cell_type": "code",
   "execution_count": 8,
   "metadata": {},
   "outputs": [],
   "source": [
    "banks = banks.query('age > 0').reset_index(drop=True)"
   ]
  },
  {
   "cell_type": "markdown",
   "metadata": {},
   "source": [
    "**2.5** Также посмотрим, есть ли у нас строки с нулевым количеством продуктов банка, так как клиентов без продуктов быть не может. "
   ]
  },
  {
   "cell_type": "code",
   "execution_count": 9,
   "metadata": {},
   "outputs": [
    {
     "data": {
      "text/html": [
       "<div>\n",
       "<style scoped>\n",
       "    .dataframe tbody tr th:only-of-type {\n",
       "        vertical-align: middle;\n",
       "    }\n",
       "\n",
       "    .dataframe tbody tr th {\n",
       "        vertical-align: top;\n",
       "    }\n",
       "\n",
       "    .dataframe thead th {\n",
       "        text-align: right;\n",
       "    }\n",
       "</style>\n",
       "<table border=\"1\" class=\"dataframe\">\n",
       "  <thead>\n",
       "    <tr style=\"text-align: right;\">\n",
       "      <th></th>\n",
       "      <th>user_id</th>\n",
       "      <th>score</th>\n",
       "      <th>city</th>\n",
       "      <th>gender</th>\n",
       "      <th>age</th>\n",
       "      <th>equity</th>\n",
       "      <th>balance</th>\n",
       "      <th>products</th>\n",
       "      <th>credit_card</th>\n",
       "      <th>last_activity</th>\n",
       "      <th>est_salary</th>\n",
       "      <th>churn</th>\n",
       "    </tr>\n",
       "  </thead>\n",
       "  <tbody>\n",
       "    <tr>\n",
       "      <th>8939</th>\n",
       "      <td>147837</td>\n",
       "      <td>962.0</td>\n",
       "      <td>Рыбинск</td>\n",
       "      <td>Ж</td>\n",
       "      <td>79.0</td>\n",
       "      <td>3</td>\n",
       "      <td>NaN</td>\n",
       "      <td>0</td>\n",
       "      <td>0</td>\n",
       "      <td>0</td>\n",
       "      <td>25063.96</td>\n",
       "      <td>1</td>\n",
       "    </tr>\n",
       "  </tbody>\n",
       "</table>\n",
       "</div>"
      ],
      "text/plain": [
       "      user_id  score     city gender   age  equity  balance  products  \\\n",
       "8939   147837  962.0  Рыбинск      Ж  79.0       3      NaN         0   \n",
       "\n",
       "      credit_card  last_activity  est_salary  churn  \n",
       "8939            0              0    25063.96      1  "
      ]
     },
     "execution_count": 9,
     "metadata": {},
     "output_type": "execute_result"
    }
   ],
   "source": [
    "banks.query('products == 0')"
   ]
  },
  {
   "cell_type": "markdown",
   "metadata": {},
   "source": [
    "**2.6** Есть один пользователь без банковских продуктов. Удалим эту строку из датасета. "
   ]
  },
  {
   "cell_type": "code",
   "execution_count": 11,
   "metadata": {
    "scrolled": true
   },
   "outputs": [
    {
     "name": "stdout",
     "output_type": "stream",
     "text": [
      "<class 'pandas.core.frame.DataFrame'>\n",
      "RangeIndex: 9973 entries, 0 to 9972\n",
      "Data columns (total 12 columns):\n",
      " #   Column         Non-Null Count  Dtype  \n",
      "---  ------         --------------  -----  \n",
      " 0   user_id        9973 non-null   int64  \n",
      " 1   score          9973 non-null   float64\n",
      " 2   city           9973 non-null   object \n",
      " 3   gender         9973 non-null   object \n",
      " 4   age            9973 non-null   float64\n",
      " 5   equity         9973 non-null   int64  \n",
      " 6   balance        7695 non-null   float64\n",
      " 7   products       9973 non-null   int64  \n",
      " 8   credit_card    9973 non-null   int64  \n",
      " 9   last_activity  9973 non-null   int64  \n",
      " 10  est_salary     9973 non-null   float64\n",
      " 11  churn          9973 non-null   int64  \n",
      "dtypes: float64(4), int64(6), object(2)\n",
      "memory usage: 935.1+ KB\n"
     ]
    }
   ],
   "source": [
    "banks = banks.query('products > 0').reset_index(drop=True)\n",
    "banks.info()"
   ]
  },
  {
   "cell_type": "markdown",
   "metadata": {},
   "source": [
    "**2.7** И посмотрим на минимальный возраст клиентов банка. "
   ]
  },
  {
   "cell_type": "code",
   "execution_count": 13,
   "metadata": {},
   "outputs": [
    {
     "name": "stdout",
     "output_type": "stream",
     "text": [
      "18.0\n"
     ]
    }
   ],
   "source": [
    "print(banks['age'].min())"
   ]
  },
  {
   "cell_type": "markdown",
   "metadata": {},
   "source": [
    "**2.8** Всё верно: клиентами банка могут стать только совершеннолетние.\n",
    "\n",
    "Теперь посмотрим на типы данных:\n",
    "- Столбцы `user_id`, `equity`, `products`, `credit_card`, `last_activity` и `churn` выражены типом `int`. Это верный тип данных, так как данные во всех этих столбцах должны иметь целочисленные значения (в том числе двоичные обозначения).\n",
    "- Столбцы `city` и `gender` верно представлены типом `object`.\n",
    "- Столбцы `balance` и `est_salary` представлены типом `float`, так как денежные меры могут принимать десятичные значения. \n",
    "\n",
    "Стоит обратить внимание на столбцы `score` и `age`. Возраст может выражаться только в целых числах, и так как мы удалили пропуски в этом столбце, можно привести его данные к типу `int`. Также проверим столбец `score`: какие значения в нём представлены.\n"
   ]
  },
  {
   "cell_type": "code",
   "execution_count": 14,
   "metadata": {},
   "outputs": [
    {
     "data": {
      "text/plain": [
       "array([ 850.,  861.,  892.,  866.,  730.,  856.,  807.,  825.,  923.,\n",
       "        906.,  927.,  921.,  845.,  837.,  815.,  731.,  829.,  793.,\n",
       "        876.,  922.,  772.,  896.,  871.,  732.,  898.,  806.,  766.,\n",
       "        776.,  868.,  946.,  828.,  786.,  944.,  863.,  822.,  794.,\n",
       "        924.,  811.,  814.,  956.,  935.,  826.,  849.,  901.,  893.,\n",
       "        792.,  888.,  831.,  748.,  820.,  860.,  914.,  930.,  948.,\n",
       "        789.,  737.,  812.,  933.,  809.,  749.,  873.,  859.,  950.,\n",
       "        937.,  835.,  768.,  767.,  785.,  846.,  750.,  816.,  894.,\n",
       "        891.,  788.,  758.,  787.,  821.,  855.,  779.,  791.,  838.,\n",
       "        971.,  797.,  841.,  915.,  985.,  870.,  897.,  763.,  774.,\n",
       "        686., 1000.,  875.,  819.,  869.,  854.,  810.,  761.,  802.,\n",
       "        958.,  917.,  745.,  736.,  908.,  928.,  884.,  853.,  780.,\n",
       "        726.,  881.,  975.,  852.,  965.,  899.,  890.,  836.,  818.,\n",
       "        880.,  795.,  916.,  775.,  902.,  918.,  842.,  771.,  895.,\n",
       "        801.,  721.,  966.,  804.,  885.,  986.,  753.,  832.,  979.,\n",
       "        798.,  754.,  756.,  823.,  658.,  734.,  954.,  827.,  929.,\n",
       "        760.,  688.,  659.,  817.,  718.,  705.,  920.,  652.,  649.,\n",
       "        862.,  770.,  824.,  934.,  952.,  977.,  840.,  709.,  878.,\n",
       "        808.,  900.,  778.,  800.,  813.,  905.,  925.,  697.,  942.,\n",
       "        848.,  717.,  712.,  973.,  879.,  987.,  805.,  872.,  904.,\n",
       "        939.,  993.,  790.,  799.,  943.,  903.,  839.,  882.,  765.,\n",
       "        883.,  964.,  833.,  739.,  911.,  926.,  751.,  803.,  762.,\n",
       "        907.,  910.,  694.,  867.,  877.,  706.,  708.,  691.,  742.,\n",
       "        889.,  919.,  864.,  663.,  913.,  940.,  887.,  953.,  746.,\n",
       "        699.,  858.,  834.,  847.,  727.,  782.,  720.,  938.,  711.,\n",
       "        725.,  912.,  851.,  743.,  685.,  830.,  701.,  733.,  777.,\n",
       "        784.,  949.,  724.,  769.,  687.,  773.,  857.,  963.,  741.,\n",
       "        931.,  974.,  764.,  886.,  844.,  874.,  909.,  951.,  947.,\n",
       "        689.,  715.,  865.,  945.,  796.,  682.,  714.,  976.,  992.,\n",
       "        707.,  713.,  781.,  668.,  843.,  932.,  752.,  962.,  759.,\n",
       "        757.,  967.,  646.,  738.,  722.,  936.,  664.,  661.,  728.,\n",
       "        997.,  755.,  673.,  703.,  941.,  988.,  695.,  961.,  960.,\n",
       "        651.,  696.,  653.,  983.,  972.,  716.,  692.,  959.,  783.,\n",
       "        735.,  968.,  702.,  740.,  747.,  955.,  970.,  990.,  681.,\n",
       "        744.,  729.,  982.,  969.,  980.,  978.,  710.,  719.,  655.,\n",
       "        650.,  991.,  642.,  700.,  981.,  657.,  996.,  669.,  999.,\n",
       "        698.,  989.,  957.,  666.,  671.,  678.,  693.,  648.,  690.,\n",
       "        684.,  994.,  984.,  723.,  667.,  654.,  680.,  998.,  660.,\n",
       "        670.,  656.,  665.,  662.,  704.,  995.])"
      ]
     },
     "execution_count": 14,
     "metadata": {},
     "output_type": "execute_result"
    }
   ],
   "source": [
    "banks['score'].unique()"
   ]
  },
  {
   "cell_type": "markdown",
   "metadata": {},
   "source": [
    "**2.9** В столбце `score` представлены только целые числа. Следовательно, его мы тоже можем привести к типу `int`."
   ]
  },
  {
   "cell_type": "code",
   "execution_count": 15,
   "metadata": {},
   "outputs": [
    {
     "name": "stdout",
     "output_type": "stream",
     "text": [
      "<class 'pandas.core.frame.DataFrame'>\n",
      "RangeIndex: 9973 entries, 0 to 9972\n",
      "Data columns (total 12 columns):\n",
      " #   Column         Non-Null Count  Dtype  \n",
      "---  ------         --------------  -----  \n",
      " 0   user_id        9973 non-null   int64  \n",
      " 1   score          9973 non-null   int64  \n",
      " 2   city           9973 non-null   object \n",
      " 3   gender         9973 non-null   object \n",
      " 4   age            9973 non-null   int64  \n",
      " 5   equity         9973 non-null   int64  \n",
      " 6   balance        7695 non-null   float64\n",
      " 7   products       9973 non-null   int64  \n",
      " 8   credit_card    9973 non-null   int64  \n",
      " 9   last_activity  9973 non-null   int64  \n",
      " 10  est_salary     9973 non-null   float64\n",
      " 11  churn          9973 non-null   int64  \n",
      "dtypes: float64(2), int64(8), object(2)\n",
      "memory usage: 935.1+ KB\n"
     ]
    }
   ],
   "source": [
    "banks['score'] = banks['score'].astype('int')\n",
    "banks['age'] = banks['age'].astype('int')\n",
    "banks.info()"
   ]
  },
  {
   "cell_type": "markdown",
   "metadata": {},
   "source": [
    "**2.10** Проверим данные на наличие явных дубликатов.\n"
   ]
  },
  {
   "cell_type": "code",
   "execution_count": 17,
   "metadata": {
    "scrolled": true
   },
   "outputs": [
    {
     "name": "stdout",
     "output_type": "stream",
     "text": [
      "0\n"
     ]
    }
   ],
   "source": [
    "print(banks.duplicated().sum())"
   ]
  },
  {
   "cell_type": "markdown",
   "metadata": {},
   "source": [
    "**2.11** Явных дубликатов нет. \n",
    "\n",
    "Проверим, все ли id пользователей в таблице уникальны."
   ]
  },
  {
   "cell_type": "code",
   "execution_count": 18,
   "metadata": {},
   "outputs": [
    {
     "data": {
      "text/plain": [
       "9923"
      ]
     },
     "execution_count": 18,
     "metadata": {},
     "output_type": "execute_result"
    }
   ],
   "source": [
    "banks['user_id'].nunique()"
   ]
  },
  {
   "cell_type": "markdown",
   "metadata": {},
   "source": [
    "**2.12** В таблице явно есть повторяющиеся id пользователей, так как среди 9973 строк насчитывается только 9923 уникальных пользователей (50 дублей).\n",
    "\n",
    "Посмотрим на строки с повторами в `user_id`."
   ]
  },
  {
   "cell_type": "code",
   "execution_count": 19,
   "metadata": {},
   "outputs": [
    {
     "data": {
      "text/html": [
       "<div>\n",
       "<style scoped>\n",
       "    .dataframe tbody tr th:only-of-type {\n",
       "        vertical-align: middle;\n",
       "    }\n",
       "\n",
       "    .dataframe tbody tr th {\n",
       "        vertical-align: top;\n",
       "    }\n",
       "\n",
       "    .dataframe thead th {\n",
       "        text-align: right;\n",
       "    }\n",
       "</style>\n",
       "<table border=\"1\" class=\"dataframe\">\n",
       "  <thead>\n",
       "    <tr style=\"text-align: right;\">\n",
       "      <th></th>\n",
       "      <th>user_id</th>\n",
       "      <th>score</th>\n",
       "      <th>city</th>\n",
       "      <th>gender</th>\n",
       "      <th>age</th>\n",
       "      <th>equity</th>\n",
       "      <th>balance</th>\n",
       "      <th>products</th>\n",
       "      <th>credit_card</th>\n",
       "      <th>last_activity</th>\n",
       "      <th>est_salary</th>\n",
       "      <th>churn</th>\n",
       "    </tr>\n",
       "  </thead>\n",
       "  <tbody>\n",
       "    <tr>\n",
       "      <th>1892</th>\n",
       "      <td>116540</td>\n",
       "      <td>883</td>\n",
       "      <td>Рыбинск</td>\n",
       "      <td>Ж</td>\n",
       "      <td>55</td>\n",
       "      <td>1</td>\n",
       "      <td>362756.49</td>\n",
       "      <td>3</td>\n",
       "      <td>0</td>\n",
       "      <td>1</td>\n",
       "      <td>175920.48</td>\n",
       "      <td>1</td>\n",
       "    </tr>\n",
       "    <tr>\n",
       "      <th>7683</th>\n",
       "      <td>116540</td>\n",
       "      <td>887</td>\n",
       "      <td>Ярославль</td>\n",
       "      <td>Ж</td>\n",
       "      <td>38</td>\n",
       "      <td>0</td>\n",
       "      <td>NaN</td>\n",
       "      <td>1</td>\n",
       "      <td>0</td>\n",
       "      <td>1</td>\n",
       "      <td>119247.61</td>\n",
       "      <td>0</td>\n",
       "    </tr>\n",
       "    <tr>\n",
       "      <th>7531</th>\n",
       "      <td>117943</td>\n",
       "      <td>880</td>\n",
       "      <td>Ярославль</td>\n",
       "      <td>Ж</td>\n",
       "      <td>40</td>\n",
       "      <td>0</td>\n",
       "      <td>NaN</td>\n",
       "      <td>1</td>\n",
       "      <td>1</td>\n",
       "      <td>0</td>\n",
       "      <td>137718.93</td>\n",
       "      <td>0</td>\n",
       "    </tr>\n",
       "    <tr>\n",
       "      <th>4862</th>\n",
       "      <td>117943</td>\n",
       "      <td>855</td>\n",
       "      <td>Рыбинск</td>\n",
       "      <td>Ж</td>\n",
       "      <td>32</td>\n",
       "      <td>6</td>\n",
       "      <td>1036832.93</td>\n",
       "      <td>4</td>\n",
       "      <td>1</td>\n",
       "      <td>1</td>\n",
       "      <td>107792.71</td>\n",
       "      <td>1</td>\n",
       "    </tr>\n",
       "    <tr>\n",
       "      <th>5856</th>\n",
       "      <td>120258</td>\n",
       "      <td>908</td>\n",
       "      <td>Рыбинск</td>\n",
       "      <td>Ж</td>\n",
       "      <td>38</td>\n",
       "      <td>4</td>\n",
       "      <td>2213581.63</td>\n",
       "      <td>2</td>\n",
       "      <td>0</td>\n",
       "      <td>1</td>\n",
       "      <td>160327.77</td>\n",
       "      <td>1</td>\n",
       "    </tr>\n",
       "    <tr>\n",
       "      <th>...</th>\n",
       "      <td>...</td>\n",
       "      <td>...</td>\n",
       "      <td>...</td>\n",
       "      <td>...</td>\n",
       "      <td>...</td>\n",
       "      <td>...</td>\n",
       "      <td>...</td>\n",
       "      <td>...</td>\n",
       "      <td>...</td>\n",
       "      <td>...</td>\n",
       "      <td>...</td>\n",
       "      <td>...</td>\n",
       "    </tr>\n",
       "    <tr>\n",
       "      <th>1739</th>\n",
       "      <td>220816</td>\n",
       "      <td>840</td>\n",
       "      <td>Ярославль</td>\n",
       "      <td>Ж</td>\n",
       "      <td>41</td>\n",
       "      <td>3</td>\n",
       "      <td>1193287.13</td>\n",
       "      <td>2</td>\n",
       "      <td>1</td>\n",
       "      <td>1</td>\n",
       "      <td>76434.94</td>\n",
       "      <td>1</td>\n",
       "    </tr>\n",
       "    <tr>\n",
       "      <th>4212</th>\n",
       "      <td>226719</td>\n",
       "      <td>903</td>\n",
       "      <td>Рыбинск</td>\n",
       "      <td>Ж</td>\n",
       "      <td>63</td>\n",
       "      <td>0</td>\n",
       "      <td>NaN</td>\n",
       "      <td>1</td>\n",
       "      <td>1</td>\n",
       "      <td>0</td>\n",
       "      <td>138582.58</td>\n",
       "      <td>0</td>\n",
       "    </tr>\n",
       "    <tr>\n",
       "      <th>2594</th>\n",
       "      <td>226719</td>\n",
       "      <td>990</td>\n",
       "      <td>Ярославль</td>\n",
       "      <td>М</td>\n",
       "      <td>37</td>\n",
       "      <td>4</td>\n",
       "      <td>14648692.14</td>\n",
       "      <td>2</td>\n",
       "      <td>0</td>\n",
       "      <td>0</td>\n",
       "      <td>934412.61</td>\n",
       "      <td>1</td>\n",
       "    </tr>\n",
       "    <tr>\n",
       "      <th>8192</th>\n",
       "      <td>227795</td>\n",
       "      <td>840</td>\n",
       "      <td>Рыбинск</td>\n",
       "      <td>М</td>\n",
       "      <td>34</td>\n",
       "      <td>2</td>\n",
       "      <td>350768.03</td>\n",
       "      <td>1</td>\n",
       "      <td>1</td>\n",
       "      <td>0</td>\n",
       "      <td>102036.14</td>\n",
       "      <td>1</td>\n",
       "    </tr>\n",
       "    <tr>\n",
       "      <th>8481</th>\n",
       "      <td>227795</td>\n",
       "      <td>839</td>\n",
       "      <td>Ярославль</td>\n",
       "      <td>М</td>\n",
       "      <td>34</td>\n",
       "      <td>2</td>\n",
       "      <td>326593.14</td>\n",
       "      <td>2</td>\n",
       "      <td>1</td>\n",
       "      <td>0</td>\n",
       "      <td>103314.92</td>\n",
       "      <td>0</td>\n",
       "    </tr>\n",
       "  </tbody>\n",
       "</table>\n",
       "<p>100 rows × 12 columns</p>\n",
       "</div>"
      ],
      "text/plain": [
       "      user_id  score       city gender  age  equity      balance  products  \\\n",
       "1892   116540    883    Рыбинск      Ж   55       1    362756.49         3   \n",
       "7683   116540    887  Ярославль      Ж   38       0          NaN         1   \n",
       "7531   117943    880  Ярославль      Ж   40       0          NaN         1   \n",
       "4862   117943    855    Рыбинск      Ж   32       6   1036832.93         4   \n",
       "5856   120258    908    Рыбинск      Ж   38       4   2213581.63         2   \n",
       "...       ...    ...        ...    ...  ...     ...          ...       ...   \n",
       "1739   220816    840  Ярославль      Ж   41       3   1193287.13         2   \n",
       "4212   226719    903    Рыбинск      Ж   63       0          NaN         1   \n",
       "2594   226719    990  Ярославль      М   37       4  14648692.14         2   \n",
       "8192   227795    840    Рыбинск      М   34       2    350768.03         1   \n",
       "8481   227795    839  Ярославль      М   34       2    326593.14         2   \n",
       "\n",
       "      credit_card  last_activity  est_salary  churn  \n",
       "1892            0              1   175920.48      1  \n",
       "7683            0              1   119247.61      0  \n",
       "7531            1              0   137718.93      0  \n",
       "4862            1              1   107792.71      1  \n",
       "5856            0              1   160327.77      1  \n",
       "...           ...            ...         ...    ...  \n",
       "1739            1              1    76434.94      1  \n",
       "4212            1              0   138582.58      0  \n",
       "2594            0              0   934412.61      1  \n",
       "8192            1              0   102036.14      1  \n",
       "8481            1              0   103314.92      0  \n",
       "\n",
       "[100 rows x 12 columns]"
      ]
     },
     "execution_count": 19,
     "metadata": {},
     "output_type": "execute_result"
    }
   ],
   "source": [
    "banks_duplicated = banks[banks.duplicated(subset=['user_id'])]\n",
    "\n",
    "list_duplicated = banks_duplicated['user_id'].tolist()\n",
    "\n",
    "banks_not_unique = banks.query('user_id == @list_duplicated').sort_values(by='user_id')\n",
    "banks_not_unique\n"
   ]
  },
  {
   "cell_type": "markdown",
   "metadata": {},
   "source": [
    "**2.13** Итак, мы нашли 100 строк с повторами в `user_id`. Однако мы видим, что одинаковым id соответствуют абсолютно разные данные, в том числе различаются города. Возможно, базы филиалов объединили не сразу, из-за чего были присвоены одинаковые id в разных отделениях банка.\n",
    "\n",
    "Проверим, есть ли совпадения по паре `user_id`-`city`."
   ]
  },
  {
   "cell_type": "code",
   "execution_count": 20,
   "metadata": {},
   "outputs": [
    {
     "data": {
      "text/plain": [
       "100"
      ]
     },
     "execution_count": 20,
     "metadata": {},
     "output_type": "execute_result"
    }
   ],
   "source": [
    "len(banks_not_unique.groupby(['user_id', 'city'], as_index=False))"
   ]
  },
  {
   "cell_type": "markdown",
   "metadata": {},
   "source": [
    "**2.14** Всего 100 уникальных пар, что соответствует количеству строк полученного среза. Следовательно, все совпадающие id привязаны к разным городам и пользователям. Можно сказать, что неявных дубликатов в таблице нет. "
   ]
  },
  {
   "cell_type": "markdown",
   "metadata": {},
   "source": [
    "**Промежуточные выводы:**\n",
    "\n",
    "В рамках изучения и предобработки данных была проведена следующая работа:\n",
    "1. Изучено, что датасет состоит из 10 000 строк и 12 столбов.\n",
    "2. Все названия столбцов приведены в предпочтительный вид.\n",
    "3. Убраны строки с пропусками в столбце `age` (26 строк), также было решено оставить пропуски в столбце `balance`.\n",
    "4. Проверено наличие явных и неявных дубликатов: не найдены. \n",
    "5. Данные столбцов приведены к нужному типу.  "
   ]
  },
  {
   "cell_type": "markdown",
   "metadata": {},
   "source": [
    "<a id=\"3\"></a>\n",
    "## Исследовательский анализ данных"
   ]
  },
  {
   "cell_type": "markdown",
   "metadata": {},
   "source": [
    "**3.1** Для начала узнаем общую долю оттока среди клиентов банка. "
   ]
  },
  {
   "cell_type": "code",
   "execution_count": 21,
   "metadata": {},
   "outputs": [
    {
     "name": "stdout",
     "output_type": "stream",
     "text": [
      "Общее количество отточных пользователей: 1818\n",
      "Общая доля отточных пользователей: 18.2%\n"
     ]
    }
   ],
   "source": [
    "churn_share = banks['churn'].mean()\n",
    "\n",
    "print('Общее количество отточных пользователей:', banks['churn'].sum())\n",
    "print(f'Общая доля отточных пользователей: {churn_share:.1%}')"
   ]
  },
  {
   "cell_type": "markdown",
   "metadata": {},
   "source": [
    "**3.2** Итак, 18.2% пользователей уходят из банка в последнее время, что является достаточно большой долей. Теперь сравним усреднённые портреты постоянного клиента и клиента, который перестал пользоваться услугами банка. \n",
    "\n",
    "Выведем исходную таблицу."
   ]
  },
  {
   "cell_type": "code",
   "execution_count": 22,
   "metadata": {},
   "outputs": [
    {
     "data": {
      "text/html": [
       "<div>\n",
       "<style scoped>\n",
       "    .dataframe tbody tr th:only-of-type {\n",
       "        vertical-align: middle;\n",
       "    }\n",
       "\n",
       "    .dataframe tbody tr th {\n",
       "        vertical-align: top;\n",
       "    }\n",
       "\n",
       "    .dataframe thead th {\n",
       "        text-align: right;\n",
       "    }\n",
       "</style>\n",
       "<table border=\"1\" class=\"dataframe\">\n",
       "  <thead>\n",
       "    <tr style=\"text-align: right;\">\n",
       "      <th></th>\n",
       "      <th>user_id</th>\n",
       "      <th>score</th>\n",
       "      <th>city</th>\n",
       "      <th>gender</th>\n",
       "      <th>age</th>\n",
       "      <th>equity</th>\n",
       "      <th>balance</th>\n",
       "      <th>products</th>\n",
       "      <th>credit_card</th>\n",
       "      <th>last_activity</th>\n",
       "      <th>est_salary</th>\n",
       "      <th>churn</th>\n",
       "    </tr>\n",
       "  </thead>\n",
       "  <tbody>\n",
       "    <tr>\n",
       "      <th>0</th>\n",
       "      <td>183012</td>\n",
       "      <td>850</td>\n",
       "      <td>Рыбинск</td>\n",
       "      <td>Ж</td>\n",
       "      <td>25</td>\n",
       "      <td>1</td>\n",
       "      <td>59214.82</td>\n",
       "      <td>2</td>\n",
       "      <td>0</td>\n",
       "      <td>1</td>\n",
       "      <td>75719.14</td>\n",
       "      <td>1</td>\n",
       "    </tr>\n",
       "    <tr>\n",
       "      <th>1</th>\n",
       "      <td>146556</td>\n",
       "      <td>861</td>\n",
       "      <td>Рыбинск</td>\n",
       "      <td>Ж</td>\n",
       "      <td>37</td>\n",
       "      <td>5</td>\n",
       "      <td>850594.33</td>\n",
       "      <td>3</td>\n",
       "      <td>1</td>\n",
       "      <td>0</td>\n",
       "      <td>86621.77</td>\n",
       "      <td>0</td>\n",
       "    </tr>\n",
       "    <tr>\n",
       "      <th>2</th>\n",
       "      <td>120722</td>\n",
       "      <td>892</td>\n",
       "      <td>Рыбинск</td>\n",
       "      <td>Ж</td>\n",
       "      <td>30</td>\n",
       "      <td>0</td>\n",
       "      <td>NaN</td>\n",
       "      <td>1</td>\n",
       "      <td>1</td>\n",
       "      <td>1</td>\n",
       "      <td>107683.34</td>\n",
       "      <td>0</td>\n",
       "    </tr>\n",
       "    <tr>\n",
       "      <th>3</th>\n",
       "      <td>225363</td>\n",
       "      <td>866</td>\n",
       "      <td>Ярославль</td>\n",
       "      <td>Ж</td>\n",
       "      <td>51</td>\n",
       "      <td>5</td>\n",
       "      <td>1524746.26</td>\n",
       "      <td>2</td>\n",
       "      <td>0</td>\n",
       "      <td>1</td>\n",
       "      <td>174423.53</td>\n",
       "      <td>1</td>\n",
       "    </tr>\n",
       "    <tr>\n",
       "      <th>4</th>\n",
       "      <td>157978</td>\n",
       "      <td>730</td>\n",
       "      <td>Ярославль</td>\n",
       "      <td>М</td>\n",
       "      <td>34</td>\n",
       "      <td>5</td>\n",
       "      <td>174.00</td>\n",
       "      <td>1</td>\n",
       "      <td>1</td>\n",
       "      <td>0</td>\n",
       "      <td>67353.16</td>\n",
       "      <td>1</td>\n",
       "    </tr>\n",
       "  </tbody>\n",
       "</table>\n",
       "</div>"
      ],
      "text/plain": [
       "   user_id  score       city gender  age  equity     balance  products  \\\n",
       "0   183012    850    Рыбинск      Ж   25       1    59214.82         2   \n",
       "1   146556    861    Рыбинск      Ж   37       5   850594.33         3   \n",
       "2   120722    892    Рыбинск      Ж   30       0         NaN         1   \n",
       "3   225363    866  Ярославль      Ж   51       5  1524746.26         2   \n",
       "4   157978    730  Ярославль      М   34       5      174.00         1   \n",
       "\n",
       "   credit_card  last_activity  est_salary  churn  \n",
       "0            0              1    75719.14      1  \n",
       "1            1              0    86621.77      0  \n",
       "2            1              1   107683.34      0  \n",
       "3            0              1   174423.53      1  \n",
       "4            1              0    67353.16      1  "
      ]
     },
     "execution_count": 22,
     "metadata": {},
     "output_type": "execute_result"
    }
   ],
   "source": [
    "banks.head()"
   ]
  },
  {
   "cell_type": "markdown",
   "metadata": {},
   "source": [
    "**3.3** Возьмём все столбцы с численными показателями и найдём медиану этих показателей в разрезе по параметру оттока. Медиана позволит проигнорировать выбросы (если таковые имеются) в численных столбцах. Также медиана, применяемая к столбцам с булевым значением (1/0), выведет более популярный результат (тот, который пересекает 50%).  "
   ]
  },
  {
   "cell_type": "code",
   "execution_count": 23,
   "metadata": {
    "scrolled": true
   },
   "outputs": [
    {
     "data": {
      "text/html": [
       "<div>\n",
       "<style scoped>\n",
       "    .dataframe tbody tr th:only-of-type {\n",
       "        vertical-align: middle;\n",
       "    }\n",
       "\n",
       "    .dataframe tbody tr th {\n",
       "        vertical-align: top;\n",
       "    }\n",
       "\n",
       "    .dataframe thead th {\n",
       "        text-align: right;\n",
       "    }\n",
       "</style>\n",
       "<table border=\"1\" class=\"dataframe\">\n",
       "  <thead>\n",
       "    <tr style=\"text-align: right;\">\n",
       "      <th></th>\n",
       "      <th>age</th>\n",
       "      <th>balance</th>\n",
       "      <th>credit_card</th>\n",
       "      <th>equity</th>\n",
       "      <th>est_salary</th>\n",
       "      <th>last_activity</th>\n",
       "      <th>products</th>\n",
       "      <th>score</th>\n",
       "    </tr>\n",
       "    <tr>\n",
       "      <th>churn</th>\n",
       "      <th></th>\n",
       "      <th></th>\n",
       "      <th></th>\n",
       "      <th></th>\n",
       "      <th></th>\n",
       "      <th></th>\n",
       "      <th></th>\n",
       "      <th></th>\n",
       "    </tr>\n",
       "  </thead>\n",
       "  <tbody>\n",
       "    <tr>\n",
       "      <th>0</th>\n",
       "      <td>40.0</td>\n",
       "      <td>475410.09</td>\n",
       "      <td>1.0</td>\n",
       "      <td>3.0</td>\n",
       "      <td>118227.60</td>\n",
       "      <td>0.0</td>\n",
       "      <td>2.0</td>\n",
       "      <td>848.0</td>\n",
       "    </tr>\n",
       "    <tr>\n",
       "      <th>1</th>\n",
       "      <td>39.0</td>\n",
       "      <td>783908.90</td>\n",
       "      <td>1.0</td>\n",
       "      <td>4.0</td>\n",
       "      <td>125408.88</td>\n",
       "      <td>1.0</td>\n",
       "      <td>2.0</td>\n",
       "      <td>866.0</td>\n",
       "    </tr>\n",
       "  </tbody>\n",
       "</table>\n",
       "</div>"
      ],
      "text/plain": [
       "        age    balance  credit_card  equity  est_salary  last_activity  \\\n",
       "churn                                                                    \n",
       "0      40.0  475410.09          1.0     3.0   118227.60            0.0   \n",
       "1      39.0  783908.90          1.0     4.0   125408.88            1.0   \n",
       "\n",
       "       products  score  \n",
       "churn                   \n",
       "0           2.0  848.0  \n",
       "1           2.0  866.0  "
      ]
     },
     "execution_count": 23,
     "metadata": {},
     "output_type": "execute_result"
    }
   ],
   "source": [
    "pivot_banks_num = banks[['score', 'age', 'equity', 'balance', 'products', 'credit_card', 'last_activity', 'est_salary','churn']]\\\n",
    "                  .pivot_table(index='churn', aggfunc='median')\n",
    "pivot_banks_num"
   ]
  },
  {
   "cell_type": "markdown",
   "metadata": {},
   "source": [
    "**3.4** Теперь найдём моду для столбцов с полом и городом. "
   ]
  },
  {
   "cell_type": "code",
   "execution_count": 24,
   "metadata": {
    "scrolled": true
   },
   "outputs": [
    {
     "data": {
      "text/html": [
       "<div>\n",
       "<style scoped>\n",
       "    .dataframe tbody tr th:only-of-type {\n",
       "        vertical-align: middle;\n",
       "    }\n",
       "\n",
       "    .dataframe tbody tr th {\n",
       "        vertical-align: top;\n",
       "    }\n",
       "\n",
       "    .dataframe thead th {\n",
       "        text-align: right;\n",
       "    }\n",
       "</style>\n",
       "<table border=\"1\" class=\"dataframe\">\n",
       "  <thead>\n",
       "    <tr style=\"text-align: right;\">\n",
       "      <th></th>\n",
       "      <th>city</th>\n",
       "      <th>gender</th>\n",
       "    </tr>\n",
       "    <tr>\n",
       "      <th>churn</th>\n",
       "      <th></th>\n",
       "      <th></th>\n",
       "    </tr>\n",
       "  </thead>\n",
       "  <tbody>\n",
       "    <tr>\n",
       "      <th>0</th>\n",
       "      <td>Ярославль</td>\n",
       "      <td>Ж</td>\n",
       "    </tr>\n",
       "    <tr>\n",
       "      <th>1</th>\n",
       "      <td>Ярославль</td>\n",
       "      <td>М</td>\n",
       "    </tr>\n",
       "  </tbody>\n",
       "</table>\n",
       "</div>"
      ],
      "text/plain": [
       "            city gender\n",
       "churn                  \n",
       "0      Ярославль      Ж\n",
       "1      Ярославль      М"
      ]
     },
     "execution_count": 24,
     "metadata": {},
     "output_type": "execute_result"
    }
   ],
   "source": [
    "pivot_banks_cat = banks[['city', 'gender', 'churn']].pivot_table(index='churn', aggfunc=statistics.mode)\n",
    "pivot_banks_cat"
   ]
  },
  {
   "cell_type": "markdown",
   "metadata": {},
   "source": [
    "**3.5** Объединим две таблицы в одну и транспонируем её для лучшего восприятия."
   ]
  },
  {
   "cell_type": "code",
   "execution_count": 25,
   "metadata": {},
   "outputs": [
    {
     "data": {
      "text/html": [
       "<div>\n",
       "<style scoped>\n",
       "    .dataframe tbody tr th:only-of-type {\n",
       "        vertical-align: middle;\n",
       "    }\n",
       "\n",
       "    .dataframe tbody tr th {\n",
       "        vertical-align: top;\n",
       "    }\n",
       "\n",
       "    .dataframe thead th {\n",
       "        text-align: right;\n",
       "    }\n",
       "</style>\n",
       "<table border=\"1\" class=\"dataframe\">\n",
       "  <thead>\n",
       "    <tr style=\"text-align: right;\">\n",
       "      <th></th>\n",
       "      <th>Действующие клиенты</th>\n",
       "      <th>Отточные клиенты</th>\n",
       "    </tr>\n",
       "  </thead>\n",
       "  <tbody>\n",
       "    <tr>\n",
       "      <th>age</th>\n",
       "      <td>40.0</td>\n",
       "      <td>39.0</td>\n",
       "    </tr>\n",
       "    <tr>\n",
       "      <th>balance</th>\n",
       "      <td>475410.09</td>\n",
       "      <td>783908.9</td>\n",
       "    </tr>\n",
       "    <tr>\n",
       "      <th>credit_card</th>\n",
       "      <td>1.0</td>\n",
       "      <td>1.0</td>\n",
       "    </tr>\n",
       "    <tr>\n",
       "      <th>equity</th>\n",
       "      <td>3.0</td>\n",
       "      <td>4.0</td>\n",
       "    </tr>\n",
       "    <tr>\n",
       "      <th>est_salary</th>\n",
       "      <td>118227.6</td>\n",
       "      <td>125408.88</td>\n",
       "    </tr>\n",
       "    <tr>\n",
       "      <th>last_activity</th>\n",
       "      <td>0.0</td>\n",
       "      <td>1.0</td>\n",
       "    </tr>\n",
       "    <tr>\n",
       "      <th>products</th>\n",
       "      <td>2.0</td>\n",
       "      <td>2.0</td>\n",
       "    </tr>\n",
       "    <tr>\n",
       "      <th>score</th>\n",
       "      <td>848.0</td>\n",
       "      <td>866.0</td>\n",
       "    </tr>\n",
       "    <tr>\n",
       "      <th>city</th>\n",
       "      <td>Ярославль</td>\n",
       "      <td>Ярославль</td>\n",
       "    </tr>\n",
       "    <tr>\n",
       "      <th>gender</th>\n",
       "      <td>Ж</td>\n",
       "      <td>М</td>\n",
       "    </tr>\n",
       "  </tbody>\n",
       "</table>\n",
       "</div>"
      ],
      "text/plain": [
       "              Действующие клиенты Отточные клиенты\n",
       "age                          40.0             39.0\n",
       "balance                 475410.09         783908.9\n",
       "credit_card                   1.0              1.0\n",
       "equity                        3.0              4.0\n",
       "est_salary               118227.6        125408.88\n",
       "last_activity                 0.0              1.0\n",
       "products                      2.0              2.0\n",
       "score                       848.0            866.0\n",
       "city                    Ярославль        Ярославль\n",
       "gender                          Ж                М"
      ]
     },
     "execution_count": 25,
     "metadata": {},
     "output_type": "execute_result"
    }
   ],
   "source": [
    "client_portrait = pd.merge(pivot_banks_num, pivot_banks_cat, left_index=True, right_index=True, how='outer')\n",
    "client_portrait = client_portrait.T\n",
    "client_portrait.columns = ['Действующие клиенты', 'Отточные клиенты']\n",
    "client_portrait"
   ]
  },
  {
   "cell_type": "markdown",
   "metadata": {},
   "source": [
    "**3.6** Итак: \n",
    "- медианный возраст действующих и отточных клиентов приблизительно одинаковый (40-39 лет);\n",
    "- отточные клиенты до ухода в основном имели больший баланс на счёте: в среднем 783 000 по сравнению с 475 000 у действующих клиентов;\n",
    "- большая часть всех клиентов имеет кредитную карту, проживает в Ярославле и в среднем имеет всего 2 продукта;\n",
    "- отточные клиенты в среднем имеют более высокий балл собственности: 4 против 3;\n",
    "- заработная плата и баллы кредитного скоринга у действующих и отточных клиентов приблизительно одинаковые (у отточных эти показатели чуть выше);\n",
    "- среди отточных клиентов бОльшая доля — это активные клиенты, а среди действующих клиентов — пассивные. \n",
    "\n",
    "Таким образом, **среднестатистический отточный клиент — это мужчина средних лет из Ярославля. Он имеет около 780 000 рублей на счету, получает более высокий доход и обладает бОльшим количеством собственности по сравнению с лояльными клиентами. У него более высокий уровень кредитного скоринга, он активный и имеет кредитную карту**.\n",
    "\n",
    "Такие клиенты кажутся более привлекательными, нежели клиенты, которые остались в банке. Поэтому надо выявить более точные сегменты отточных пользователей и разработать меры по их удержанию. "
   ]
  },
  {
   "cell_type": "markdown",
   "metadata": {},
   "source": [
    "**3.7** Построим нормализованные гистограммы по каждому парметру и выделим интервалы, где плотность вероятности у отточных пользователей выше. \n",
    "\n",
    "Начнём с возраста."
   ]
  },
  {
   "cell_type": "code",
   "execution_count": 41,
   "metadata": {},
   "outputs": [
    {
     "data": {
      "image/png": "[encoded data removed]",
      "text/plain": [
       "<Figure size 1000x600 with 1 Axes>"
      ]
     },
     "metadata": {},
     "output_type": "display_data"
    }
   ],
   "source": [
    "plt.figure(figsize=(10, 6))\n",
    "sns.set_palette('Accent')\n",
    "\n",
    "sns.histplot(data=banks, bins=40, hue='churn', x='age', stat='density', common_norm=False)\n",
    "\n",
    "plt.title('Распределение возраста отточных и неотточных клиентов')\n",
    "plt.xlabel('Возраст')\n",
    "plt.ylabel('Плотность распределения')\n",
    "plt.show()"
   ]
  },
  {
   "cell_type": "markdown",
   "metadata": {},
   "source": [
    "**3.8** Зелёным цветом закрашены те столбцы, где действующие клиенты превалируют над отточными. Серым цветом выделяются те показатели, где отточных клиентов больше. Таким образом мы можем выделить два высокоотточных интервала по возрасту:\n",
    "- с 25 до 35 лет.\n",
    "- с 50 до 61 года."
   ]
  },
  {
   "cell_type": "markdown",
   "metadata": {},
   "source": [
    "**3.9** Теперь посмотрим на распределение баланса."
   ]
  },
  {
   "cell_type": "code",
   "execution_count": 42,
   "metadata": {},
   "outputs": [
    {
     "data": {
      "image/png": "[encoded data removed]",
      "text/plain": [
       "<Figure size 1000x600 with 1 Axes>"
      ]
     },
     "metadata": {},
     "output_type": "display_data"
    }
   ],
   "source": [
    "plt.figure(figsize=(10, 6))\n",
    "sns.set_palette('Accent', desat=1)\n",
    "\n",
    "sns.histplot(data=banks, bins=40, hue='churn', x='balance', stat='density', common_norm=False)\n",
    "\n",
    "plt.title('Распределение баланса на счёте отточных и неотточных клиентов')\n",
    "plt.xlabel('Баланс на счёте')\n",
    "plt.ylabel('Плотность распределения')\n",
    "\n",
    "plt.show()"
   ]
  },
  {
   "cell_type": "markdown",
   "metadata": {},
   "source": [
    "**3.10** В данных явно есть выбросы, из-за чего график становится нечитабельным. Ограничим график по оси X. Чтобы понять, насколько ограничивать, сначала посмотрим статистические характеристики столбца `balance`."
   ]
  },
  {
   "cell_type": "code",
   "execution_count": 28,
   "metadata": {},
   "outputs": [
    {
     "data": {
      "text/plain": [
       "count         7,695.00\n",
       "mean        827,245.59\n",
       "std       1,980,327.41\n",
       "min               0.00\n",
       "25%         295,698.71\n",
       "50%         524,295.33\n",
       "75%         980,051.21\n",
       "max     119,113,552.01\n",
       "Name: balance, dtype: float64"
      ]
     },
     "execution_count": 28,
     "metadata": {},
     "output_type": "execute_result"
    }
   ],
   "source": [
    "pd.options.display.float_format ='{:,.2f}'.format\n",
    "banks['balance'].describe()"
   ]
  },
  {
   "cell_type": "markdown",
   "metadata": {},
   "source": [
    "**3.11** Мы видим, что 75% клиентов имеют на счёте до 980 000 рублей. Выбросы же достигают суммы в 119 млн. Возможно, эти данные достоверны, поэтому мы не будем исключать их из датасета. Однако ограничим значения баланса для графика 95-м перцентилем. "
   ]
  },
  {
   "cell_type": "code",
   "execution_count": 29,
   "metadata": {},
   "outputs": [],
   "source": [
    "balance_banks = banks.query('balance >= 0')\n",
    "balance_95_perc = np.percentile(balance_banks['balance'], 95)\n",
    "\n",
    "balance_hist = banks.query('balance <= @balance_95_perc')"
   ]
  },
  {
   "cell_type": "markdown",
   "metadata": {},
   "source": [
    "**3.12** Теперь построим гистограмму. "
   ]
  },
  {
   "cell_type": "code",
   "execution_count": 43,
   "metadata": {},
   "outputs": [
    {
     "data": {
      "image/png": "[encoded data removed]",
      "text/plain": [
       "<Figure size 1000x600 with 1 Axes>"
      ]
     },
     "metadata": {},
     "output_type": "display_data"
    }
   ],
   "source": [
    "plt.figure(figsize=(10, 6))\n",
    "sns.set_palette('Accent', desat=1)\n",
    "\n",
    "sns.histplot(data=balance_hist, bins=40, hue='churn', x='balance', stat='density', common_norm=False)\n",
    "\n",
    "plt.title('Распределение баланса на счёте отточных и неотточных клиентов')\n",
    "plt.xlabel('Баланс на счёте')\n",
    "plt.ylabel('Плотность распределения')\n",
    "\n",
    "plt.show()"
   ]
  },
  {
   "cell_type": "markdown",
   "metadata": {},
   "source": [
    "**3.13** На графике явно видна зависимость между доходом и оттоком: чем выше доход, тем больше отточных клиентов. \n",
    "- отточными становятся те клиенты, баланс на счёте которых превышает 700 тысяч. \n",
    "- самыми высокоотточными являются пользователи, которые имеют на счёте более 1 100 000. "
   ]
  },
  {
   "cell_type": "markdown",
   "metadata": {},
   "source": [
    "**3.14** Теперь посмотрим на показатель наличия кредитной карты. "
   ]
  },
  {
   "cell_type": "code",
   "execution_count": 31,
   "metadata": {},
   "outputs": [
    {
     "data": {
      "image/png": "[encoded data removed]",
      "text/plain": [
       "<Figure size 1000x600 with 1 Axes>"
      ]
     },
     "metadata": {},
     "output_type": "display_data"
    }
   ],
   "source": [
    "plt.figure(figsize=(10, 6))\n",
    "\n",
    "sns.histplot(data=banks, hue='churn', x='credit_card', stat='density', common_norm=False)\n",
    "\n",
    "plt.title('Наличие кредитной карты у отточных и неотточных клиентов')\n",
    "plt.xlabel('Отсутствие(0) или наличие(1) кредитной карты')\n",
    "plt.ylabel('Плотность распределения')\n",
    "plt.show()"
   ]
  },
  {
   "cell_type": "markdown",
   "metadata": {},
   "source": [
    "**3.15** На графике явно видно **большое количество отточных клиентов среди тех, у кого не было кредитной карты**. Возможно, кредитная карта является одним из факторов удержания клиента. \n",
    "\n",
    "Посмотрим на столбец `equity`."
   ]
  },
  {
   "cell_type": "code",
   "execution_count": 44,
   "metadata": {},
   "outputs": [
    {
     "data": {
      "image/png": "[encoded data removed]",
      "text/plain": [
       "<Figure size 1000x600 with 1 Axes>"
      ]
     },
     "metadata": {},
     "output_type": "display_data"
    }
   ],
   "source": [
    "plt.figure(figsize=(10, 6))\n",
    "\n",
    "sns.histplot(data=banks, bins=9, hue='churn', x='equity', stat='density', common_norm=False)\n",
    "\n",
    "plt.title('Количество баллов собственности у отточных и неотточных клиентов')\n",
    "plt.xlabel('Количество баллов собственности')\n",
    "plt.ylabel('Плотность распределения')\n",
    "plt.show()"
   ]
  },
  {
   "cell_type": "markdown",
   "metadata": {},
   "source": [
    "**3.16** Мы видим, что лояльные клиенты превалируют среди тех людей, у которых баллы собственности варьируются от 0 до 2. В остальных случаях доля отточных клиентов выше. Таким образом, высокоотточный сегмент:\n",
    "- клиенты, чьи баллы собственности находятся в диапазоне от 3 до 9. \n",
    "\n",
    "Посмотрим на распределение оценочного дохода клиента. "
   ]
  },
  {
   "cell_type": "code",
   "execution_count": 45,
   "metadata": {},
   "outputs": [
    {
     "data": {
      "image/png": "[encoded data removed]",
      "text/plain": [
       "<Figure size 1000x600 with 1 Axes>"
      ]
     },
     "metadata": {},
     "output_type": "display_data"
    }
   ],
   "source": [
    "plt.figure(figsize=(10, 6))\n",
    "\n",
    "sns.histplot(data=banks, bins=40, hue='churn', x='est_salary', stat='density', common_norm=False)\n",
    "\n",
    "plt.title('Оценочный доход отточных и неотточных клиентов')\n",
    "plt.xlabel('Оценочный доход клиента')\n",
    "plt.ylabel('Плотность распределения')\n",
    "plt.show()"
   ]
  },
  {
   "cell_type": "markdown",
   "metadata": {},
   "source": [
    "**3.17** Так же, как и с балансом, мы видим, что в данных присутствуют выбросы. Однако, мы не можем быть уверены, что доход в 1 400 000 недостоверный. Поэтому мы не будем убирать выбросы из датасета, а просто ограничим данные для графика 95-м перцентилем. "
   ]
  },
  {
   "cell_type": "code",
   "execution_count": 34,
   "metadata": {},
   "outputs": [],
   "source": [
    "est_salary_95_perc = np.percentile(banks['est_salary'], 95)\n",
    "\n",
    "est_salary_hist = banks.query('est_salary <= @est_salary_95_perc')"
   ]
  },
  {
   "cell_type": "code",
   "execution_count": 46,
   "metadata": {},
   "outputs": [
    {
     "data": {
      "image/png": "[encoded data removed]",
      "text/plain": [
       "<Figure size 1000x600 with 1 Axes>"
      ]
     },
     "metadata": {},
     "output_type": "display_data"
    }
   ],
   "source": [
    "plt.figure(figsize=(10, 6))\n",
    "\n",
    "sns.histplot(data=est_salary_hist, bins=32, hue='churn', x='est_salary', stat='density', common_norm=False)\n",
    "\n",
    "plt.title('Оценочный доход отточных и неотточных клиентов')\n",
    "plt.xlabel('Оценочный доход клиента')\n",
    "plt.ylabel('Плотность распределения')\n",
    "plt.show()"
   ]
  },
  {
   "cell_type": "markdown",
   "metadata": {},
   "source": [
    "**3.18** Здесь можно выделить два высокоотточных сегмента:\n",
    "- с зарплатой от 100 000 до 140 000 рублей. \n",
    "- с зарплатой от 150 000 до 220 000. \n",
    "\n",
    "Посмотрим на столбец `last_activity`."
   ]
  },
  {
   "cell_type": "code",
   "execution_count": 36,
   "metadata": {},
   "outputs": [
    {
     "data": {
      "image/png": "[encoded data removed]",
      "text/plain": [
       "<Figure size 1000x600 with 1 Axes>"
      ]
     },
     "metadata": {},
     "output_type": "display_data"
    }
   ],
   "source": [
    "plt.figure(figsize=(10, 6))\n",
    "\n",
    "sns.histplot(data=banks, hue='churn', x='last_activity', stat='density', common_norm=False)\n",
    "\n",
    "plt.title('Показатель активности у отточных и неотточных клиентов')\n",
    "plt.xlabel('Показатель бездействия(0) и активности(1) клиентов')\n",
    "plt.ylabel('Плотность распределения')\n",
    "plt.show()"
   ]
  },
  {
   "cell_type": "markdown",
   "metadata": {},
   "source": [
    "**3.19** Гистограмма подтвердила вывод, полученный при рассмотрении общих портретов отточных и неотточных клиентов: отточные клиенты были более активными. Возможно, им, как активным пользователям, не хватало бонусов, комформтных условий и спец. предложений от банка. В то время как многие действующие пользователи не проявляют активность и не интересуются возможностями банка. \n",
    "\n",
    "Посмотрим на распределение количества продуктов, которыми пользуются клиенты. "
   ]
  },
  {
   "cell_type": "code",
   "execution_count": 47,
   "metadata": {},
   "outputs": [
    {
     "data": {
      "image/png": "[encoded data removed]",
      "text/plain": [
       "<Figure size 1000x600 with 1 Axes>"
      ]
     },
     "metadata": {},
     "output_type": "display_data"
    }
   ],
   "source": [
    "plt.figure(figsize=(10, 6))\n",
    "\n",
    "sns.histplot(data=banks, hue='churn', x='products', stat='density', common_norm=False)\n",
    "\n",
    "plt.title('Количество продуктов, которыми пользуются отточные и неотточные клиенты')\n",
    "plt.xlabel('Количество продуктов банка')\n",
    "plt.ylabel('Плотность распределения')\n",
    "plt.show()"
   ]
  },
  {
   "cell_type": "markdown",
   "metadata": {},
   "source": [
    "**3.20** Действующие клиенты в основном имеют 1-2 продукта. При этом среди тех пользователей, что имеют от 2 продуктов и выше, больше отточных клиентов. Таким образом, отточный сегмент:\n",
    "- клиенты, имеющие от 2 до 5 продуктов банка. \n",
    "\n",
    "Теперь рассмотрим распределение баллов кредитного скоринга."
   ]
  },
  {
   "cell_type": "code",
   "execution_count": 49,
   "metadata": {},
   "outputs": [
    {
     "data": {
      "image/png": "[encoded data removed]",
      "text/plain": [
       "<Figure size 1000x600 with 1 Axes>"
      ]
     },
     "metadata": {},
     "output_type": "display_data"
    }
   ],
   "source": [
    "plt.figure(figsize=(10, 6))\n",
    "\n",
    "sns.histplot(data=banks, bins=37, hue='churn', x='score', stat='density', common_norm=False)\n",
    "\n",
    "plt.title('Распределение баллов кредитного скоринга среди отточных и неотточных клиентов')\n",
    "plt.xlabel('Баллы кредитного скоринга')\n",
    "plt.ylabel('Плотность распределения')\n",
    "plt.show()"
   ]
  },
  {
   "cell_type": "markdown",
   "metadata": {},
   "source": [
    "**3.21** На графике явно выделяется один высокоотточный сегмент:\n",
    "- клиенты, с баллами кредитного скоринга примерно от 830 до 905.\n",
    "\n",
    "Посмотрим на распределение отточных и неотточных клиентов по городам. "
   ]
  },
  {
   "cell_type": "code",
   "execution_count": 50,
   "metadata": {},
   "outputs": [
    {
     "data": {
      "image/png": "[encoded data removed]",
      "text/plain": [
       "<Figure size 1000x600 with 1 Axes>"
      ]
     },
     "metadata": {},
     "output_type": "display_data"
    }
   ],
   "source": [
    "plt.figure(figsize=(10, 6))\n",
    "\n",
    "sns.histplot(data=banks, hue='churn', x='city', stat='density', common_norm=False)\n",
    "\n",
    "plt.title('Распределение отточных и неотточных клиентов по городам')\n",
    "plt.xlabel(None)\n",
    "plt.ylabel('Плотность распределения')\n",
    "plt.show()"
   ]
  },
  {
   "cell_type": "markdown",
   "metadata": {},
   "source": [
    "**3.22** Жители Ярославля чаще становятся отточными клиентами. Также отточные клиенты выделяются в Ростове, но незначительно. \n",
    "\n",
    "Посмотрим на пол среди отточных и неотточных клиентов. "
   ]
  },
  {
   "cell_type": "code",
   "execution_count": 51,
   "metadata": {},
   "outputs": [
    {
     "data": {
      "image/png": "[encoded data removed]",
      "text/plain": [
       "<Figure size 1000x600 with 1 Axes>"
      ]
     },
     "metadata": {},
     "output_type": "display_data"
    }
   ],
   "source": [
    "plt.figure(figsize=(10, 6))\n",
    "\n",
    "sns.histplot(data=banks, hue='churn', x='gender', stat='density', common_norm=False)\n",
    "\n",
    "plt.title('Распределение отточных и неотточных клиентов по полу')\n",
    "plt.xlabel(None)\n",
    "plt.ylabel('Плотность распределения')\n",
    "plt.show()"
   ]
  },
  {
   "cell_type": "markdown",
   "metadata": {},
   "source": [
    "**3.23** Как и было видно из сводной таблицы: **больше отточных клиентов среди мужчин**. Женщины обычно остаются действующими клиентами банка. "
   ]
  },
  {
   "cell_type": "markdown",
   "metadata": {},
   "source": [
    "**3.24** Теперь посмотрим корреляцию признаков. Так как у нас в таблице присутствуют категориальные данные, применим для корреляции метод `phik`. \n",
    "\n",
    "Предварительно удалим столбец `user_id`, так как он не несёт никакой информации для подсчёта корреляции. "
   ]
  },
  {
   "cell_type": "code",
   "execution_count": 52,
   "metadata": {
    "scrolled": true
   },
   "outputs": [
    {
     "data": {
      "text/html": [
       "<div>\n",
       "<style scoped>\n",
       "    .dataframe tbody tr th:only-of-type {\n",
       "        vertical-align: middle;\n",
       "    }\n",
       "\n",
       "    .dataframe tbody tr th {\n",
       "        vertical-align: top;\n",
       "    }\n",
       "\n",
       "    .dataframe thead th {\n",
       "        text-align: right;\n",
       "    }\n",
       "</style>\n",
       "<table border=\"1\" class=\"dataframe\">\n",
       "  <thead>\n",
       "    <tr style=\"text-align: right;\">\n",
       "      <th></th>\n",
       "      <th>score</th>\n",
       "      <th>city</th>\n",
       "      <th>gender</th>\n",
       "      <th>age</th>\n",
       "      <th>equity</th>\n",
       "      <th>balance</th>\n",
       "      <th>products</th>\n",
       "      <th>credit_card</th>\n",
       "      <th>last_activity</th>\n",
       "      <th>est_salary</th>\n",
       "      <th>churn</th>\n",
       "    </tr>\n",
       "  </thead>\n",
       "  <tbody>\n",
       "    <tr>\n",
       "      <th>score</th>\n",
       "      <td>1.00</td>\n",
       "      <td>0.12</td>\n",
       "      <td>0.06</td>\n",
       "      <td>0.05</td>\n",
       "      <td>0.46</td>\n",
       "      <td>0.28</td>\n",
       "      <td>0.42</td>\n",
       "      <td>0.17</td>\n",
       "      <td>0.04</td>\n",
       "      <td>0.41</td>\n",
       "      <td>0.19</td>\n",
       "    </tr>\n",
       "    <tr>\n",
       "      <th>city</th>\n",
       "      <td>0.12</td>\n",
       "      <td>1.00</td>\n",
       "      <td>0.01</td>\n",
       "      <td>0.13</td>\n",
       "      <td>0.06</td>\n",
       "      <td>0.03</td>\n",
       "      <td>0.13</td>\n",
       "      <td>0.07</td>\n",
       "      <td>0.03</td>\n",
       "      <td>0.23</td>\n",
       "      <td>0.02</td>\n",
       "    </tr>\n",
       "    <tr>\n",
       "      <th>gender</th>\n",
       "      <td>0.06</td>\n",
       "      <td>0.01</td>\n",
       "      <td>1.00</td>\n",
       "      <td>0.25</td>\n",
       "      <td>0.06</td>\n",
       "      <td>0.03</td>\n",
       "      <td>0.07</td>\n",
       "      <td>0.20</td>\n",
       "      <td>0.01</td>\n",
       "      <td>0.12</td>\n",
       "      <td>0.22</td>\n",
       "    </tr>\n",
       "    <tr>\n",
       "      <th>age</th>\n",
       "      <td>0.05</td>\n",
       "      <td>0.13</td>\n",
       "      <td>0.25</td>\n",
       "      <td>1.00</td>\n",
       "      <td>0.04</td>\n",
       "      <td>0.00</td>\n",
       "      <td>0.14</td>\n",
       "      <td>0.14</td>\n",
       "      <td>0.07</td>\n",
       "      <td>0.40</td>\n",
       "      <td>0.16</td>\n",
       "    </tr>\n",
       "    <tr>\n",
       "      <th>equity</th>\n",
       "      <td>0.46</td>\n",
       "      <td>0.06</td>\n",
       "      <td>0.06</td>\n",
       "      <td>0.04</td>\n",
       "      <td>1.00</td>\n",
       "      <td>0.00</td>\n",
       "      <td>0.58</td>\n",
       "      <td>0.22</td>\n",
       "      <td>0.05</td>\n",
       "      <td>0.25</td>\n",
       "      <td>0.35</td>\n",
       "    </tr>\n",
       "    <tr>\n",
       "      <th>balance</th>\n",
       "      <td>0.28</td>\n",
       "      <td>0.03</td>\n",
       "      <td>0.03</td>\n",
       "      <td>0.00</td>\n",
       "      <td>0.00</td>\n",
       "      <td>1.00</td>\n",
       "      <td>0.00</td>\n",
       "      <td>0.01</td>\n",
       "      <td>0.01</td>\n",
       "      <td>0.57</td>\n",
       "      <td>0.03</td>\n",
       "    </tr>\n",
       "    <tr>\n",
       "      <th>products</th>\n",
       "      <td>0.42</td>\n",
       "      <td>0.13</td>\n",
       "      <td>0.07</td>\n",
       "      <td>0.14</td>\n",
       "      <td>0.58</td>\n",
       "      <td>0.00</td>\n",
       "      <td>1.00</td>\n",
       "      <td>0.27</td>\n",
       "      <td>0.11</td>\n",
       "      <td>0.22</td>\n",
       "      <td>0.26</td>\n",
       "    </tr>\n",
       "    <tr>\n",
       "      <th>credit_card</th>\n",
       "      <td>0.17</td>\n",
       "      <td>0.07</td>\n",
       "      <td>0.20</td>\n",
       "      <td>0.14</td>\n",
       "      <td>0.22</td>\n",
       "      <td>0.01</td>\n",
       "      <td>0.27</td>\n",
       "      <td>1.00</td>\n",
       "      <td>0.05</td>\n",
       "      <td>0.04</td>\n",
       "      <td>0.20</td>\n",
       "    </tr>\n",
       "    <tr>\n",
       "      <th>last_activity</th>\n",
       "      <td>0.04</td>\n",
       "      <td>0.03</td>\n",
       "      <td>0.01</td>\n",
       "      <td>0.07</td>\n",
       "      <td>0.05</td>\n",
       "      <td>0.01</td>\n",
       "      <td>0.11</td>\n",
       "      <td>0.05</td>\n",
       "      <td>1.00</td>\n",
       "      <td>0.04</td>\n",
       "      <td>0.26</td>\n",
       "    </tr>\n",
       "    <tr>\n",
       "      <th>est_salary</th>\n",
       "      <td>0.41</td>\n",
       "      <td>0.23</td>\n",
       "      <td>0.12</td>\n",
       "      <td>0.40</td>\n",
       "      <td>0.25</td>\n",
       "      <td>0.57</td>\n",
       "      <td>0.22</td>\n",
       "      <td>0.04</td>\n",
       "      <td>0.04</td>\n",
       "      <td>1.00</td>\n",
       "      <td>0.06</td>\n",
       "    </tr>\n",
       "    <tr>\n",
       "      <th>churn</th>\n",
       "      <td>0.19</td>\n",
       "      <td>0.02</td>\n",
       "      <td>0.22</td>\n",
       "      <td>0.16</td>\n",
       "      <td>0.35</td>\n",
       "      <td>0.03</td>\n",
       "      <td>0.26</td>\n",
       "      <td>0.20</td>\n",
       "      <td>0.26</td>\n",
       "      <td>0.06</td>\n",
       "      <td>1.00</td>\n",
       "    </tr>\n",
       "  </tbody>\n",
       "</table>\n",
       "</div>"
      ],
      "text/plain": [
       "               score  city  gender  age  equity  balance  products  \\\n",
       "score           1.00  0.12    0.06 0.05    0.46     0.28      0.42   \n",
       "city            0.12  1.00    0.01 0.13    0.06     0.03      0.13   \n",
       "gender          0.06  0.01    1.00 0.25    0.06     0.03      0.07   \n",
       "age             0.05  0.13    0.25 1.00    0.04     0.00      0.14   \n",
       "equity          0.46  0.06    0.06 0.04    1.00     0.00      0.58   \n",
       "balance         0.28  0.03    0.03 0.00    0.00     1.00      0.00   \n",
       "products        0.42  0.13    0.07 0.14    0.58     0.00      1.00   \n",
       "credit_card     0.17  0.07    0.20 0.14    0.22     0.01      0.27   \n",
       "last_activity   0.04  0.03    0.01 0.07    0.05     0.01      0.11   \n",
       "est_salary      0.41  0.23    0.12 0.40    0.25     0.57      0.22   \n",
       "churn           0.19  0.02    0.22 0.16    0.35     0.03      0.26   \n",
       "\n",
       "               credit_card  last_activity  est_salary  churn  \n",
       "score                 0.17           0.04        0.41   0.19  \n",
       "city                  0.07           0.03        0.23   0.02  \n",
       "gender                0.20           0.01        0.12   0.22  \n",
       "age                   0.14           0.07        0.40   0.16  \n",
       "equity                0.22           0.05        0.25   0.35  \n",
       "balance               0.01           0.01        0.57   0.03  \n",
       "products              0.27           0.11        0.22   0.26  \n",
       "credit_card           1.00           0.05        0.04   0.20  \n",
       "last_activity         0.05           1.00        0.04   0.26  \n",
       "est_salary            0.04           0.04        1.00   0.06  \n",
       "churn                 0.20           0.26        0.06   1.00  "
      ]
     },
     "execution_count": 52,
     "metadata": {},
     "output_type": "execute_result"
    }
   ],
   "source": [
    "banks_for_corr = banks.drop('user_id', axis=1)\n",
    "\n",
    "banks_phik = banks_for_corr.phik_matrix(interval_cols=['score', 'age', 'balance', 'est_salary'], \n",
    "                  bins={'score':15, 'age':15, 'balance':15, 'est_salary':15})\n",
    "banks_phik"
   ]
  },
  {
   "cell_type": "markdown",
   "metadata": {},
   "source": [
    "**3.25** Построим тепловую карту с этой матрицей для лучшей визуализации.  "
   ]
  },
  {
   "cell_type": "code",
   "execution_count": 53,
   "metadata": {},
   "outputs": [
    {
     "data": {
      "image/png": "[encoded data removed]",
      "text/plain": [
       "<Figure size 1000x600 with 2 Axes>"
      ]
     },
     "metadata": {},
     "output_type": "display_data"
    }
   ],
   "source": [
    "plt.figure(figsize=(10, 6))\n",
    "\n",
    "sns.heatmap(banks_phik, annot=True, fmt='.0%', cmap='vlag', center=0)\n",
    "plt.title('Корреляционная матрица')\n",
    "plt.show()"
   ]
  },
  {
   "cell_type": "markdown",
   "metadata": {},
   "source": [
    "**3.27** Итак, мы видим, что сильных корелляционных зависимостей между признаками мало. Отметим основные:\n",
    "- Баллы кредитного скоринга (`score`) имеют зависимость более 40% с количеством баллов собственности (`equity`), количеством взятых продуктов банка (`products`) и оценочным доходом клиентов (`est_salary`). Видимо, это основные показатели, формирующие кредитное доверие. \n",
    "- Корреляционная матрица показывает зависимость в 58% между количеством баллов собственности (`equity`) и количеством продуктов, которыми пользуется клиент (`products`). Возможно, чем больше собственности, тем больше услуг банка требуется (страховка жилья, автомобиля и т. п.)\n",
    "- Также есть корреляция в 57% между балансом на счёте (`balance`) и оценочным доходом клиента (`est_salary`), что выглядит логичным. \n",
    "- Оценочный доход клиента, в свою очередь, коррелирует с баллами кредитного скоринга (`score`), возрастом (`age`) и балансом на счёте (`balance`): 41%, 40% и 57% соответственно. \n",
    "\n",
    "Остальные корреляции не такие значительные и составляют менее 40%. \n",
    "\n",
    "Так как для нашего исследования важен показатель оттока клиентов, посмотрим корреляцию отдельно по столбцу `churn`."
   ]
  },
  {
   "cell_type": "code",
   "execution_count": 54,
   "metadata": {},
   "outputs": [
    {
     "data": {
      "image/png": "[encoded data removed]",
      "text/plain": [
       "<Figure size 640x480 with 2 Axes>"
      ]
     },
     "metadata": {},
     "output_type": "display_data"
    }
   ],
   "source": [
    "sns.heatmap(banks_phik.loc[:,['churn']].drop('churn').sort_values('churn', ascending=False), \n",
    "            annot=True, fmt='.0%', cmap='vlag', center=0)\n",
    "\n",
    "plt.title('Корреляционный анализ оттока')\n",
    "plt.show()"
   ]
  },
  {
   "cell_type": "markdown",
   "metadata": {},
   "source": [
    "**3.28** Самый большой процент корреляции (35%) между показателем оттока и количеством баллов собственности. Следовательно, чем больше у клиента баллов собственности, тем выше шанс, что он уйдёт из нашего банка.\n",
    "По 26% корреляции у `last_activity` и `products`, 22% у `gender` и 20% у `credit_card`. \n",
    "\n",
    "Стоит отметить, что в целом процент корреляции между показателем оттока и другими параметрами невысокий. "
   ]
  },
  {
   "cell_type": "markdown",
   "metadata": {},
   "source": [
    "**Промежуточные выводы:** \n",
    "1. В рамках исследовательского анализа было определено, что общая доля отточных пользователей: 18.2% (1 818 клиентов).\n",
    "\n",
    "2. Были получены общие характеристики отточных и неотточных пользователей:\n",
    "- медианный возраст действующих и отточных клиентов приблизительно одинаковый (39-40 лет);\n",
    "- отточные клиенты до ухода в основном имели больший баланс на счёте: в среднем 783 000 по сравнению с 475 000 у действующих клиентов;\n",
    "- большая часть всех клиентов имеет кредитную карту, проживает в Ярославле и в среднем имеет всего 2 банковских продукта;\n",
    "- отточные клиенты в среднем имеют более высокий балл собственности: 4 против 3;\n",
    "- заработная плата и баллы кредитного скоринга у действующих и отточных клиентов приблизительно одинаковые (у отточных эти показатели чуть выше);\n",
    "- среди отточных клиентов бОльшая доля — это активные клиенты, а среди действующих клиентов — пассивные.\n",
    "\n",
    "3. Также в рамках анализа общих характеристик было выдвинуто предположение, что отточные клиенты более привлекательны для бизнеса, нежели клиенты, которые остались в банке.\n",
    "\n",
    "4. При построении нормализованных гистограмм были выявлены высокоотточные сегменты:\n",
    "- возраст с 25 до 35 лет и с 50 до 61 года;\n",
    "- баланс на счёте свыше 700 тысяч (самыми высокоотточными являются пользователи, которые имеют на счёте более 1 100 000);\n",
    "- отсутствие кредитной карты;\n",
    "- клиенты, чьи баллы собственности находятся в диапазоне от 3 до 9;\n",
    "- зарплата (доход) от 100 000 до 140 000 рублей и от 150 000 до 220 000;\n",
    "- активные пользователи;\n",
    "- клиенты, имеющие от 2 до 5 продуктов банка;\n",
    "- клиенты с баллами кредитного скоринга примерно от 830 до 905;\n",
    "- жители Ярославля (в меньше степени Ростова);\n",
    "- мужчины.\n",
    "\n",
    "5. При корреляционном анализе относительно показателя оттока были получены следующие выводы:\n",
    "- самый большой процент корреляции (35%) между показателем оттока и количеством баллов собственности (`equity`);\n",
    "- по 26% корреляции у `last_activity` и `products`, 22% у `gender` и 20% у `credit_card`;\n",
    "- в целом процент корреляции между показателем оттока и другими параметрами невысокий.\n"
   ]
  },
  {
   "cell_type": "markdown",
   "metadata": {},
   "source": [
    "<a id=\"4\"></a>\n",
    "## Проверка статистических гипотез"
   ]
  },
  {
   "cell_type": "markdown",
   "metadata": {},
   "source": [
    "**4.1** Проверим гипотезу о равенстве дохода между теми клиентами, которые ушли, и теми, которые остались. Для начала сформулируем нулевую и альтернативную гипотезы.\n",
    "\n",
    "**Нулевая гипотеза:** Средний доход клиентов, которые ушли из банка, равен среднему доходу клиентов, которые остались в банке. \n",
    "\n",
    "**Альтернативная гипотеза:**  Средний доход клиентов, которые ушли из банка, не равен среднему доходу клиентов, которые остались в банке.\n",
    "\n",
    "Для начала вспомним, что в датасете есть большие выбросы в столбце с доходом, поэтому возьмём датасет, который мы использовали для построения гистограммы: ограниченный 95-м перцентилем."
   ]
  },
  {
   "cell_type": "code",
   "execution_count": 55,
   "metadata": {},
   "outputs": [
    {
     "data": {
      "text/plain": [
       "count     9,474.00\n",
       "mean    122,962.66\n",
       "std      64,499.50\n",
       "min       2,546.30\n",
       "25%      73,063.35\n",
       "50%     115,245.26\n",
       "75%     164,598.31\n",
       "max     316,316.10\n",
       "Name: est_salary, dtype: float64"
      ]
     },
     "execution_count": 55,
     "metadata": {},
     "output_type": "execute_result"
    }
   ],
   "source": [
    "est_salary_hist['est_salary'].describe()"
   ]
  },
  {
   "cell_type": "markdown",
   "metadata": {},
   "source": [
    "**4.2** Без выбросов мы видим, что среднее значение близко к медиане. Теперь разделим датасет на два: отточные клиенты и оставшиеся. "
   ]
  },
  {
   "cell_type": "code",
   "execution_count": 56,
   "metadata": {},
   "outputs": [],
   "source": [
    "banks_churn = est_salary_hist.query('churn == 1')\n",
    "banks_client = est_salary_hist.query('churn == 0')"
   ]
  },
  {
   "cell_type": "markdown",
   "metadata": {},
   "source": [
    "**4.3** Теперь проверим гипотезу двусторонним t-тестом с двумя выборками. Так как размеры выборок разные (мы знаем, что отточные клиенты составляют только 18,2% в исходном датасете), есть сомнения, что дисперсии у совокупностей одинаковые. Поэтому применим `False` для параметра `equal_var` при проверке гипотезы. "
   ]
  },
  {
   "cell_type": "code",
   "execution_count": 57,
   "metadata": {},
   "outputs": [
    {
     "name": "stdout",
     "output_type": "stream",
     "text": [
      "p-значение: 6.538576793469985e-05\n",
      "Отвергаем нулевую гипотезу\n"
     ]
    }
   ],
   "source": [
    "churn_group = banks_churn['est_salary']\n",
    "\n",
    "client_group = banks_client['est_salary']\n",
    "\n",
    "alpha = 0.05\n",
    "\n",
    "results = st.ttest_ind(churn_group, client_group, equal_var=False)\n",
    "\n",
    "print('p-значение:', results.pvalue)\n",
    "\n",
    "if results.pvalue < alpha:\n",
    "    print('Отвергаем нулевую гипотезу')\n",
    "else:\n",
    "    print('Не получилось отвергнуть нулевую гипотезу') "
   ]
  },
  {
   "cell_type": "markdown",
   "metadata": {},
   "source": [
    "**4.4** Значение p-value намного меньше стат. значимости, а значит, мы отвергаем гипотезу о равенстве средних. Средовательно, у нас нет оснований полагать, что средний доход клиентов, которые ушли из банка, равен среднему доходу клиентов, которые остались в банке."
   ]
  },
  {
   "cell_type": "markdown",
   "metadata": {},
   "source": [
    "**4.5** Теперь проверим вторую гипотезу о равенстве баллов кредитного скоринга между теми клиентами, которые ушли, и теми, которые остались. Сформулируем нулевую и альтернативную гипотезы.\n",
    "\n",
    "**Нулевая гипотеза:** Средний балл кредитного скоринга клиентов, которые ушли из банка, равен среднему  баллу кредитного скоринга клиентов, которые остались в банке.\n",
    "\n",
    "**Альтернативная гипотеза:** Средний балл кредитного скоринга клиентов, которые ушли из банка, не равен среднему  баллу кредитного скоринга клиентов, которые остались в банке.\n",
    "\n",
    "Так как в баллах кредитного скоринга нет выбросов, разделим исходный датасет на два: отточные и действующие клиенты."
   ]
  },
  {
   "cell_type": "code",
   "execution_count": 58,
   "metadata": {},
   "outputs": [],
   "source": [
    "banks_churn_2 = banks.query('churn == 1')\n",
    "banks_client_2 = banks.query('churn == 0')"
   ]
  },
  {
   "cell_type": "markdown",
   "metadata": {},
   "source": [
    "**4.6** Теперь проверим гипотезу двусторонним t-тестом. Так как размеры выборок разные, есть сомнения, что дисперсии у совокупностей одинаковые. Поэтому применим False для параметра equal_var при проверке гипотезы."
   ]
  },
  {
   "cell_type": "code",
   "execution_count": 59,
   "metadata": {},
   "outputs": [
    {
     "name": "stdout",
     "output_type": "stream",
     "text": [
      "p-значение: 1.3179430198200596e-37\n",
      "Отвергаем нулевую гипотезу\n"
     ]
    }
   ],
   "source": [
    "churn_group_2 = banks_churn_2['score']\n",
    "\n",
    "client_group_2 = banks_client_2['score']\n",
    "\n",
    "alpha = 0.05\n",
    "\n",
    "results = st.ttest_ind(churn_group_2, client_group_2, equal_var=False)\n",
    "\n",
    "print('p-значение:', results.pvalue)\n",
    "\n",
    "if results.pvalue < alpha:\n",
    "    print('Отвергаем нулевую гипотезу')\n",
    "else:\n",
    "    print('Не получилось отвергнуть нулевую гипотезу') "
   ]
  },
  {
   "cell_type": "markdown",
   "metadata": {},
   "source": [
    "**4.7** p-value намного ниже заданного параметра стат. значимости, а значит, мы можем сказать, что средний балл кредитного скоринга клиентов, которые ушли из банка, не равен среднему баллу кредитного скоринга клиентов, которые остались в банке."
   ]
  },
  {
   "cell_type": "markdown",
   "metadata": {},
   "source": [
    "**Промежуточный вывод:**\n",
    "\n",
    "В рамках исследования были проверены две гипотезы и получены следующие выводы:\n",
    "1. Нет оснований полагать, что средний доход клиентов, которые ушли из банка, равен среднему доходу клиентов, которые остались в банке.\n",
    "2. Также нет оснований полагать, что средний балл кредитного скоринга клиентов, которые ушли из банка, равен среднему баллу кредитного скоринга клиентов, которые остались в банке."
   ]
  },
  {
   "cell_type": "markdown",
   "metadata": {},
   "source": [
    "<a id=\"5\"></a>\n",
    "## Сегментация отточных пользователей"
   ]
  },
  {
   "cell_type": "markdown",
   "metadata": {},
   "source": [
    "**5.1** В рамках исследования были выделены высокоотточные интервалы по 10 признакам. Продублируем информацию перед сегментацией:\n",
    "- возраст с 25 до 35 лет и с 50 до 61 года;\n",
    "- баланс на счёте свыше 700 тысяч (самыми высокоотточными являются пользователи, которые имеют на счёте более 1 100 000);\n",
    "- отсутствие кредитной карты;\n",
    "- клиенты, чьи баллы собственности находятся в диапазоне от 3 до 9;\n",
    "- зарплата (доход) от 100 000 до 140 000 рублей и от 150 000 до 220 000;\n",
    "- активные пользователи;\n",
    "- клиенты, имеющие от 2 до 5 продуктов банка;\n",
    "- клиенты с баллами кредитного скоринга примерно от 830 до 905;\n",
    "- жители Ярославля (в меньше степени Ростова);\n",
    "- мужчины."
   ]
  },
  {
   "cell_type": "markdown",
   "metadata": {},
   "source": [
    "**5.2** Итак, сформируем первый сегмент высокоотточных пользователей. **Возьмём мужчин из Ярославля и Ростова, у которых отсутствует кредитная карта**. "
   ]
  },
  {
   "cell_type": "code",
   "execution_count": 60,
   "metadata": {
    "scrolled": true
   },
   "outputs": [
    {
     "data": {
      "text/html": [
       "<div>\n",
       "<style scoped>\n",
       "    .dataframe tbody tr th:only-of-type {\n",
       "        vertical-align: middle;\n",
       "    }\n",
       "\n",
       "    .dataframe tbody tr th {\n",
       "        vertical-align: top;\n",
       "    }\n",
       "\n",
       "    .dataframe thead th {\n",
       "        text-align: right;\n",
       "    }\n",
       "</style>\n",
       "<table border=\"1\" class=\"dataframe\">\n",
       "  <thead>\n",
       "    <tr style=\"text-align: right;\">\n",
       "      <th></th>\n",
       "      <th>user_id</th>\n",
       "      <th>score</th>\n",
       "      <th>city</th>\n",
       "      <th>gender</th>\n",
       "      <th>age</th>\n",
       "      <th>equity</th>\n",
       "      <th>balance</th>\n",
       "      <th>products</th>\n",
       "      <th>credit_card</th>\n",
       "      <th>last_activity</th>\n",
       "      <th>est_salary</th>\n",
       "      <th>churn</th>\n",
       "    </tr>\n",
       "  </thead>\n",
       "  <tbody>\n",
       "    <tr>\n",
       "      <th>0</th>\n",
       "      <td>136651</td>\n",
       "      <td>876</td>\n",
       "      <td>Ярославль</td>\n",
       "      <td>М</td>\n",
       "      <td>40</td>\n",
       "      <td>5</td>\n",
       "      <td>2,307,947.36</td>\n",
       "      <td>2</td>\n",
       "      <td>0</td>\n",
       "      <td>0</td>\n",
       "      <td>287,010.61</td>\n",
       "      <td>0</td>\n",
       "    </tr>\n",
       "    <tr>\n",
       "      <th>1</th>\n",
       "      <td>114192</td>\n",
       "      <td>772</td>\n",
       "      <td>Ростов</td>\n",
       "      <td>М</td>\n",
       "      <td>43</td>\n",
       "      <td>3</td>\n",
       "      <td>1,315,511.65</td>\n",
       "      <td>2</td>\n",
       "      <td>0</td>\n",
       "      <td>0</td>\n",
       "      <td>143,935.71</td>\n",
       "      <td>0</td>\n",
       "    </tr>\n",
       "    <tr>\n",
       "      <th>2</th>\n",
       "      <td>221927</td>\n",
       "      <td>863</td>\n",
       "      <td>Ростов</td>\n",
       "      <td>М</td>\n",
       "      <td>39</td>\n",
       "      <td>5</td>\n",
       "      <td>1,461,423.33</td>\n",
       "      <td>1</td>\n",
       "      <td>0</td>\n",
       "      <td>1</td>\n",
       "      <td>221,699.52</td>\n",
       "      <td>0</td>\n",
       "    </tr>\n",
       "    <tr>\n",
       "      <th>3</th>\n",
       "      <td>156677</td>\n",
       "      <td>873</td>\n",
       "      <td>Ярославль</td>\n",
       "      <td>М</td>\n",
       "      <td>39</td>\n",
       "      <td>5</td>\n",
       "      <td>915,959.85</td>\n",
       "      <td>3</td>\n",
       "      <td>0</td>\n",
       "      <td>1</td>\n",
       "      <td>154,034.62</td>\n",
       "      <td>1</td>\n",
       "    </tr>\n",
       "    <tr>\n",
       "      <th>4</th>\n",
       "      <td>172823</td>\n",
       "      <td>855</td>\n",
       "      <td>Ярославль</td>\n",
       "      <td>М</td>\n",
       "      <td>41</td>\n",
       "      <td>1</td>\n",
       "      <td>312,743.28</td>\n",
       "      <td>3</td>\n",
       "      <td>0</td>\n",
       "      <td>0</td>\n",
       "      <td>268,100.87</td>\n",
       "      <td>0</td>\n",
       "    </tr>\n",
       "  </tbody>\n",
       "</table>\n",
       "</div>"
      ],
      "text/plain": [
       "   user_id  score       city gender  age  equity      balance  products  \\\n",
       "0   136651    876  Ярославль      М   40       5 2,307,947.36         2   \n",
       "1   114192    772     Ростов      М   43       3 1,315,511.65         2   \n",
       "2   221927    863     Ростов      М   39       5 1,461,423.33         1   \n",
       "3   156677    873  Ярославль      М   39       5   915,959.85         3   \n",
       "4   172823    855  Ярославль      М   41       1   312,743.28         3   \n",
       "\n",
       "   credit_card  last_activity  est_salary  churn  \n",
       "0            0              0  287,010.61      0  \n",
       "1            0              0  143,935.71      0  \n",
       "2            0              1  221,699.52      0  \n",
       "3            0              1  154,034.62      1  \n",
       "4            0              0  268,100.87      0  "
      ]
     },
     "execution_count": 60,
     "metadata": {},
     "output_type": "execute_result"
    }
   ],
   "source": [
    "segment_1 = banks.query('gender == \"М\" and city != \"Рыбинск\" and credit_card == 0')\n",
    "segment_1 = segment_1.reset_index(drop=True)\n",
    "segment_1.head()"
   ]
  },
  {
   "cell_type": "markdown",
   "metadata": {},
   "source": [
    "**5.3** Проверим, сколько клиентов вошло в первый сегмент и является ли он высокоотточным. "
   ]
  },
  {
   "cell_type": "code",
   "execution_count": 61,
   "metadata": {},
   "outputs": [
    {
     "name": "stdout",
     "output_type": "stream",
     "text": [
      "Количество клиентов в первом сегменте: 890\n",
      "Количество действующих клиентов в первом сегменте: 558\n",
      "Доля оттока в первом сегменте: 37.3%\n"
     ]
    }
   ],
   "source": [
    "segment_1_churn = segment_1['churn'].mean()\n",
    "\n",
    "print('Количество клиентов в первом сегменте:', segment_1['user_id'].count())\n",
    "print('Количество действующих клиентов в первом сегменте:', segment_1['churn'].count() - segment_1['churn'].sum())\n",
    "print(f'Доля оттока в первом сегменте: {segment_1_churn:.1%}')"
   ]
  },
  {
   "cell_type": "markdown",
   "metadata": {},
   "source": [
    "**5.4** В первом сегменте 890 клиентов (558 действующих) и доля оттока в нём составляет 37.3%, что является высоким показателем (напомним, что общая доля оттока равна 18.2%). "
   ]
  },
  {
   "cell_type": "markdown",
   "metadata": {},
   "source": [
    "**5.5** Сформируем второй сегмент: **активные пользователи с балансом на счёте свыше 700 000 рублей, имеющие 2 и более банковских продукта**."
   ]
  },
  {
   "cell_type": "code",
   "execution_count": 62,
   "metadata": {},
   "outputs": [
    {
     "data": {
      "text/html": [
       "<div>\n",
       "<style scoped>\n",
       "    .dataframe tbody tr th:only-of-type {\n",
       "        vertical-align: middle;\n",
       "    }\n",
       "\n",
       "    .dataframe tbody tr th {\n",
       "        vertical-align: top;\n",
       "    }\n",
       "\n",
       "    .dataframe thead th {\n",
       "        text-align: right;\n",
       "    }\n",
       "</style>\n",
       "<table border=\"1\" class=\"dataframe\">\n",
       "  <thead>\n",
       "    <tr style=\"text-align: right;\">\n",
       "      <th></th>\n",
       "      <th>user_id</th>\n",
       "      <th>score</th>\n",
       "      <th>city</th>\n",
       "      <th>gender</th>\n",
       "      <th>age</th>\n",
       "      <th>equity</th>\n",
       "      <th>balance</th>\n",
       "      <th>products</th>\n",
       "      <th>credit_card</th>\n",
       "      <th>last_activity</th>\n",
       "      <th>est_salary</th>\n",
       "      <th>churn</th>\n",
       "    </tr>\n",
       "  </thead>\n",
       "  <tbody>\n",
       "    <tr>\n",
       "      <th>0</th>\n",
       "      <td>225363</td>\n",
       "      <td>866</td>\n",
       "      <td>Ярославль</td>\n",
       "      <td>Ж</td>\n",
       "      <td>51</td>\n",
       "      <td>5</td>\n",
       "      <td>1,524,746.26</td>\n",
       "      <td>2</td>\n",
       "      <td>0</td>\n",
       "      <td>1</td>\n",
       "      <td>174,423.53</td>\n",
       "      <td>1</td>\n",
       "    </tr>\n",
       "    <tr>\n",
       "      <th>1</th>\n",
       "      <td>156677</td>\n",
       "      <td>873</td>\n",
       "      <td>Ярославль</td>\n",
       "      <td>М</td>\n",
       "      <td>39</td>\n",
       "      <td>5</td>\n",
       "      <td>915,959.85</td>\n",
       "      <td>3</td>\n",
       "      <td>0</td>\n",
       "      <td>1</td>\n",
       "      <td>154,034.62</td>\n",
       "      <td>1</td>\n",
       "    </tr>\n",
       "    <tr>\n",
       "      <th>2</th>\n",
       "      <td>222208</td>\n",
       "      <td>950</td>\n",
       "      <td>Рыбинск</td>\n",
       "      <td>Ж</td>\n",
       "      <td>43</td>\n",
       "      <td>4</td>\n",
       "      <td>2,332,677.14</td>\n",
       "      <td>2</td>\n",
       "      <td>1</td>\n",
       "      <td>1</td>\n",
       "      <td>301,845.59</td>\n",
       "      <td>0</td>\n",
       "    </tr>\n",
       "    <tr>\n",
       "      <th>3</th>\n",
       "      <td>213688</td>\n",
       "      <td>922</td>\n",
       "      <td>Ярославль</td>\n",
       "      <td>Ж</td>\n",
       "      <td>37</td>\n",
       "      <td>5</td>\n",
       "      <td>1,214,707.38</td>\n",
       "      <td>4</td>\n",
       "      <td>0</td>\n",
       "      <td>1</td>\n",
       "      <td>85,121.07</td>\n",
       "      <td>0</td>\n",
       "    </tr>\n",
       "    <tr>\n",
       "      <th>4</th>\n",
       "      <td>191976</td>\n",
       "      <td>937</td>\n",
       "      <td>Ярославль</td>\n",
       "      <td>М</td>\n",
       "      <td>33</td>\n",
       "      <td>5</td>\n",
       "      <td>2,061,152.96</td>\n",
       "      <td>2</td>\n",
       "      <td>1</td>\n",
       "      <td>1</td>\n",
       "      <td>280,670.62</td>\n",
       "      <td>1</td>\n",
       "    </tr>\n",
       "  </tbody>\n",
       "</table>\n",
       "</div>"
      ],
      "text/plain": [
       "   user_id  score       city gender  age  equity      balance  products  \\\n",
       "0   225363    866  Ярославль      Ж   51       5 1,524,746.26         2   \n",
       "1   156677    873  Ярославль      М   39       5   915,959.85         3   \n",
       "2   222208    950    Рыбинск      Ж   43       4 2,332,677.14         2   \n",
       "3   213688    922  Ярославль      Ж   37       5 1,214,707.38         4   \n",
       "4   191976    937  Ярославль      М   33       5 2,061,152.96         2   \n",
       "\n",
       "   credit_card  last_activity  est_salary  churn  \n",
       "0            0              1  174,423.53      1  \n",
       "1            0              1  154,034.62      1  \n",
       "2            1              1  301,845.59      0  \n",
       "3            0              1   85,121.07      0  \n",
       "4            1              1  280,670.62      1  "
      ]
     },
     "execution_count": 62,
     "metadata": {},
     "output_type": "execute_result"
    }
   ],
   "source": [
    "segment_2 = banks.query('last_activity == 1 and balance > 700000 and products >= 2')\n",
    "segment_2 = segment_2.reset_index(drop=True)\n",
    "segment_2.head()"
   ]
  },
  {
   "cell_type": "code",
   "execution_count": 63,
   "metadata": {},
   "outputs": [
    {
     "name": "stdout",
     "output_type": "stream",
     "text": [
      "Количество клиентов во втором сегменте: 1346\n",
      "Количество действующих клиентов во втором сегменте: 678\n",
      "Доля оттока во втором сегменте: 49.6%\n"
     ]
    }
   ],
   "source": [
    "segment_2_churn = segment_2['churn'].mean()\n",
    "\n",
    "print('Количество клиентов во втором сегменте:', segment_2['user_id'].count())\n",
    "print('Количество действующих клиентов во втором сегменте:', segment_2['churn'].count() - segment_2['churn'].sum())\n",
    "print(f'Доля оттока во втором сегменте: {segment_2_churn:.1%}')"
   ]
  },
  {
   "cell_type": "markdown",
   "metadata": {},
   "source": [
    "**5.6** Во втором сегменте доля оттока составляет почти 50%. При этом в таком высокооточном сегменте 1 346 пользователей (678 действующих). "
   ]
  },
  {
   "cell_type": "markdown",
   "metadata": {},
   "source": [
    "**5.7** Выделим третий сегмент: **клиенты в возрасте от 25 до 35 лет, получающие доход от 100 000 рублей и имеющие от 3 и выше баллов собственности**."
   ]
  },
  {
   "cell_type": "code",
   "execution_count": 64,
   "metadata": {},
   "outputs": [
    {
     "data": {
      "text/html": [
       "<div>\n",
       "<style scoped>\n",
       "    .dataframe tbody tr th:only-of-type {\n",
       "        vertical-align: middle;\n",
       "    }\n",
       "\n",
       "    .dataframe tbody tr th {\n",
       "        vertical-align: top;\n",
       "    }\n",
       "\n",
       "    .dataframe thead th {\n",
       "        text-align: right;\n",
       "    }\n",
       "</style>\n",
       "<table border=\"1\" class=\"dataframe\">\n",
       "  <thead>\n",
       "    <tr style=\"text-align: right;\">\n",
       "      <th></th>\n",
       "      <th>user_id</th>\n",
       "      <th>score</th>\n",
       "      <th>city</th>\n",
       "      <th>gender</th>\n",
       "      <th>age</th>\n",
       "      <th>equity</th>\n",
       "      <th>balance</th>\n",
       "      <th>products</th>\n",
       "      <th>credit_card</th>\n",
       "      <th>last_activity</th>\n",
       "      <th>est_salary</th>\n",
       "      <th>churn</th>\n",
       "    </tr>\n",
       "  </thead>\n",
       "  <tbody>\n",
       "    <tr>\n",
       "      <th>0</th>\n",
       "      <td>132970</td>\n",
       "      <td>845</td>\n",
       "      <td>Ярославль</td>\n",
       "      <td>Ж</td>\n",
       "      <td>31</td>\n",
       "      <td>3</td>\n",
       "      <td>591,928.52</td>\n",
       "      <td>2</td>\n",
       "      <td>1</td>\n",
       "      <td>1</td>\n",
       "      <td>112,697.16</td>\n",
       "      <td>1</td>\n",
       "    </tr>\n",
       "    <tr>\n",
       "      <th>1</th>\n",
       "      <td>172138</td>\n",
       "      <td>815</td>\n",
       "      <td>Ярославль</td>\n",
       "      <td>М</td>\n",
       "      <td>35</td>\n",
       "      <td>5</td>\n",
       "      <td>547,499.87</td>\n",
       "      <td>2</td>\n",
       "      <td>1</td>\n",
       "      <td>1</td>\n",
       "      <td>105,883.26</td>\n",
       "      <td>0</td>\n",
       "    </tr>\n",
       "    <tr>\n",
       "      <th>2</th>\n",
       "      <td>140749</td>\n",
       "      <td>948</td>\n",
       "      <td>Ярославль</td>\n",
       "      <td>Ж</td>\n",
       "      <td>34</td>\n",
       "      <td>5</td>\n",
       "      <td>3,134,788.66</td>\n",
       "      <td>2</td>\n",
       "      <td>0</td>\n",
       "      <td>0</td>\n",
       "      <td>199,705.32</td>\n",
       "      <td>0</td>\n",
       "    </tr>\n",
       "    <tr>\n",
       "      <th>3</th>\n",
       "      <td>208814</td>\n",
       "      <td>812</td>\n",
       "      <td>Рыбинск</td>\n",
       "      <td>М</td>\n",
       "      <td>34</td>\n",
       "      <td>3</td>\n",
       "      <td>579,820.46</td>\n",
       "      <td>2</td>\n",
       "      <td>1</td>\n",
       "      <td>0</td>\n",
       "      <td>174,945.81</td>\n",
       "      <td>0</td>\n",
       "    </tr>\n",
       "    <tr>\n",
       "      <th>4</th>\n",
       "      <td>191976</td>\n",
       "      <td>937</td>\n",
       "      <td>Ярославль</td>\n",
       "      <td>М</td>\n",
       "      <td>33</td>\n",
       "      <td>5</td>\n",
       "      <td>2,061,152.96</td>\n",
       "      <td>2</td>\n",
       "      <td>1</td>\n",
       "      <td>1</td>\n",
       "      <td>280,670.62</td>\n",
       "      <td>1</td>\n",
       "    </tr>\n",
       "  </tbody>\n",
       "</table>\n",
       "</div>"
      ],
      "text/plain": [
       "   user_id  score       city gender  age  equity      balance  products  \\\n",
       "0   132970    845  Ярославль      Ж   31       3   591,928.52         2   \n",
       "1   172138    815  Ярославль      М   35       5   547,499.87         2   \n",
       "2   140749    948  Ярославль      Ж   34       5 3,134,788.66         2   \n",
       "3   208814    812    Рыбинск      М   34       3   579,820.46         2   \n",
       "4   191976    937  Ярославль      М   33       5 2,061,152.96         2   \n",
       "\n",
       "   credit_card  last_activity  est_salary  churn  \n",
       "0            1              1  112,697.16      1  \n",
       "1            1              1  105,883.26      0  \n",
       "2            0              0  199,705.32      0  \n",
       "3            1              0  174,945.81      0  \n",
       "4            1              1  280,670.62      1  "
      ]
     },
     "execution_count": 64,
     "metadata": {},
     "output_type": "execute_result"
    }
   ],
   "source": [
    "segment_3 = banks.query('age >=25 and age <= 35 and est_salary >= 100000 and equity >= 3')\n",
    "segment_3 = segment_3.reset_index(drop=True)\n",
    "segment_3.head()"
   ]
  },
  {
   "cell_type": "code",
   "execution_count": 65,
   "metadata": {},
   "outputs": [
    {
     "name": "stdout",
     "output_type": "stream",
     "text": [
      "Количество клиентов в третьем сегменте: 769\n",
      "Количество действующих клиентов в третьем сегменте: 422\n",
      "Доля оттока в третьем сегменте: 45.1%\n"
     ]
    }
   ],
   "source": [
    "segment_3_churn = segment_3['churn'].mean()\n",
    "\n",
    "print('Количество клиентов в третьем сегменте:', segment_3['user_id'].count())\n",
    "print('Количество действующих клиентов в третьем сегменте:', segment_3['churn'].count() - segment_3['churn'].sum())\n",
    "print(f'Доля оттока в третьем сегменте: {segment_3_churn:.1%}')"
   ]
  },
  {
   "cell_type": "markdown",
   "metadata": {},
   "source": [
    "**5.8** В третьем сегменте, включающем 769 пользователей (422 действующих), доля оттока составляет 45.1%."
   ]
  },
  {
   "cell_type": "markdown",
   "metadata": {},
   "source": [
    "**5.9** Теперь выделим последний сегмент: **клиенты в возрасте от 50 до 61 года, имеющие от 830 до 905 баллов кредитного скоринга**."
   ]
  },
  {
   "cell_type": "code",
   "execution_count": 66,
   "metadata": {},
   "outputs": [
    {
     "data": {
      "text/html": [
       "<div>\n",
       "<style scoped>\n",
       "    .dataframe tbody tr th:only-of-type {\n",
       "        vertical-align: middle;\n",
       "    }\n",
       "\n",
       "    .dataframe tbody tr th {\n",
       "        vertical-align: top;\n",
       "    }\n",
       "\n",
       "    .dataframe thead th {\n",
       "        text-align: right;\n",
       "    }\n",
       "</style>\n",
       "<table border=\"1\" class=\"dataframe\">\n",
       "  <thead>\n",
       "    <tr style=\"text-align: right;\">\n",
       "      <th></th>\n",
       "      <th>user_id</th>\n",
       "      <th>score</th>\n",
       "      <th>city</th>\n",
       "      <th>gender</th>\n",
       "      <th>age</th>\n",
       "      <th>equity</th>\n",
       "      <th>balance</th>\n",
       "      <th>products</th>\n",
       "      <th>credit_card</th>\n",
       "      <th>last_activity</th>\n",
       "      <th>est_salary</th>\n",
       "      <th>churn</th>\n",
       "    </tr>\n",
       "  </thead>\n",
       "  <tbody>\n",
       "    <tr>\n",
       "      <th>0</th>\n",
       "      <td>225363</td>\n",
       "      <td>866</td>\n",
       "      <td>Ярославль</td>\n",
       "      <td>Ж</td>\n",
       "      <td>51</td>\n",
       "      <td>5</td>\n",
       "      <td>1,524,746.26</td>\n",
       "      <td>2</td>\n",
       "      <td>0</td>\n",
       "      <td>1</td>\n",
       "      <td>174,423.53</td>\n",
       "      <td>1</td>\n",
       "    </tr>\n",
       "    <tr>\n",
       "      <th>1</th>\n",
       "      <td>202305</td>\n",
       "      <td>856</td>\n",
       "      <td>Рыбинск</td>\n",
       "      <td>М</td>\n",
       "      <td>56</td>\n",
       "      <td>4</td>\n",
       "      <td>863,687.24</td>\n",
       "      <td>3</td>\n",
       "      <td>1</td>\n",
       "      <td>0</td>\n",
       "      <td>156,619.80</td>\n",
       "      <td>0</td>\n",
       "    </tr>\n",
       "    <tr>\n",
       "      <th>2</th>\n",
       "      <td>161656</td>\n",
       "      <td>871</td>\n",
       "      <td>Ярославль</td>\n",
       "      <td>М</td>\n",
       "      <td>51</td>\n",
       "      <td>4</td>\n",
       "      <td>708,866.92</td>\n",
       "      <td>1</td>\n",
       "      <td>1</td>\n",
       "      <td>0</td>\n",
       "      <td>106,407.26</td>\n",
       "      <td>0</td>\n",
       "    </tr>\n",
       "    <tr>\n",
       "      <th>3</th>\n",
       "      <td>176516</td>\n",
       "      <td>849</td>\n",
       "      <td>Рыбинск</td>\n",
       "      <td>М</td>\n",
       "      <td>50</td>\n",
       "      <td>2</td>\n",
       "      <td>376,382.04</td>\n",
       "      <td>2</td>\n",
       "      <td>1</td>\n",
       "      <td>0</td>\n",
       "      <td>125,309.86</td>\n",
       "      <td>0</td>\n",
       "    </tr>\n",
       "    <tr>\n",
       "      <th>4</th>\n",
       "      <td>188364</td>\n",
       "      <td>860</td>\n",
       "      <td>Ярославль</td>\n",
       "      <td>М</td>\n",
       "      <td>55</td>\n",
       "      <td>6</td>\n",
       "      <td>865,702.41</td>\n",
       "      <td>2</td>\n",
       "      <td>1</td>\n",
       "      <td>0</td>\n",
       "      <td>76,058.00</td>\n",
       "      <td>0</td>\n",
       "    </tr>\n",
       "  </tbody>\n",
       "</table>\n",
       "</div>"
      ],
      "text/plain": [
       "   user_id  score       city gender  age  equity      balance  products  \\\n",
       "0   225363    866  Ярославль      Ж   51       5 1,524,746.26         2   \n",
       "1   202305    856    Рыбинск      М   56       4   863,687.24         3   \n",
       "2   161656    871  Ярославль      М   51       4   708,866.92         1   \n",
       "3   176516    849    Рыбинск      М   50       2   376,382.04         2   \n",
       "4   188364    860  Ярославль      М   55       6   865,702.41         2   \n",
       "\n",
       "   credit_card  last_activity  est_salary  churn  \n",
       "0            0              1  174,423.53      1  \n",
       "1            1              0  156,619.80      0  \n",
       "2            1              0  106,407.26      0  \n",
       "3            1              0  125,309.86      0  \n",
       "4            1              0   76,058.00      0  "
      ]
     },
     "execution_count": 66,
     "metadata": {},
     "output_type": "execute_result"
    }
   ],
   "source": [
    "segment_4 = banks.query('age >=50 and age <= 61 and score >= 830 and score <= 905')\n",
    "segment_4 = segment_4.reset_index(drop=True)\n",
    "segment_4.head()"
   ]
  },
  {
   "cell_type": "code",
   "execution_count": 67,
   "metadata": {},
   "outputs": [
    {
     "name": "stdout",
     "output_type": "stream",
     "text": [
      "Количество клиентов в третьем сегменте: 770\n",
      "Количество действующих клиентов в третьем сегменте: 522\n",
      "Доля оттока в третьем сегменте: 32.2%\n"
     ]
    }
   ],
   "source": [
    "segment_4_churn = segment_4['churn'].mean()\n",
    "\n",
    "print('Количество клиентов в третьем сегменте:', segment_4['user_id'].count())\n",
    "print('Количество действующих клиентов в третьем сегменте:', segment_4['churn'].count() - segment_4['churn'].sum())\n",
    "print(f'Доля оттока в третьем сегменте: {segment_4_churn:.1%}')"
   ]
  },
  {
   "cell_type": "markdown",
   "metadata": {},
   "source": [
    "**5.10** Итак, последний сегмент включает 770 пользователей (522 действующих) и доля оттока в нём составляет 32.2%. "
   ]
  },
  {
   "cell_type": "markdown",
   "metadata": {},
   "source": [
    "**Промежуточные выводы и приоритизация:** \n",
    "\n",
    "В рамках сегментации были выделены 4 высокоотточных сегмента. Предлагаем приоритизировать их по доле отточных пользователей. А именно:\n",
    "1. Активные пользователи с балансом на счёте свыше 700 000 рублей, имеющие 2 и более банковских продукта: 1 346 пользователей, почти 50% оттока. \n",
    "2. Клиенты в возрасте от 25 до 35 лет, получающие доход от 100 000 рублей и имеющие от 3 и выше баллов собственности: 769 пользователей, доля оттока — 45.1%.\n",
    "3. Мужчины из Ярославля и Ростова, у которых отсутствует кредитная карта: 890 пользователей, доля оттока — 37.3%.\n",
    "4. Клиенты в возрасте от 50 до 61 года, имеющие от 830 до 905 баллов кредитного скоринга: 770 пользователей, доля оттока — 32.2%.\n",
    "\n",
    "Общая доля оттока составляет 18.2%."
   ]
  },
  {
   "cell_type": "markdown",
   "metadata": {},
   "source": [
    "<a id=\"6\"></a>\n",
    "## Выводы и рекомендации по стимулированию высокоотточных сегментов"
   ]
  },
  {
   "cell_type": "markdown",
   "metadata": {},
   "source": [
    "Для каждого сегмента были разработаны рекомендации по предотвращению оттока. \n",
    "\n",
    "**1. Активные пользователи с балансом на счёте свыше 700 000 рублей, имеющие 2 и более банковских продукта.** \n",
    "\n",
    "- Возможно, пользователи уходят в другой банк из-за более лучших условий для держателей больших денежных сумм. Поэтому предлагаем для таких клиентов разработать уникальное предложение по процентным денежным вкладам. \n",
    "- Видно, что эти пользователи активны и имеют минимум 2 банковских продукта. Можно предложить таким клиентам кредитную/дебетовую карту с бесплатным обслуживанием, чтобы удержать клиентов и сделать их более лояльными. \n",
    "\n",
    "**2. Клиенты в возрасте от 25 до 35 лет, получающие доход от 100 000 рублей и имеющие от 3 и выше баллов собственности**.\n",
    "\n",
    "- Скорее всего, это молодые клиенты среднего класса (исходя из дохода и количества собственности). Можно предложить им повышенный кешбек на рестораны, автоуслуги (скорее всего, она есть), бензин, развлечения.\n",
    "- Предположительно у таких клиентов есть машина (раз 3 и более баллов собственности), поэтому предлагаем разработать специальное предложение по КАСКО для таких клиентов. Среди молодых людей становится очень популярной услуга электронного страхования: без заезда в офис, сбора и получения документов и т. п. Страховка просто оформляется в личном кабинете. \n",
    "\n",
    "**3. Мужчины из Ярославля и Ростова, у которых отсутствует кредитная карта**.\n",
    "- Сделать повышенный кешбэк на автоуслуги, спорттовары, бары и магазины электроники. \n",
    "- Предложить оформить кредитную карту с бесплатным пожизненным обслуживанием. \n",
    "\n",
    "**4. Клиенты в возрасте от 50 до 61 года, имеющие от 830 до 905 баллов кредитного скоринга**.\n",
    "- Как мы видели из графика корреляции, баллы кредитного скоринга зависят от количества баллов собственности, количества взятых продуктов банка и от оценочного дохода клиентов. Значит, скорее всего, многие такие клиенты имеют несколько объектов собственности и хороший доход, то есть обладают хорошим уровнем жизни. Можно предложить им возможность открытия вклада на персональных условиях, а также бесплатное обслуживание карты как клиенту, которому доверяет банк. \n",
    "- Кредит под хороший для клиента процент. \n",
    "- Повышенный кешбэк на аптеки, супермаркеты, бензин и театры."
   ]
  }
 ],
 "metadata": {
  "ExecuteTimeLog": [
   {
    "duration": 381,
    "start_time": "2024-04-17T13:02:31.869Z"
   },
   {
    "duration": 3842,
    "start_time": "2024-04-17T13:04:09.660Z"
   },
   {
    "duration": 99,
    "start_time": "2024-04-17T13:05:20.527Z"
   },
   {
    "duration": 61,
    "start_time": "2024-04-17T13:05:34.220Z"
   },
   {
    "duration": 78,
    "start_time": "2024-04-17T13:05:39.118Z"
   },
   {
    "duration": 10,
    "start_time": "2024-04-17T13:06:13.900Z"
   },
   {
    "duration": 3,
    "start_time": "2024-04-17T13:14:03.617Z"
   },
   {
    "duration": 4,
    "start_time": "2024-04-17T13:14:10.567Z"
   },
   {
    "duration": 74,
    "start_time": "2024-04-17T13:15:32.225Z"
   },
   {
    "duration": 4,
    "start_time": "2024-04-17T13:15:35.857Z"
   },
   {
    "duration": 4,
    "start_time": "2024-04-17T13:15:56.351Z"
   },
   {
    "duration": 305,
    "start_time": "2024-04-17T13:21:03.760Z"
   },
   {
    "duration": 3,
    "start_time": "2024-04-17T13:22:22.801Z"
   },
   {
    "duration": 9,
    "start_time": "2024-04-17T13:22:33.080Z"
   },
   {
    "duration": 13,
    "start_time": "2024-04-17T14:21:06.771Z"
   },
   {
    "duration": 5,
    "start_time": "2024-04-17T14:32:13.426Z"
   },
   {
    "duration": 11,
    "start_time": "2024-04-17T14:32:21.033Z"
   },
   {
    "duration": 15,
    "start_time": "2024-04-17T14:34:07.166Z"
   },
   {
    "duration": 6,
    "start_time": "2024-04-17T14:34:50.737Z"
   },
   {
    "duration": 15,
    "start_time": "2024-04-17T14:35:37.215Z"
   },
   {
    "duration": 21,
    "start_time": "2024-04-17T14:35:43.940Z"
   },
   {
    "duration": 4,
    "start_time": "2024-04-17T14:46:58.289Z"
   },
   {
    "duration": 10,
    "start_time": "2024-04-17T14:47:14.658Z"
   },
   {
    "duration": 8,
    "start_time": "2024-04-17T14:47:59.825Z"
   },
   {
    "duration": 4,
    "start_time": "2024-04-17T14:48:24.109Z"
   },
   {
    "duration": 6,
    "start_time": "2024-04-17T14:51:36.811Z"
   },
   {
    "duration": 15,
    "start_time": "2024-04-17T14:51:49.261Z"
   },
   {
    "duration": 5,
    "start_time": "2024-04-17T14:53:24.924Z"
   },
   {
    "duration": 20,
    "start_time": "2024-04-17T14:54:39.714Z"
   },
   {
    "duration": 20,
    "start_time": "2024-04-17T14:55:15.843Z"
   },
   {
    "duration": 68,
    "start_time": "2024-04-17T14:57:14.202Z"
   },
   {
    "duration": 985,
    "start_time": "2024-04-17T14:57:38.564Z"
   },
   {
    "duration": 5,
    "start_time": "2024-04-17T14:57:54.312Z"
   },
   {
    "duration": 7,
    "start_time": "2024-04-17T14:58:02.833Z"
   },
   {
    "duration": 19,
    "start_time": "2024-04-17T15:02:24.962Z"
   },
   {
    "duration": 4,
    "start_time": "2024-04-17T15:06:48.096Z"
   },
   {
    "duration": 9,
    "start_time": "2024-04-17T15:08:06.440Z"
   },
   {
    "duration": 12,
    "start_time": "2024-04-17T15:08:15.585Z"
   },
   {
    "duration": 11,
    "start_time": "2024-04-17T15:08:25.920Z"
   },
   {
    "duration": 6,
    "start_time": "2024-04-17T15:09:55.525Z"
   },
   {
    "duration": 16,
    "start_time": "2024-04-17T15:10:09.143Z"
   },
   {
    "duration": 16,
    "start_time": "2024-04-17T15:10:32.593Z"
   },
   {
    "duration": 6,
    "start_time": "2024-04-17T15:13:04.679Z"
   },
   {
    "duration": 17,
    "start_time": "2024-04-17T15:13:08.222Z"
   },
   {
    "duration": 12,
    "start_time": "2024-04-17T15:14:35.995Z"
   },
   {
    "duration": 17,
    "start_time": "2024-04-17T15:16:31.140Z"
   },
   {
    "duration": 94,
    "start_time": "2024-04-17T15:16:54.189Z"
   },
   {
    "duration": 7,
    "start_time": "2024-04-17T15:17:02.752Z"
   },
   {
    "duration": 5,
    "start_time": "2024-04-17T15:17:22.361Z"
   },
   {
    "duration": 5,
    "start_time": "2024-04-17T15:17:38.895Z"
   },
   {
    "duration": 477,
    "start_time": "2024-04-22T13:28:05.271Z"
   },
   {
    "duration": 147,
    "start_time": "2024-04-22T13:28:11.844Z"
   },
   {
    "duration": 20,
    "start_time": "2024-04-22T13:28:14.797Z"
   },
   {
    "duration": 6,
    "start_time": "2024-04-22T13:28:53.492Z"
   },
   {
    "duration": 4,
    "start_time": "2024-04-22T13:29:32.058Z"
   },
   {
    "duration": 21,
    "start_time": "2024-04-22T13:29:33.970Z"
   },
   {
    "duration": 22,
    "start_time": "2024-04-22T13:31:00.203Z"
   },
   {
    "duration": 16,
    "start_time": "2024-04-22T13:31:01.744Z"
   },
   {
    "duration": 7,
    "start_time": "2024-04-22T13:33:03.167Z"
   },
   {
    "duration": 16,
    "start_time": "2024-04-22T13:33:22.303Z"
   },
   {
    "duration": 10,
    "start_time": "2024-04-22T13:33:31.701Z"
   },
   {
    "duration": 30,
    "start_time": "2024-04-22T13:37:17.177Z"
   },
   {
    "duration": 9,
    "start_time": "2024-04-22T13:37:45.191Z"
   },
   {
    "duration": 35,
    "start_time": "2024-04-22T13:38:17.921Z"
   },
   {
    "duration": 29,
    "start_time": "2024-04-22T13:39:11.124Z"
   },
   {
    "duration": 8,
    "start_time": "2024-04-22T13:44:50.965Z"
   },
   {
    "duration": 8,
    "start_time": "2024-04-22T16:56:29.379Z"
   },
   {
    "duration": 23,
    "start_time": "2024-04-22T16:56:34.793Z"
   },
   {
    "duration": 8,
    "start_time": "2024-04-22T16:56:44.522Z"
   },
   {
    "duration": 4,
    "start_time": "2024-04-22T16:57:35.690Z"
   },
   {
    "duration": 4,
    "start_time": "2024-04-22T16:57:47.278Z"
   },
   {
    "duration": 5,
    "start_time": "2024-04-22T16:57:59.360Z"
   },
   {
    "duration": 5,
    "start_time": "2024-04-22T16:59:08.718Z"
   },
   {
    "duration": 6,
    "start_time": "2024-04-22T16:59:15.676Z"
   },
   {
    "duration": 4,
    "start_time": "2024-04-22T16:59:32.430Z"
   },
   {
    "duration": 81,
    "start_time": "2024-04-22T17:04:40.260Z"
   },
   {
    "duration": 61,
    "start_time": "2024-04-22T17:06:52.470Z"
   },
   {
    "duration": 4,
    "start_time": "2024-04-22T17:07:12.336Z"
   },
   {
    "duration": 4,
    "start_time": "2024-04-22T17:07:17.102Z"
   },
   {
    "duration": 5,
    "start_time": "2024-04-22T17:07:38.473Z"
   },
   {
    "duration": 3,
    "start_time": "2024-04-22T17:07:54.397Z"
   },
   {
    "duration": 12,
    "start_time": "2024-04-22T17:23:43.669Z"
   },
   {
    "duration": 10,
    "start_time": "2024-04-22T17:24:29.527Z"
   },
   {
    "duration": 7,
    "start_time": "2024-04-22T17:25:21.828Z"
   },
   {
    "duration": 10,
    "start_time": "2024-04-22T17:25:36.119Z"
   },
   {
    "duration": 89,
    "start_time": "2024-04-22T17:26:04.859Z"
   },
   {
    "duration": 9,
    "start_time": "2024-04-22T17:26:13.880Z"
   },
   {
    "duration": 7,
    "start_time": "2024-04-22T17:26:26.863Z"
   },
   {
    "duration": 13,
    "start_time": "2024-04-22T17:26:31.848Z"
   },
   {
    "duration": 19,
    "start_time": "2024-04-22T17:29:15.878Z"
   },
   {
    "duration": 32,
    "start_time": "2024-04-22T17:29:35.712Z"
   },
   {
    "duration": 17,
    "start_time": "2024-04-22T17:49:25.336Z"
   },
   {
    "duration": 5,
    "start_time": "2024-04-22T17:49:57.448Z"
   },
   {
    "duration": 6,
    "start_time": "2024-04-22T17:50:07.185Z"
   },
   {
    "duration": 14,
    "start_time": "2024-04-22T17:50:13.178Z"
   },
   {
    "duration": 91,
    "start_time": "2024-04-22T17:51:41.562Z"
   },
   {
    "duration": 12,
    "start_time": "2024-04-22T17:51:48.580Z"
   },
   {
    "duration": 18,
    "start_time": "2024-04-22T17:51:59.793Z"
   },
   {
    "duration": 18,
    "start_time": "2024-04-22T17:53:02.594Z"
   },
   {
    "duration": 11,
    "start_time": "2024-04-22T17:53:12.260Z"
   },
   {
    "duration": 10,
    "start_time": "2024-04-22T17:53:27.270Z"
   },
   {
    "duration": 7,
    "start_time": "2024-04-22T17:53:32.890Z"
   },
   {
    "duration": 8,
    "start_time": "2024-04-22T17:53:55.830Z"
   },
   {
    "duration": 6,
    "start_time": "2024-04-22T17:56:49.871Z"
   },
   {
    "duration": 12,
    "start_time": "2024-04-22T17:57:48.505Z"
   },
   {
    "duration": 16,
    "start_time": "2024-04-22T17:59:59.227Z"
   },
   {
    "duration": 11,
    "start_time": "2024-04-22T18:00:14.620Z"
   },
   {
    "duration": 6,
    "start_time": "2024-04-22T18:00:43.570Z"
   },
   {
    "duration": 10,
    "start_time": "2024-04-22T18:02:56.242Z"
   },
   {
    "duration": 11,
    "start_time": "2024-04-22T18:03:14.815Z"
   },
   {
    "duration": 8,
    "start_time": "2024-04-22T18:03:40.350Z"
   },
   {
    "duration": 3,
    "start_time": "2024-04-22T18:05:19.269Z"
   },
   {
    "duration": 9,
    "start_time": "2024-04-22T18:06:11.759Z"
   },
   {
    "duration": 5,
    "start_time": "2024-04-22T18:08:56.623Z"
   },
   {
    "duration": 19,
    "start_time": "2024-04-22T18:09:08.201Z"
   },
   {
    "duration": 8,
    "start_time": "2024-04-22T18:09:54.720Z"
   },
   {
    "duration": 8,
    "start_time": "2024-04-22T18:09:58.834Z"
   },
   {
    "duration": 8,
    "start_time": "2024-04-22T18:10:04.928Z"
   },
   {
    "duration": 7,
    "start_time": "2024-04-22T18:10:07.800Z"
   },
   {
    "duration": 18,
    "start_time": "2024-04-22T18:10:20.623Z"
   },
   {
    "duration": 433,
    "start_time": "2024-04-23T12:04:23.752Z"
   },
   {
    "duration": 105,
    "start_time": "2024-04-23T12:04:24.385Z"
   },
   {
    "duration": 12,
    "start_time": "2024-04-23T12:04:25.191Z"
   },
   {
    "duration": 4,
    "start_time": "2024-04-23T12:04:26.105Z"
   },
   {
    "duration": 3,
    "start_time": "2024-04-23T12:04:27.268Z"
   },
   {
    "duration": 10,
    "start_time": "2024-04-23T12:04:27.847Z"
   },
   {
    "duration": 14,
    "start_time": "2024-04-23T12:04:28.437Z"
   },
   {
    "duration": 14,
    "start_time": "2024-04-23T12:04:29.017Z"
   },
   {
    "duration": 8,
    "start_time": "2024-04-23T12:04:29.606Z"
   },
   {
    "duration": 14,
    "start_time": "2024-04-23T12:04:30.226Z"
   },
   {
    "duration": 12,
    "start_time": "2024-04-23T12:04:30.819Z"
   },
   {
    "duration": 4,
    "start_time": "2024-04-23T12:04:31.454Z"
   },
   {
    "duration": 22,
    "start_time": "2024-04-23T12:04:32.943Z"
   },
   {
    "duration": 8,
    "start_time": "2024-04-23T12:04:33.647Z"
   },
   {
    "duration": 4,
    "start_time": "2024-04-23T12:04:35.183Z"
   },
   {
    "duration": 10,
    "start_time": "2024-04-23T12:04:35.846Z"
   },
   {
    "duration": 18,
    "start_time": "2024-04-23T12:04:36.218Z"
   },
   {
    "duration": 26,
    "start_time": "2024-04-23T12:04:36.635Z"
   },
   {
    "duration": 15,
    "start_time": "2024-04-23T12:06:17.313Z"
   },
   {
    "duration": 11,
    "start_time": "2024-04-23T12:06:54.749Z"
   },
   {
    "duration": 57,
    "start_time": "2024-04-23T12:10:54.864Z"
   },
   {
    "duration": 4,
    "start_time": "2024-04-23T12:10:58.188Z"
   },
   {
    "duration": 11,
    "start_time": "2024-04-23T12:10:59.379Z"
   },
   {
    "duration": 8,
    "start_time": "2024-04-23T12:12:17.062Z"
   },
   {
    "duration": 19,
    "start_time": "2024-04-23T12:24:21.598Z"
   },
   {
    "duration": 19,
    "start_time": "2024-04-23T12:25:35.812Z"
   },
   {
    "duration": 11,
    "start_time": "2024-04-23T12:27:49.975Z"
   },
   {
    "duration": 940,
    "start_time": "2024-04-23T12:30:06.164Z"
   },
   {
    "duration": 41,
    "start_time": "2024-04-23T12:32:50.797Z"
   },
   {
    "duration": 138,
    "start_time": "2024-04-23T12:33:25.921Z"
   },
   {
    "duration": 276,
    "start_time": "2024-04-23T12:33:34.674Z"
   },
   {
    "duration": 9,
    "start_time": "2024-04-23T12:35:11.666Z"
   },
   {
    "duration": 3,
    "start_time": "2024-04-23T12:35:35.154Z"
   },
   {
    "duration": 308,
    "start_time": "2024-04-23T12:35:39.621Z"
   },
   {
    "duration": 285,
    "start_time": "2024-04-23T12:35:58.293Z"
   },
   {
    "duration": 352,
    "start_time": "2024-04-23T12:36:18.640Z"
   },
   {
    "duration": 179,
    "start_time": "2024-04-23T12:36:48.967Z"
   },
   {
    "duration": 335,
    "start_time": "2024-04-23T12:36:53.901Z"
   },
   {
    "duration": 317,
    "start_time": "2024-04-23T12:37:05.555Z"
   },
   {
    "duration": 293,
    "start_time": "2024-04-23T12:37:24.848Z"
   },
   {
    "duration": 149,
    "start_time": "2024-04-23T12:38:18.117Z"
   },
   {
    "duration": 343,
    "start_time": "2024-04-23T12:38:40.465Z"
   },
   {
    "duration": 439,
    "start_time": "2024-04-23T12:38:50.976Z"
   },
   {
    "duration": 1147,
    "start_time": "2024-04-23T12:39:02.102Z"
   },
   {
    "duration": 139,
    "start_time": "2024-04-23T12:39:03.251Z"
   },
   {
    "duration": 33,
    "start_time": "2024-04-23T12:39:03.392Z"
   },
   {
    "duration": 28,
    "start_time": "2024-04-23T12:39:03.428Z"
   },
   {
    "duration": 24,
    "start_time": "2024-04-23T12:39:03.457Z"
   },
   {
    "duration": 84,
    "start_time": "2024-04-23T12:39:03.483Z"
   },
   {
    "duration": 42,
    "start_time": "2024-04-23T12:39:03.568Z"
   },
   {
    "duration": 19,
    "start_time": "2024-04-23T12:39:03.611Z"
   },
   {
    "duration": 28,
    "start_time": "2024-04-23T12:39:03.631Z"
   },
   {
    "duration": 73,
    "start_time": "2024-04-23T12:39:03.661Z"
   },
   {
    "duration": 24,
    "start_time": "2024-04-23T12:39:03.736Z"
   },
   {
    "duration": 16,
    "start_time": "2024-04-23T12:39:03.761Z"
   },
   {
    "duration": 30,
    "start_time": "2024-04-23T12:39:03.779Z"
   },
   {
    "duration": 7,
    "start_time": "2024-04-23T12:39:03.810Z"
   },
   {
    "duration": 21,
    "start_time": "2024-04-23T12:39:03.819Z"
   },
   {
    "duration": 27,
    "start_time": "2024-04-23T12:39:03.841Z"
   },
   {
    "duration": 35,
    "start_time": "2024-04-23T12:39:03.870Z"
   },
   {
    "duration": 30,
    "start_time": "2024-04-23T12:39:03.907Z"
   },
   {
    "duration": 13,
    "start_time": "2024-04-23T12:39:03.939Z"
   },
   {
    "duration": 349,
    "start_time": "2024-04-23T12:39:03.954Z"
   },
   {
    "duration": 317,
    "start_time": "2024-04-23T12:40:24.654Z"
   },
   {
    "duration": 303,
    "start_time": "2024-04-23T12:41:58.494Z"
   },
   {
    "duration": 297,
    "start_time": "2024-04-23T12:43:04.505Z"
   },
   {
    "duration": 392,
    "start_time": "2024-04-23T12:43:09.319Z"
   },
   {
    "duration": 300,
    "start_time": "2024-04-23T12:45:09.786Z"
   },
   {
    "duration": 292,
    "start_time": "2024-04-23T12:45:18.876Z"
   },
   {
    "duration": 309,
    "start_time": "2024-04-23T12:47:14.619Z"
   },
   {
    "duration": 299,
    "start_time": "2024-04-23T12:48:00.847Z"
   },
   {
    "duration": 319,
    "start_time": "2024-04-23T12:49:00.929Z"
   },
   {
    "duration": 387,
    "start_time": "2024-04-23T12:49:11.248Z"
   },
   {
    "duration": 310,
    "start_time": "2024-04-23T12:49:20.237Z"
   },
   {
    "duration": 314,
    "start_time": "2024-04-23T12:50:18.308Z"
   },
   {
    "duration": 324,
    "start_time": "2024-04-23T12:51:27.899Z"
   },
   {
    "duration": 304,
    "start_time": "2024-04-23T12:51:49.538Z"
   },
   {
    "duration": 386,
    "start_time": "2024-04-23T12:51:57.816Z"
   },
   {
    "duration": 303,
    "start_time": "2024-04-23T12:52:15.480Z"
   },
   {
    "duration": 9,
    "start_time": "2024-04-23T12:52:52.267Z"
   },
   {
    "duration": 19,
    "start_time": "2024-04-23T12:54:37.861Z"
   },
   {
    "duration": 5,
    "start_time": "2024-04-23T12:55:50.151Z"
   },
   {
    "duration": 18,
    "start_time": "2024-04-23T12:55:54.119Z"
   },
   {
    "duration": 18,
    "start_time": "2024-04-23T12:56:08.965Z"
   },
   {
    "duration": 18,
    "start_time": "2024-04-23T12:56:45.290Z"
   },
   {
    "duration": 321,
    "start_time": "2024-04-23T12:57:06.886Z"
   },
   {
    "duration": 338,
    "start_time": "2024-04-23T12:57:21.466Z"
   },
   {
    "duration": 19,
    "start_time": "2024-04-23T12:57:53.251Z"
   },
   {
    "duration": 346,
    "start_time": "2024-04-23T12:57:58.467Z"
   },
   {
    "duration": 20,
    "start_time": "2024-04-23T12:58:24.237Z"
   },
   {
    "duration": 18,
    "start_time": "2024-04-23T12:58:29.430Z"
   },
   {
    "duration": 2,
    "start_time": "2024-04-23T13:00:45.346Z"
   },
   {
    "duration": 113,
    "start_time": "2024-04-23T13:01:14.009Z"
   },
   {
    "duration": 6,
    "start_time": "2024-04-23T13:01:55.114Z"
   },
   {
    "duration": 8,
    "start_time": "2024-04-23T13:02:00.396Z"
   },
   {
    "duration": 18,
    "start_time": "2024-04-23T13:02:19.916Z"
   },
   {
    "duration": 11,
    "start_time": "2024-04-23T13:02:29.872Z"
   },
   {
    "duration": 20,
    "start_time": "2024-04-23T13:03:15.239Z"
   },
   {
    "duration": 18,
    "start_time": "2024-04-23T13:03:53.221Z"
   },
   {
    "duration": 8,
    "start_time": "2024-04-23T13:05:47.943Z"
   },
   {
    "duration": 14,
    "start_time": "2024-04-23T13:05:57.375Z"
   },
   {
    "duration": 16,
    "start_time": "2024-04-23T13:06:07.423Z"
   },
   {
    "duration": 4,
    "start_time": "2024-04-23T13:09:39.491Z"
   },
   {
    "duration": 4,
    "start_time": "2024-04-23T13:09:50.722Z"
   },
   {
    "duration": 5,
    "start_time": "2024-04-23T13:12:58.688Z"
   },
   {
    "duration": 4,
    "start_time": "2024-04-23T13:13:01.524Z"
   },
   {
    "duration": 7,
    "start_time": "2024-04-23T13:13:42.119Z"
   },
   {
    "duration": 8,
    "start_time": "2024-04-23T13:13:47.591Z"
   },
   {
    "duration": 27,
    "start_time": "2024-04-23T13:14:22.216Z"
   },
   {
    "duration": 338,
    "start_time": "2024-04-23T13:14:24.295Z"
   },
   {
    "duration": 384,
    "start_time": "2024-04-23T13:15:47.354Z"
   },
   {
    "duration": 307,
    "start_time": "2024-04-23T16:23:18.416Z"
   },
   {
    "duration": 297,
    "start_time": "2024-04-23T16:23:57.614Z"
   },
   {
    "duration": 7,
    "start_time": "2024-04-23T16:32:24.785Z"
   },
   {
    "duration": 6,
    "start_time": "2024-04-23T16:33:29.585Z"
   },
   {
    "duration": 7,
    "start_time": "2024-04-23T16:33:34.052Z"
   },
   {
    "duration": 20,
    "start_time": "2024-04-23T16:34:00.104Z"
   },
   {
    "duration": 8,
    "start_time": "2024-04-23T16:34:26.338Z"
   },
   {
    "duration": 303,
    "start_time": "2024-04-23T16:34:58.347Z"
   },
   {
    "duration": 305,
    "start_time": "2024-04-23T16:42:39.967Z"
   },
   {
    "duration": 406,
    "start_time": "2024-04-23T16:43:03.959Z"
   },
   {
    "duration": 288,
    "start_time": "2024-04-23T16:43:38.736Z"
   },
   {
    "duration": 1498,
    "start_time": "2024-04-24T10:26:40.976Z"
   },
   {
    "duration": 148,
    "start_time": "2024-04-24T10:26:42.476Z"
   },
   {
    "duration": 14,
    "start_time": "2024-04-24T10:26:42.626Z"
   },
   {
    "duration": 29,
    "start_time": "2024-04-24T10:26:42.641Z"
   },
   {
    "duration": 117,
    "start_time": "2024-04-24T10:26:42.672Z"
   },
   {
    "duration": 84,
    "start_time": "2024-04-24T10:26:42.791Z"
   },
   {
    "duration": 181,
    "start_time": "2024-04-24T10:26:42.877Z"
   },
   {
    "duration": 39,
    "start_time": "2024-04-24T10:26:43.060Z"
   },
   {
    "duration": 19,
    "start_time": "2024-04-24T10:26:43.101Z"
   },
   {
    "duration": 30,
    "start_time": "2024-04-24T10:26:43.121Z"
   },
   {
    "duration": 9,
    "start_time": "2024-04-24T10:26:43.153Z"
   },
   {
    "duration": 8,
    "start_time": "2024-04-24T10:26:43.164Z"
   },
   {
    "duration": 24,
    "start_time": "2024-04-24T10:26:43.174Z"
   },
   {
    "duration": 8,
    "start_time": "2024-04-24T10:26:43.201Z"
   },
   {
    "duration": 22,
    "start_time": "2024-04-24T10:26:43.210Z"
   },
   {
    "duration": 32,
    "start_time": "2024-04-24T10:26:43.233Z"
   },
   {
    "duration": 36,
    "start_time": "2024-04-24T10:26:43.267Z"
   },
   {
    "duration": 21,
    "start_time": "2024-04-24T10:26:43.305Z"
   },
   {
    "duration": 11,
    "start_time": "2024-04-24T10:26:43.328Z"
   },
   {
    "duration": 452,
    "start_time": "2024-04-24T10:26:43.341Z"
   },
   {
    "duration": 365,
    "start_time": "2024-04-24T10:26:43.795Z"
   },
   {
    "duration": 20,
    "start_time": "2024-04-24T10:26:44.162Z"
   },
   {
    "duration": 9,
    "start_time": "2024-04-24T10:26:44.184Z"
   },
   {
    "duration": 390,
    "start_time": "2024-04-24T10:26:44.195Z"
   },
   {
    "duration": 351,
    "start_time": "2024-04-24T10:26:44.587Z"
   },
   {
    "duration": 420,
    "start_time": "2024-04-24T10:33:22.948Z"
   },
   {
    "duration": 342,
    "start_time": "2024-04-24T10:34:02.552Z"
   },
   {
    "duration": 340,
    "start_time": "2024-04-24T10:34:13.650Z"
   },
   {
    "duration": 380,
    "start_time": "2024-04-24T10:39:29.010Z"
   },
   {
    "duration": 7,
    "start_time": "2024-04-24T10:43:07.136Z"
   },
   {
    "duration": 346,
    "start_time": "2024-04-24T10:43:18.983Z"
   },
   {
    "duration": 323,
    "start_time": "2024-04-24T10:45:32.390Z"
   },
   {
    "duration": 405,
    "start_time": "2024-04-24T10:46:00.912Z"
   },
   {
    "duration": 328,
    "start_time": "2024-04-24T10:46:16.895Z"
   },
   {
    "duration": 326,
    "start_time": "2024-04-24T10:46:30.790Z"
   },
   {
    "duration": 317,
    "start_time": "2024-04-24T10:46:51.308Z"
   },
   {
    "duration": 275,
    "start_time": "2024-04-24T10:49:30.073Z"
   },
   {
    "duration": 285,
    "start_time": "2024-04-24T10:49:39.183Z"
   },
   {
    "duration": 322,
    "start_time": "2024-04-24T10:49:55.580Z"
   },
   {
    "duration": 239,
    "start_time": "2024-04-24T10:50:59.007Z"
   },
   {
    "duration": 392,
    "start_time": "2024-04-24T10:58:25.747Z"
   },
   {
    "duration": 376,
    "start_time": "2024-04-24T10:58:53.940Z"
   },
   {
    "duration": 228,
    "start_time": "2024-04-24T10:59:26.448Z"
   },
   {
    "duration": 243,
    "start_time": "2024-04-24T10:59:44.274Z"
   },
   {
    "duration": 244,
    "start_time": "2024-04-24T11:00:20.839Z"
   },
   {
    "duration": 252,
    "start_time": "2024-04-24T11:00:44.430Z"
   },
   {
    "duration": 82,
    "start_time": "2024-04-24T11:00:54.541Z"
   },
   {
    "duration": 517,
    "start_time": "2024-04-24T11:00:58.437Z"
   },
   {
    "duration": 100,
    "start_time": "2024-04-24T11:01:11.260Z"
   },
   {
    "duration": 256,
    "start_time": "2024-04-24T11:01:16.189Z"
   },
   {
    "duration": 244,
    "start_time": "2024-04-24T11:01:31.415Z"
   },
   {
    "duration": 5,
    "start_time": "2024-04-24T11:02:10.759Z"
   },
   {
    "duration": 227,
    "start_time": "2024-04-24T11:02:21.236Z"
   },
   {
    "duration": 227,
    "start_time": "2024-04-24T11:02:39.741Z"
   },
   {
    "duration": 242,
    "start_time": "2024-04-24T11:02:58.385Z"
   },
   {
    "duration": 424,
    "start_time": "2024-04-24T11:03:04.277Z"
   },
   {
    "duration": 243,
    "start_time": "2024-04-24T11:03:28.718Z"
   },
   {
    "duration": 373,
    "start_time": "2024-04-24T11:03:43.703Z"
   },
   {
    "duration": 323,
    "start_time": "2024-04-24T11:03:58.009Z"
   },
   {
    "duration": 13,
    "start_time": "2024-04-24T11:07:04.520Z"
   },
   {
    "duration": 7,
    "start_time": "2024-04-24T11:09:22.880Z"
   },
   {
    "duration": 19,
    "start_time": "2024-04-24T11:10:58.197Z"
   },
   {
    "duration": 16,
    "start_time": "2024-04-24T11:11:59.210Z"
   },
   {
    "duration": 4,
    "start_time": "2024-04-24T11:12:46.851Z"
   },
   {
    "duration": 5,
    "start_time": "2024-04-24T11:14:17.400Z"
   },
   {
    "duration": 22,
    "start_time": "2024-04-24T11:14:29.945Z"
   },
   {
    "duration": 7,
    "start_time": "2024-04-24T11:14:40.086Z"
   },
   {
    "duration": 267,
    "start_time": "2024-04-24T11:14:51.530Z"
   },
   {
    "duration": 242,
    "start_time": "2024-04-24T11:14:56.268Z"
   },
   {
    "duration": 289,
    "start_time": "2024-04-24T11:15:03.030Z"
   },
   {
    "duration": 369,
    "start_time": "2024-04-24T11:15:11.468Z"
   },
   {
    "duration": 349,
    "start_time": "2024-04-24T11:15:26.710Z"
   },
   {
    "duration": 357,
    "start_time": "2024-04-24T11:15:32.901Z"
   },
   {
    "duration": 247,
    "start_time": "2024-04-24T11:18:14.278Z"
   },
   {
    "duration": 473,
    "start_time": "2024-04-24T11:18:31.771Z"
   },
   {
    "duration": 363,
    "start_time": "2024-04-24T11:19:18.664Z"
   },
   {
    "duration": 341,
    "start_time": "2024-04-24T11:19:34.760Z"
   },
   {
    "duration": 340,
    "start_time": "2024-04-24T11:19:47.020Z"
   },
   {
    "duration": 343,
    "start_time": "2024-04-24T11:20:03.362Z"
   },
   {
    "duration": 421,
    "start_time": "2024-04-24T11:20:25.597Z"
   },
   {
    "duration": 219,
    "start_time": "2024-04-24T11:29:04.018Z"
   },
   {
    "duration": 261,
    "start_time": "2024-04-24T11:29:52.739Z"
   },
   {
    "duration": 250,
    "start_time": "2024-04-24T11:30:02.989Z"
   },
   {
    "duration": 248,
    "start_time": "2024-04-24T11:30:08.991Z"
   },
   {
    "duration": 263,
    "start_time": "2024-04-24T11:30:16.933Z"
   },
   {
    "duration": 372,
    "start_time": "2024-04-24T11:30:27.029Z"
   },
   {
    "duration": 239,
    "start_time": "2024-04-24T11:34:41.086Z"
   },
   {
    "duration": 202,
    "start_time": "2024-04-24T11:35:13.315Z"
   },
   {
    "duration": 3663,
    "start_time": "2024-04-24T13:26:23.174Z"
   },
   {
    "duration": 157,
    "start_time": "2024-04-24T13:27:28.901Z"
   },
   {
    "duration": 626,
    "start_time": "2024-04-24T13:28:10.228Z"
   },
   {
    "duration": 4,
    "start_time": "2024-04-24T13:37:38.439Z"
   },
   {
    "duration": 149,
    "start_time": "2024-04-24T13:37:43.647Z"
   },
   {
    "duration": 26,
    "start_time": "2024-04-24T13:38:07.976Z"
   },
   {
    "duration": 17375,
    "start_time": "2024-04-24T13:38:46.864Z"
   },
   {
    "duration": 11164,
    "start_time": "2024-04-24T13:43:40.101Z"
   },
   {
    "duration": 17128,
    "start_time": "2024-04-24T13:44:38.063Z"
   },
   {
    "duration": 17453,
    "start_time": "2024-04-24T13:49:43.147Z"
   },
   {
    "duration": 4,
    "start_time": "2024-04-24T13:50:31.282Z"
   },
   {
    "duration": 17134,
    "start_time": "2024-04-24T13:50:36.470Z"
   },
   {
    "duration": 85,
    "start_time": "2024-04-24T13:52:32.889Z"
   },
   {
    "duration": 5,
    "start_time": "2024-04-24T13:53:40.704Z"
   },
   {
    "duration": 18,
    "start_time": "2024-04-24T13:53:46.530Z"
   },
   {
    "duration": 2,
    "start_time": "2024-04-24T13:53:56.903Z"
   },
   {
    "duration": 8,
    "start_time": "2024-04-24T13:54:07.087Z"
   },
   {
    "duration": 1275,
    "start_time": "2024-04-24T13:54:25.529Z"
   },
   {
    "duration": 256,
    "start_time": "2024-04-24T13:54:26.806Z"
   },
   {
    "duration": 13,
    "start_time": "2024-04-24T13:54:27.064Z"
   },
   {
    "duration": 5,
    "start_time": "2024-04-24T13:54:27.078Z"
   },
   {
    "duration": 3,
    "start_time": "2024-04-24T13:54:27.086Z"
   },
   {
    "duration": 23,
    "start_time": "2024-04-24T13:54:27.091Z"
   },
   {
    "duration": 17,
    "start_time": "2024-04-24T13:54:27.116Z"
   },
   {
    "duration": 11,
    "start_time": "2024-04-24T13:54:27.134Z"
   },
   {
    "duration": 35,
    "start_time": "2024-04-24T13:54:27.150Z"
   },
   {
    "duration": 16,
    "start_time": "2024-04-24T13:54:27.186Z"
   },
   {
    "duration": 5,
    "start_time": "2024-04-24T13:54:27.204Z"
   },
   {
    "duration": 14,
    "start_time": "2024-04-24T13:54:27.211Z"
   },
   {
    "duration": 14,
    "start_time": "2024-04-24T13:54:27.227Z"
   },
   {
    "duration": 39,
    "start_time": "2024-04-24T13:54:27.243Z"
   },
   {
    "duration": 6,
    "start_time": "2024-04-24T13:54:27.283Z"
   },
   {
    "duration": 35,
    "start_time": "2024-04-24T13:54:27.290Z"
   },
   {
    "duration": 8,
    "start_time": "2024-04-24T13:54:27.326Z"
   },
   {
    "duration": 20,
    "start_time": "2024-04-24T13:54:27.336Z"
   },
   {
    "duration": 23,
    "start_time": "2024-04-24T13:54:27.358Z"
   },
   {
    "duration": 20,
    "start_time": "2024-04-24T13:54:27.383Z"
   },
   {
    "duration": 21,
    "start_time": "2024-04-24T13:54:27.405Z"
   },
   {
    "duration": 12,
    "start_time": "2024-04-24T13:54:27.427Z"
   },
   {
    "duration": 397,
    "start_time": "2024-04-24T13:54:27.441Z"
   },
   {
    "duration": 349,
    "start_time": "2024-04-24T13:54:27.839Z"
   },
   {
    "duration": 9,
    "start_time": "2024-04-24T13:54:28.189Z"
   },
   {
    "duration": 9,
    "start_time": "2024-04-24T13:54:28.199Z"
   },
   {
    "duration": 393,
    "start_time": "2024-04-24T13:54:28.209Z"
   },
   {
    "duration": 271,
    "start_time": "2024-04-24T13:54:28.604Z"
   },
   {
    "duration": 234,
    "start_time": "2024-04-24T13:54:28.880Z"
   },
   {
    "duration": 425,
    "start_time": "2024-04-24T13:54:29.115Z"
   },
   {
    "duration": 6,
    "start_time": "2024-04-24T13:54:29.542Z"
   },
   {
    "duration": 331,
    "start_time": "2024-04-24T13:54:29.549Z"
   },
   {
    "duration": 245,
    "start_time": "2024-04-24T13:54:29.882Z"
   },
   {
    "duration": 368,
    "start_time": "2024-04-24T13:54:30.128Z"
   },
   {
    "duration": 336,
    "start_time": "2024-04-24T13:54:30.498Z"
   },
   {
    "duration": 217,
    "start_time": "2024-04-24T13:54:30.836Z"
   },
   {
    "duration": 192,
    "start_time": "2024-04-24T13:54:31.054Z"
   },
   {
    "duration": 114,
    "start_time": "2024-04-24T13:54:31.247Z"
   },
   {
    "duration": 0,
    "start_time": "2024-04-24T13:54:31.362Z"
   },
   {
    "duration": 4,
    "start_time": "2024-04-24T13:54:42.737Z"
   },
   {
    "duration": 12,
    "start_time": "2024-04-24T13:54:44.331Z"
   },
   {
    "duration": 11,
    "start_time": "2024-04-24T13:55:36.286Z"
   },
   {
    "duration": 1326,
    "start_time": "2024-04-24T13:55:54.376Z"
   },
   {
    "duration": 79,
    "start_time": "2024-04-24T13:55:55.704Z"
   },
   {
    "duration": 13,
    "start_time": "2024-04-24T13:55:55.784Z"
   },
   {
    "duration": 7,
    "start_time": "2024-04-24T13:55:55.799Z"
   },
   {
    "duration": 9,
    "start_time": "2024-04-24T13:55:55.807Z"
   },
   {
    "duration": 23,
    "start_time": "2024-04-24T13:55:55.817Z"
   },
   {
    "duration": 15,
    "start_time": "2024-04-24T13:55:55.841Z"
   },
   {
    "duration": 22,
    "start_time": "2024-04-24T13:55:55.858Z"
   },
   {
    "duration": 22,
    "start_time": "2024-04-24T13:55:55.882Z"
   },
   {
    "duration": 19,
    "start_time": "2024-04-24T13:55:55.906Z"
   },
   {
    "duration": 4,
    "start_time": "2024-04-24T13:55:55.927Z"
   },
   {
    "duration": 11,
    "start_time": "2024-04-24T13:55:55.933Z"
   },
   {
    "duration": 25,
    "start_time": "2024-04-24T13:55:55.945Z"
   },
   {
    "duration": 13,
    "start_time": "2024-04-24T13:55:55.972Z"
   },
   {
    "duration": 16,
    "start_time": "2024-04-24T13:55:55.986Z"
   },
   {
    "duration": 43,
    "start_time": "2024-04-24T13:55:56.004Z"
   },
   {
    "duration": 8,
    "start_time": "2024-04-24T13:55:56.048Z"
   },
   {
    "duration": 8,
    "start_time": "2024-04-24T13:55:56.058Z"
   },
   {
    "duration": 14,
    "start_time": "2024-04-24T13:55:56.068Z"
   },
   {
    "duration": 24,
    "start_time": "2024-04-24T13:55:56.084Z"
   },
   {
    "duration": 22,
    "start_time": "2024-04-24T13:55:56.109Z"
   },
   {
    "duration": 11,
    "start_time": "2024-04-24T13:55:56.132Z"
   },
   {
    "duration": 376,
    "start_time": "2024-04-24T13:55:56.145Z"
   },
   {
    "duration": 394,
    "start_time": "2024-04-24T13:55:56.523Z"
   },
   {
    "duration": 9,
    "start_time": "2024-04-24T13:55:56.919Z"
   },
   {
    "duration": 64,
    "start_time": "2024-04-24T13:55:56.929Z"
   },
   {
    "duration": 368,
    "start_time": "2024-04-24T13:55:56.995Z"
   },
   {
    "duration": 250,
    "start_time": "2024-04-24T13:55:57.367Z"
   },
   {
    "duration": 244,
    "start_time": "2024-04-24T13:55:57.619Z"
   },
   {
    "duration": 450,
    "start_time": "2024-04-24T13:55:57.865Z"
   },
   {
    "duration": 7,
    "start_time": "2024-04-24T13:55:58.317Z"
   },
   {
    "duration": 381,
    "start_time": "2024-04-24T13:55:58.326Z"
   },
   {
    "duration": 245,
    "start_time": "2024-04-24T13:55:58.708Z"
   },
   {
    "duration": 363,
    "start_time": "2024-04-24T13:55:58.955Z"
   },
   {
    "duration": 340,
    "start_time": "2024-04-24T13:55:59.320Z"
   },
   {
    "duration": 205,
    "start_time": "2024-04-24T13:55:59.662Z"
   },
   {
    "duration": 208,
    "start_time": "2024-04-24T13:55:59.869Z"
   },
   {
    "duration": 5,
    "start_time": "2024-04-24T13:56:00.080Z"
   },
   {
    "duration": 83,
    "start_time": "2024-04-24T13:56:00.087Z"
   },
   {
    "duration": 10,
    "start_time": "2024-04-24T13:56:07.779Z"
   },
   {
    "duration": 10,
    "start_time": "2024-04-24T13:56:12.485Z"
   },
   {
    "duration": 548,
    "start_time": "2024-04-24T13:56:21.314Z"
   },
   {
    "duration": 455,
    "start_time": "2024-04-24T13:56:57.821Z"
   },
   {
    "duration": 502,
    "start_time": "2024-04-24T13:57:01.281Z"
   },
   {
    "duration": 5,
    "start_time": "2024-04-24T13:57:13.721Z"
   },
   {
    "duration": 426,
    "start_time": "2024-04-24T13:59:56.524Z"
   },
   {
    "duration": 994,
    "start_time": "2024-04-24T14:00:46.821Z"
   },
   {
    "duration": 990,
    "start_time": "2024-04-24T14:01:11.597Z"
   },
   {
    "duration": 1074,
    "start_time": "2024-04-24T14:01:24.747Z"
   },
   {
    "duration": 472,
    "start_time": "2024-04-24T14:04:14.050Z"
   },
   {
    "duration": 1003,
    "start_time": "2024-04-24T14:28:22.158Z"
   },
   {
    "duration": 1130,
    "start_time": "2024-04-24T14:28:43.963Z"
   },
   {
    "duration": 328,
    "start_time": "2024-04-24T14:43:56.094Z"
   },
   {
    "duration": 355,
    "start_time": "2024-04-24T14:44:56.748Z"
   },
   {
    "duration": 458,
    "start_time": "2024-04-24T14:56:22.311Z"
   },
   {
    "duration": 965,
    "start_time": "2024-04-24T14:56:27.308Z"
   },
   {
    "duration": 39,
    "start_time": "2024-04-25T11:37:37.530Z"
   },
   {
    "duration": 8,
    "start_time": "2024-04-25T11:38:09.283Z"
   },
   {
    "duration": 9,
    "start_time": "2024-04-25T11:40:39.136Z"
   },
   {
    "duration": 9,
    "start_time": "2024-04-25T11:40:53.052Z"
   },
   {
    "duration": 5,
    "start_time": "2024-04-25T11:41:04.790Z"
   },
   {
    "duration": 4,
    "start_time": "2024-04-25T11:41:14.049Z"
   },
   {
    "duration": 6,
    "start_time": "2024-04-25T11:41:21.405Z"
   },
   {
    "duration": 119,
    "start_time": "2024-04-25T12:00:16.663Z"
   },
   {
    "duration": 3,
    "start_time": "2024-04-25T12:00:47.858Z"
   },
   {
    "duration": 6,
    "start_time": "2024-04-25T12:00:52.828Z"
   },
   {
    "duration": 5,
    "start_time": "2024-04-25T12:03:00.042Z"
   },
   {
    "duration": 5,
    "start_time": "2024-04-25T12:03:09.264Z"
   },
   {
    "duration": 6,
    "start_time": "2024-04-25T12:03:22.505Z"
   },
   {
    "duration": 6,
    "start_time": "2024-04-25T12:03:31.347Z"
   },
   {
    "duration": 6,
    "start_time": "2024-04-25T12:03:48.476Z"
   },
   {
    "duration": 20,
    "start_time": "2024-04-25T12:04:13.908Z"
   },
   {
    "duration": 8,
    "start_time": "2024-04-25T12:04:23.568Z"
   },
   {
    "duration": 6,
    "start_time": "2024-04-25T12:04:24.538Z"
   },
   {
    "duration": 9,
    "start_time": "2024-04-25T12:22:13.615Z"
   },
   {
    "duration": 7,
    "start_time": "2024-04-25T12:22:14.573Z"
   },
   {
    "duration": 4,
    "start_time": "2024-04-25T12:22:25.749Z"
   },
   {
    "duration": 6,
    "start_time": "2024-04-25T12:22:30.607Z"
   },
   {
    "duration": 5,
    "start_time": "2024-04-25T12:22:45.621Z"
   },
   {
    "duration": 12,
    "start_time": "2024-04-25T12:23:53.560Z"
   },
   {
    "duration": 3,
    "start_time": "2024-04-25T12:24:07.912Z"
   },
   {
    "duration": 6,
    "start_time": "2024-04-25T12:24:13.041Z"
   },
   {
    "duration": 6,
    "start_time": "2024-04-25T12:25:00.828Z"
   },
   {
    "duration": 9,
    "start_time": "2024-04-25T12:25:54.637Z"
   },
   {
    "duration": 966,
    "start_time": "2024-04-25T12:26:24.669Z"
   },
   {
    "duration": 6,
    "start_time": "2024-04-25T12:27:07.529Z"
   },
   {
    "duration": 1078,
    "start_time": "2024-04-25T12:27:08.617Z"
   },
   {
    "duration": 944,
    "start_time": "2024-04-25T12:27:50.087Z"
   },
   {
    "duration": 1071,
    "start_time": "2024-04-25T12:28:29.825Z"
   },
   {
    "duration": 5,
    "start_time": "2024-04-25T12:28:44.772Z"
   },
   {
    "duration": 9,
    "start_time": "2024-04-25T12:29:13.125Z"
   },
   {
    "duration": 14,
    "start_time": "2024-04-25T12:29:29.547Z"
   },
   {
    "duration": 3,
    "start_time": "2024-04-25T12:29:55.704Z"
   },
   {
    "duration": 6,
    "start_time": "2024-04-25T12:30:00.024Z"
   },
   {
    "duration": 5,
    "start_time": "2024-04-25T12:30:00.468Z"
   },
   {
    "duration": 5,
    "start_time": "2024-04-25T12:30:40.929Z"
   },
   {
    "duration": 6,
    "start_time": "2024-04-25T12:30:50.369Z"
   },
   {
    "duration": 6,
    "start_time": "2024-04-25T12:30:57.533Z"
   },
   {
    "duration": 6,
    "start_time": "2024-04-25T12:31:44.795Z"
   },
   {
    "duration": 5,
    "start_time": "2024-04-25T12:31:45.352Z"
   },
   {
    "duration": 5,
    "start_time": "2024-04-25T12:31:54.003Z"
   },
   {
    "duration": 7,
    "start_time": "2024-04-25T12:44:43.163Z"
   },
   {
    "duration": 5,
    "start_time": "2024-04-25T12:50:17.692Z"
   },
   {
    "duration": 5,
    "start_time": "2024-04-25T12:51:44.832Z"
   },
   {
    "duration": 23,
    "start_time": "2024-04-25T15:23:51.639Z"
   },
   {
    "duration": 23,
    "start_time": "2024-04-25T15:24:34.076Z"
   },
   {
    "duration": 20,
    "start_time": "2024-04-25T15:24:52.269Z"
   },
   {
    "duration": 7,
    "start_time": "2024-04-25T15:25:19.333Z"
   },
   {
    "duration": 21,
    "start_time": "2024-04-25T15:25:23.029Z"
   },
   {
    "duration": 6,
    "start_time": "2024-04-25T15:25:42.452Z"
   },
   {
    "duration": 26,
    "start_time": "2024-04-25T15:26:27.619Z"
   },
   {
    "duration": 4,
    "start_time": "2024-04-25T15:26:31.901Z"
   },
   {
    "duration": 16,
    "start_time": "2024-04-25T15:27:24.781Z"
   },
   {
    "duration": 14,
    "start_time": "2024-04-25T15:27:43.411Z"
   },
   {
    "duration": 18,
    "start_time": "2024-04-25T15:27:56.035Z"
   },
   {
    "duration": 21,
    "start_time": "2024-04-25T15:27:58.607Z"
   },
   {
    "duration": 5,
    "start_time": "2024-04-25T15:33:35.394Z"
   },
   {
    "duration": 17,
    "start_time": "2024-04-25T15:38:17.027Z"
   },
   {
    "duration": 17,
    "start_time": "2024-04-25T15:39:46.240Z"
   },
   {
    "duration": 19,
    "start_time": "2024-04-25T15:39:56.977Z"
   },
   {
    "duration": 16,
    "start_time": "2024-04-25T15:40:09.979Z"
   },
   {
    "duration": 5,
    "start_time": "2024-04-25T15:40:27.710Z"
   },
   {
    "duration": 5,
    "start_time": "2024-04-25T15:40:37.133Z"
   },
   {
    "duration": 15,
    "start_time": "2024-04-25T15:40:47.140Z"
   },
   {
    "duration": 5,
    "start_time": "2024-04-25T15:40:48.450Z"
   },
   {
    "duration": 7,
    "start_time": "2024-04-25T15:43:02.883Z"
   },
   {
    "duration": 6,
    "start_time": "2024-04-25T15:43:37.173Z"
   },
   {
    "duration": 7,
    "start_time": "2024-04-25T15:44:04.094Z"
   },
   {
    "duration": 5,
    "start_time": "2024-04-25T15:44:30.495Z"
   },
   {
    "duration": 6,
    "start_time": "2024-04-25T15:45:17.968Z"
   },
   {
    "duration": 30,
    "start_time": "2024-04-25T15:47:17.849Z"
   },
   {
    "duration": 21,
    "start_time": "2024-04-25T15:48:25.336Z"
   },
   {
    "duration": 16,
    "start_time": "2024-04-25T15:48:31.348Z"
   },
   {
    "duration": 6,
    "start_time": "2024-04-25T15:49:53.246Z"
   },
   {
    "duration": 21,
    "start_time": "2024-04-25T15:50:29.057Z"
   },
   {
    "duration": 6,
    "start_time": "2024-04-25T15:50:33.482Z"
   },
   {
    "duration": 15,
    "start_time": "2024-04-25T15:51:06.256Z"
   },
   {
    "duration": 7,
    "start_time": "2024-04-25T15:51:07.721Z"
   },
   {
    "duration": 16,
    "start_time": "2024-04-25T15:52:29.431Z"
   },
   {
    "duration": 6,
    "start_time": "2024-04-25T15:52:29.915Z"
   },
   {
    "duration": 14,
    "start_time": "2024-04-25T15:52:52.759Z"
   },
   {
    "duration": 6,
    "start_time": "2024-04-25T15:52:55.467Z"
   },
   {
    "duration": 16,
    "start_time": "2024-04-25T15:53:03.440Z"
   },
   {
    "duration": 6,
    "start_time": "2024-04-25T15:53:03.886Z"
   },
   {
    "duration": 16,
    "start_time": "2024-04-25T15:58:25.697Z"
   },
   {
    "duration": 5,
    "start_time": "2024-04-25T15:58:52.606Z"
   },
   {
    "duration": 1360,
    "start_time": "2024-04-26T07:42:46.746Z"
   },
   {
    "duration": 3154,
    "start_time": "2024-04-26T07:44:05.095Z"
   },
   {
    "duration": 135,
    "start_time": "2024-04-26T07:44:11.719Z"
   },
   {
    "duration": 12,
    "start_time": "2024-04-26T07:44:15.760Z"
   },
   {
    "duration": 4,
    "start_time": "2024-04-26T07:44:33.316Z"
   },
   {
    "duration": 4,
    "start_time": "2024-04-26T07:44:54.024Z"
   },
   {
    "duration": 17,
    "start_time": "2024-04-26T07:44:55.571Z"
   },
   {
    "duration": 14,
    "start_time": "2024-04-26T07:45:06.776Z"
   },
   {
    "duration": 6,
    "start_time": "2024-04-26T07:45:42.065Z"
   },
   {
    "duration": 13,
    "start_time": "2024-04-26T07:45:48.302Z"
   },
   {
    "duration": 13,
    "start_time": "2024-04-26T07:45:59.368Z"
   },
   {
    "duration": 4,
    "start_time": "2024-04-26T07:46:04.036Z"
   },
   {
    "duration": 6,
    "start_time": "2024-04-26T07:46:50.459Z"
   },
   {
    "duration": 12,
    "start_time": "2024-04-26T07:46:59.143Z"
   },
   {
    "duration": 10,
    "start_time": "2024-04-26T07:47:06.443Z"
   },
   {
    "duration": 4,
    "start_time": "2024-04-26T07:47:09.510Z"
   },
   {
    "duration": 23,
    "start_time": "2024-04-26T07:47:32.478Z"
   },
   {
    "duration": 8,
    "start_time": "2024-04-26T07:47:55.879Z"
   },
   {
    "duration": 4,
    "start_time": "2024-04-26T07:48:31.765Z"
   },
   {
    "duration": 11,
    "start_time": "2024-04-26T07:48:54.061Z"
   },
   {
    "duration": 23,
    "start_time": "2024-04-26T07:49:13.559Z"
   },
   {
    "duration": 20,
    "start_time": "2024-04-26T07:49:25.356Z"
   },
   {
    "duration": 11,
    "start_time": "2024-04-26T07:49:36.780Z"
   },
   {
    "duration": 357,
    "start_time": "2024-04-26T07:52:51.678Z"
   },
   {
    "duration": 343,
    "start_time": "2024-04-26T07:53:36.789Z"
   },
   {
    "duration": 9,
    "start_time": "2024-04-26T07:54:00.427Z"
   },
   {
    "duration": 9,
    "start_time": "2024-04-26T07:54:38.646Z"
   },
   {
    "duration": 330,
    "start_time": "2024-04-26T07:54:43.440Z"
   },
   {
    "duration": 217,
    "start_time": "2024-04-26T07:55:57.974Z"
   },
   {
    "duration": 218,
    "start_time": "2024-04-26T07:56:13.595Z"
   },
   {
    "duration": 5,
    "start_time": "2024-04-26T07:58:00.388Z"
   },
   {
    "duration": 384,
    "start_time": "2024-04-26T07:58:01.846Z"
   },
   {
    "duration": 208,
    "start_time": "2024-04-26T07:58:33.786Z"
   },
   {
    "duration": 319,
    "start_time": "2024-04-26T07:58:58.847Z"
   },
   {
    "duration": 295,
    "start_time": "2024-04-26T07:59:24.680Z"
   },
   {
    "duration": 223,
    "start_time": "2024-04-26T07:59:44.248Z"
   },
   {
    "duration": 223,
    "start_time": "2024-04-26T07:59:56.928Z"
   },
   {
    "duration": 394,
    "start_time": "2024-04-26T08:00:14.539Z"
   },
   {
    "duration": 1134,
    "start_time": "2024-04-26T08:00:20.477Z"
   },
   {
    "duration": 418,
    "start_time": "2024-04-26T08:01:27.616Z"
   },
   {
    "duration": 8,
    "start_time": "2024-04-26T08:04:22.100Z"
   },
   {
    "duration": 7,
    "start_time": "2024-04-26T08:04:31.330Z"
   },
   {
    "duration": 6,
    "start_time": "2024-04-26T08:04:47.980Z"
   },
   {
    "duration": 7,
    "start_time": "2024-04-26T08:06:00.848Z"
   },
   {
    "duration": 5,
    "start_time": "2024-04-26T08:06:04.080Z"
   },
   {
    "duration": 4,
    "start_time": "2024-04-26T08:06:30.029Z"
   },
   {
    "duration": 21,
    "start_time": "2024-04-26T08:07:25.214Z"
   },
   {
    "duration": 4,
    "start_time": "2024-04-26T08:07:29.447Z"
   },
   {
    "duration": 14,
    "start_time": "2024-04-26T08:07:47.717Z"
   },
   {
    "duration": 6,
    "start_time": "2024-04-26T08:07:49.434Z"
   },
   {
    "duration": 14,
    "start_time": "2024-04-26T08:08:22.385Z"
   },
   {
    "duration": 5,
    "start_time": "2024-04-26T08:08:22.957Z"
   },
   {
    "duration": 14,
    "start_time": "2024-04-26T08:08:37.891Z"
   },
   {
    "duration": 4,
    "start_time": "2024-04-26T08:08:50.257Z"
   },
   {
    "duration": 14,
    "start_time": "2024-04-26T08:09:26.512Z"
   },
   {
    "duration": 5,
    "start_time": "2024-04-26T08:09:27.340Z"
   },
   {
    "duration": 5880,
    "start_time": "2024-04-27T09:04:08.928Z"
   },
   {
    "duration": 111,
    "start_time": "2024-04-27T09:04:14.812Z"
   },
   {
    "duration": 15,
    "start_time": "2024-04-27T09:04:14.925Z"
   },
   {
    "duration": 25,
    "start_time": "2024-04-27T09:04:14.941Z"
   },
   {
    "duration": 32,
    "start_time": "2024-04-27T09:04:14.968Z"
   },
   {
    "duration": 91,
    "start_time": "2024-04-27T09:04:15.002Z"
   },
   {
    "duration": 293,
    "start_time": "2024-04-27T09:04:15.095Z"
   },
   {
    "duration": 119,
    "start_time": "2024-04-27T09:04:15.390Z"
   },
   {
    "duration": 104,
    "start_time": "2024-04-27T09:04:15.511Z"
   },
   {
    "duration": 42,
    "start_time": "2024-04-27T09:04:15.619Z"
   },
   {
    "duration": 6,
    "start_time": "2024-04-27T09:04:15.663Z"
   },
   {
    "duration": 31,
    "start_time": "2024-04-27T09:04:15.671Z"
   },
   {
    "duration": 28,
    "start_time": "2024-04-27T09:04:15.704Z"
   },
   {
    "duration": 15,
    "start_time": "2024-04-27T09:04:15.734Z"
   },
   {
    "duration": 13,
    "start_time": "2024-04-27T09:04:15.751Z"
   },
   {
    "duration": 31,
    "start_time": "2024-04-27T09:04:15.766Z"
   },
   {
    "duration": 8,
    "start_time": "2024-04-27T09:04:15.799Z"
   },
   {
    "duration": 5,
    "start_time": "2024-04-27T09:04:15.809Z"
   },
   {
    "duration": 14,
    "start_time": "2024-04-27T09:04:15.816Z"
   },
   {
    "duration": 58,
    "start_time": "2024-04-27T09:04:15.832Z"
   },
   {
    "duration": 23,
    "start_time": "2024-04-27T09:04:15.892Z"
   },
   {
    "duration": 13,
    "start_time": "2024-04-27T09:04:15.917Z"
   },
   {
    "duration": 403,
    "start_time": "2024-04-27T09:04:15.932Z"
   },
   {
    "duration": 577,
    "start_time": "2024-04-27T09:04:16.337Z"
   },
   {
    "duration": 12,
    "start_time": "2024-04-27T09:04:16.917Z"
   },
   {
    "duration": 17,
    "start_time": "2024-04-27T09:04:16.931Z"
   },
   {
    "duration": 389,
    "start_time": "2024-04-27T09:04:16.950Z"
   },
   {
    "duration": 261,
    "start_time": "2024-04-27T09:04:17.344Z"
   },
   {
    "duration": 293,
    "start_time": "2024-04-27T09:04:17.608Z"
   },
   {
    "duration": 469,
    "start_time": "2024-04-27T09:04:17.903Z"
   },
   {
    "duration": 7,
    "start_time": "2024-04-27T09:04:18.373Z"
   },
   {
    "duration": 373,
    "start_time": "2024-04-27T09:04:18.381Z"
   },
   {
    "duration": 251,
    "start_time": "2024-04-27T09:04:18.755Z"
   },
   {
    "duration": 361,
    "start_time": "2024-04-27T09:04:19.008Z"
   },
   {
    "duration": 342,
    "start_time": "2024-04-27T09:04:19.371Z"
   },
   {
    "duration": 225,
    "start_time": "2024-04-27T09:04:19.715Z"
   },
   {
    "duration": 199,
    "start_time": "2024-04-27T09:04:19.942Z"
   },
   {
    "duration": 573,
    "start_time": "2024-04-27T09:04:20.143Z"
   },
   {
    "duration": 1185,
    "start_time": "2024-04-27T09:04:20.717Z"
   },
   {
    "duration": 356,
    "start_time": "2024-04-27T09:04:21.903Z"
   },
   {
    "duration": 19,
    "start_time": "2024-04-27T09:04:22.261Z"
   },
   {
    "duration": 9,
    "start_time": "2024-04-27T09:04:22.282Z"
   },
   {
    "duration": 8,
    "start_time": "2024-04-27T09:04:22.293Z"
   },
   {
    "duration": 24,
    "start_time": "2024-04-27T09:04:22.303Z"
   },
   {
    "duration": 8,
    "start_time": "2024-04-27T09:04:22.329Z"
   },
   {
    "duration": 6,
    "start_time": "2024-04-27T09:04:22.339Z"
   },
   {
    "duration": 18,
    "start_time": "2024-04-27T09:04:22.347Z"
   },
   {
    "duration": 6,
    "start_time": "2024-04-27T09:04:22.381Z"
   },
   {
    "duration": 25,
    "start_time": "2024-04-27T09:04:22.389Z"
   },
   {
    "duration": 6,
    "start_time": "2024-04-27T09:04:22.416Z"
   },
   {
    "duration": 41,
    "start_time": "2024-04-27T09:04:22.424Z"
   },
   {
    "duration": 11,
    "start_time": "2024-04-27T09:04:22.466Z"
   },
   {
    "duration": 24,
    "start_time": "2024-04-27T09:04:22.478Z"
   },
   {
    "duration": 8,
    "start_time": "2024-04-27T09:04:22.503Z"
   },
   {
    "duration": 8,
    "start_time": "2024-04-27T09:35:29.285Z"
   },
   {
    "duration": 8,
    "start_time": "2024-04-27T09:35:30.615Z"
   },
   {
    "duration": 7,
    "start_time": "2024-04-27T09:36:34.797Z"
   },
   {
    "duration": 6,
    "start_time": "2024-04-27T09:36:36.131Z"
   },
   {
    "duration": 6,
    "start_time": "2024-04-27T09:37:04.843Z"
   },
   {
    "duration": 7,
    "start_time": "2024-04-27T09:37:06.174Z"
   },
   {
    "duration": 9,
    "start_time": "2024-04-27T09:40:17.727Z"
   },
   {
    "duration": 7,
    "start_time": "2024-04-27T09:40:18.858Z"
   },
   {
    "duration": 5000,
    "start_time": "2024-04-27T10:02:09.578Z"
   },
   {
    "duration": 146,
    "start_time": "2024-04-27T10:02:14.580Z"
   },
   {
    "duration": 13,
    "start_time": "2024-04-27T10:02:14.727Z"
   },
   {
    "duration": 16,
    "start_time": "2024-04-27T10:02:14.742Z"
   },
   {
    "duration": 25,
    "start_time": "2024-04-27T10:02:14.759Z"
   },
   {
    "duration": 29,
    "start_time": "2024-04-27T10:02:14.785Z"
   },
   {
    "duration": 26,
    "start_time": "2024-04-27T10:02:14.815Z"
   },
   {
    "duration": 18,
    "start_time": "2024-04-27T10:02:14.843Z"
   },
   {
    "duration": 37,
    "start_time": "2024-04-27T10:02:14.862Z"
   },
   {
    "duration": 13,
    "start_time": "2024-04-27T10:02:14.903Z"
   },
   {
    "duration": 16,
    "start_time": "2024-04-27T10:02:14.917Z"
   },
   {
    "duration": 46,
    "start_time": "2024-04-27T10:02:14.935Z"
   },
   {
    "duration": 29,
    "start_time": "2024-04-27T10:02:14.983Z"
   },
   {
    "duration": 44,
    "start_time": "2024-04-27T10:02:15.013Z"
   },
   {
    "duration": 49,
    "start_time": "2024-04-27T10:02:15.060Z"
   },
   {
    "duration": 78,
    "start_time": "2024-04-27T10:02:15.113Z"
   },
   {
    "duration": 21,
    "start_time": "2024-04-27T10:02:15.192Z"
   },
   {
    "duration": 59,
    "start_time": "2024-04-27T10:02:15.214Z"
   },
   {
    "duration": 45,
    "start_time": "2024-04-27T10:02:15.275Z"
   },
   {
    "duration": 44,
    "start_time": "2024-04-27T10:02:15.322Z"
   },
   {
    "duration": 24,
    "start_time": "2024-04-27T10:02:15.368Z"
   },
   {
    "duration": 27,
    "start_time": "2024-04-27T10:02:15.393Z"
   },
   {
    "duration": 349,
    "start_time": "2024-04-27T10:02:15.422Z"
   },
   {
    "duration": 336,
    "start_time": "2024-04-27T10:02:15.772Z"
   },
   {
    "duration": 10,
    "start_time": "2024-04-27T10:02:16.110Z"
   },
   {
    "duration": 8,
    "start_time": "2024-04-27T10:02:16.122Z"
   },
   {
    "duration": 330,
    "start_time": "2024-04-27T10:02:16.131Z"
   },
   {
    "duration": 218,
    "start_time": "2024-04-27T10:02:16.464Z"
   },
   {
    "duration": 225,
    "start_time": "2024-04-27T10:02:16.684Z"
   },
   {
    "duration": 411,
    "start_time": "2024-04-27T10:02:16.910Z"
   },
   {
    "duration": 5,
    "start_time": "2024-04-27T10:02:17.323Z"
   },
   {
    "duration": 304,
    "start_time": "2024-04-27T10:02:17.330Z"
   },
   {
    "duration": 218,
    "start_time": "2024-04-27T10:02:17.636Z"
   },
   {
    "duration": 343,
    "start_time": "2024-04-27T10:02:17.856Z"
   },
   {
    "duration": 308,
    "start_time": "2024-04-27T10:02:18.201Z"
   },
   {
    "duration": 187,
    "start_time": "2024-04-27T10:02:18.511Z"
   },
   {
    "duration": 205,
    "start_time": "2024-04-27T10:02:18.699Z"
   },
   {
    "duration": 491,
    "start_time": "2024-04-27T10:02:18.906Z"
   },
   {
    "duration": 1001,
    "start_time": "2024-04-27T10:02:19.399Z"
   },
   {
    "duration": 363,
    "start_time": "2024-04-27T10:02:20.402Z"
   },
   {
    "duration": 8,
    "start_time": "2024-04-27T10:02:20.766Z"
   },
   {
    "duration": 13,
    "start_time": "2024-04-27T10:02:20.775Z"
   },
   {
    "duration": 21,
    "start_time": "2024-04-27T10:02:20.789Z"
   },
   {
    "duration": 21,
    "start_time": "2024-04-27T10:02:20.811Z"
   },
   {
    "duration": 19,
    "start_time": "2024-04-27T10:02:20.833Z"
   },
   {
    "duration": 8,
    "start_time": "2024-04-27T10:02:20.854Z"
   },
   {
    "duration": 24,
    "start_time": "2024-04-27T10:02:20.864Z"
   },
   {
    "duration": 5,
    "start_time": "2024-04-27T10:02:20.890Z"
   },
   {
    "duration": 35,
    "start_time": "2024-04-27T10:02:20.897Z"
   },
   {
    "duration": 5,
    "start_time": "2024-04-27T10:02:20.934Z"
   },
   {
    "duration": 32,
    "start_time": "2024-04-27T10:02:20.940Z"
   },
   {
    "duration": 9,
    "start_time": "2024-04-27T10:02:20.973Z"
   },
   {
    "duration": 37,
    "start_time": "2024-04-27T10:02:20.984Z"
   },
   {
    "duration": 5,
    "start_time": "2024-04-27T10:02:21.023Z"
   },
   {
    "duration": 6,
    "start_time": "2024-04-27T10:02:39.078Z"
   },
   {
    "duration": 7,
    "start_time": "2024-04-27T10:02:40.014Z"
   },
   {
    "duration": 7,
    "start_time": "2024-04-27T10:04:47.697Z"
   },
   {
    "duration": 7,
    "start_time": "2024-04-27T10:04:49.977Z"
   },
   {
    "duration": 7,
    "start_time": "2024-04-27T10:23:26.994Z"
   },
   {
    "duration": 6,
    "start_time": "2024-04-27T10:23:28.286Z"
   },
   {
    "duration": 8,
    "start_time": "2024-04-27T10:23:41.674Z"
   },
   {
    "duration": 7,
    "start_time": "2024-04-27T10:23:42.907Z"
   },
   {
    "duration": 7,
    "start_time": "2024-04-27T10:23:52.692Z"
   },
   {
    "duration": 6,
    "start_time": "2024-04-27T10:23:53.483Z"
   },
   {
    "duration": 5247,
    "start_time": "2024-04-28T18:33:22.722Z"
   },
   {
    "duration": 114,
    "start_time": "2024-04-28T18:33:27.971Z"
   },
   {
    "duration": 14,
    "start_time": "2024-04-28T18:33:28.087Z"
   },
   {
    "duration": 6,
    "start_time": "2024-04-28T18:33:28.103Z"
   },
   {
    "duration": 18,
    "start_time": "2024-04-28T18:33:28.112Z"
   },
   {
    "duration": 42,
    "start_time": "2024-04-28T18:33:28.132Z"
   },
   {
    "duration": 39,
    "start_time": "2024-04-28T18:33:28.176Z"
   },
   {
    "duration": 10,
    "start_time": "2024-04-28T18:33:28.217Z"
   },
   {
    "duration": 30,
    "start_time": "2024-04-28T18:33:28.228Z"
   },
   {
    "duration": 45,
    "start_time": "2024-04-28T18:33:28.260Z"
   },
   {
    "duration": 10,
    "start_time": "2024-04-28T18:33:28.307Z"
   },
   {
    "duration": 30,
    "start_time": "2024-04-28T18:33:28.318Z"
   },
   {
    "duration": 52,
    "start_time": "2024-04-28T18:33:28.350Z"
   },
   {
    "duration": 34,
    "start_time": "2024-04-28T18:33:28.406Z"
   },
   {
    "duration": 19,
    "start_time": "2024-04-28T18:33:28.442Z"
   },
   {
    "duration": 50,
    "start_time": "2024-04-28T18:33:28.462Z"
   },
   {
    "duration": 8,
    "start_time": "2024-04-28T18:33:28.514Z"
   },
   {
    "duration": 17,
    "start_time": "2024-04-28T18:33:28.523Z"
   },
   {
    "duration": 36,
    "start_time": "2024-04-28T18:33:28.542Z"
   },
   {
    "duration": 44,
    "start_time": "2024-04-28T18:33:28.580Z"
   },
   {
    "duration": 27,
    "start_time": "2024-04-28T18:33:28.626Z"
   },
   {
    "duration": 26,
    "start_time": "2024-04-28T18:33:28.654Z"
   },
   {
    "duration": 407,
    "start_time": "2024-04-28T18:33:28.682Z"
   },
   {
    "duration": 352,
    "start_time": "2024-04-28T18:33:29.092Z"
   },
   {
    "duration": 8,
    "start_time": "2024-04-28T18:33:29.446Z"
   },
   {
    "duration": 23,
    "start_time": "2024-04-28T18:33:29.455Z"
   },
   {
    "duration": 350,
    "start_time": "2024-04-28T18:33:29.479Z"
   },
   {
    "duration": 277,
    "start_time": "2024-04-28T18:33:29.831Z"
   },
   {
    "duration": 251,
    "start_time": "2024-04-28T18:33:30.110Z"
   },
   {
    "duration": 454,
    "start_time": "2024-04-28T18:33:30.363Z"
   },
   {
    "duration": 7,
    "start_time": "2024-04-28T18:33:30.819Z"
   },
   {
    "duration": 464,
    "start_time": "2024-04-28T18:33:30.827Z"
   },
   {
    "duration": 237,
    "start_time": "2024-04-28T18:33:31.295Z"
   },
   {
    "duration": 360,
    "start_time": "2024-04-28T18:33:31.534Z"
   },
   {
    "duration": 352,
    "start_time": "2024-04-28T18:33:31.896Z"
   },
   {
    "duration": 222,
    "start_time": "2024-04-28T18:33:32.250Z"
   },
   {
    "duration": 200,
    "start_time": "2024-04-28T18:33:32.475Z"
   },
   {
    "duration": 548,
    "start_time": "2024-04-28T18:33:32.677Z"
   },
   {
    "duration": 1129,
    "start_time": "2024-04-28T18:33:33.226Z"
   },
   {
    "duration": 365,
    "start_time": "2024-04-28T18:33:34.356Z"
   },
   {
    "duration": 8,
    "start_time": "2024-04-28T18:33:34.724Z"
   },
   {
    "duration": 15,
    "start_time": "2024-04-28T18:33:34.733Z"
   },
   {
    "duration": 6,
    "start_time": "2024-04-28T18:33:34.750Z"
   },
   {
    "duration": 39,
    "start_time": "2024-04-28T18:33:34.758Z"
   },
   {
    "duration": 7,
    "start_time": "2024-04-28T18:33:34.801Z"
   },
   {
    "duration": 9,
    "start_time": "2024-04-28T18:33:34.809Z"
   },
   {
    "duration": 28,
    "start_time": "2024-04-28T18:33:34.819Z"
   },
   {
    "duration": 5,
    "start_time": "2024-04-28T18:33:34.848Z"
   },
   {
    "duration": 23,
    "start_time": "2024-04-28T18:33:34.854Z"
   },
   {
    "duration": 7,
    "start_time": "2024-04-28T18:33:34.886Z"
   },
   {
    "duration": 24,
    "start_time": "2024-04-28T18:33:34.895Z"
   },
   {
    "duration": 5,
    "start_time": "2024-04-28T18:33:34.921Z"
   },
   {
    "duration": 16,
    "start_time": "2024-04-28T18:33:34.928Z"
   },
   {
    "duration": 5,
    "start_time": "2024-04-28T18:33:34.946Z"
   },
   {
    "duration": 7,
    "start_time": "2024-04-28T19:13:35.458Z"
   },
   {
    "duration": 6,
    "start_time": "2024-04-28T19:16:01.113Z"
   }
  ],
  "kernelspec": {
   "display_name": "Python 3 (ipykernel)",
   "language": "python",
   "name": "python3"
  },
  "language_info": {
   "codemirror_mode": {
    "name": "ipython",
    "version": 3
   },
   "file_extension": ".py",
   "mimetype": "text/x-python",
   "name": "python",
   "nbconvert_exporter": "python",
   "pygments_lexer": "ipython3",
   "version": "3.12.4"
  },
  "toc": {
   "base_numbering": 1,
   "nav_menu": {},
   "number_sections": true,
   "sideBar": true,
   "skip_h1_title": true,
   "title_cell": "Table of Contents",
   "title_sidebar": "Contents",
   "toc_cell": false,
   "toc_position": {},
   "toc_section_display": true,
   "toc_window_display": false
  }
 },
 "nbformat": 4,
 "nbformat_minor": 4
}
