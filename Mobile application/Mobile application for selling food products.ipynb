{
 "cells": [
  {
   "cell_type": "markdown",
   "metadata": {},
   "source": [
    "# Мобильное приложение по продаже продуктов питания"
   ]
  },
  {
   "cell_type": "markdown",
   "metadata": {},
   "source": [
    "В рамках исследования нужно разобраться, как ведут себя пользователи мобильного приложения стартапа, который продаёт продукты питания. Необходимо:\n",
    "1. Изучить воронку продаж. Узнать, как пользователи доходят до покупки. Сколько пользователей доходит до покупки, а сколько — «застревает» на предыдущих шагах? На каких именно?\n",
    "\n",
    "2. Исследовать результаты A/A/B-эксперимента. Дизайнеры захотели поменять шрифты во всём приложении, а менеджеры испугались, что пользователям будет непривычно. Договорились принять решение по результатам A/A/B-теста. Пользователей разбили на 3 группы: 2 контрольные со старыми шрифтами и одна экспериментальная — с новыми. Нужно выяснить, какой шрифт лучше."
   ]
  },
  {
   "cell_type": "markdown",
   "metadata": {},
   "source": [
    "**Оглавление:**\n",
    "1. [Предобработка данных](#1)\n",
    "2. [Изучение и проверка данных](#2)\n",
    "3. [Изучение воронки событий](#3)\n",
    "4. [Изучение результатов A/A/B-эксперимента](#4)\n",
    "5. [Общий вывод](#5)"
   ]
  },
  {
   "cell_type": "markdown",
   "metadata": {},
   "source": [
    "<a id=\"1\"></a>\n",
    "##  Предобработка данных"
   ]
  },
  {
   "cell_type": "markdown",
   "metadata": {},
   "source": [
    "**1.1** Для начала загрузим все необходимые библиотеки. "
   ]
  },
  {
   "cell_type": "code",
   "execution_count": 1,
   "metadata": {},
   "outputs": [],
   "source": [
    "import pandas as pd\n",
    "import datetime as dt\n",
    "from matplotlib import pyplot as plt\n",
    "from scipy import stats as st\n",
    "import numpy as np\n",
    "import math as mth\n",
    "from plotly import graph_objects as go"
   ]
  },
  {
   "cell_type": "markdown",
   "metadata": {},
   "source": [
    "**1.2** Теперь загрузим данные и изучим общую информацию. "
   ]
  },
  {
   "cell_type": "code",
   "execution_count": 3,
   "metadata": {},
   "outputs": [
    {
     "data": {
      "text/html": [
       "<div>\n",
       "<style scoped>\n",
       "    .dataframe tbody tr th:only-of-type {\n",
       "        vertical-align: middle;\n",
       "    }\n",
       "\n",
       "    .dataframe tbody tr th {\n",
       "        vertical-align: top;\n",
       "    }\n",
       "\n",
       "    .dataframe thead th {\n",
       "        text-align: right;\n",
       "    }\n",
       "</style>\n",
       "<table border=\"1\" class=\"dataframe\">\n",
       "  <thead>\n",
       "    <tr style=\"text-align: right;\">\n",
       "      <th></th>\n",
       "      <th>EventName</th>\n",
       "      <th>DeviceIDHash</th>\n",
       "      <th>EventTimestamp</th>\n",
       "      <th>ExpId</th>\n",
       "    </tr>\n",
       "  </thead>\n",
       "  <tbody>\n",
       "    <tr>\n",
       "      <th>0</th>\n",
       "      <td>MainScreenAppear</td>\n",
       "      <td>4575588528974610257</td>\n",
       "      <td>1564029816</td>\n",
       "      <td>246</td>\n",
       "    </tr>\n",
       "    <tr>\n",
       "      <th>1</th>\n",
       "      <td>MainScreenAppear</td>\n",
       "      <td>7416695313311560658</td>\n",
       "      <td>1564053102</td>\n",
       "      <td>246</td>\n",
       "    </tr>\n",
       "    <tr>\n",
       "      <th>2</th>\n",
       "      <td>PaymentScreenSuccessful</td>\n",
       "      <td>3518123091307005509</td>\n",
       "      <td>1564054127</td>\n",
       "      <td>248</td>\n",
       "    </tr>\n",
       "    <tr>\n",
       "      <th>3</th>\n",
       "      <td>CartScreenAppear</td>\n",
       "      <td>3518123091307005509</td>\n",
       "      <td>1564054127</td>\n",
       "      <td>248</td>\n",
       "    </tr>\n",
       "    <tr>\n",
       "      <th>4</th>\n",
       "      <td>PaymentScreenSuccessful</td>\n",
       "      <td>6217807653094995999</td>\n",
       "      <td>1564055322</td>\n",
       "      <td>248</td>\n",
       "    </tr>\n",
       "    <tr>\n",
       "      <th>5</th>\n",
       "      <td>CartScreenAppear</td>\n",
       "      <td>6217807653094995999</td>\n",
       "      <td>1564055323</td>\n",
       "      <td>248</td>\n",
       "    </tr>\n",
       "    <tr>\n",
       "      <th>6</th>\n",
       "      <td>OffersScreenAppear</td>\n",
       "      <td>8351860793733343758</td>\n",
       "      <td>1564066242</td>\n",
       "      <td>246</td>\n",
       "    </tr>\n",
       "    <tr>\n",
       "      <th>7</th>\n",
       "      <td>MainScreenAppear</td>\n",
       "      <td>5682100281902512875</td>\n",
       "      <td>1564085677</td>\n",
       "      <td>246</td>\n",
       "    </tr>\n",
       "    <tr>\n",
       "      <th>8</th>\n",
       "      <td>MainScreenAppear</td>\n",
       "      <td>1850981295691852772</td>\n",
       "      <td>1564086702</td>\n",
       "      <td>247</td>\n",
       "    </tr>\n",
       "    <tr>\n",
       "      <th>9</th>\n",
       "      <td>MainScreenAppear</td>\n",
       "      <td>5407636962369102641</td>\n",
       "      <td>1564112112</td>\n",
       "      <td>246</td>\n",
       "    </tr>\n",
       "  </tbody>\n",
       "</table>\n",
       "</div>"
      ],
      "text/plain": [
       "                 EventName         DeviceIDHash  EventTimestamp  ExpId\n",
       "0         MainScreenAppear  4575588528974610257      1564029816    246\n",
       "1         MainScreenAppear  7416695313311560658      1564053102    246\n",
       "2  PaymentScreenSuccessful  3518123091307005509      1564054127    248\n",
       "3         CartScreenAppear  3518123091307005509      1564054127    248\n",
       "4  PaymentScreenSuccessful  6217807653094995999      1564055322    248\n",
       "5         CartScreenAppear  6217807653094995999      1564055323    248\n",
       "6       OffersScreenAppear  8351860793733343758      1564066242    246\n",
       "7         MainScreenAppear  5682100281902512875      1564085677    246\n",
       "8         MainScreenAppear  1850981295691852772      1564086702    247\n",
       "9         MainScreenAppear  5407636962369102641      1564112112    246"
      ]
     },
     "execution_count": 3,
     "metadata": {},
     "output_type": "execute_result"
    }
   ],
   "source": [
    "events = pd.read_csv('datasets/logs_exp.csv', sep='\\t')\n",
    "events.head(10)"
   ]
  },
  {
   "cell_type": "code",
   "execution_count": 4,
   "metadata": {},
   "outputs": [
    {
     "name": "stdout",
     "output_type": "stream",
     "text": [
      "<class 'pandas.core.frame.DataFrame'>\n",
      "RangeIndex: 244126 entries, 0 to 244125\n",
      "Data columns (total 4 columns):\n",
      " #   Column          Non-Null Count   Dtype \n",
      "---  ------          --------------   ----- \n",
      " 0   EventName       244126 non-null  object\n",
      " 1   DeviceIDHash    244126 non-null  int64 \n",
      " 2   EventTimestamp  244126 non-null  int64 \n",
      " 3   ExpId           244126 non-null  int64 \n",
      "dtypes: int64(3), object(1)\n",
      "memory usage: 7.5+ MB\n"
     ]
    }
   ],
   "source": [
    "events.info()"
   ]
  },
  {
   "cell_type": "markdown",
   "metadata": {},
   "source": [
    "**1.3** Датафрейм имеет 244 126 строк и 4 столбца:\n",
    "- `EventName` — название события;\n",
    "- `DeviceIDHash` — уникальный идентификатор пользователя;\n",
    "- `EventTimestamp` — время события;\n",
    "- `ExpId` — номер эксперимента: 246 и 247 — контрольные группы, а 248 — экспериментальная.\n",
    "\n",
    "Из данных сразу видно, что таблица не имеет пропусков. \n",
    "\n",
    "**1.4** Для начала переведём названия столбцов в предпочтительный вид. "
   ]
  },
  {
   "cell_type": "code",
   "execution_count": 5,
   "metadata": {},
   "outputs": [],
   "source": [
    "events.columns = ['event_name', 'device_id_hash', 'event_timestamp', 'exp_id']"
   ]
  },
  {
   "cell_type": "markdown",
   "metadata": {},
   "source": [
    "**1.5** Теперь проверим, есть ли в таблице явные дубликаты."
   ]
  },
  {
   "cell_type": "code",
   "execution_count": 7,
   "metadata": {},
   "outputs": [
    {
     "name": "stdout",
     "output_type": "stream",
     "text": [
      "413\n"
     ]
    }
   ],
   "source": [
    "print(events.duplicated().sum())"
   ]
  },
  {
   "cell_type": "markdown",
   "metadata": {},
   "source": [
    "**1.6** В таблице содержится 413 явных дубликатов. Учитывая содержание колонок (уникальные id события и пользователя, а также время события), можно сделать вывод, что это случайные дубликаты, от которых можно избавиться. К тому же они занимают очень маленькую часть от общих данных."
   ]
  },
  {
   "cell_type": "code",
   "execution_count": 8,
   "metadata": {},
   "outputs": [],
   "source": [
    "events = events.drop_duplicates().reset_index(drop=True)"
   ]
  },
  {
   "cell_type": "markdown",
   "metadata": {},
   "source": [
    "**1.7** Теперь создадим по столбцу `event_timestamp` столбец даты и времени, а также отдельный столбец дат."
   ]
  },
  {
   "cell_type": "code",
   "execution_count": 9,
   "metadata": {},
   "outputs": [],
   "source": [
    "events['event_datetime'] = pd.to_datetime(events['event_timestamp'], unit='s')\n",
    "events['event_date'] = pd.to_datetime(events['event_datetime'], format='%Y-%m-%d').dt.date"
   ]
  },
  {
   "cell_type": "code",
   "execution_count": 10,
   "metadata": {},
   "outputs": [
    {
     "data": {
      "text/html": [
       "<div>\n",
       "<style scoped>\n",
       "    .dataframe tbody tr th:only-of-type {\n",
       "        vertical-align: middle;\n",
       "    }\n",
       "\n",
       "    .dataframe tbody tr th {\n",
       "        vertical-align: top;\n",
       "    }\n",
       "\n",
       "    .dataframe thead th {\n",
       "        text-align: right;\n",
       "    }\n",
       "</style>\n",
       "<table border=\"1\" class=\"dataframe\">\n",
       "  <thead>\n",
       "    <tr style=\"text-align: right;\">\n",
       "      <th></th>\n",
       "      <th>event_name</th>\n",
       "      <th>device_id_hash</th>\n",
       "      <th>event_timestamp</th>\n",
       "      <th>exp_id</th>\n",
       "      <th>event_datetime</th>\n",
       "      <th>event_date</th>\n",
       "    </tr>\n",
       "  </thead>\n",
       "  <tbody>\n",
       "    <tr>\n",
       "      <th>0</th>\n",
       "      <td>MainScreenAppear</td>\n",
       "      <td>4575588528974610257</td>\n",
       "      <td>1564029816</td>\n",
       "      <td>246</td>\n",
       "      <td>2019-07-25 04:43:36</td>\n",
       "      <td>2019-07-25</td>\n",
       "    </tr>\n",
       "    <tr>\n",
       "      <th>1</th>\n",
       "      <td>MainScreenAppear</td>\n",
       "      <td>7416695313311560658</td>\n",
       "      <td>1564053102</td>\n",
       "      <td>246</td>\n",
       "      <td>2019-07-25 11:11:42</td>\n",
       "      <td>2019-07-25</td>\n",
       "    </tr>\n",
       "    <tr>\n",
       "      <th>2</th>\n",
       "      <td>PaymentScreenSuccessful</td>\n",
       "      <td>3518123091307005509</td>\n",
       "      <td>1564054127</td>\n",
       "      <td>248</td>\n",
       "      <td>2019-07-25 11:28:47</td>\n",
       "      <td>2019-07-25</td>\n",
       "    </tr>\n",
       "    <tr>\n",
       "      <th>3</th>\n",
       "      <td>CartScreenAppear</td>\n",
       "      <td>3518123091307005509</td>\n",
       "      <td>1564054127</td>\n",
       "      <td>248</td>\n",
       "      <td>2019-07-25 11:28:47</td>\n",
       "      <td>2019-07-25</td>\n",
       "    </tr>\n",
       "    <tr>\n",
       "      <th>4</th>\n",
       "      <td>PaymentScreenSuccessful</td>\n",
       "      <td>6217807653094995999</td>\n",
       "      <td>1564055322</td>\n",
       "      <td>248</td>\n",
       "      <td>2019-07-25 11:48:42</td>\n",
       "      <td>2019-07-25</td>\n",
       "    </tr>\n",
       "  </tbody>\n",
       "</table>\n",
       "</div>"
      ],
      "text/plain": [
       "                event_name       device_id_hash  event_timestamp  exp_id  \\\n",
       "0         MainScreenAppear  4575588528974610257       1564029816     246   \n",
       "1         MainScreenAppear  7416695313311560658       1564053102     246   \n",
       "2  PaymentScreenSuccessful  3518123091307005509       1564054127     248   \n",
       "3         CartScreenAppear  3518123091307005509       1564054127     248   \n",
       "4  PaymentScreenSuccessful  6217807653094995999       1564055322     248   \n",
       "\n",
       "       event_datetime  event_date  \n",
       "0 2019-07-25 04:43:36  2019-07-25  \n",
       "1 2019-07-25 11:11:42  2019-07-25  \n",
       "2 2019-07-25 11:28:47  2019-07-25  \n",
       "3 2019-07-25 11:28:47  2019-07-25  \n",
       "4 2019-07-25 11:48:42  2019-07-25  "
      ]
     },
     "execution_count": 10,
     "metadata": {},
     "output_type": "execute_result"
    }
   ],
   "source": [
    "events.head()"
   ]
  },
  {
   "cell_type": "code",
   "execution_count": 11,
   "metadata": {
    "scrolled": true
   },
   "outputs": [
    {
     "name": "stdout",
     "output_type": "stream",
     "text": [
      "<class 'pandas.core.frame.DataFrame'>\n",
      "RangeIndex: 243713 entries, 0 to 243712\n",
      "Data columns (total 6 columns):\n",
      " #   Column           Non-Null Count   Dtype         \n",
      "---  ------           --------------   -----         \n",
      " 0   event_name       243713 non-null  object        \n",
      " 1   device_id_hash   243713 non-null  int64         \n",
      " 2   event_timestamp  243713 non-null  int64         \n",
      " 3   exp_id           243713 non-null  int64         \n",
      " 4   event_datetime   243713 non-null  datetime64[ns]\n",
      " 5   event_date       243713 non-null  object        \n",
      "dtypes: datetime64[ns](1), int64(3), object(2)\n",
      "memory usage: 11.2+ MB\n"
     ]
    }
   ],
   "source": [
    "events.info()"
   ]
  },
  {
   "cell_type": "markdown",
   "metadata": {},
   "source": [
    "**1.8** Так как в процессе исследования нам нужно будет анализировать результаты A/A/B-теста, также необходимо проверить, чтобы пользователи всех 3 групп были уникальны. Для этого сгруппируем датафрейм по идентификатору пользователя и найдём кол-во уникальных групп для каждого клиента."
   ]
  },
  {
   "cell_type": "code",
   "execution_count": 12,
   "metadata": {},
   "outputs": [
    {
     "name": "stdout",
     "output_type": "stream",
     "text": [
      "Количество пользователей, находящихся в разных группах: 0\n"
     ]
    }
   ],
   "source": [
    "not_unique_users = events.groupby('device_id_hash')['exp_id'].nunique().reset_index().query('exp_id > 1').count()\n",
    "print('Количество пользователей, находящихся в разных группах:', not_unique_users['exp_id'])"
   ]
  },
  {
   "cell_type": "markdown",
   "metadata": {},
   "source": [
    "**1.9** Пользователи во всех группах уникальные. "
   ]
  },
  {
   "cell_type": "markdown",
   "metadata": {},
   "source": [
    "**Вывод по 1-му пункту:**\n",
    "\n",
    "После предобработки данных:\n",
    "- Было выявлено и удалено 413 дубликатов. \n",
    "- Были созданы необходимые для анализа столбцы с датами нужного типа.\n",
    "- Названия столбцов были переведены к привычному типу.\n",
    "- Было выявлено, что в таблице нет пропусков."
   ]
  },
  {
   "cell_type": "markdown",
   "metadata": {},
   "source": [
    "<a id=\"2\"></a>\n",
    "##  Изучение и проверка данных"
   ]
  },
  {
   "cell_type": "markdown",
   "metadata": {},
   "source": [
    "**2.1** Проверим, сколько всего событий в логе. Для этого сгруппируем данные по названию события и посчитаем количество логов в каждом из них."
   ]
  },
  {
   "cell_type": "code",
   "execution_count": 15,
   "metadata": {},
   "outputs": [
    {
     "name": "stdout",
     "output_type": "stream",
     "text": [
      "Всего событий в логе: 243713\n"
     ]
    },
    {
     "data": {
      "text/html": [
       "<div>\n",
       "<style scoped>\n",
       "    .dataframe tbody tr th:only-of-type {\n",
       "        vertical-align: middle;\n",
       "    }\n",
       "\n",
       "    .dataframe tbody tr th {\n",
       "        vertical-align: top;\n",
       "    }\n",
       "\n",
       "    .dataframe thead th {\n",
       "        text-align: right;\n",
       "    }\n",
       "</style>\n",
       "<table border=\"1\" class=\"dataframe\">\n",
       "  <thead>\n",
       "    <tr style=\"text-align: right;\">\n",
       "      <th></th>\n",
       "      <th>event_timestamp</th>\n",
       "    </tr>\n",
       "    <tr>\n",
       "      <th>event_name</th>\n",
       "      <th></th>\n",
       "    </tr>\n",
       "  </thead>\n",
       "  <tbody>\n",
       "    <tr>\n",
       "      <th>MainScreenAppear</th>\n",
       "      <td>119101</td>\n",
       "    </tr>\n",
       "    <tr>\n",
       "      <th>OffersScreenAppear</th>\n",
       "      <td>46808</td>\n",
       "    </tr>\n",
       "    <tr>\n",
       "      <th>CartScreenAppear</th>\n",
       "      <td>42668</td>\n",
       "    </tr>\n",
       "    <tr>\n",
       "      <th>PaymentScreenSuccessful</th>\n",
       "      <td>34118</td>\n",
       "    </tr>\n",
       "    <tr>\n",
       "      <th>Tutorial</th>\n",
       "      <td>1018</td>\n",
       "    </tr>\n",
       "  </tbody>\n",
       "</table>\n",
       "</div>"
      ],
      "text/plain": [
       "                         event_timestamp\n",
       "event_name                              \n",
       "MainScreenAppear                  119101\n",
       "OffersScreenAppear                 46808\n",
       "CartScreenAppear                   42668\n",
       "PaymentScreenSuccessful            34118\n",
       "Tutorial                            1018"
      ]
     },
     "execution_count": 15,
     "metadata": {},
     "output_type": "execute_result"
    }
   ],
   "source": [
    "print('Всего событий в логе:', events['event_timestamp'].count())\n",
    "events.groupby('event_name').agg({'event_timestamp':'count'}).sort_values(by='event_timestamp', ascending=False)"
   ]
  },
  {
   "cell_type": "markdown",
   "metadata": {},
   "source": [
    "**2.2** Мы видим, что всего в логе 243 713 событий, что соответствует кол-ву строк, и распределены они неравномерно. Так, например, событие `MainScreenAppear` совершили 119 101 пользователь, а событие `Tutorial` — всего 1 018 пользователей.\n",
    "\n",
    "**2.3** Теперь посмотрим, сколько всего уникальных пользователей в логе."
   ]
  },
  {
   "cell_type": "code",
   "execution_count": 16,
   "metadata": {},
   "outputs": [
    {
     "data": {
      "text/plain": [
       "7551"
      ]
     },
     "execution_count": 16,
     "metadata": {},
     "output_type": "execute_result"
    }
   ],
   "source": [
    "events['device_id_hash'].nunique()"
   ]
  },
  {
   "cell_type": "markdown",
   "metadata": {},
   "source": [
    "**2.4** Всего в логе 7 551 пользователь. \n",
    "\n",
    "**2.5** Проверим, сколько в среднем событий приходится на пользователя. Для начала нужно посмотреть, нет ли в данных выбросов. Найдём количество событий на каждого пользователя и применим метод `describe()`."
   ]
  },
  {
   "cell_type": "code",
   "execution_count": 17,
   "metadata": {},
   "outputs": [
    {
     "data": {
      "text/html": [
       "<div>\n",
       "<style scoped>\n",
       "    .dataframe tbody tr th:only-of-type {\n",
       "        vertical-align: middle;\n",
       "    }\n",
       "\n",
       "    .dataframe tbody tr th {\n",
       "        vertical-align: top;\n",
       "    }\n",
       "\n",
       "    .dataframe thead th {\n",
       "        text-align: right;\n",
       "    }\n",
       "</style>\n",
       "<table border=\"1\" class=\"dataframe\">\n",
       "  <thead>\n",
       "    <tr style=\"text-align: right;\">\n",
       "      <th></th>\n",
       "      <th>event_timestamp</th>\n",
       "    </tr>\n",
       "  </thead>\n",
       "  <tbody>\n",
       "    <tr>\n",
       "      <th>count</th>\n",
       "      <td>7551.000000</td>\n",
       "    </tr>\n",
       "    <tr>\n",
       "      <th>mean</th>\n",
       "      <td>32.275593</td>\n",
       "    </tr>\n",
       "    <tr>\n",
       "      <th>std</th>\n",
       "      <td>65.154219</td>\n",
       "    </tr>\n",
       "    <tr>\n",
       "      <th>min</th>\n",
       "      <td>1.000000</td>\n",
       "    </tr>\n",
       "    <tr>\n",
       "      <th>25%</th>\n",
       "      <td>9.000000</td>\n",
       "    </tr>\n",
       "    <tr>\n",
       "      <th>50%</th>\n",
       "      <td>20.000000</td>\n",
       "    </tr>\n",
       "    <tr>\n",
       "      <th>75%</th>\n",
       "      <td>37.000000</td>\n",
       "    </tr>\n",
       "    <tr>\n",
       "      <th>max</th>\n",
       "      <td>2307.000000</td>\n",
       "    </tr>\n",
       "  </tbody>\n",
       "</table>\n",
       "</div>"
      ],
      "text/plain": [
       "       event_timestamp\n",
       "count      7551.000000\n",
       "mean         32.275593\n",
       "std          65.154219\n",
       "min           1.000000\n",
       "25%           9.000000\n",
       "50%          20.000000\n",
       "75%          37.000000\n",
       "max        2307.000000"
      ]
     },
     "execution_count": 17,
     "metadata": {},
     "output_type": "execute_result"
    }
   ],
   "source": [
    "events.groupby('device_id_hash').agg({'event_timestamp':'count'}).describe()"
   ]
  },
  {
   "cell_type": "markdown",
   "metadata": {},
   "source": [
    "**2.6** Мы видим, что 75% пользователей совершало до 37 событий. При этом в данных явно есть аномальные значения: так, максимум на клиента приходилось 2 307 событий. Поэтому правильным будет взять не среднее значение событий на пользователя, а медиану. \n",
    "\n",
    "Таким образом, в среднем на пользователя за исследуемый период приходилось 20 событий. \n",
    "\n",
    "**2.7** Посмотрим, данными за какой период мы располагаем. "
   ]
  },
  {
   "cell_type": "code",
   "execution_count": 18,
   "metadata": {},
   "outputs": [
    {
     "name": "stdout",
     "output_type": "stream",
     "text": [
      "Минимальная дата: 2019-07-25\n",
      "Максимальная дата: 2019-08-07\n"
     ]
    }
   ],
   "source": [
    "print('Минимальная дата:', events['event_date'].min())\n",
    "print('Максимальная дата:', events['event_date'].max())"
   ]
  },
  {
   "cell_type": "markdown",
   "metadata": {},
   "source": [
    "**2.8** Итак, у нас есть данные за период с 25 июля по 7 августа 2019 года. Проверим, как меняется количество данных в зависимости от времени: построим столбчатую диаграмму, которая отобразит количество событий в зависимости от времени в разрезе групп.\n",
    "\n",
    "Для начала создадим сводную таблицу, где индексами выступят даты, а столбцами — группы эксперимента. "
   ]
  },
  {
   "cell_type": "code",
   "execution_count": 19,
   "metadata": {},
   "outputs": [
    {
     "data": {
      "text/html": [
       "<div>\n",
       "<style scoped>\n",
       "    .dataframe tbody tr th:only-of-type {\n",
       "        vertical-align: middle;\n",
       "    }\n",
       "\n",
       "    .dataframe tbody tr th {\n",
       "        vertical-align: top;\n",
       "    }\n",
       "\n",
       "    .dataframe thead th {\n",
       "        text-align: right;\n",
       "    }\n",
       "</style>\n",
       "<table border=\"1\" class=\"dataframe\">\n",
       "  <thead>\n",
       "    <tr style=\"text-align: right;\">\n",
       "      <th>exp_id</th>\n",
       "      <th>246</th>\n",
       "      <th>247</th>\n",
       "      <th>248</th>\n",
       "    </tr>\n",
       "    <tr>\n",
       "      <th>event_date</th>\n",
       "      <th></th>\n",
       "      <th></th>\n",
       "      <th></th>\n",
       "    </tr>\n",
       "  </thead>\n",
       "  <tbody>\n",
       "    <tr>\n",
       "      <th>2019-07-25</th>\n",
       "      <td>4</td>\n",
       "      <td>1</td>\n",
       "      <td>4</td>\n",
       "    </tr>\n",
       "    <tr>\n",
       "      <th>2019-07-26</th>\n",
       "      <td>14</td>\n",
       "      <td>8</td>\n",
       "      <td>9</td>\n",
       "    </tr>\n",
       "    <tr>\n",
       "      <th>2019-07-27</th>\n",
       "      <td>24</td>\n",
       "      <td>23</td>\n",
       "      <td>8</td>\n",
       "    </tr>\n",
       "    <tr>\n",
       "      <th>2019-07-28</th>\n",
       "      <td>33</td>\n",
       "      <td>36</td>\n",
       "      <td>36</td>\n",
       "    </tr>\n",
       "    <tr>\n",
       "      <th>2019-07-29</th>\n",
       "      <td>55</td>\n",
       "      <td>58</td>\n",
       "      <td>71</td>\n",
       "    </tr>\n",
       "    <tr>\n",
       "      <th>2019-07-30</th>\n",
       "      <td>129</td>\n",
       "      <td>138</td>\n",
       "      <td>145</td>\n",
       "    </tr>\n",
       "    <tr>\n",
       "      <th>2019-07-31</th>\n",
       "      <td>620</td>\n",
       "      <td>664</td>\n",
       "      <td>746</td>\n",
       "    </tr>\n",
       "    <tr>\n",
       "      <th>2019-08-01</th>\n",
       "      <td>11561</td>\n",
       "      <td>12306</td>\n",
       "      <td>12274</td>\n",
       "    </tr>\n",
       "    <tr>\n",
       "      <th>2019-08-02</th>\n",
       "      <td>10946</td>\n",
       "      <td>10990</td>\n",
       "      <td>13618</td>\n",
       "    </tr>\n",
       "    <tr>\n",
       "      <th>2019-08-03</th>\n",
       "      <td>10575</td>\n",
       "      <td>11024</td>\n",
       "      <td>11683</td>\n",
       "    </tr>\n",
       "    <tr>\n",
       "      <th>2019-08-04</th>\n",
       "      <td>11514</td>\n",
       "      <td>9942</td>\n",
       "      <td>11512</td>\n",
       "    </tr>\n",
       "    <tr>\n",
       "      <th>2019-08-05</th>\n",
       "      <td>12368</td>\n",
       "      <td>10949</td>\n",
       "      <td>12741</td>\n",
       "    </tr>\n",
       "    <tr>\n",
       "      <th>2019-08-06</th>\n",
       "      <td>11726</td>\n",
       "      <td>11720</td>\n",
       "      <td>12342</td>\n",
       "    </tr>\n",
       "    <tr>\n",
       "      <th>2019-08-07</th>\n",
       "      <td>10612</td>\n",
       "      <td>10091</td>\n",
       "      <td>10393</td>\n",
       "    </tr>\n",
       "  </tbody>\n",
       "</table>\n",
       "</div>"
      ],
      "text/plain": [
       "exp_id        246    247    248\n",
       "event_date                     \n",
       "2019-07-25      4      1      4\n",
       "2019-07-26     14      8      9\n",
       "2019-07-27     24     23      8\n",
       "2019-07-28     33     36     36\n",
       "2019-07-29     55     58     71\n",
       "2019-07-30    129    138    145\n",
       "2019-07-31    620    664    746\n",
       "2019-08-01  11561  12306  12274\n",
       "2019-08-02  10946  10990  13618\n",
       "2019-08-03  10575  11024  11683\n",
       "2019-08-04  11514   9942  11512\n",
       "2019-08-05  12368  10949  12741\n",
       "2019-08-06  11726  11720  12342\n",
       "2019-08-07  10612  10091  10393"
      ]
     },
     "execution_count": 19,
     "metadata": {},
     "output_type": "execute_result"
    }
   ],
   "source": [
    "pivot_event_count = events.pivot_table(index='event_date', columns='exp_id', values='event_name', aggfunc='count')\n",
    "pivot_event_count"
   ]
  },
  {
   "cell_type": "markdown",
   "metadata": {},
   "source": [
    "**2.9** Теперь построим график. "
   ]
  },
  {
   "cell_type": "code",
   "execution_count": 20,
   "metadata": {},
   "outputs": [
    {
     "data": {
      "image/png": "[encoded data removed]",
      "text/plain": [
       "<Figure size 1600x700 with 1 Axes>"
      ]
     },
     "metadata": {},
     "output_type": "display_data"
    }
   ],
   "source": [
    "colors = {246: 'plum', 247: 'skyblue', 248: 'peachpuff'}\n",
    "\n",
    "pivot_event_count.plot(kind='bar', figsize=(16,7), color = colors)\n",
    "plt.title('Количество событий в зависимости от времени в разрезе групп')\n",
    "plt.xlabel('Год')\n",
    "plt.ylabel('Количество событий')\n",
    "plt.legend()\n",
    "plt.show()"
   ]
  },
  {
   "cell_type": "markdown",
   "metadata": {},
   "source": [
    "**2.10** Мы видим, что основная часть данных находится в периоде с 1 по 7 августа 2019 года. По сравнению с этим периодом данные за июль выглядят неполными. Проверим, сколько всего данных представлено за июль, и сравним этот показатель с первым днём августа, чтобы понять, какой процент от всего лишь одного дня августа занимают данные за июль."
   ]
  },
  {
   "cell_type": "code",
   "execution_count": 21,
   "metadata": {},
   "outputs": [
    {
     "name": "stdout",
     "output_type": "stream",
     "text": [
      "Количество логов с 25 по 31 июля: 2826\n"
     ]
    }
   ],
   "source": [
    "events_july = events[(events['event_date'].astype(str) <= '2019-07-31')]\n",
    "print('Количество логов с 25 по 31 июля:', events_july['event_date'].count())"
   ]
  },
  {
   "cell_type": "code",
   "execution_count": 22,
   "metadata": {},
   "outputs": [
    {
     "name": "stdout",
     "output_type": "stream",
     "text": [
      "Количество логов за 1 августа: 36141\n"
     ]
    }
   ],
   "source": [
    "events_august = events[(events['event_date'].astype(str) == '2019-08-01')]\n",
    "print('Количество логов за 1 августа:', events_august['event_date'].count())"
   ]
  },
  {
   "cell_type": "code",
   "execution_count": 23,
   "metadata": {},
   "outputs": [
    {
     "name": "stdout",
     "output_type": "stream",
     "text": [
      "Доля данных за последнюю неделю июля по отношению к 1 августа: 7.82%\n"
     ]
    }
   ],
   "source": [
    "print('Доля данных за последнюю неделю июля по отношению к 1 августа:', \n",
    "      \"{0:.2%}\".format(events_july['event_date'].count() / events_august['event_date'].count()))"
   ]
  },
  {
   "cell_type": "markdown",
   "metadata": {},
   "source": [
    "**2.11** За последнюю неделю июля собрано всего 2 826, и это 7,82% от первого дня августа (нужно учитывать, что в каждый день августа собрано намного больше данных, чем за весь исследуемый июльский период). Значит, можно сделать вывод, что данные за июль неполные. Следовательно, их можно отбросить, оставив данные только за период с 1 по 7 августа. "
   ]
  },
  {
   "cell_type": "code",
   "execution_count": 24,
   "metadata": {},
   "outputs": [
    {
     "data": {
      "text/html": [
       "<div>\n",
       "<style scoped>\n",
       "    .dataframe tbody tr th:only-of-type {\n",
       "        vertical-align: middle;\n",
       "    }\n",
       "\n",
       "    .dataframe tbody tr th {\n",
       "        vertical-align: top;\n",
       "    }\n",
       "\n",
       "    .dataframe thead th {\n",
       "        text-align: right;\n",
       "    }\n",
       "</style>\n",
       "<table border=\"1\" class=\"dataframe\">\n",
       "  <thead>\n",
       "    <tr style=\"text-align: right;\">\n",
       "      <th></th>\n",
       "      <th>event_name</th>\n",
       "      <th>device_id_hash</th>\n",
       "      <th>event_timestamp</th>\n",
       "      <th>exp_id</th>\n",
       "      <th>event_datetime</th>\n",
       "      <th>event_date</th>\n",
       "    </tr>\n",
       "  </thead>\n",
       "  <tbody>\n",
       "    <tr>\n",
       "      <th>2826</th>\n",
       "      <td>Tutorial</td>\n",
       "      <td>3737462046622621720</td>\n",
       "      <td>1564618048</td>\n",
       "      <td>246</td>\n",
       "      <td>2019-08-01 00:07:28</td>\n",
       "      <td>2019-08-01</td>\n",
       "    </tr>\n",
       "    <tr>\n",
       "      <th>2827</th>\n",
       "      <td>MainScreenAppear</td>\n",
       "      <td>3737462046622621720</td>\n",
       "      <td>1564618080</td>\n",
       "      <td>246</td>\n",
       "      <td>2019-08-01 00:08:00</td>\n",
       "      <td>2019-08-01</td>\n",
       "    </tr>\n",
       "    <tr>\n",
       "      <th>2828</th>\n",
       "      <td>MainScreenAppear</td>\n",
       "      <td>3737462046622621720</td>\n",
       "      <td>1564618135</td>\n",
       "      <td>246</td>\n",
       "      <td>2019-08-01 00:08:55</td>\n",
       "      <td>2019-08-01</td>\n",
       "    </tr>\n",
       "    <tr>\n",
       "      <th>2829</th>\n",
       "      <td>OffersScreenAppear</td>\n",
       "      <td>3737462046622621720</td>\n",
       "      <td>1564618138</td>\n",
       "      <td>246</td>\n",
       "      <td>2019-08-01 00:08:58</td>\n",
       "      <td>2019-08-01</td>\n",
       "    </tr>\n",
       "    <tr>\n",
       "      <th>2830</th>\n",
       "      <td>MainScreenAppear</td>\n",
       "      <td>1433840883824088890</td>\n",
       "      <td>1564618139</td>\n",
       "      <td>247</td>\n",
       "      <td>2019-08-01 00:08:59</td>\n",
       "      <td>2019-08-01</td>\n",
       "    </tr>\n",
       "  </tbody>\n",
       "</table>\n",
       "</div>"
      ],
      "text/plain": [
       "              event_name       device_id_hash  event_timestamp  exp_id  \\\n",
       "2826            Tutorial  3737462046622621720       1564618048     246   \n",
       "2827    MainScreenAppear  3737462046622621720       1564618080     246   \n",
       "2828    MainScreenAppear  3737462046622621720       1564618135     246   \n",
       "2829  OffersScreenAppear  3737462046622621720       1564618138     246   \n",
       "2830    MainScreenAppear  1433840883824088890       1564618139     247   \n",
       "\n",
       "          event_datetime  event_date  \n",
       "2826 2019-08-01 00:07:28  2019-08-01  \n",
       "2827 2019-08-01 00:08:00  2019-08-01  \n",
       "2828 2019-08-01 00:08:55  2019-08-01  \n",
       "2829 2019-08-01 00:08:58  2019-08-01  \n",
       "2830 2019-08-01 00:08:59  2019-08-01  "
      ]
     },
     "execution_count": 24,
     "metadata": {},
     "output_type": "execute_result"
    }
   ],
   "source": [
    "actual_events = events[(events['event_date'].astype(str) > '2019-07-31')]\n",
    "actual_events.head()"
   ]
  },
  {
   "cell_type": "markdown",
   "metadata": {},
   "source": [
    "**2.12** Проверим, правильно ли мы отфильтровали датафрейм."
   ]
  },
  {
   "cell_type": "code",
   "execution_count": 25,
   "metadata": {},
   "outputs": [
    {
     "name": "stdout",
     "output_type": "stream",
     "text": [
      "Минимальная дата: 2019-08-01\n",
      "Максимальная дата: 2019-08-07\n"
     ]
    }
   ],
   "source": [
    "print('Минимальная дата:', actual_events['event_date'].min())\n",
    "print('Максимальная дата:', actual_events['event_date'].max())"
   ]
  },
  {
   "cell_type": "markdown",
   "metadata": {},
   "source": [
    "**2.13** Проверим, много ли событий и пользователей мы потеряли, отбросив старые данные."
   ]
  },
  {
   "cell_type": "code",
   "execution_count": 26,
   "metadata": {
    "scrolled": true
   },
   "outputs": [
    {
     "name": "stdout",
     "output_type": "stream",
     "text": [
      "Количество потерянных событий: 2826\n",
      "Доля потерянных событий: 1.16%\n",
      "Количество потерянных пользователей: 17\n",
      "Доля потерянных пользователей: 0.23%\n"
     ]
    }
   ],
   "source": [
    "print('Количество потерянных событий:', events['event_timestamp'].count() - actual_events['event_timestamp'].count())\n",
    "\n",
    "print('Доля потерянных событий:', \n",
    "      \"{0:.2%}\".format(1 - actual_events['event_timestamp'].count() / events['event_timestamp'].count()))\n",
    "\n",
    "print('Количество потерянных пользователей:', events['device_id_hash'].nunique() - actual_events['device_id_hash'].nunique())\n",
    "\n",
    "print('Доля потерянных пользователей:', \n",
    "      \"{0:.2%}\".format(1 - actual_events['device_id_hash'].nunique() / events['device_id_hash'].nunique()))\n"
   ]
  },
  {
   "cell_type": "markdown",
   "metadata": {},
   "source": [
    "**2.14** При срезе таблицы мы потеряли 2 826 событий из 243 713 (1.16%) и всего лишь 17 пользователей (0.23%). Это незначительные данные. \n",
    "\n",
    "**2.15** Теперь проверим, что у нас в очищенных данных есть пользователи из всех трёх экспериментальных групп."
   ]
  },
  {
   "cell_type": "code",
   "execution_count": 27,
   "metadata": {},
   "outputs": [
    {
     "data": {
      "text/html": [
       "<div>\n",
       "<style scoped>\n",
       "    .dataframe tbody tr th:only-of-type {\n",
       "        vertical-align: middle;\n",
       "    }\n",
       "\n",
       "    .dataframe tbody tr th {\n",
       "        vertical-align: top;\n",
       "    }\n",
       "\n",
       "    .dataframe thead th {\n",
       "        text-align: right;\n",
       "    }\n",
       "</style>\n",
       "<table border=\"1\" class=\"dataframe\">\n",
       "  <thead>\n",
       "    <tr style=\"text-align: right;\">\n",
       "      <th></th>\n",
       "      <th>device_id_hash</th>\n",
       "    </tr>\n",
       "    <tr>\n",
       "      <th>exp_id</th>\n",
       "      <th></th>\n",
       "    </tr>\n",
       "  </thead>\n",
       "  <tbody>\n",
       "    <tr>\n",
       "      <th>246</th>\n",
       "      <td>2484</td>\n",
       "    </tr>\n",
       "    <tr>\n",
       "      <th>247</th>\n",
       "      <td>2513</td>\n",
       "    </tr>\n",
       "    <tr>\n",
       "      <th>248</th>\n",
       "      <td>2537</td>\n",
       "    </tr>\n",
       "  </tbody>\n",
       "</table>\n",
       "</div>"
      ],
      "text/plain": [
       "        device_id_hash\n",
       "exp_id                \n",
       "246               2484\n",
       "247               2513\n",
       "248               2537"
      ]
     },
     "execution_count": 27,
     "metadata": {},
     "output_type": "execute_result"
    }
   ],
   "source": [
    "actual_events.groupby('exp_id').agg({'device_id_hash':'nunique'})"
   ]
  },
  {
   "cell_type": "markdown",
   "metadata": {},
   "source": [
    "**2.16** Пользователи остались во всех трёх группах, при этом распределены они достаточно равномерно."
   ]
  },
  {
   "cell_type": "markdown",
   "metadata": {},
   "source": [
    "**Выводы на 2-му пункту:**\n",
    "\n",
    "В рамках изучения и проверки данных была проведена следующая работа:\n",
    "- Выявлено, что в исходном датафрейме есть данные о 243 713 событиях и 7 551 пользователях. При этом количество событий по каждому из типу распределено неравномерно. \n",
    "- Опредено, что в среднем на пользователя приходится 20 событий.\n",
    "- Изучено, что изначально мы располагаем данными за период с 25 июля по 7 августа. В связи с неполными данными за конец июля, было принято решение оставить только записи за период с 1 по 7 августа.\n",
    "- Проверено, что в ходе среза данных мы потеряли записи о 2 826 событиях (1.16%) и всего лишь о 17 пользователях (0.23%), что является незначительным.\n",
    "- Проверено, что в очищенных данных остались пользователи из всех трёх экспериментальных групп, которые распределены достаточно равномерно. "
   ]
  },
  {
   "cell_type": "markdown",
   "metadata": {},
   "source": [
    "<a id=\"3\"></a>\n",
    "##  Изучение воронки событий"
   ]
  },
  {
   "cell_type": "markdown",
   "metadata": {},
   "source": [
    "**3.1** Посмотрим, какие события есть в логах и как часто они встречаются."
   ]
  },
  {
   "cell_type": "code",
   "execution_count": 28,
   "metadata": {
    "scrolled": true
   },
   "outputs": [
    {
     "data": {
      "text/html": [
       "<div>\n",
       "<style scoped>\n",
       "    .dataframe tbody tr th:only-of-type {\n",
       "        vertical-align: middle;\n",
       "    }\n",
       "\n",
       "    .dataframe tbody tr th {\n",
       "        vertical-align: top;\n",
       "    }\n",
       "\n",
       "    .dataframe thead th {\n",
       "        text-align: right;\n",
       "    }\n",
       "</style>\n",
       "<table border=\"1\" class=\"dataframe\">\n",
       "  <thead>\n",
       "    <tr style=\"text-align: right;\">\n",
       "      <th></th>\n",
       "      <th>event_timestamp</th>\n",
       "    </tr>\n",
       "    <tr>\n",
       "      <th>event_name</th>\n",
       "      <th></th>\n",
       "    </tr>\n",
       "  </thead>\n",
       "  <tbody>\n",
       "    <tr>\n",
       "      <th>MainScreenAppear</th>\n",
       "      <td>117328</td>\n",
       "    </tr>\n",
       "    <tr>\n",
       "      <th>OffersScreenAppear</th>\n",
       "      <td>46333</td>\n",
       "    </tr>\n",
       "    <tr>\n",
       "      <th>CartScreenAppear</th>\n",
       "      <td>42303</td>\n",
       "    </tr>\n",
       "    <tr>\n",
       "      <th>PaymentScreenSuccessful</th>\n",
       "      <td>33918</td>\n",
       "    </tr>\n",
       "    <tr>\n",
       "      <th>Tutorial</th>\n",
       "      <td>1005</td>\n",
       "    </tr>\n",
       "  </tbody>\n",
       "</table>\n",
       "</div>"
      ],
      "text/plain": [
       "                         event_timestamp\n",
       "event_name                              \n",
       "MainScreenAppear                  117328\n",
       "OffersScreenAppear                 46333\n",
       "CartScreenAppear                   42303\n",
       "PaymentScreenSuccessful            33918\n",
       "Tutorial                            1005"
      ]
     },
     "execution_count": 28,
     "metadata": {},
     "output_type": "execute_result"
    }
   ],
   "source": [
    "actual_events.groupby('event_name').agg({'event_timestamp': 'count'}).sort_values(by='event_timestamp', ascending=False)"
   ]
  },
  {
   "cell_type": "markdown",
   "metadata": {},
   "source": [
    "**3.2** В логе содержатся всего 5 типов событий:\n",
    "- `MainScreenAppear` — переход пользователя на главный экран. \n",
    "- `OffersScreenAppear` — переход пользователя в раздел товаров. \n",
    "- `CartScreenAppear` — переход пользователя в корзину. \n",
    "- `PaymentScreenSuccessful` — успешная оплата товаров пользователем. \n",
    "- `Tutorial` — просмотр пользователем руководства по использованию приложения. \n",
    "\n",
    "Первые 4 события, по логике, следуют один за другим: сначала пользователь попадает на главный экран, затем переходит в раздел с товарами, затем попадает в корзину, после чего оплачивает заказ. Последовательность событий подтвержает и их количество: обычно чем дальше шаг, тем меньше на него переходят.\n",
    "\n",
    "Событие `Tutorial` вызывает сомнения. Скорее всего, это доп. раздел, в который пользователь может перейти для ознакомления с функциями приложения. В данном случае этим разделом воспользовались всего 1 005 пользователей за первую неделю августа. "
   ]
  },
  {
   "cell_type": "markdown",
   "metadata": {},
   "source": [
    "**3.3** Посчитаем, сколько пользователей совершали каждое из этих событий, а также их долю от общего количества пользователей. Отсортируем события по числу пользователей."
   ]
  },
  {
   "cell_type": "code",
   "execution_count": 29,
   "metadata": {},
   "outputs": [
    {
     "data": {
      "text/html": [
       "<div>\n",
       "<style scoped>\n",
       "    .dataframe tbody tr th:only-of-type {\n",
       "        vertical-align: middle;\n",
       "    }\n",
       "\n",
       "    .dataframe tbody tr th {\n",
       "        vertical-align: top;\n",
       "    }\n",
       "\n",
       "    .dataframe thead th {\n",
       "        text-align: right;\n",
       "    }\n",
       "</style>\n",
       "<table border=\"1\" class=\"dataframe\">\n",
       "  <thead>\n",
       "    <tr style=\"text-align: right;\">\n",
       "      <th></th>\n",
       "      <th>count_user</th>\n",
       "      <th>share_of_all</th>\n",
       "    </tr>\n",
       "    <tr>\n",
       "      <th>event_name</th>\n",
       "      <th></th>\n",
       "      <th></th>\n",
       "    </tr>\n",
       "  </thead>\n",
       "  <tbody>\n",
       "    <tr>\n",
       "      <th>MainScreenAppear</th>\n",
       "      <td>7419</td>\n",
       "      <td>98.47%</td>\n",
       "    </tr>\n",
       "    <tr>\n",
       "      <th>OffersScreenAppear</th>\n",
       "      <td>4593</td>\n",
       "      <td>60.96%</td>\n",
       "    </tr>\n",
       "    <tr>\n",
       "      <th>CartScreenAppear</th>\n",
       "      <td>3734</td>\n",
       "      <td>49.56%</td>\n",
       "    </tr>\n",
       "    <tr>\n",
       "      <th>PaymentScreenSuccessful</th>\n",
       "      <td>3539</td>\n",
       "      <td>46.97%</td>\n",
       "    </tr>\n",
       "    <tr>\n",
       "      <th>Tutorial</th>\n",
       "      <td>840</td>\n",
       "      <td>11.15%</td>\n",
       "    </tr>\n",
       "  </tbody>\n",
       "</table>\n",
       "</div>"
      ],
      "text/plain": [
       "                         count_user share_of_all\n",
       "event_name                                      \n",
       "MainScreenAppear               7419       98.47%\n",
       "OffersScreenAppear             4593       60.96%\n",
       "CartScreenAppear               3734       49.56%\n",
       "PaymentScreenSuccessful        3539       46.97%\n",
       "Tutorial                        840       11.15%"
      ]
     },
     "execution_count": 29,
     "metadata": {},
     "output_type": "execute_result"
    }
   ],
   "source": [
    "users_in_event = actual_events.groupby('event_name').agg({'device_id_hash': 'nunique'})\\\n",
    "                                                    .sort_values(by='device_id_hash', ascending=False)\n",
    "users_in_event = users_in_event.rename(columns={'device_id_hash':'count_user'})\n",
    "users_in_event['share_of_all'] = (100. * (users_in_event['count_user'] / actual_events['device_id_hash'].nunique()))\\\n",
    "                                                    .round(2).astype(str) + '%'\n",
    "users_in_event"
   ]
  },
  {
   "cell_type": "markdown",
   "metadata": {},
   "source": [
    "**3.4** Перешли на главную страницу 98,5% от всех пользователей. Возможно, 1.5% \"потерялись\" в данных, которые мы отбросили, или клиенты начали с `Tutorial` (если эту страницу можно вызвать до перехода на главный экран) и после отказались переходить на главную страницу. \n",
    "В раздел с товарами перешёл только 61% от всех пользователей, в козрину перешло 50%, а оплатили заказ 47% пользователей. Исходя из цифр и логики, последовательность шагов выстроена именно в том порядке, в каком она указана в сводной таблице. В таком порядке мы и будем строить воронку. \n",
    "\n",
    "Событие `Tutorial` видится как опциональное, так как его совершило лишь 11% от всех пользователей. Так что его мы не будем учитывать при расчёте воронки. \n",
    "\n",
    "**3.5** Построим для воронки сводную таблицу без `Tutorial`. "
   ]
  },
  {
   "cell_type": "code",
   "execution_count": 30,
   "metadata": {},
   "outputs": [
    {
     "data": {
      "text/html": [
       "<div>\n",
       "<style scoped>\n",
       "    .dataframe tbody tr th:only-of-type {\n",
       "        vertical-align: middle;\n",
       "    }\n",
       "\n",
       "    .dataframe tbody tr th {\n",
       "        vertical-align: top;\n",
       "    }\n",
       "\n",
       "    .dataframe thead th {\n",
       "        text-align: right;\n",
       "    }\n",
       "</style>\n",
       "<table border=\"1\" class=\"dataframe\">\n",
       "  <thead>\n",
       "    <tr style=\"text-align: right;\">\n",
       "      <th></th>\n",
       "      <th>count_user</th>\n",
       "      <th>share_of_all</th>\n",
       "    </tr>\n",
       "    <tr>\n",
       "      <th>event_name</th>\n",
       "      <th></th>\n",
       "      <th></th>\n",
       "    </tr>\n",
       "  </thead>\n",
       "  <tbody>\n",
       "    <tr>\n",
       "      <th>MainScreenAppear</th>\n",
       "      <td>7419</td>\n",
       "      <td>98.47%</td>\n",
       "    </tr>\n",
       "    <tr>\n",
       "      <th>OffersScreenAppear</th>\n",
       "      <td>4593</td>\n",
       "      <td>60.96%</td>\n",
       "    </tr>\n",
       "    <tr>\n",
       "      <th>CartScreenAppear</th>\n",
       "      <td>3734</td>\n",
       "      <td>49.56%</td>\n",
       "    </tr>\n",
       "    <tr>\n",
       "      <th>PaymentScreenSuccessful</th>\n",
       "      <td>3539</td>\n",
       "      <td>46.97%</td>\n",
       "    </tr>\n",
       "  </tbody>\n",
       "</table>\n",
       "</div>"
      ],
      "text/plain": [
       "                         count_user share_of_all\n",
       "event_name                                      \n",
       "MainScreenAppear               7419       98.47%\n",
       "OffersScreenAppear             4593       60.96%\n",
       "CartScreenAppear               3734       49.56%\n",
       "PaymentScreenSuccessful        3539       46.97%"
      ]
     },
     "execution_count": 30,
     "metadata": {},
     "output_type": "execute_result"
    }
   ],
   "source": [
    "users_in_event.drop(labels = 'Tutorial', axis = 0, inplace = True)\n",
    "users_in_event"
   ]
  },
  {
   "cell_type": "markdown",
   "metadata": {},
   "source": [
    "**3.6** Теперь рассчитаем конверсию пользователей из одного шага в другой."
   ]
  },
  {
   "cell_type": "code",
   "execution_count": 31,
   "metadata": {},
   "outputs": [
    {
     "data": {
      "text/html": [
       "<div>\n",
       "<style scoped>\n",
       "    .dataframe tbody tr th:only-of-type {\n",
       "        vertical-align: middle;\n",
       "    }\n",
       "\n",
       "    .dataframe tbody tr th {\n",
       "        vertical-align: top;\n",
       "    }\n",
       "\n",
       "    .dataframe thead th {\n",
       "        text-align: right;\n",
       "    }\n",
       "</style>\n",
       "<table border=\"1\" class=\"dataframe\">\n",
       "  <thead>\n",
       "    <tr style=\"text-align: right;\">\n",
       "      <th></th>\n",
       "      <th>count_user</th>\n",
       "      <th>share_of_all</th>\n",
       "      <th>conversion</th>\n",
       "    </tr>\n",
       "    <tr>\n",
       "      <th>event_name</th>\n",
       "      <th></th>\n",
       "      <th></th>\n",
       "      <th></th>\n",
       "    </tr>\n",
       "  </thead>\n",
       "  <tbody>\n",
       "    <tr>\n",
       "      <th>MainScreenAppear</th>\n",
       "      <td>7419</td>\n",
       "      <td>98.47%</td>\n",
       "      <td>nan%</td>\n",
       "    </tr>\n",
       "    <tr>\n",
       "      <th>OffersScreenAppear</th>\n",
       "      <td>4593</td>\n",
       "      <td>60.96%</td>\n",
       "      <td>61.91%</td>\n",
       "    </tr>\n",
       "    <tr>\n",
       "      <th>CartScreenAppear</th>\n",
       "      <td>3734</td>\n",
       "      <td>49.56%</td>\n",
       "      <td>81.3%</td>\n",
       "    </tr>\n",
       "    <tr>\n",
       "      <th>PaymentScreenSuccessful</th>\n",
       "      <td>3539</td>\n",
       "      <td>46.97%</td>\n",
       "      <td>94.78%</td>\n",
       "    </tr>\n",
       "  </tbody>\n",
       "</table>\n",
       "</div>"
      ],
      "text/plain": [
       "                         count_user share_of_all conversion\n",
       "event_name                                                 \n",
       "MainScreenAppear               7419       98.47%       nan%\n",
       "OffersScreenAppear             4593       60.96%     61.91%\n",
       "CartScreenAppear               3734       49.56%      81.3%\n",
       "PaymentScreenSuccessful        3539       46.97%     94.78%"
      ]
     },
     "execution_count": 31,
     "metadata": {},
     "output_type": "execute_result"
    }
   ],
   "source": [
    "users_in_event['conversion'] = users_in_event['count_user'] / users_in_event['count_user'].shift(1)\n",
    "users_in_event['conversion'] = (100. * users_in_event['conversion']).round(2).astype(str) + '%'\n",
    "users_in_event"
   ]
  },
  {
   "cell_type": "markdown",
   "metadata": {},
   "source": [
    "**3.7** Также для наглядности визуализируем данные."
   ]
  },
  {
   "cell_type": "code",
   "execution_count": 34,
   "metadata": {},
   "outputs": [
    {
     "data": {
      "application/vnd.plotly.v1+json": {
       "config": {
        "plotlyServerURL": "https://plot.ly"
       },
       "data": [
        {
         "labels": [
          "MainScreenAppear",
          "OffersScreenAppear",
          "CartScreenAppear",
          "PaymentScreenSuccessful"
         ],
         "textinfo": "value",
         "title": {
          "text": "Конверсия пользователей из одного события в другое"
         },
         "type": "funnelarea",
         "values": [
          7419,
          4593,
          3734,
          3539
         ]
        }
       ],
       "layout": {
        "template": {
         "data": {
          "bar": [
           {
            "error_x": {
             "color": "#2a3f5f"
            },
            "error_y": {
             "color": "#2a3f5f"
            },
            "marker": {
             "line": {
              "color": "#E5ECF6",
              "width": 0.5
             },
             "pattern": {
              "fillmode": "overlay",
              "size": 10,
              "solidity": 0.2
             }
            },
            "type": "bar"
           }
          ],
          "barpolar": [
           {
            "marker": {
             "line": {
              "color": "#E5ECF6",
              "width": 0.5
             },
             "pattern": {
              "fillmode": "overlay",
              "size": 10,
              "solidity": 0.2
             }
            },
            "type": "barpolar"
           }
          ],
          "carpet": [
           {
            "aaxis": {
             "endlinecolor": "#2a3f5f",
             "gridcolor": "white",
             "linecolor": "white",
             "minorgridcolor": "white",
             "startlinecolor": "#2a3f5f"
            },
            "baxis": {
             "endlinecolor": "#2a3f5f",
             "gridcolor": "white",
             "linecolor": "white",
             "minorgridcolor": "white",
             "startlinecolor": "#2a3f5f"
            },
            "type": "carpet"
           }
          ],
          "choropleth": [
           {
            "colorbar": {
             "outlinewidth": 0,
             "ticks": ""
            },
            "type": "choropleth"
           }
          ],
          "contour": [
           {
            "colorbar": {
             "outlinewidth": 0,
             "ticks": ""
            },
            "colorscale": [
             [
              0,
              "#0d0887"
             ],
             [
              0.1111111111111111,
              "#46039f"
             ],
             [
              0.2222222222222222,
              "#7201a8"
             ],
             [
              0.3333333333333333,
              "#9c179e"
             ],
             [
              0.4444444444444444,
              "#bd3786"
             ],
             [
              0.5555555555555556,
              "#d8576b"
             ],
             [
              0.6666666666666666,
              "#ed7953"
             ],
             [
              0.7777777777777778,
              "#fb9f3a"
             ],
             [
              0.8888888888888888,
              "#fdca26"
             ],
             [
              1,
              "#f0f921"
             ]
            ],
            "type": "contour"
           }
          ],
          "contourcarpet": [
           {
            "colorbar": {
             "outlinewidth": 0,
             "ticks": ""
            },
            "type": "contourcarpet"
           }
          ],
          "heatmap": [
           {
            "colorbar": {
             "outlinewidth": 0,
             "ticks": ""
            },
            "colorscale": [
             [
              0,
              "#0d0887"
             ],
             [
              0.1111111111111111,
              "#46039f"
             ],
             [
              0.2222222222222222,
              "#7201a8"
             ],
             [
              0.3333333333333333,
              "#9c179e"
             ],
             [
              0.4444444444444444,
              "#bd3786"
             ],
             [
              0.5555555555555556,
              "#d8576b"
             ],
             [
              0.6666666666666666,
              "#ed7953"
             ],
             [
              0.7777777777777778,
              "#fb9f3a"
             ],
             [
              0.8888888888888888,
              "#fdca26"
             ],
             [
              1,
              "#f0f921"
             ]
            ],
            "type": "heatmap"
           }
          ],
          "heatmapgl": [
           {
            "colorbar": {
             "outlinewidth": 0,
             "ticks": ""
            },
            "colorscale": [
             [
              0,
              "#0d0887"
             ],
             [
              0.1111111111111111,
              "#46039f"
             ],
             [
              0.2222222222222222,
              "#7201a8"
             ],
             [
              0.3333333333333333,
              "#9c179e"
             ],
             [
              0.4444444444444444,
              "#bd3786"
             ],
             [
              0.5555555555555556,
              "#d8576b"
             ],
             [
              0.6666666666666666,
              "#ed7953"
             ],
             [
              0.7777777777777778,
              "#fb9f3a"
             ],
             [
              0.8888888888888888,
              "#fdca26"
             ],
             [
              1,
              "#f0f921"
             ]
            ],
            "type": "heatmapgl"
           }
          ],
          "histogram": [
           {
            "marker": {
             "pattern": {
              "fillmode": "overlay",
              "size": 10,
              "solidity": 0.2
             }
            },
            "type": "histogram"
           }
          ],
          "histogram2d": [
           {
            "colorbar": {
             "outlinewidth": 0,
             "ticks": ""
            },
            "colorscale": [
             [
              0,
              "#0d0887"
             ],
             [
              0.1111111111111111,
              "#46039f"
             ],
             [
              0.2222222222222222,
              "#7201a8"
             ],
             [
              0.3333333333333333,
              "#9c179e"
             ],
             [
              0.4444444444444444,
              "#bd3786"
             ],
             [
              0.5555555555555556,
              "#d8576b"
             ],
             [
              0.6666666666666666,
              "#ed7953"
             ],
             [
              0.7777777777777778,
              "#fb9f3a"
             ],
             [
              0.8888888888888888,
              "#fdca26"
             ],
             [
              1,
              "#f0f921"
             ]
            ],
            "type": "histogram2d"
           }
          ],
          "histogram2dcontour": [
           {
            "colorbar": {
             "outlinewidth": 0,
             "ticks": ""
            },
            "colorscale": [
             [
              0,
              "#0d0887"
             ],
             [
              0.1111111111111111,
              "#46039f"
             ],
             [
              0.2222222222222222,
              "#7201a8"
             ],
             [
              0.3333333333333333,
              "#9c179e"
             ],
             [
              0.4444444444444444,
              "#bd3786"
             ],
             [
              0.5555555555555556,
              "#d8576b"
             ],
             [
              0.6666666666666666,
              "#ed7953"
             ],
             [
              0.7777777777777778,
              "#fb9f3a"
             ],
             [
              0.8888888888888888,
              "#fdca26"
             ],
             [
              1,
              "#f0f921"
             ]
            ],
            "type": "histogram2dcontour"
           }
          ],
          "mesh3d": [
           {
            "colorbar": {
             "outlinewidth": 0,
             "ticks": ""
            },
            "type": "mesh3d"
           }
          ],
          "parcoords": [
           {
            "line": {
             "colorbar": {
              "outlinewidth": 0,
              "ticks": ""
             }
            },
            "type": "parcoords"
           }
          ],
          "pie": [
           {
            "automargin": true,
            "type": "pie"
           }
          ],
          "scatter": [
           {
            "fillpattern": {
             "fillmode": "overlay",
             "size": 10,
             "solidity": 0.2
            },
            "type": "scatter"
           }
          ],
          "scatter3d": [
           {
            "line": {
             "colorbar": {
              "outlinewidth": 0,
              "ticks": ""
             }
            },
            "marker": {
             "colorbar": {
              "outlinewidth": 0,
              "ticks": ""
             }
            },
            "type": "scatter3d"
           }
          ],
          "scattercarpet": [
           {
            "marker": {
             "colorbar": {
              "outlinewidth": 0,
              "ticks": ""
             }
            },
            "type": "scattercarpet"
           }
          ],
          "scattergeo": [
           {
            "marker": {
             "colorbar": {
              "outlinewidth": 0,
              "ticks": ""
             }
            },
            "type": "scattergeo"
           }
          ],
          "scattergl": [
           {
            "marker": {
             "colorbar": {
              "outlinewidth": 0,
              "ticks": ""
             }
            },
            "type": "scattergl"
           }
          ],
          "scattermapbox": [
           {
            "marker": {
             "colorbar": {
              "outlinewidth": 0,
              "ticks": ""
             }
            },
            "type": "scattermapbox"
           }
          ],
          "scatterpolar": [
           {
            "marker": {
             "colorbar": {
              "outlinewidth": 0,
              "ticks": ""
             }
            },
            "type": "scatterpolar"
           }
          ],
          "scatterpolargl": [
           {
            "marker": {
             "colorbar": {
              "outlinewidth": 0,
              "ticks": ""
             }
            },
            "type": "scatterpolargl"
           }
          ],
          "scatterternary": [
           {
            "marker": {
             "colorbar": {
              "outlinewidth": 0,
              "ticks": ""
             }
            },
            "type": "scatterternary"
           }
          ],
          "surface": [
           {
            "colorbar": {
             "outlinewidth": 0,
             "ticks": ""
            },
            "colorscale": [
             [
              0,
              "#0d0887"
             ],
             [
              0.1111111111111111,
              "#46039f"
             ],
             [
              0.2222222222222222,
              "#7201a8"
             ],
             [
              0.3333333333333333,
              "#9c179e"
             ],
             [
              0.4444444444444444,
              "#bd3786"
             ],
             [
              0.5555555555555556,
              "#d8576b"
             ],
             [
              0.6666666666666666,
              "#ed7953"
             ],
             [
              0.7777777777777778,
              "#fb9f3a"
             ],
             [
              0.8888888888888888,
              "#fdca26"
             ],
             [
              1,
              "#f0f921"
             ]
            ],
            "type": "surface"
           }
          ],
          "table": [
           {
            "cells": {
             "fill": {
              "color": "#EBF0F8"
             },
             "line": {
              "color": "white"
             }
            },
            "header": {
             "fill": {
              "color": "#C8D4E3"
             },
             "line": {
              "color": "white"
             }
            },
            "type": "table"
           }
          ]
         },
         "layout": {
          "annotationdefaults": {
           "arrowcolor": "#2a3f5f",
           "arrowhead": 0,
           "arrowwidth": 1
          },
          "autotypenumbers": "strict",
          "coloraxis": {
           "colorbar": {
            "outlinewidth": 0,
            "ticks": ""
           }
          },
          "colorscale": {
           "diverging": [
            [
             0,
             "#8e0152"
            ],
            [
             0.1,
             "#c51b7d"
            ],
            [
             0.2,
             "#de77ae"
            ],
            [
             0.3,
             "#f1b6da"
            ],
            [
             0.4,
             "#fde0ef"
            ],
            [
             0.5,
             "#f7f7f7"
            ],
            [
             0.6,
             "#e6f5d0"
            ],
            [
             0.7,
             "#b8e186"
            ],
            [
             0.8,
             "#7fbc41"
            ],
            [
             0.9,
             "#4d9221"
            ],
            [
             1,
             "#276419"
            ]
           ],
           "sequential": [
            [
             0,
             "#0d0887"
            ],
            [
             0.1111111111111111,
             "#46039f"
            ],
            [
             0.2222222222222222,
             "#7201a8"
            ],
            [
             0.3333333333333333,
             "#9c179e"
            ],
            [
             0.4444444444444444,
             "#bd3786"
            ],
            [
             0.5555555555555556,
             "#d8576b"
            ],
            [
             0.6666666666666666,
             "#ed7953"
            ],
            [
             0.7777777777777778,
             "#fb9f3a"
            ],
            [
             0.8888888888888888,
             "#fdca26"
            ],
            [
             1,
             "#f0f921"
            ]
           ],
           "sequentialminus": [
            [
             0,
             "#0d0887"
            ],
            [
             0.1111111111111111,
             "#46039f"
            ],
            [
             0.2222222222222222,
             "#7201a8"
            ],
            [
             0.3333333333333333,
             "#9c179e"
            ],
            [
             0.4444444444444444,
             "#bd3786"
            ],
            [
             0.5555555555555556,
             "#d8576b"
            ],
            [
             0.6666666666666666,
             "#ed7953"
            ],
            [
             0.7777777777777778,
             "#fb9f3a"
            ],
            [
             0.8888888888888888,
             "#fdca26"
            ],
            [
             1,
             "#f0f921"
            ]
           ]
          },
          "colorway": [
           "#636efa",
           "#EF553B",
           "#00cc96",
           "#ab63fa",
           "#FFA15A",
           "#19d3f3",
           "#FF6692",
           "#B6E880",
           "#FF97FF",
           "#FECB52"
          ],
          "font": {
           "color": "#2a3f5f"
          },
          "geo": {
           "bgcolor": "white",
           "lakecolor": "white",
           "landcolor": "#E5ECF6",
           "showlakes": true,
           "showland": true,
           "subunitcolor": "white"
          },
          "hoverlabel": {
           "align": "left"
          },
          "hovermode": "closest",
          "mapbox": {
           "style": "light"
          },
          "paper_bgcolor": "white",
          "plot_bgcolor": "#E5ECF6",
          "polar": {
           "angularaxis": {
            "gridcolor": "white",
            "linecolor": "white",
            "ticks": ""
           },
           "bgcolor": "#E5ECF6",
           "radialaxis": {
            "gridcolor": "white",
            "linecolor": "white",
            "ticks": ""
           }
          },
          "scene": {
           "xaxis": {
            "backgroundcolor": "#E5ECF6",
            "gridcolor": "white",
            "gridwidth": 2,
            "linecolor": "white",
            "showbackground": true,
            "ticks": "",
            "zerolinecolor": "white"
           },
           "yaxis": {
            "backgroundcolor": "#E5ECF6",
            "gridcolor": "white",
            "gridwidth": 2,
            "linecolor": "white",
            "showbackground": true,
            "ticks": "",
            "zerolinecolor": "white"
           },
           "zaxis": {
            "backgroundcolor": "#E5ECF6",
            "gridcolor": "white",
            "gridwidth": 2,
            "linecolor": "white",
            "showbackground": true,
            "ticks": "",
            "zerolinecolor": "white"
           }
          },
          "shapedefaults": {
           "line": {
            "color": "#2a3f5f"
           }
          },
          "ternary": {
           "aaxis": {
            "gridcolor": "white",
            "linecolor": "white",
            "ticks": ""
           },
           "baxis": {
            "gridcolor": "white",
            "linecolor": "white",
            "ticks": ""
           },
           "bgcolor": "#E5ECF6",
           "caxis": {
            "gridcolor": "white",
            "linecolor": "white",
            "ticks": ""
           }
          },
          "title": {
           "x": 0.05
          },
          "xaxis": {
           "automargin": true,
           "gridcolor": "white",
           "linecolor": "white",
           "ticks": "",
           "title": {
            "standoff": 15
           },
           "zerolinecolor": "white",
           "zerolinewidth": 2
          },
          "yaxis": {
           "automargin": true,
           "gridcolor": "white",
           "linecolor": "white",
           "ticks": "",
           "title": {
            "standoff": 15
           },
           "zerolinecolor": "white",
           "zerolinewidth": 2
          }
         }
        }
       }
      },
      "text/html": [
       "<div>                            <div id=\"02d26b54-2a41-4a0c-8acc-c7262f903286\" class=\"plotly-graph-div\" style=\"height:525px; width:100%;\"></div>            <script type=\"text/javascript\">                require([\"plotly\"], function(Plotly) {                    window.PLOTLYENV=window.PLOTLYENV || {};                                    if (document.getElementById(\"02d26b54-2a41-4a0c-8acc-c7262f903286\")) {                    Plotly.newPlot(                        \"02d26b54-2a41-4a0c-8acc-c7262f903286\",                        [{\"labels\":[\"MainScreenAppear\",\"OffersScreenAppear\",\"CartScreenAppear\",\"PaymentScreenSuccessful\"],\"textinfo\":\"value\",\"title\":{\"text\":\"\\u041a\\u043e\\u043d\\u0432\\u0435\\u0440\\u0441\\u0438\\u044f \\u043f\\u043e\\u043b\\u044c\\u0437\\u043e\\u0432\\u0430\\u0442\\u0435\\u043b\\u0435\\u0439 \\u0438\\u0437 \\u043e\\u0434\\u043d\\u043e\\u0433\\u043e \\u0441\\u043e\\u0431\\u044b\\u0442\\u0438\\u044f \\u0432 \\u0434\\u0440\\u0443\\u0433\\u043e\\u0435\"},\"values\":[7419,4593,3734,3539],\"type\":\"funnelarea\"}],                        {\"template\":{\"data\":{\"histogram2dcontour\":[{\"type\":\"histogram2dcontour\",\"colorbar\":{\"outlinewidth\":0,\"ticks\":\"\"},\"colorscale\":[[0.0,\"#0d0887\"],[0.1111111111111111,\"#46039f\"],[0.2222222222222222,\"#7201a8\"],[0.3333333333333333,\"#9c179e\"],[0.4444444444444444,\"#bd3786\"],[0.5555555555555556,\"#d8576b\"],[0.6666666666666666,\"#ed7953\"],[0.7777777777777778,\"#fb9f3a\"],[0.8888888888888888,\"#fdca26\"],[1.0,\"#f0f921\"]]}],\"choropleth\":[{\"type\":\"choropleth\",\"colorbar\":{\"outlinewidth\":0,\"ticks\":\"\"}}],\"histogram2d\":[{\"type\":\"histogram2d\",\"colorbar\":{\"outlinewidth\":0,\"ticks\":\"\"},\"colorscale\":[[0.0,\"#0d0887\"],[0.1111111111111111,\"#46039f\"],[0.2222222222222222,\"#7201a8\"],[0.3333333333333333,\"#9c179e\"],[0.4444444444444444,\"#bd3786\"],[0.5555555555555556,\"#d8576b\"],[0.6666666666666666,\"#ed7953\"],[0.7777777777777778,\"#fb9f3a\"],[0.8888888888888888,\"#fdca26\"],[1.0,\"#f0f921\"]]}],\"heatmap\":[{\"type\":\"heatmap\",\"colorbar\":{\"outlinewidth\":0,\"ticks\":\"\"},\"colorscale\":[[0.0,\"#0d0887\"],[0.1111111111111111,\"#46039f\"],[0.2222222222222222,\"#7201a8\"],[0.3333333333333333,\"#9c179e\"],[0.4444444444444444,\"#bd3786\"],[0.5555555555555556,\"#d8576b\"],[0.6666666666666666,\"#ed7953\"],[0.7777777777777778,\"#fb9f3a\"],[0.8888888888888888,\"#fdca26\"],[1.0,\"#f0f921\"]]}],\"heatmapgl\":[{\"type\":\"heatmapgl\",\"colorbar\":{\"outlinewidth\":0,\"ticks\":\"\"},\"colorscale\":[[0.0,\"#0d0887\"],[0.1111111111111111,\"#46039f\"],[0.2222222222222222,\"#7201a8\"],[0.3333333333333333,\"#9c179e\"],[0.4444444444444444,\"#bd3786\"],[0.5555555555555556,\"#d8576b\"],[0.6666666666666666,\"#ed7953\"],[0.7777777777777778,\"#fb9f3a\"],[0.8888888888888888,\"#fdca26\"],[1.0,\"#f0f921\"]]}],\"contourcarpet\":[{\"type\":\"contourcarpet\",\"colorbar\":{\"outlinewidth\":0,\"ticks\":\"\"}}],\"contour\":[{\"type\":\"contour\",\"colorbar\":{\"outlinewidth\":0,\"ticks\":\"\"},\"colorscale\":[[0.0,\"#0d0887\"],[0.1111111111111111,\"#46039f\"],[0.2222222222222222,\"#7201a8\"],[0.3333333333333333,\"#9c179e\"],[0.4444444444444444,\"#bd3786\"],[0.5555555555555556,\"#d8576b\"],[0.6666666666666666,\"#ed7953\"],[0.7777777777777778,\"#fb9f3a\"],[0.8888888888888888,\"#fdca26\"],[1.0,\"#f0f921\"]]}],\"surface\":[{\"type\":\"surface\",\"colorbar\":{\"outlinewidth\":0,\"ticks\":\"\"},\"colorscale\":[[0.0,\"#0d0887\"],[0.1111111111111111,\"#46039f\"],[0.2222222222222222,\"#7201a8\"],[0.3333333333333333,\"#9c179e\"],[0.4444444444444444,\"#bd3786\"],[0.5555555555555556,\"#d8576b\"],[0.6666666666666666,\"#ed7953\"],[0.7777777777777778,\"#fb9f3a\"],[0.8888888888888888,\"#fdca26\"],[1.0,\"#f0f921\"]]}],\"mesh3d\":[{\"type\":\"mesh3d\",\"colorbar\":{\"outlinewidth\":0,\"ticks\":\"\"}}],\"scatter\":[{\"fillpattern\":{\"fillmode\":\"overlay\",\"size\":10,\"solidity\":0.2},\"type\":\"scatter\"}],\"parcoords\":[{\"type\":\"parcoords\",\"line\":{\"colorbar\":{\"outlinewidth\":0,\"ticks\":\"\"}}}],\"scatterpolargl\":[{\"type\":\"scatterpolargl\",\"marker\":{\"colorbar\":{\"outlinewidth\":0,\"ticks\":\"\"}}}],\"bar\":[{\"error_x\":{\"color\":\"#2a3f5f\"},\"error_y\":{\"color\":\"#2a3f5f\"},\"marker\":{\"line\":{\"color\":\"#E5ECF6\",\"width\":0.5},\"pattern\":{\"fillmode\":\"overlay\",\"size\":10,\"solidity\":0.2}},\"type\":\"bar\"}],\"scattergeo\":[{\"type\":\"scattergeo\",\"marker\":{\"colorbar\":{\"outlinewidth\":0,\"ticks\":\"\"}}}],\"scatterpolar\":[{\"type\":\"scatterpolar\",\"marker\":{\"colorbar\":{\"outlinewidth\":0,\"ticks\":\"\"}}}],\"histogram\":[{\"marker\":{\"pattern\":{\"fillmode\":\"overlay\",\"size\":10,\"solidity\":0.2}},\"type\":\"histogram\"}],\"scattergl\":[{\"type\":\"scattergl\",\"marker\":{\"colorbar\":{\"outlinewidth\":0,\"ticks\":\"\"}}}],\"scatter3d\":[{\"type\":\"scatter3d\",\"line\":{\"colorbar\":{\"outlinewidth\":0,\"ticks\":\"\"}},\"marker\":{\"colorbar\":{\"outlinewidth\":0,\"ticks\":\"\"}}}],\"scattermapbox\":[{\"type\":\"scattermapbox\",\"marker\":{\"colorbar\":{\"outlinewidth\":0,\"ticks\":\"\"}}}],\"scatterternary\":[{\"type\":\"scatterternary\",\"marker\":{\"colorbar\":{\"outlinewidth\":0,\"ticks\":\"\"}}}],\"scattercarpet\":[{\"type\":\"scattercarpet\",\"marker\":{\"colorbar\":{\"outlinewidth\":0,\"ticks\":\"\"}}}],\"carpet\":[{\"aaxis\":{\"endlinecolor\":\"#2a3f5f\",\"gridcolor\":\"white\",\"linecolor\":\"white\",\"minorgridcolor\":\"white\",\"startlinecolor\":\"#2a3f5f\"},\"baxis\":{\"endlinecolor\":\"#2a3f5f\",\"gridcolor\":\"white\",\"linecolor\":\"white\",\"minorgridcolor\":\"white\",\"startlinecolor\":\"#2a3f5f\"},\"type\":\"carpet\"}],\"table\":[{\"cells\":{\"fill\":{\"color\":\"#EBF0F8\"},\"line\":{\"color\":\"white\"}},\"header\":{\"fill\":{\"color\":\"#C8D4E3\"},\"line\":{\"color\":\"white\"}},\"type\":\"table\"}],\"barpolar\":[{\"marker\":{\"line\":{\"color\":\"#E5ECF6\",\"width\":0.5},\"pattern\":{\"fillmode\":\"overlay\",\"size\":10,\"solidity\":0.2}},\"type\":\"barpolar\"}],\"pie\":[{\"automargin\":true,\"type\":\"pie\"}]},\"layout\":{\"autotypenumbers\":\"strict\",\"colorway\":[\"#636efa\",\"#EF553B\",\"#00cc96\",\"#ab63fa\",\"#FFA15A\",\"#19d3f3\",\"#FF6692\",\"#B6E880\",\"#FF97FF\",\"#FECB52\"],\"font\":{\"color\":\"#2a3f5f\"},\"hovermode\":\"closest\",\"hoverlabel\":{\"align\":\"left\"},\"paper_bgcolor\":\"white\",\"plot_bgcolor\":\"#E5ECF6\",\"polar\":{\"bgcolor\":\"#E5ECF6\",\"angularaxis\":{\"gridcolor\":\"white\",\"linecolor\":\"white\",\"ticks\":\"\"},\"radialaxis\":{\"gridcolor\":\"white\",\"linecolor\":\"white\",\"ticks\":\"\"}},\"ternary\":{\"bgcolor\":\"#E5ECF6\",\"aaxis\":{\"gridcolor\":\"white\",\"linecolor\":\"white\",\"ticks\":\"\"},\"baxis\":{\"gridcolor\":\"white\",\"linecolor\":\"white\",\"ticks\":\"\"},\"caxis\":{\"gridcolor\":\"white\",\"linecolor\":\"white\",\"ticks\":\"\"}},\"coloraxis\":{\"colorbar\":{\"outlinewidth\":0,\"ticks\":\"\"}},\"colorscale\":{\"sequential\":[[0.0,\"#0d0887\"],[0.1111111111111111,\"#46039f\"],[0.2222222222222222,\"#7201a8\"],[0.3333333333333333,\"#9c179e\"],[0.4444444444444444,\"#bd3786\"],[0.5555555555555556,\"#d8576b\"],[0.6666666666666666,\"#ed7953\"],[0.7777777777777778,\"#fb9f3a\"],[0.8888888888888888,\"#fdca26\"],[1.0,\"#f0f921\"]],\"sequentialminus\":[[0.0,\"#0d0887\"],[0.1111111111111111,\"#46039f\"],[0.2222222222222222,\"#7201a8\"],[0.3333333333333333,\"#9c179e\"],[0.4444444444444444,\"#bd3786\"],[0.5555555555555556,\"#d8576b\"],[0.6666666666666666,\"#ed7953\"],[0.7777777777777778,\"#fb9f3a\"],[0.8888888888888888,\"#fdca26\"],[1.0,\"#f0f921\"]],\"diverging\":[[0,\"#8e0152\"],[0.1,\"#c51b7d\"],[0.2,\"#de77ae\"],[0.3,\"#f1b6da\"],[0.4,\"#fde0ef\"],[0.5,\"#f7f7f7\"],[0.6,\"#e6f5d0\"],[0.7,\"#b8e186\"],[0.8,\"#7fbc41\"],[0.9,\"#4d9221\"],[1,\"#276419\"]]},\"xaxis\":{\"gridcolor\":\"white\",\"linecolor\":\"white\",\"ticks\":\"\",\"title\":{\"standoff\":15},\"zerolinecolor\":\"white\",\"automargin\":true,\"zerolinewidth\":2},\"yaxis\":{\"gridcolor\":\"white\",\"linecolor\":\"white\",\"ticks\":\"\",\"title\":{\"standoff\":15},\"zerolinecolor\":\"white\",\"automargin\":true,\"zerolinewidth\":2},\"scene\":{\"xaxis\":{\"backgroundcolor\":\"#E5ECF6\",\"gridcolor\":\"white\",\"linecolor\":\"white\",\"showbackground\":true,\"ticks\":\"\",\"zerolinecolor\":\"white\",\"gridwidth\":2},\"yaxis\":{\"backgroundcolor\":\"#E5ECF6\",\"gridcolor\":\"white\",\"linecolor\":\"white\",\"showbackground\":true,\"ticks\":\"\",\"zerolinecolor\":\"white\",\"gridwidth\":2},\"zaxis\":{\"backgroundcolor\":\"#E5ECF6\",\"gridcolor\":\"white\",\"linecolor\":\"white\",\"showbackground\":true,\"ticks\":\"\",\"zerolinecolor\":\"white\",\"gridwidth\":2}},\"shapedefaults\":{\"line\":{\"color\":\"#2a3f5f\"}},\"annotationdefaults\":{\"arrowcolor\":\"#2a3f5f\",\"arrowhead\":0,\"arrowwidth\":1},\"geo\":{\"bgcolor\":\"white\",\"landcolor\":\"#E5ECF6\",\"subunitcolor\":\"white\",\"showland\":true,\"showlakes\":true,\"lakecolor\":\"white\"},\"title\":{\"x\":0.05},\"mapbox\":{\"style\":\"light\"}}}},                        {\"responsive\": true}                    ).then(function(){\n",
       "                            \n",
       "var gd = document.getElementById('02d26b54-2a41-4a0c-8acc-c7262f903286');\n",
       "var x = new MutationObserver(function (mutations, observer) {{\n",
       "        var display = window.getComputedStyle(gd).display;\n",
       "        if (!display || display === 'none') {{\n",
       "            console.log([gd, 'removed!']);\n",
       "            Plotly.purge(gd);\n",
       "            observer.disconnect();\n",
       "        }}\n",
       "}});\n",
       "\n",
       "// Listen for the removal of the full notebook cells\n",
       "var notebookContainer = gd.closest('#notebook-container');\n",
       "if (notebookContainer) {{\n",
       "    x.observe(notebookContainer, {childList: true});\n",
       "}}\n",
       "\n",
       "// Listen for the clearing of the current output cell\n",
       "var outputEl = gd.closest('.output');\n",
       "if (outputEl) {{\n",
       "    x.observe(outputEl, {childList: true});\n",
       "}}\n",
       "\n",
       "                        })                };                });            </script>        </div>"
      ]
     },
     "metadata": {},
     "output_type": "display_data"
    }
   ],
   "source": [
    "x_list = list(users_in_event.index.values)\n",
    "\n",
    "fig = go.Figure(go.Funnelarea(\n",
    "    labels=x_list,\n",
    "    textinfo = 'value',\n",
    "    values = users_in_event['count_user'],\n",
    "    title = {'text': 'Конверсия пользователей из одного события в другое'}))\n",
    "\n",
    "fig.show()\n"
   ]
  },
  {
   "cell_type": "markdown",
   "metadata": {},
   "source": [
    "**3.8** Больше всего пользователей теряется при переходе с главного экрана в каталог товаров. Только 61,9% переходят в каталог с главного экрана. Дальше конверсия показывает хороший показатель: более 81% пользователей переходят в корзину после просмотра товаров. И почти 95% от перешедших в корзину оплачивают заказ. \n",
    "\n",
    "**3.9** Посмотрим, какая доля пользователей доходит от первого события до оплаты."
   ]
  },
  {
   "cell_type": "code",
   "execution_count": 35,
   "metadata": {},
   "outputs": [
    {
     "name": "stdout",
     "output_type": "stream",
     "text": [
      "Доля покупателей от тех, кто посетил главный экран: 47.70%\n"
     ]
    }
   ],
   "source": [
    "print('Доля покупателей от тех, кто посетил главный экран:', \n",
    "      \"{0:.2%}\".format(users_in_event['count_user'].min() / users_in_event['count_user'].max()))"
   ]
  },
  {
   "cell_type": "markdown",
   "metadata": {},
   "source": [
    "**3.10** 47.7% посетителей приложения совершили покупку."
   ]
  },
  {
   "cell_type": "markdown",
   "metadata": {},
   "source": [
    "**Выводы по 3-му пункту:**\n",
    "\n",
    "В рамках исследования мы:\n",
    "- Определили, что в данных содержатся 5 типов позиций: `MainScreenAppear` — переход пользователя на главный экран; `OffersScreenAppear` — переход пользователя в раздел с товарами; `CartScreenAppear` — переход пользователя в корзину; `PaymentScreenSuccessful` — успешная оплата товаров пользователем и `Tutorial` — просмотр пользователем руководства по использованию приложения.\n",
    "- Больше всего событий и пользователей приходятся на `MainScreenAppear` (117 328 и 7 419) соответственно. Затем следует `OffersScreenAppear` (46 333 и 4 593), потом `CartScreenAppear` (42 303 и 3 734), следом `PaymentScreenSuccessful` (33 918 и 3 539) и `Tutorial` (1 005 и 840). \n",
    "- Было решено, что событие `Tutorial` является опциональным, так как его совершило лишь 11% от всех пользователей. Так что его не учитывали при расчёте воронки.\n",
    "- Затем была построена воронка перехода пользователей из одного события в другое. Было выявлено, что больше всего пользователей теряется при переходе с главного экрана в каталог товаров. Только 61,9% переходят в каталог с главного экрана. Дальше конверсия показывает хороший результат: более 81% пользователей переходят в корзину после просмотра товаров. И почти 95% от перешедших в корзину оплачивают заказ.\n",
    "- Доля пользователей, которые доходят от первого события до оплаты, составляет 47,7%.\n",
    "\n",
    "В целом, показатель конверсии достаточно хороший. Возможно, на главной странице нужно сделать блок с акционными или эксклюзивными товарами (если нет возможности таргета), чтобы привлечь больше пользователей с главного экрана в каталог товаров. Это может помочь увеличить конверсию между первым и вторым шагом в приложении (именно там она сильно проседает). "
   ]
  },
  {
   "cell_type": "markdown",
   "metadata": {},
   "source": [
    "<a id=\"4\"></a>\n",
    "## Изучение результатов A/A/B-эксперимента"
   ]
  },
  {
   "cell_type": "markdown",
   "metadata": {},
   "source": [
    "**4.1** Сначала выведем таблицу, с которой будем работать."
   ]
  },
  {
   "cell_type": "code",
   "execution_count": 37,
   "metadata": {},
   "outputs": [
    {
     "data": {
      "text/html": [
       "<div>\n",
       "<style scoped>\n",
       "    .dataframe tbody tr th:only-of-type {\n",
       "        vertical-align: middle;\n",
       "    }\n",
       "\n",
       "    .dataframe tbody tr th {\n",
       "        vertical-align: top;\n",
       "    }\n",
       "\n",
       "    .dataframe thead th {\n",
       "        text-align: right;\n",
       "    }\n",
       "</style>\n",
       "<table border=\"1\" class=\"dataframe\">\n",
       "  <thead>\n",
       "    <tr style=\"text-align: right;\">\n",
       "      <th></th>\n",
       "      <th>event_name</th>\n",
       "      <th>device_id_hash</th>\n",
       "      <th>event_timestamp</th>\n",
       "      <th>exp_id</th>\n",
       "      <th>event_datetime</th>\n",
       "      <th>event_date</th>\n",
       "    </tr>\n",
       "  </thead>\n",
       "  <tbody>\n",
       "    <tr>\n",
       "      <th>2826</th>\n",
       "      <td>Tutorial</td>\n",
       "      <td>3737462046622621720</td>\n",
       "      <td>1564618048</td>\n",
       "      <td>246</td>\n",
       "      <td>2019-08-01 00:07:28</td>\n",
       "      <td>2019-08-01</td>\n",
       "    </tr>\n",
       "    <tr>\n",
       "      <th>2827</th>\n",
       "      <td>MainScreenAppear</td>\n",
       "      <td>3737462046622621720</td>\n",
       "      <td>1564618080</td>\n",
       "      <td>246</td>\n",
       "      <td>2019-08-01 00:08:00</td>\n",
       "      <td>2019-08-01</td>\n",
       "    </tr>\n",
       "    <tr>\n",
       "      <th>2828</th>\n",
       "      <td>MainScreenAppear</td>\n",
       "      <td>3737462046622621720</td>\n",
       "      <td>1564618135</td>\n",
       "      <td>246</td>\n",
       "      <td>2019-08-01 00:08:55</td>\n",
       "      <td>2019-08-01</td>\n",
       "    </tr>\n",
       "    <tr>\n",
       "      <th>2829</th>\n",
       "      <td>OffersScreenAppear</td>\n",
       "      <td>3737462046622621720</td>\n",
       "      <td>1564618138</td>\n",
       "      <td>246</td>\n",
       "      <td>2019-08-01 00:08:58</td>\n",
       "      <td>2019-08-01</td>\n",
       "    </tr>\n",
       "    <tr>\n",
       "      <th>2830</th>\n",
       "      <td>MainScreenAppear</td>\n",
       "      <td>1433840883824088890</td>\n",
       "      <td>1564618139</td>\n",
       "      <td>247</td>\n",
       "      <td>2019-08-01 00:08:59</td>\n",
       "      <td>2019-08-01</td>\n",
       "    </tr>\n",
       "    <tr>\n",
       "      <th>2831</th>\n",
       "      <td>MainScreenAppear</td>\n",
       "      <td>4899590676214355127</td>\n",
       "      <td>1564618215</td>\n",
       "      <td>247</td>\n",
       "      <td>2019-08-01 00:10:15</td>\n",
       "      <td>2019-08-01</td>\n",
       "    </tr>\n",
       "    <tr>\n",
       "      <th>2832</th>\n",
       "      <td>OffersScreenAppear</td>\n",
       "      <td>3737462046622621720</td>\n",
       "      <td>1564618226</td>\n",
       "      <td>246</td>\n",
       "      <td>2019-08-01 00:10:26</td>\n",
       "      <td>2019-08-01</td>\n",
       "    </tr>\n",
       "    <tr>\n",
       "      <th>2833</th>\n",
       "      <td>MainScreenAppear</td>\n",
       "      <td>3737462046622621720</td>\n",
       "      <td>1564618247</td>\n",
       "      <td>246</td>\n",
       "      <td>2019-08-01 00:10:47</td>\n",
       "      <td>2019-08-01</td>\n",
       "    </tr>\n",
       "    <tr>\n",
       "      <th>2834</th>\n",
       "      <td>MainScreenAppear</td>\n",
       "      <td>3737462046622621720</td>\n",
       "      <td>1564618270</td>\n",
       "      <td>246</td>\n",
       "      <td>2019-08-01 00:11:10</td>\n",
       "      <td>2019-08-01</td>\n",
       "    </tr>\n",
       "    <tr>\n",
       "      <th>2835</th>\n",
       "      <td>MainScreenAppear</td>\n",
       "      <td>3737462046622621720</td>\n",
       "      <td>1564618280</td>\n",
       "      <td>246</td>\n",
       "      <td>2019-08-01 00:11:20</td>\n",
       "      <td>2019-08-01</td>\n",
       "    </tr>\n",
       "  </tbody>\n",
       "</table>\n",
       "</div>"
      ],
      "text/plain": [
       "              event_name       device_id_hash  event_timestamp  exp_id  \\\n",
       "2826            Tutorial  3737462046622621720       1564618048     246   \n",
       "2827    MainScreenAppear  3737462046622621720       1564618080     246   \n",
       "2828    MainScreenAppear  3737462046622621720       1564618135     246   \n",
       "2829  OffersScreenAppear  3737462046622621720       1564618138     246   \n",
       "2830    MainScreenAppear  1433840883824088890       1564618139     247   \n",
       "2831    MainScreenAppear  4899590676214355127       1564618215     247   \n",
       "2832  OffersScreenAppear  3737462046622621720       1564618226     246   \n",
       "2833    MainScreenAppear  3737462046622621720       1564618247     246   \n",
       "2834    MainScreenAppear  3737462046622621720       1564618270     246   \n",
       "2835    MainScreenAppear  3737462046622621720       1564618280     246   \n",
       "\n",
       "          event_datetime  event_date  \n",
       "2826 2019-08-01 00:07:28  2019-08-01  \n",
       "2827 2019-08-01 00:08:00  2019-08-01  \n",
       "2828 2019-08-01 00:08:55  2019-08-01  \n",
       "2829 2019-08-01 00:08:58  2019-08-01  \n",
       "2830 2019-08-01 00:08:59  2019-08-01  \n",
       "2831 2019-08-01 00:10:15  2019-08-01  \n",
       "2832 2019-08-01 00:10:26  2019-08-01  \n",
       "2833 2019-08-01 00:10:47  2019-08-01  \n",
       "2834 2019-08-01 00:11:10  2019-08-01  \n",
       "2835 2019-08-01 00:11:20  2019-08-01  "
      ]
     },
     "execution_count": 37,
     "metadata": {},
     "output_type": "execute_result"
    }
   ],
   "source": [
    "actual_events.head(10)"
   ]
  },
  {
   "cell_type": "markdown",
   "metadata": {},
   "source": [
    "**4.2** Теперь проверим, сколько пользователей в каждой экспериментальной группе."
   ]
  },
  {
   "cell_type": "code",
   "execution_count": 38,
   "metadata": {},
   "outputs": [
    {
     "data": {
      "text/html": [
       "<div>\n",
       "<style scoped>\n",
       "    .dataframe tbody tr th:only-of-type {\n",
       "        vertical-align: middle;\n",
       "    }\n",
       "\n",
       "    .dataframe tbody tr th {\n",
       "        vertical-align: top;\n",
       "    }\n",
       "\n",
       "    .dataframe thead th {\n",
       "        text-align: right;\n",
       "    }\n",
       "</style>\n",
       "<table border=\"1\" class=\"dataframe\">\n",
       "  <thead>\n",
       "    <tr style=\"text-align: right;\">\n",
       "      <th></th>\n",
       "      <th>device_id_hash</th>\n",
       "    </tr>\n",
       "    <tr>\n",
       "      <th>exp_id</th>\n",
       "      <th></th>\n",
       "    </tr>\n",
       "  </thead>\n",
       "  <tbody>\n",
       "    <tr>\n",
       "      <th>246</th>\n",
       "      <td>2484</td>\n",
       "    </tr>\n",
       "    <tr>\n",
       "      <th>247</th>\n",
       "      <td>2513</td>\n",
       "    </tr>\n",
       "    <tr>\n",
       "      <th>248</th>\n",
       "      <td>2537</td>\n",
       "    </tr>\n",
       "  </tbody>\n",
       "</table>\n",
       "</div>"
      ],
      "text/plain": [
       "        device_id_hash\n",
       "exp_id                \n",
       "246               2484\n",
       "247               2513\n",
       "248               2537"
      ]
     },
     "execution_count": 38,
     "metadata": {},
     "output_type": "execute_result"
    }
   ],
   "source": [
    "actual_events.groupby('exp_id').agg({'device_id_hash': 'nunique'})"
   ]
  },
  {
   "cell_type": "markdown",
   "metadata": {},
   "source": [
    "**4.3** Как мы выяснили на прошлых этапах, группы распределены достаточно равномерно. Около 2 500 пользователей в каждой. \n",
    "\n",
    "Начнём анализ различий между группами. Нам необходимо проверить, будет ли различие в долях пользователей, совершивших каждое событие в каждой из контрольных групп, статистически достоверным. \n",
    "\n",
    "Cоберём сводную таблицу, чтобы ознакомиться, сколько человек в каждой группе совершили то или иное событие. "
   ]
  },
  {
   "cell_type": "code",
   "execution_count": 39,
   "metadata": {},
   "outputs": [
    {
     "data": {
      "text/html": [
       "<div>\n",
       "<style scoped>\n",
       "    .dataframe tbody tr th:only-of-type {\n",
       "        vertical-align: middle;\n",
       "    }\n",
       "\n",
       "    .dataframe tbody tr th {\n",
       "        vertical-align: top;\n",
       "    }\n",
       "\n",
       "    .dataframe thead th {\n",
       "        text-align: right;\n",
       "    }\n",
       "</style>\n",
       "<table border=\"1\" class=\"dataframe\">\n",
       "  <thead>\n",
       "    <tr style=\"text-align: right;\">\n",
       "      <th>exp_id</th>\n",
       "      <th>event_name</th>\n",
       "      <th>246</th>\n",
       "      <th>247</th>\n",
       "      <th>248</th>\n",
       "    </tr>\n",
       "  </thead>\n",
       "  <tbody>\n",
       "    <tr>\n",
       "      <th>0</th>\n",
       "      <td>MainScreenAppear</td>\n",
       "      <td>2450</td>\n",
       "      <td>2476</td>\n",
       "      <td>2493</td>\n",
       "    </tr>\n",
       "    <tr>\n",
       "      <th>1</th>\n",
       "      <td>OffersScreenAppear</td>\n",
       "      <td>1542</td>\n",
       "      <td>1520</td>\n",
       "      <td>1531</td>\n",
       "    </tr>\n",
       "    <tr>\n",
       "      <th>2</th>\n",
       "      <td>CartScreenAppear</td>\n",
       "      <td>1266</td>\n",
       "      <td>1238</td>\n",
       "      <td>1230</td>\n",
       "    </tr>\n",
       "    <tr>\n",
       "      <th>3</th>\n",
       "      <td>PaymentScreenSuccessful</td>\n",
       "      <td>1200</td>\n",
       "      <td>1158</td>\n",
       "      <td>1181</td>\n",
       "    </tr>\n",
       "    <tr>\n",
       "      <th>4</th>\n",
       "      <td>Tutorial</td>\n",
       "      <td>278</td>\n",
       "      <td>283</td>\n",
       "      <td>279</td>\n",
       "    </tr>\n",
       "  </tbody>\n",
       "</table>\n",
       "</div>"
      ],
      "text/plain": [
       "exp_id               event_name   246   247   248\n",
       "0              MainScreenAppear  2450  2476  2493\n",
       "1            OffersScreenAppear  1542  1520  1531\n",
       "2              CartScreenAppear  1266  1238  1230\n",
       "3       PaymentScreenSuccessful  1200  1158  1181\n",
       "4                      Tutorial   278   283   279"
      ]
     },
     "execution_count": 39,
     "metadata": {},
     "output_type": "execute_result"
    }
   ],
   "source": [
    "events_group = actual_events.pivot_table(index='event_name', columns='exp_id', values='device_id_hash', aggfunc='nunique')\\\n",
    "                                         .sort_values(by=246, ascending=False).reset_index()\n",
    "events_group"
   ]
  },
  {
   "cell_type": "markdown",
   "metadata": {},
   "source": [
    "**4.4** Разбивка по группам на первый взгляд даёт понять, что распределение по событиям в группах достаточно равномерно. Однако такая проверка не даст нам абсолютной уверенности, что поведение пользователей во всех группах одинаково. Поэтому определим статистическую значимость разницы долей между группами.\n",
    "\n",
    "Для начала создадим 3 датафрейма, в каждом из которых будет определённая группа."
   ]
  },
  {
   "cell_type": "code",
   "execution_count": 40,
   "metadata": {},
   "outputs": [
    {
     "data": {
      "text/html": [
       "<div>\n",
       "<style scoped>\n",
       "    .dataframe tbody tr th:only-of-type {\n",
       "        vertical-align: middle;\n",
       "    }\n",
       "\n",
       "    .dataframe tbody tr th {\n",
       "        vertical-align: top;\n",
       "    }\n",
       "\n",
       "    .dataframe thead th {\n",
       "        text-align: right;\n",
       "    }\n",
       "</style>\n",
       "<table border=\"1\" class=\"dataframe\">\n",
       "  <thead>\n",
       "    <tr style=\"text-align: right;\">\n",
       "      <th></th>\n",
       "      <th>event_name</th>\n",
       "      <th>device_id_hash</th>\n",
       "      <th>event_timestamp</th>\n",
       "      <th>exp_id</th>\n",
       "      <th>event_datetime</th>\n",
       "      <th>event_date</th>\n",
       "    </tr>\n",
       "  </thead>\n",
       "  <tbody>\n",
       "    <tr>\n",
       "      <th>2826</th>\n",
       "      <td>Tutorial</td>\n",
       "      <td>3737462046622621720</td>\n",
       "      <td>1564618048</td>\n",
       "      <td>246</td>\n",
       "      <td>2019-08-01 00:07:28</td>\n",
       "      <td>2019-08-01</td>\n",
       "    </tr>\n",
       "    <tr>\n",
       "      <th>2827</th>\n",
       "      <td>MainScreenAppear</td>\n",
       "      <td>3737462046622621720</td>\n",
       "      <td>1564618080</td>\n",
       "      <td>246</td>\n",
       "      <td>2019-08-01 00:08:00</td>\n",
       "      <td>2019-08-01</td>\n",
       "    </tr>\n",
       "    <tr>\n",
       "      <th>2828</th>\n",
       "      <td>MainScreenAppear</td>\n",
       "      <td>3737462046622621720</td>\n",
       "      <td>1564618135</td>\n",
       "      <td>246</td>\n",
       "      <td>2019-08-01 00:08:55</td>\n",
       "      <td>2019-08-01</td>\n",
       "    </tr>\n",
       "    <tr>\n",
       "      <th>2829</th>\n",
       "      <td>OffersScreenAppear</td>\n",
       "      <td>3737462046622621720</td>\n",
       "      <td>1564618138</td>\n",
       "      <td>246</td>\n",
       "      <td>2019-08-01 00:08:58</td>\n",
       "      <td>2019-08-01</td>\n",
       "    </tr>\n",
       "    <tr>\n",
       "      <th>2832</th>\n",
       "      <td>OffersScreenAppear</td>\n",
       "      <td>3737462046622621720</td>\n",
       "      <td>1564618226</td>\n",
       "      <td>246</td>\n",
       "      <td>2019-08-01 00:10:26</td>\n",
       "      <td>2019-08-01</td>\n",
       "    </tr>\n",
       "  </tbody>\n",
       "</table>\n",
       "</div>"
      ],
      "text/plain": [
       "              event_name       device_id_hash  event_timestamp  exp_id  \\\n",
       "2826            Tutorial  3737462046622621720       1564618048     246   \n",
       "2827    MainScreenAppear  3737462046622621720       1564618080     246   \n",
       "2828    MainScreenAppear  3737462046622621720       1564618135     246   \n",
       "2829  OffersScreenAppear  3737462046622621720       1564618138     246   \n",
       "2832  OffersScreenAppear  3737462046622621720       1564618226     246   \n",
       "\n",
       "          event_datetime  event_date  \n",
       "2826 2019-08-01 00:07:28  2019-08-01  \n",
       "2827 2019-08-01 00:08:00  2019-08-01  \n",
       "2828 2019-08-01 00:08:55  2019-08-01  \n",
       "2829 2019-08-01 00:08:58  2019-08-01  \n",
       "2832 2019-08-01 00:10:26  2019-08-01  "
      ]
     },
     "execution_count": 40,
     "metadata": {},
     "output_type": "execute_result"
    }
   ],
   "source": [
    "exp_246 = actual_events.query('exp_id == 246')\n",
    "exp_246.head()"
   ]
  },
  {
   "cell_type": "code",
   "execution_count": 41,
   "metadata": {},
   "outputs": [
    {
     "data": {
      "text/html": [
       "<div>\n",
       "<style scoped>\n",
       "    .dataframe tbody tr th:only-of-type {\n",
       "        vertical-align: middle;\n",
       "    }\n",
       "\n",
       "    .dataframe tbody tr th {\n",
       "        vertical-align: top;\n",
       "    }\n",
       "\n",
       "    .dataframe thead th {\n",
       "        text-align: right;\n",
       "    }\n",
       "</style>\n",
       "<table border=\"1\" class=\"dataframe\">\n",
       "  <thead>\n",
       "    <tr style=\"text-align: right;\">\n",
       "      <th></th>\n",
       "      <th>event_name</th>\n",
       "      <th>device_id_hash</th>\n",
       "      <th>event_timestamp</th>\n",
       "      <th>exp_id</th>\n",
       "      <th>event_datetime</th>\n",
       "      <th>event_date</th>\n",
       "    </tr>\n",
       "  </thead>\n",
       "  <tbody>\n",
       "    <tr>\n",
       "      <th>2830</th>\n",
       "      <td>MainScreenAppear</td>\n",
       "      <td>1433840883824088890</td>\n",
       "      <td>1564618139</td>\n",
       "      <td>247</td>\n",
       "      <td>2019-08-01 00:08:59</td>\n",
       "      <td>2019-08-01</td>\n",
       "    </tr>\n",
       "    <tr>\n",
       "      <th>2831</th>\n",
       "      <td>MainScreenAppear</td>\n",
       "      <td>4899590676214355127</td>\n",
       "      <td>1564618215</td>\n",
       "      <td>247</td>\n",
       "      <td>2019-08-01 00:10:15</td>\n",
       "      <td>2019-08-01</td>\n",
       "    </tr>\n",
       "    <tr>\n",
       "      <th>2836</th>\n",
       "      <td>MainScreenAppear</td>\n",
       "      <td>4899590676214355127</td>\n",
       "      <td>1564618288</td>\n",
       "      <td>247</td>\n",
       "      <td>2019-08-01 00:11:28</td>\n",
       "      <td>2019-08-01</td>\n",
       "    </tr>\n",
       "    <tr>\n",
       "      <th>2837</th>\n",
       "      <td>OffersScreenAppear</td>\n",
       "      <td>4899590676214355127</td>\n",
       "      <td>1564618290</td>\n",
       "      <td>247</td>\n",
       "      <td>2019-08-01 00:11:30</td>\n",
       "      <td>2019-08-01</td>\n",
       "    </tr>\n",
       "    <tr>\n",
       "      <th>2841</th>\n",
       "      <td>OffersScreenAppear</td>\n",
       "      <td>4899590676214355127</td>\n",
       "      <td>1564618356</td>\n",
       "      <td>247</td>\n",
       "      <td>2019-08-01 00:12:36</td>\n",
       "      <td>2019-08-01</td>\n",
       "    </tr>\n",
       "  </tbody>\n",
       "</table>\n",
       "</div>"
      ],
      "text/plain": [
       "              event_name       device_id_hash  event_timestamp  exp_id  \\\n",
       "2830    MainScreenAppear  1433840883824088890       1564618139     247   \n",
       "2831    MainScreenAppear  4899590676214355127       1564618215     247   \n",
       "2836    MainScreenAppear  4899590676214355127       1564618288     247   \n",
       "2837  OffersScreenAppear  4899590676214355127       1564618290     247   \n",
       "2841  OffersScreenAppear  4899590676214355127       1564618356     247   \n",
       "\n",
       "          event_datetime  event_date  \n",
       "2830 2019-08-01 00:08:59  2019-08-01  \n",
       "2831 2019-08-01 00:10:15  2019-08-01  \n",
       "2836 2019-08-01 00:11:28  2019-08-01  \n",
       "2837 2019-08-01 00:11:30  2019-08-01  \n",
       "2841 2019-08-01 00:12:36  2019-08-01  "
      ]
     },
     "execution_count": 41,
     "metadata": {},
     "output_type": "execute_result"
    }
   ],
   "source": [
    "exp_247 = actual_events.query('exp_id == 247')\n",
    "exp_247.head()"
   ]
  },
  {
   "cell_type": "code",
   "execution_count": 42,
   "metadata": {
    "scrolled": true
   },
   "outputs": [
    {
     "data": {
      "text/html": [
       "<div>\n",
       "<style scoped>\n",
       "    .dataframe tbody tr th:only-of-type {\n",
       "        vertical-align: middle;\n",
       "    }\n",
       "\n",
       "    .dataframe tbody tr th {\n",
       "        vertical-align: top;\n",
       "    }\n",
       "\n",
       "    .dataframe thead th {\n",
       "        text-align: right;\n",
       "    }\n",
       "</style>\n",
       "<table border=\"1\" class=\"dataframe\">\n",
       "  <thead>\n",
       "    <tr style=\"text-align: right;\">\n",
       "      <th></th>\n",
       "      <th>event_name</th>\n",
       "      <th>device_id_hash</th>\n",
       "      <th>event_timestamp</th>\n",
       "      <th>exp_id</th>\n",
       "      <th>event_datetime</th>\n",
       "      <th>event_date</th>\n",
       "    </tr>\n",
       "  </thead>\n",
       "  <tbody>\n",
       "    <tr>\n",
       "      <th>2842</th>\n",
       "      <td>MainScreenAppear</td>\n",
       "      <td>4613461174774205834</td>\n",
       "      <td>1564618471</td>\n",
       "      <td>248</td>\n",
       "      <td>2019-08-01 00:14:31</td>\n",
       "      <td>2019-08-01</td>\n",
       "    </tr>\n",
       "    <tr>\n",
       "      <th>2843</th>\n",
       "      <td>MainScreenAppear</td>\n",
       "      <td>4613461174774205834</td>\n",
       "      <td>1564618474</td>\n",
       "      <td>248</td>\n",
       "      <td>2019-08-01 00:14:34</td>\n",
       "      <td>2019-08-01</td>\n",
       "    </tr>\n",
       "    <tr>\n",
       "      <th>2844</th>\n",
       "      <td>CartScreenAppear</td>\n",
       "      <td>4613461174774205834</td>\n",
       "      <td>1564618474</td>\n",
       "      <td>248</td>\n",
       "      <td>2019-08-01 00:14:34</td>\n",
       "      <td>2019-08-01</td>\n",
       "    </tr>\n",
       "    <tr>\n",
       "      <th>2845</th>\n",
       "      <td>PaymentScreenSuccessful</td>\n",
       "      <td>4613461174774205834</td>\n",
       "      <td>1564618483</td>\n",
       "      <td>248</td>\n",
       "      <td>2019-08-01 00:14:43</td>\n",
       "      <td>2019-08-01</td>\n",
       "    </tr>\n",
       "    <tr>\n",
       "      <th>2846</th>\n",
       "      <td>OffersScreenAppear</td>\n",
       "      <td>4613461174774205834</td>\n",
       "      <td>1564618491</td>\n",
       "      <td>248</td>\n",
       "      <td>2019-08-01 00:14:51</td>\n",
       "      <td>2019-08-01</td>\n",
       "    </tr>\n",
       "  </tbody>\n",
       "</table>\n",
       "</div>"
      ],
      "text/plain": [
       "                   event_name       device_id_hash  event_timestamp  exp_id  \\\n",
       "2842         MainScreenAppear  4613461174774205834       1564618471     248   \n",
       "2843         MainScreenAppear  4613461174774205834       1564618474     248   \n",
       "2844         CartScreenAppear  4613461174774205834       1564618474     248   \n",
       "2845  PaymentScreenSuccessful  4613461174774205834       1564618483     248   \n",
       "2846       OffersScreenAppear  4613461174774205834       1564618491     248   \n",
       "\n",
       "          event_datetime  event_date  \n",
       "2842 2019-08-01 00:14:31  2019-08-01  \n",
       "2843 2019-08-01 00:14:34  2019-08-01  \n",
       "2844 2019-08-01 00:14:34  2019-08-01  \n",
       "2845 2019-08-01 00:14:43  2019-08-01  \n",
       "2846 2019-08-01 00:14:51  2019-08-01  "
      ]
     },
     "execution_count": 42,
     "metadata": {},
     "output_type": "execute_result"
    }
   ],
   "source": [
    "exp_248 = actual_events.query('exp_id == 248')\n",
    "exp_248.head()"
   ]
  },
  {
   "cell_type": "markdown",
   "metadata": {},
   "source": [
    "**4.5** Теперь создадим функцию рассчёта статистической значимости для проверки гипотезы о равенстве долей пользователей."
   ]
  },
  {
   "cell_type": "code",
   "execution_count": 43,
   "metadata": {},
   "outputs": [],
   "source": [
    "def stat_test(group_1, group_2, event, stat_value):\n",
    "\n",
    "    # задаём уровень статистической значимости\n",
    "    alpha = stat_value\n",
    "\n",
    "    # считаем, сколько пользователей в первой и второй группах совершили определённое событие\n",
    "    successes = np.array([group_1.query('event_name == @event')['device_id_hash'].nunique(),\n",
    "                      group_2.query('event_name == @event')['device_id_hash'].nunique()])\n",
    "\n",
    "    # считаем, сколько всего пользователей в первой и второй группах\n",
    "    all_users_in_group = np.array([group_1['device_id_hash'].nunique(), group_2['device_id_hash'].nunique()])\n",
    "\n",
    "    # доля, совершивших событие, в первой группе\n",
    "    p1 = successes[0]/all_users_in_group[0]\n",
    "\n",
    "    # доля, совершивших событие, во второй группе:\n",
    "    p2 = successes[1]/all_users_in_group[1]\n",
    "\n",
    "    # доля, совершивших событие, в комбинированном датасете\n",
    "    p_combined = (successes[0] + successes[1]) / (all_users_in_group[0] + all_users_in_group[1])\n",
    "\n",
    "    # разница пропорций в датасетах\n",
    "    difference = p1 - p2\n",
    "    \n",
    "    # считаем статистику в ст. отклонениях стандартного нормального распределения\n",
    "    z_value = difference / mth.sqrt(p_combined * (1 - p_combined) * (1 / all_users_in_group[0] + 1 / all_users_in_group[1]))\n",
    "    \n",
    "    # задаем стандартное нормальное распределение (среднее 0, ст.отклонение 1)\n",
    "    distr = st.norm(0, 1)\n",
    "\n",
    "    # считаем p-value\n",
    "    p_value = (1 - distr.cdf(abs(z_value))) * 2\n",
    "\n",
    "    print('p-значение: ', p_value)\n",
    "\n",
    "    if p_value < alpha:\n",
    "        print('Отвергаем нулевую гипотезу: между долями есть значимая разница')\n",
    "        \n",
    "    else:\n",
    "        print('Не получилось отвергнуть нулевую гипотезу, нет оснований считать доли разными') "
   ]
  },
  {
   "cell_type": "markdown",
   "metadata": {},
   "source": [
    "**4.6** Функция создана. Теперь решим, какой уровень стат. значимости брать для анализа.\n",
    "1. По ТЗ необходимо сравнить группы в 4 комбинациях: 246 и 247 (контрольные группы), 246 и 248, 247 и 248 (каждую контрольную группу с экспериментальной), 246+247 и 248 (обе контрольные группы с экспериментальной).\n",
    "2. Доли пользователей необходимо сравнить по каждому событию. В нашем логе записаны 5 типов событий, однако предлагаем не учитывать событие `Tutorial`, так как оно является опциональным и его совершило малое кол-во пользователей. Итого 4 события. \n",
    "\n",
    "Получается, что всего в ходе исследования будет проверено 16 гипотез. Из-за множественного сравнения есть шанс получить ошибку первого рода. Поэтому сразу применим поправку Бонферрони при расчёте стат. значимости: поделим стандартный уровень стат. значимости (возьмём 0.01) на количество гипотез."
   ]
  },
  {
   "cell_type": "code",
   "execution_count": 44,
   "metadata": {},
   "outputs": [],
   "source": [
    "alpha = 0.01 / 16"
   ]
  },
  {
   "cell_type": "markdown",
   "metadata": {},
   "source": [
    "**4.7** Теперь можно переходить к проверке гипотез. Для начала сравним между собой две контрольные группы: 246 и 247. События будем проверять последовательно: `MainScreenAppear` => `OffersScreenAppear` => `CartScreenAppear` => `PaymentScreenSuccessful`.\n",
    "\n",
    "**Сформулируем первую гипотезу:**\n",
    "1. Нулевая гипотеза: доли пользователей в группах 246 и 247, совершивших событие `MainScreenAppear`, равны.\n",
    "2. Альтернативная гипотеза: доли пользователей в группах 246 и 247, совершивших событие `MainScreenAppear`, различны.\n",
    "\n",
    "Проверим гипотезы ранее заданной функцией."
   ]
  },
  {
   "cell_type": "code",
   "execution_count": 45,
   "metadata": {},
   "outputs": [
    {
     "name": "stdout",
     "output_type": "stream",
     "text": [
      "p-значение:  0.7570597232046099\n",
      "Не получилось отвергнуть нулевую гипотезу, нет оснований считать доли разными\n"
     ]
    }
   ],
   "source": [
    "stat_test(exp_246, exp_247, 'MainScreenAppear', alpha)"
   ]
  },
  {
   "cell_type": "markdown",
   "metadata": {},
   "source": [
    "**4.8** P-value показал значение в 0.76, а значит, нет оснований отвергнуть нулевую гипотезу о равенстве долей. \n",
    "\n",
    "Проверим следующую гипотезу:\n",
    "1. Нулевая гипотеза: доли пользователей в группах 246 и 247, совершивших событие `OffersScreenAppear`, равны.\n",
    "2. Альтернативная гипотеза: доли пользователей в группах 246 и 247, совершивших событие `OffersScreenAppear`, различны."
   ]
  },
  {
   "cell_type": "code",
   "execution_count": 46,
   "metadata": {},
   "outputs": [
    {
     "name": "stdout",
     "output_type": "stream",
     "text": [
      "p-значение:  0.2480954578522181\n",
      "Не получилось отвергнуть нулевую гипотезу, нет оснований считать доли разными\n"
     ]
    }
   ],
   "source": [
    "stat_test(exp_246, exp_247, 'OffersScreenAppear', alpha)"
   ]
  },
  {
   "cell_type": "markdown",
   "metadata": {},
   "source": [
    "**4.9** Здесь р-value показал уже более низкое значение (0.25), однако это всё ещё намного выше уровня стат. значимости, а значит, нет оснований отвергнуть нулевую гипотезу о равенстве долей пользователей в группах 246 и 247, совершивших событие `OffersScreenAppear`.\n",
    "\n",
    "Следующая гипотеза:\n",
    "1. Нулевая гипотеза: доли пользователей в группах 246 и 247, совершивших событие `CartScreenAppear`, равны.\n",
    "2. Альтернативная гипотеза: доли пользователей в группах 246 и 247, совершивших событие `CartScreenAppear`, различны."
   ]
  },
  {
   "cell_type": "code",
   "execution_count": 47,
   "metadata": {},
   "outputs": [
    {
     "name": "stdout",
     "output_type": "stream",
     "text": [
      "p-значение:  0.22883372237997213\n",
      "Не получилось отвергнуть нулевую гипотезу, нет оснований считать доли разными\n"
     ]
    }
   ],
   "source": [
    "stat_test(exp_246, exp_247, 'CartScreenAppear', alpha)"
   ]
  },
  {
   "cell_type": "markdown",
   "metadata": {},
   "source": [
    "**4.10** И здесь мы можем сказать, что нет оснований считать доли пользователей, совершивших событие `CartScreenAppear`, различными: р-value = 0.23.\n",
    "\n",
    "Последняя гипотеза для этих групп: \n",
    "1. Нулевая гипотеза: доли пользователей в группах 246 и 247, совершивших событие `PaymentScreenSuccessful`, равны.\n",
    "2. Альтернативная гипотеза: доли пользователей в группах 246 и 247, совершивших событие `PaymentScreenSuccessful`, различны."
   ]
  },
  {
   "cell_type": "code",
   "execution_count": 48,
   "metadata": {},
   "outputs": [
    {
     "name": "stdout",
     "output_type": "stream",
     "text": [
      "p-значение:  0.11456679313141849\n",
      "Не получилось отвергнуть нулевую гипотезу, нет оснований считать доли разными\n"
     ]
    }
   ],
   "source": [
    "stat_test(exp_246, exp_247, 'PaymentScreenSuccessful', alpha)"
   ]
  },
  {
   "cell_type": "markdown",
   "metadata": {},
   "source": [
    "**4.11** Р-value = 0.11, а значит и для события `PaymentScreenSuccessful` нет оснований отвергнуть нулевую гипотезу о равенстве долей пользователей в группах 246 и 247. \n",
    "\n",
    "**Вывод по двум контрольным группам:**\n",
    "\n",
    "После проведённого исследования было выявлено, что различия в долях пользователей контрольных групп, совершивших каждое из 4 событий, не имеют статистической значимости. А значит, мы можем сказать, что они приблизительно равны. "
   ]
  },
  {
   "cell_type": "markdown",
   "metadata": {},
   "source": [
    "**4.12** Теперь сравним показатели экспериментальной группы с каждой из контрольных групп (начнём с 246). Напомним, в экспериментально группе поменяли шрифты во всём приложении. Надо понять, повлияло ли это изменение на поведение (в данном случае конверсию) пользователей. \n",
    "\n",
    "Выдвинем первую гипотезу и проверим её:\n",
    "1. Нулевая гипотеза: доли пользователей в группах 246 и 248, совершивших событие `MainScreenAppear`, равны.\n",
    "2. Альтернативная гипотеза: доли пользователей в группах 246 и 248, совершивших событие `MainScreenAppear`, различны."
   ]
  },
  {
   "cell_type": "code",
   "execution_count": 49,
   "metadata": {},
   "outputs": [
    {
     "name": "stdout",
     "output_type": "stream",
     "text": [
      "p-значение:  0.2949721933554552\n",
      "Не получилось отвергнуть нулевую гипотезу, нет оснований считать доли разными\n"
     ]
    }
   ],
   "source": [
    "stat_test(exp_246, exp_248, 'MainScreenAppear', alpha)"
   ]
  },
  {
   "cell_type": "markdown",
   "metadata": {},
   "source": [
    "**4.13** P-value равен 0.29. Значит, мы не можем отвергнуть нулевую гипотезу для события `MainScreenAppear`.\n",
    "\n",
    "Следующая гипотеза:\n",
    "1. Нулевая гипотеза: доли пользователей в группах 246 и 248, совершивших событие `OffersScreenAppear`, равны.\n",
    "2. Альтернативная гипотеза: доли пользователей в группах 246 и 248, совершивших событие `OffersScreenAppear`, различны."
   ]
  },
  {
   "cell_type": "code",
   "execution_count": 50,
   "metadata": {},
   "outputs": [
    {
     "name": "stdout",
     "output_type": "stream",
     "text": [
      "p-значение:  0.20836205402738917\n",
      "Не получилось отвергнуть нулевую гипотезу, нет оснований считать доли разными\n"
     ]
    }
   ],
   "source": [
    "stat_test(exp_246, exp_248, 'OffersScreenAppear', alpha)"
   ]
  },
  {
   "cell_type": "markdown",
   "metadata": {},
   "source": [
    "**4.14** P-value равен 0.21. Значит, для групп 246 и 248 нет оснований считать доли пользователей, совершивших событие `OffersScreenAppear`, разными.\n",
    "\n",
    "Сформулируем гипотезу:\n",
    "1. Нулевая гипотеза: доли пользователей в группах 246 и 248, совершивших событие `CartScreenAppear`, равны.\n",
    "2. Альтернативная гипотеза: доли пользователей в группах 246 и 248, совершивших событие `CartScreenAppear`, различны."
   ]
  },
  {
   "cell_type": "code",
   "execution_count": 51,
   "metadata": {},
   "outputs": [
    {
     "name": "stdout",
     "output_type": "stream",
     "text": [
      "p-значение:  0.07842923237520116\n",
      "Не получилось отвергнуть нулевую гипотезу, нет оснований считать доли разными\n"
     ]
    }
   ],
   "source": [
    "stat_test(exp_246, exp_248, 'CartScreenAppear', alpha)"
   ]
  },
  {
   "cell_type": "markdown",
   "metadata": {},
   "source": [
    "**4.15** При этой проверке пока что p-value показал самый низкий результат: 0.08. Однако это всё ещё выше уровня статистической значимости. А значит, мы снова не отвергаем нулевую гипотезу. \n",
    "\n",
    "Последняя гипотеза для этих контрольных групп:\n",
    "1. Нулевая гипотеза: доли пользователей в группах 246 и 248, совершивших событие `PaymentScreenSuccessful`, равны.\n",
    "2. Альтернативная гипотеза: доли пользователей в группах 246 и 248, совершивших событие `PaymentScreenSuccessful`, различны."
   ]
  },
  {
   "cell_type": "code",
   "execution_count": 52,
   "metadata": {},
   "outputs": [
    {
     "name": "stdout",
     "output_type": "stream",
     "text": [
      "p-значение:  0.2122553275697796\n",
      "Не получилось отвергнуть нулевую гипотезу, нет оснований считать доли разными\n"
     ]
    }
   ],
   "source": [
    "stat_test(exp_246, exp_248, 'PaymentScreenSuccessful', alpha)"
   ]
  },
  {
   "cell_type": "markdown",
   "metadata": {},
   "source": [
    "**4.16** P-value в 0.21 не даёт причин отвергнуть нулевую гипотезу о равенстве долей. \n",
    "\n",
    "**Выводы по группам 246 и 248:**\n",
    "\n",
    "В рамках проверки стат. значимости было выявлено, что нет оснований отвергать нулевые гипотезы для каждого события о равенстве долей пользователей в обоих группах. Значит, новый шрифт не оказал существенного влияния на конверсию пользователей (по сравнению с контрольной группой 246)."
   ]
  },
  {
   "cell_type": "markdown",
   "metadata": {},
   "source": [
    "**4.17** Теперь сравним экспериментальную группу со второй контрольной группой: 247.\n",
    "\n",
    "Выдвинем первую гипотезу и проверим её:\n",
    "1. Нулевая гипотеза: доли пользователей в группах 247 и 248, совершивших событие `MainScreenAppear`, равны.\n",
    "2. Альтернативная гипотеза: доли пользователей в группах 247 и 248, совершивших событие `MainScreenAppear`, различны."
   ]
  },
  {
   "cell_type": "code",
   "execution_count": 53,
   "metadata": {},
   "outputs": [
    {
     "name": "stdout",
     "output_type": "stream",
     "text": [
      "p-значение:  0.4587053616621515\n",
      "Не получилось отвергнуть нулевую гипотезу, нет оснований считать доли разными\n"
     ]
    }
   ],
   "source": [
    "stat_test(exp_247, exp_248, 'MainScreenAppear', alpha)"
   ]
  },
  {
   "cell_type": "markdown",
   "metadata": {},
   "source": [
    "**4.18** P-value показал значение в 0.46, а значит, нет оснований отвергнуть нулевую гипотезу о равенстве долей пользователей, совершивших событие `MainScreenAppear`.\n",
    "\n",
    "Формулируем следующую гипотезу:\n",
    "1. Нулевая гипотеза: доли пользователей в группах 247 и 248, совершивших событие `OffersScreenAppear`, равны.\n",
    "2. Альтернативная гипотеза: доли пользователей в группах 247 и 248, совершивших событие `OffersScreenAppear`, различны."
   ]
  },
  {
   "cell_type": "code",
   "execution_count": 54,
   "metadata": {},
   "outputs": [
    {
     "name": "stdout",
     "output_type": "stream",
     "text": [
      "p-значение:  0.9197817830592261\n",
      "Не получилось отвергнуть нулевую гипотезу, нет оснований считать доли разными\n"
     ]
    }
   ],
   "source": [
    "stat_test(exp_247, exp_248, 'OffersScreenAppear', alpha)"
   ]
  },
  {
   "cell_type": "markdown",
   "metadata": {},
   "source": [
    "**4.19** Здесь значение p-value стремится к единице (0.92). Значит, нет никаких оснований отвергнуть нулевую гипотезу о равенстве долей пользователей в группах 247 и 248, совершивших событие `OffersScreenAppear`.\n",
    "\n",
    "Следующая гипотеза: \n",
    "1. Нулевая гипотеза: доли пользователей в группах 247 и 248, совершивших событие `CartScreenAppear`, равны.\n",
    "2. Альтернативная гипотеза: доли пользователей в группах 247 и 248, совершивших событие `CartScreenAppear`, различны."
   ]
  },
  {
   "cell_type": "code",
   "execution_count": 55,
   "metadata": {},
   "outputs": [
    {
     "name": "stdout",
     "output_type": "stream",
     "text": [
      "p-значение:  0.5786197879539783\n",
      "Не получилось отвергнуть нулевую гипотезу, нет оснований считать доли разными\n"
     ]
    }
   ],
   "source": [
    "stat_test(exp_247, exp_248, 'CartScreenAppear', alpha)"
   ]
  },
  {
   "cell_type": "markdown",
   "metadata": {},
   "source": [
    "**4.20** И здесь мы можем сказать, что нет оснований считать доли пользователей, совершивших событие `CartScreenAppear`, различными: р-value = 0.58.\n",
    "\n",
    "Последняя гипотеза для этих контрольных групп: \n",
    "1. Нулевая гипотеза: доли пользователей в группах 247 и 248, совершивших событие `PaymentScreenSuccessful`, равны.\n",
    "2. Альтернативная гипотеза: доли пользователей в группах 247 и 248, совершивших событие `PaymentScreenSuccessful`, различны."
   ]
  },
  {
   "cell_type": "code",
   "execution_count": 56,
   "metadata": {},
   "outputs": [
    {
     "name": "stdout",
     "output_type": "stream",
     "text": [
      "p-значение:  0.7373415053803964\n",
      "Не получилось отвергнуть нулевую гипотезу, нет оснований считать доли разными\n"
     ]
    }
   ],
   "source": [
    "stat_test(exp_247, exp_248, 'PaymentScreenSuccessful', alpha)"
   ]
  },
  {
   "cell_type": "markdown",
   "metadata": {},
   "source": [
    "**4.21** Р-value = 0.74, а значит, и для события `PaymentScreenSuccessful` нет оснований отвергнуть нулевую гипотезу о равенстве долей пользователей в группах 247 и 248.\n",
    "\n",
    "**Выводы по группам 247 и 248:**\n",
    "При сравнении долей пользователей, совершивших каждое из четырёх событий, p-value был выше уровня статистической значимости. А значит, можно сказать, что изменение шрифта в экспериментальной группе не повлияло на показатели конверсии относительно группы 247. \n",
    "\n",
    "Исходя из прошлых данных, можно сделать вывод по обоим контрольным группам: смена шрифта не оказала значимого влияния на поведение пользователей."
   ]
  },
  {
   "cell_type": "markdown",
   "metadata": {},
   "source": [
    "**4.22** Теперь сравним результаты экспериментальной группы с объединённой контрольной группой. Для этого создадим новый датафрейм, в который войдут группы 246 и 247. "
   ]
  },
  {
   "cell_type": "code",
   "execution_count": 57,
   "metadata": {},
   "outputs": [],
   "source": [
    "exp_246_247 = actual_events.query('exp_id != 248')"
   ]
  },
  {
   "cell_type": "markdown",
   "metadata": {},
   "source": [
    "**4.23** Проверим, правильно ли отфильтровались данные."
   ]
  },
  {
   "cell_type": "code",
   "execution_count": 63,
   "metadata": {},
   "outputs": [
    {
     "name": "stdout",
     "output_type": "stream",
     "text": [
      "0\n"
     ]
    }
   ],
   "source": [
    "print(exp_246_247.query('exp_id == 248')['exp_id'].count())"
   ]
  },
  {
   "cell_type": "markdown",
   "metadata": {},
   "source": [
    "**4.24** Всё верно. Теперь применим функцию для проверки гипотезы о равенстве долей пользователей между объединёнными контрольными и экспериментальной группой. \n",
    "\n",
    "Отметим, что при проверке стат. значимости результаты могут искажаться, так как одно из главных правил проведения A/B-теста — группы должны быть поделены равномерно. Сейчас же контрольная группа у нас примерно в 2 раза больше экспериментальной. \n",
    "\n",
    "Сформулируем сразу все 4 гипотезы и проверим их:\n",
    "1. **Нулевая гипотеза:** доли пользователей в двух контрольных группах и экспериментальной группе, совершивших событие `MainScreenAppear`, равны. **Альтернативная гипотеза:** доли пользователей в двух контрольных группах и экспериментальной группе, совершивших событие `MainScreenAppear`, различны.\n",
    "\n",
    "2. **Нулевая гипотеза:** доли пользователей в двух контрольных группах и экспериментальной группе, совершивших событие `OffersScreenAppear`, равны. **Альтернативная гипотеза:** доли пользователей в двух контрольных группах и экспериментальной группе, совершивших событие `OffersScreenAppear`, различны.\n",
    "\n",
    "3. **Нулевая гипотеза:** доли пользователей в двух контрольных группах и экспериментальной группе, совершивших событие `CartScreenAppear`, равны. **Альтернативная гипотеза:** доли пользователей в двух контрольных группах и экспериментальной группе, совершивших событие `CartScreenAppear`, различны.\n",
    "\n",
    "4. **Нулевая гипотеза:** доли пользователей в двух контрольных группах и экспериментальной группе, совершивших событие `PaymentScreenSuccessful`, равны. **Альтернативная гипотеза:** доли пользователей в двух контрольных группах и экспериментальной группе, совершивших событие `PaymentScreenSuccessful`, различны."
   ]
  },
  {
   "cell_type": "code",
   "execution_count": 59,
   "metadata": {},
   "outputs": [
    {
     "name": "stdout",
     "output_type": "stream",
     "text": [
      "p-значение:  0.29424526837179577\n",
      "Не получилось отвергнуть нулевую гипотезу, нет оснований считать доли разными\n"
     ]
    }
   ],
   "source": [
    "stat_test(exp_246_247, exp_248, 'MainScreenAppear', alpha)"
   ]
  },
  {
   "cell_type": "code",
   "execution_count": 60,
   "metadata": {},
   "outputs": [
    {
     "name": "stdout",
     "output_type": "stream",
     "text": [
      "p-значение:  0.43425549655188256\n",
      "Не получилось отвергнуть нулевую гипотезу, нет оснований считать доли разными\n"
     ]
    }
   ],
   "source": [
    "stat_test(exp_246_247, exp_248, 'OffersScreenAppear', alpha)"
   ]
  },
  {
   "cell_type": "code",
   "execution_count": 61,
   "metadata": {},
   "outputs": [
    {
     "name": "stdout",
     "output_type": "stream",
     "text": [
      "p-значение:  0.18175875284404386\n",
      "Не получилось отвергнуть нулевую гипотезу, нет оснований считать доли разными\n"
     ]
    }
   ],
   "source": [
    "stat_test(exp_246_247, exp_248, 'CartScreenAppear', alpha)"
   ]
  },
  {
   "cell_type": "code",
   "execution_count": 62,
   "metadata": {
    "scrolled": true
   },
   "outputs": [
    {
     "name": "stdout",
     "output_type": "stream",
     "text": [
      "p-значение:  0.6004294282308704\n",
      "Не получилось отвергнуть нулевую гипотезу, нет оснований считать доли разными\n"
     ]
    }
   ],
   "source": [
    "stat_test(exp_246_247, exp_248, 'PaymentScreenSuccessful', alpha)"
   ]
  },
  {
   "cell_type": "markdown",
   "metadata": {},
   "source": [
    "**Выводы по объединённой контрольной группе с экспериментальной:**\n",
    "\n",
    "При сравнении долей пользователей, совершивших каждое из четырёх событий, p-value был намного выше уровня статистической значимости. А значит, можно сказать, что изменение шрифта в экспериментальной группе не повлияло на показатели конверсии относительно обоих контрольных групп."
   ]
  },
  {
   "cell_type": "markdown",
   "metadata": {},
   "source": [
    "**Выводы по 4-му пункту:**\n",
    "\n",
    "В рамках изучения результатов A/A/B-эксперимента было проверено, равны ли доли пользователей, совершивших то или иное событие, в разных группах теста. \n",
    "\n",
    "Были сформулированы 16 гипотез и проверка проводилась между тремя группами (две контрольные и одна экспериментальная) по 4 событиям, имеющимся в логе. \n",
    "\n",
    "В рамках последовательных сравнений долей пользователей между группами был сделан вывод о том, что **изменение шрифта в экспериментальной группе не повлияло на показатели конверсии относительно обоих контрольных групп.**"
   ]
  },
  {
   "cell_type": "markdown",
   "metadata": {},
   "source": [
    "<a id=\"5\"></a>\n",
    "##  Общий вывод"
   ]
  },
  {
   "cell_type": "markdown",
   "metadata": {},
   "source": [
    "**В рамках аналитической работы были предобработаны и изучены данные. В процессе изучения была проведена следующая работа:**\n",
    "\n",
    "1. Выявлено, что в исходном датафрейме есть данные о 243 713 событиях и 7 551 пользователях. При этом количество событий по каждому из типу распределено неравномерно.\n",
    "2. Опредено, что в среднем на пользователя приходится 20 событий.\n",
    "3. Изучено, что изначально мы располагаем данными за период с 25 июля по 7 августа. В связи с неполными данными за конец июля, было принято решение оставить только записи за период с 1 по 7 августа.\n",
    "4. Проверено, что в ходе среза данных мы потеряли записи о 2 826 событиях (1.16%) и всего лишь о 17 пользователях (0.23%), что является незначительным.\n",
    "5. Проверено, что в очищенных данных остались пользователи из всех трёх экспериментальных групп, которые распределены достаточно равномерно.\n",
    "\n",
    "**После изучения данных была сформирована воронка конверсии пользователей при переходе от одного события к другому. При построении воронки мы:**\n",
    "\n",
    "1. Определили, что в данных содержатся 5 типов позиций: `MainScreenAppear` — переход пользователя на главный экран; `OffersScreenAppear` — переход пользователя в раздел с товарами; `CartScreenAppear` — переход пользователя в корзину; `PaymentScreenSuccessful` — успешная оплата товаров пользователем и `Tutorial` — просмотр пользователем руководства по использованию приложения.\n",
    "2. Больше всего событий и пользователей приходятся на `MainScreenAppear` (117 328 и 7 419) соответственно. Затем следует `OffersScreenAppear` (46 333 и 4 593), потом `CartScreenAppear` (42 303 и 3 734), следом `PaymentScreenSuccessful` (33 918 и 3 539) и `Tutorial` (1 005 и 840). \n",
    "3. Было решено, что событие `Tutorial` является опциональным, так как его совершило лишь 11% от всех пользователей. Так что его не учитывали при расчёте воронки.\n",
    "4. Затем была построена воронка перехода пользователей из одного события в другое. Было выявлено, что больше всего пользователей теряется при переходе с главного экрана в каталог товаров. Только 61,9% переходят в каталог с главного экрана. Дальше конверсия показывает хороший результат: более 81% пользователей переходят в корзину после просмотра товаров. И почти 95% от перешедших в корзину оплачивают заказ.\n",
    "5. Доля пользователей, которые доходят от первого события до оплаты, составляет 47,7%.\n",
    "\n",
    "**Также были проанализированы результаты A/A/B-теста, в котором участвовали две контрольные группы (246 и 247) и одна экспериментальная (248). Необходимо было проверить, будут ли различия в долях пользователей, совершивших каждое событие в каждой из контрольных групп, статистически достоверным. В рамках проведения статистических тестов были сделаны следующие выводы:**\n",
    "\n",
    "1. Пользователи равномерно распределены по группам.\n",
    "2. Различия в долях пользователей контрольных групп, совершивших каждое из 4 событий, не имеют статистической значимости. А значит, мы можем сказать, что показатели обоих групп приблизительно равны.\n",
    "3. Изменение шрифта в экспериментальной группе не повлияло на показатели конверсии относительно обоих контрольных групп.\n",
    "\n",
    "\n",
    "**Рекомендации:**\n",
    "1. По общей конверсии пользователей: в целом, показатель конверсии в приложении достаточно хороший: почти 45% посетителей становятся покупателями. Однако только 61,9% клиентов переходят с главного экрана в каталог товаров. Возможно, на главной странице нужно сделать блок с акционными или эксклюзивными товарами (если нет возможности таргета), чтобы привлечь больше пользователей с главного экрана в каталог. Это может помочь увеличить конверсию между первым и вторым шагом в приложении (именно там она проседает). \n",
    "2. По A/A/B-тесту: как показал анализ, изменение шрифта не повлияло на показатели конверсии. Если целью изменения шрифта было увеличить выручку компании, тогда вкладывать бюджет в новый дизайн не имеет смысла. Если же дизайнеры компании хотят поменять шрифт с точки зрения более современного стиля приложения и если на это можно заложить бюджет, то менять шрифт можно, так как такое нововведение не оказывает отрицательное влияние на поведение пользователей. "
   ]
  }
 ],
 "metadata": {
  "ExecuteTimeLog": [
   {
    "duration": 426,
    "start_time": "2024-02-26T10:09:50.502Z"
   },
   {
    "duration": 602,
    "start_time": "2024-02-26T10:09:51.740Z"
   },
   {
    "duration": 304,
    "start_time": "2024-02-26T10:10:15.640Z"
   },
   {
    "duration": 18,
    "start_time": "2024-02-26T10:10:24.836Z"
   },
   {
    "duration": 78,
    "start_time": "2024-02-26T10:10:39.539Z"
   },
   {
    "duration": 125,
    "start_time": "2024-02-26T10:10:47.335Z"
   },
   {
    "duration": 275,
    "start_time": "2024-02-26T10:12:52.323Z"
   },
   {
    "duration": 66,
    "start_time": "2024-02-26T10:13:37.711Z"
   },
   {
    "duration": 266,
    "start_time": "2024-02-26T10:13:40.995Z"
   },
   {
    "duration": 287,
    "start_time": "2024-02-26T10:13:55.805Z"
   },
   {
    "duration": 304,
    "start_time": "2024-02-26T10:14:01.345Z"
   },
   {
    "duration": 289,
    "start_time": "2024-02-26T10:14:09.939Z"
   },
   {
    "duration": 57,
    "start_time": "2024-02-26T10:14:24.057Z"
   },
   {
    "duration": 70,
    "start_time": "2024-02-26T10:15:03.905Z"
   },
   {
    "duration": 33,
    "start_time": "2024-02-26T10:15:14.073Z"
   },
   {
    "duration": 2,
    "start_time": "2024-02-26T10:15:28.302Z"
   },
   {
    "duration": 75,
    "start_time": "2024-02-26T10:15:29.203Z"
   },
   {
    "duration": 553,
    "start_time": "2024-02-26T10:15:50.520Z"
   },
   {
    "duration": 264,
    "start_time": "2024-02-26T10:15:59.690Z"
   },
   {
    "duration": 270,
    "start_time": "2024-02-26T10:18:21.566Z"
   },
   {
    "duration": 285,
    "start_time": "2024-02-26T10:23:40.501Z"
   },
   {
    "duration": 283,
    "start_time": "2024-02-26T10:23:49.038Z"
   },
   {
    "duration": 289,
    "start_time": "2024-02-26T10:25:34.244Z"
   },
   {
    "duration": 158,
    "start_time": "2024-02-26T10:26:27.362Z"
   },
   {
    "duration": 19,
    "start_time": "2024-02-26T10:26:32.255Z"
   },
   {
    "duration": 4,
    "start_time": "2024-02-26T10:30:46.207Z"
   },
   {
    "duration": 57,
    "start_time": "2024-02-26T10:31:36.666Z"
   },
   {
    "duration": 51,
    "start_time": "2024-02-26T10:34:37.994Z"
   },
   {
    "duration": 6,
    "start_time": "2024-02-26T10:35:52.836Z"
   },
   {
    "duration": 603,
    "start_time": "2024-02-26T10:37:09.469Z"
   },
   {
    "duration": 13,
    "start_time": "2024-02-26T10:37:14.031Z"
   },
   {
    "duration": 10,
    "start_time": "2024-02-26T10:37:28.786Z"
   },
   {
    "duration": 5,
    "start_time": "2024-02-26T10:37:31.128Z"
   },
   {
    "duration": 62,
    "start_time": "2024-02-26T10:37:39.407Z"
   },
   {
    "duration": 397,
    "start_time": "2024-02-26T10:46:20.804Z"
   },
   {
    "duration": 177,
    "start_time": "2024-02-26T10:46:21.376Z"
   },
   {
    "duration": 173,
    "start_time": "2024-02-26T10:46:25.044Z"
   },
   {
    "duration": 20,
    "start_time": "2024-02-26T10:46:25.264Z"
   },
   {
    "duration": 3,
    "start_time": "2024-02-26T10:46:26.482Z"
   },
   {
    "duration": 74,
    "start_time": "2024-02-26T10:46:27.496Z"
   },
   {
    "duration": 73,
    "start_time": "2024-02-26T10:46:30.334Z"
   },
   {
    "duration": 20,
    "start_time": "2024-02-26T10:46:31.371Z"
   },
   {
    "duration": 7,
    "start_time": "2024-02-26T10:46:33.324Z"
   },
   {
    "duration": 37,
    "start_time": "2024-02-26T10:46:55.483Z"
   },
   {
    "duration": 7,
    "start_time": "2024-02-26T10:46:55.749Z"
   },
   {
    "duration": 102,
    "start_time": "2024-02-26T10:47:01.301Z"
   },
   {
    "duration": 101,
    "start_time": "2024-02-26T10:47:15.255Z"
   },
   {
    "duration": 3,
    "start_time": "2024-02-26T10:47:30.927Z"
   },
   {
    "duration": 81,
    "start_time": "2024-02-26T10:47:34.808Z"
   },
   {
    "duration": 76,
    "start_time": "2024-02-26T10:47:53.850Z"
   },
   {
    "duration": 3,
    "start_time": "2024-02-26T10:49:38.273Z"
   },
   {
    "duration": 169,
    "start_time": "2024-02-26T10:49:39.064Z"
   },
   {
    "duration": 20,
    "start_time": "2024-02-26T10:49:41.167Z"
   },
   {
    "duration": 3,
    "start_time": "2024-02-26T10:49:43.682Z"
   },
   {
    "duration": 57,
    "start_time": "2024-02-26T10:49:44.383Z"
   },
   {
    "duration": 61,
    "start_time": "2024-02-26T10:49:47.220Z"
   },
   {
    "duration": 36,
    "start_time": "2024-02-26T10:49:49.232Z"
   },
   {
    "duration": 7,
    "start_time": "2024-02-26T10:50:07.192Z"
   },
   {
    "duration": 10,
    "start_time": "2024-02-26T10:50:13.435Z"
   },
   {
    "duration": 8,
    "start_time": "2024-02-26T10:50:14.306Z"
   },
   {
    "duration": 348,
    "start_time": "2024-02-26T10:52:50.460Z"
   },
   {
    "duration": 178,
    "start_time": "2024-02-26T10:52:50.876Z"
   },
   {
    "duration": 22,
    "start_time": "2024-02-26T10:52:51.114Z"
   },
   {
    "duration": 3,
    "start_time": "2024-02-26T10:52:51.624Z"
   },
   {
    "duration": 60,
    "start_time": "2024-02-26T10:52:52.142Z"
   },
   {
    "duration": 89,
    "start_time": "2024-02-26T10:52:52.648Z"
   },
   {
    "duration": 7,
    "start_time": "2024-02-26T10:53:04.829Z"
   },
   {
    "duration": 8,
    "start_time": "2024-02-26T10:53:05.136Z"
   },
   {
    "duration": 109,
    "start_time": "2024-02-26T10:54:44.926Z"
   },
   {
    "duration": 9,
    "start_time": "2024-02-26T10:54:45.633Z"
   },
   {
    "duration": 29,
    "start_time": "2024-02-26T10:55:03.133Z"
   },
   {
    "duration": 62,
    "start_time": "2024-02-26T10:56:04.020Z"
   },
   {
    "duration": 14,
    "start_time": "2024-02-26T10:56:09.567Z"
   },
   {
    "duration": 8,
    "start_time": "2024-02-26T10:56:10.196Z"
   },
   {
    "duration": 81,
    "start_time": "2024-02-26T10:56:20.989Z"
   },
   {
    "duration": 9,
    "start_time": "2024-02-26T10:56:22.228Z"
   },
   {
    "duration": 52,
    "start_time": "2024-02-26T10:56:23.035Z"
   },
   {
    "duration": 6,
    "start_time": "2024-02-26T11:08:59.187Z"
   },
   {
    "duration": 19,
    "start_time": "2024-02-26T11:09:08.789Z"
   },
   {
    "duration": 33,
    "start_time": "2024-02-26T11:10:11.967Z"
   },
   {
    "duration": 7,
    "start_time": "2024-02-26T11:16:20.859Z"
   },
   {
    "duration": 25,
    "start_time": "2024-02-26T12:06:51.381Z"
   },
   {
    "duration": 24,
    "start_time": "2024-02-26T12:07:22.988Z"
   },
   {
    "duration": 22,
    "start_time": "2024-02-26T12:07:41.498Z"
   },
   {
    "duration": 1356,
    "start_time": "2024-02-26T12:09:18.514Z"
   },
   {
    "duration": 33,
    "start_time": "2024-02-26T12:10:14.486Z"
   },
   {
    "duration": 69,
    "start_time": "2024-02-26T12:21:23.691Z"
   },
   {
    "duration": 8,
    "start_time": "2024-02-26T12:23:32.665Z"
   },
   {
    "duration": 55,
    "start_time": "2024-02-26T12:23:39.902Z"
   },
   {
    "duration": 55,
    "start_time": "2024-02-26T12:23:44.296Z"
   },
   {
    "duration": 669,
    "start_time": "2024-02-26T12:23:46.432Z"
   },
   {
    "duration": 3,
    "start_time": "2024-02-26T12:24:20.706Z"
   },
   {
    "duration": 289,
    "start_time": "2024-02-26T12:24:28.884Z"
   },
   {
    "duration": 279,
    "start_time": "2024-02-26T12:24:37.880Z"
   },
   {
    "duration": 293,
    "start_time": "2024-02-26T12:25:14.183Z"
   },
   {
    "duration": 292,
    "start_time": "2024-02-26T12:25:26.462Z"
   },
   {
    "duration": 274,
    "start_time": "2024-02-26T12:25:53.322Z"
   },
   {
    "duration": 189,
    "start_time": "2024-02-26T12:27:51.567Z"
   },
   {
    "duration": 81,
    "start_time": "2024-02-26T12:28:25.345Z"
   },
   {
    "duration": 117,
    "start_time": "2024-02-26T12:29:44.077Z"
   },
   {
    "duration": 156,
    "start_time": "2024-02-26T12:29:58.999Z"
   },
   {
    "duration": 280,
    "start_time": "2024-02-26T12:30:07.721Z"
   },
   {
    "duration": 280,
    "start_time": "2024-02-26T12:30:32.778Z"
   },
   {
    "duration": 287,
    "start_time": "2024-02-26T12:31:07.377Z"
   },
   {
    "duration": 8,
    "start_time": "2024-02-26T12:34:14.739Z"
   },
   {
    "duration": 47,
    "start_time": "2024-02-26T12:34:26.126Z"
   },
   {
    "duration": 39,
    "start_time": "2024-02-26T12:37:10.126Z"
   },
   {
    "duration": 312,
    "start_time": "2024-02-26T12:37:29.636Z"
   },
   {
    "duration": 59,
    "start_time": "2024-02-26T12:37:50.907Z"
   },
   {
    "duration": 354,
    "start_time": "2024-02-26T12:38:34.616Z"
   },
   {
    "duration": 4,
    "start_time": "2024-02-26T12:38:42.000Z"
   },
   {
    "duration": 353,
    "start_time": "2024-02-26T12:38:45.987Z"
   },
   {
    "duration": 329,
    "start_time": "2024-02-26T12:39:11.091Z"
   },
   {
    "duration": 295,
    "start_time": "2024-02-26T12:39:35.599Z"
   },
   {
    "duration": 44,
    "start_time": "2024-02-26T12:39:52.249Z"
   },
   {
    "duration": 358,
    "start_time": "2024-02-26T12:40:04.188Z"
   },
   {
    "duration": 357,
    "start_time": "2024-02-26T12:40:59.872Z"
   },
   {
    "duration": 73,
    "start_time": "2024-02-26T12:43:32.389Z"
   },
   {
    "duration": 1081,
    "start_time": "2024-02-26T12:43:42.467Z"
   },
   {
    "duration": 1135,
    "start_time": "2024-02-26T12:44:04.257Z"
   },
   {
    "duration": 16,
    "start_time": "2024-02-26T12:45:29.017Z"
   },
   {
    "duration": 20,
    "start_time": "2024-02-26T12:45:35.207Z"
   },
   {
    "duration": 84,
    "start_time": "2024-02-26T12:47:01.632Z"
   },
   {
    "duration": 79,
    "start_time": "2024-02-26T12:47:09.943Z"
   },
   {
    "duration": 21,
    "start_time": "2024-02-26T12:47:14.420Z"
   },
   {
    "duration": 222,
    "start_time": "2024-02-26T12:48:16.247Z"
   },
   {
    "duration": 303,
    "start_time": "2024-02-26T12:49:25.355Z"
   },
   {
    "duration": 365,
    "start_time": "2024-02-26T12:50:30.540Z"
   },
   {
    "duration": 366,
    "start_time": "2024-02-26T12:50:57.740Z"
   },
   {
    "duration": 385,
    "start_time": "2024-02-26T12:51:10.261Z"
   },
   {
    "duration": 375,
    "start_time": "2024-02-26T12:51:17.993Z"
   },
   {
    "duration": 363,
    "start_time": "2024-02-26T12:51:24.461Z"
   },
   {
    "duration": 403,
    "start_time": "2024-02-26T12:51:30.690Z"
   },
   {
    "duration": 381,
    "start_time": "2024-02-26T12:51:34.765Z"
   },
   {
    "duration": 400,
    "start_time": "2024-02-26T12:52:04.874Z"
   },
   {
    "duration": 395,
    "start_time": "2024-02-26T12:55:17.820Z"
   },
   {
    "duration": 375,
    "start_time": "2024-02-26T12:55:45.459Z"
   },
   {
    "duration": 393,
    "start_time": "2024-02-26T12:56:42.098Z"
   },
   {
    "duration": 407,
    "start_time": "2024-02-26T12:57:52.252Z"
   },
   {
    "duration": 399,
    "start_time": "2024-02-26T12:57:55.911Z"
   },
   {
    "duration": 370,
    "start_time": "2024-02-26T12:58:37.960Z"
   },
   {
    "duration": 403,
    "start_time": "2024-02-26T12:59:55.579Z"
   },
   {
    "duration": 372,
    "start_time": "2024-02-26T13:00:12.308Z"
   },
   {
    "duration": 377,
    "start_time": "2024-02-26T13:01:24.796Z"
   },
   {
    "duration": 232,
    "start_time": "2024-02-26T13:02:51.434Z"
   },
   {
    "duration": 184,
    "start_time": "2024-02-26T13:03:04.692Z"
   },
   {
    "duration": 193,
    "start_time": "2024-02-26T13:03:25.029Z"
   },
   {
    "duration": 14,
    "start_time": "2024-02-26T13:04:33.610Z"
   },
   {
    "duration": 399,
    "start_time": "2024-02-26T13:05:10.689Z"
   },
   {
    "duration": 392,
    "start_time": "2024-02-26T13:05:19.547Z"
   },
   {
    "duration": 211,
    "start_time": "2024-02-26T13:06:29.073Z"
   },
   {
    "duration": 8,
    "start_time": "2024-02-26T13:06:55.405Z"
   },
   {
    "duration": 191,
    "start_time": "2024-02-26T13:07:08.014Z"
   },
   {
    "duration": 185,
    "start_time": "2024-02-26T13:07:09.298Z"
   },
   {
    "duration": 6,
    "start_time": "2024-02-26T13:07:10.962Z"
   },
   {
    "duration": 196,
    "start_time": "2024-02-26T13:07:56.399Z"
   },
   {
    "duration": 184,
    "start_time": "2024-02-26T13:08:00.793Z"
   },
   {
    "duration": 102,
    "start_time": "2024-02-26T13:08:20.118Z"
   },
   {
    "duration": 238,
    "start_time": "2024-02-26T13:08:30.242Z"
   },
   {
    "duration": 102,
    "start_time": "2024-02-26T13:09:14.862Z"
   },
   {
    "duration": 5,
    "start_time": "2024-02-26T13:09:18.196Z"
   },
   {
    "duration": 106,
    "start_time": "2024-02-26T13:10:48.999Z"
   },
   {
    "duration": 146,
    "start_time": "2024-02-26T13:10:58.219Z"
   },
   {
    "duration": 81,
    "start_time": "2024-02-26T13:12:47.444Z"
   },
   {
    "duration": 5,
    "start_time": "2024-02-26T13:12:58.719Z"
   },
   {
    "duration": 191,
    "start_time": "2024-02-26T13:15:10.536Z"
   },
   {
    "duration": 5,
    "start_time": "2024-02-26T13:15:13.505Z"
   },
   {
    "duration": 219,
    "start_time": "2024-02-26T13:19:05.182Z"
   },
   {
    "duration": 213,
    "start_time": "2024-02-26T13:19:11.750Z"
   },
   {
    "duration": 190,
    "start_time": "2024-02-26T13:19:16.874Z"
   },
   {
    "duration": 31,
    "start_time": "2024-02-26T13:19:56.257Z"
   },
   {
    "duration": 35,
    "start_time": "2024-02-26T13:21:49.615Z"
   },
   {
    "duration": 62,
    "start_time": "2024-02-26T13:22:37.296Z"
   },
   {
    "duration": 60,
    "start_time": "2024-02-26T13:23:11.451Z"
   },
   {
    "duration": 118,
    "start_time": "2024-02-26T13:26:50.816Z"
   },
   {
    "duration": 80,
    "start_time": "2024-02-26T13:27:14.749Z"
   },
   {
    "duration": 256,
    "start_time": "2024-02-26T13:27:33.941Z"
   },
   {
    "duration": 82,
    "start_time": "2024-02-26T13:27:53.876Z"
   },
   {
    "duration": 108,
    "start_time": "2024-02-26T13:27:59.410Z"
   },
   {
    "duration": 69,
    "start_time": "2024-02-26T13:28:07.407Z"
   },
   {
    "duration": 37,
    "start_time": "2024-02-26T13:28:28.198Z"
   },
   {
    "duration": 26,
    "start_time": "2024-02-26T13:44:20.224Z"
   },
   {
    "duration": 24,
    "start_time": "2024-02-26T13:47:46.936Z"
   },
   {
    "duration": 11,
    "start_time": "2024-02-26T13:50:50.758Z"
   },
   {
    "duration": 29,
    "start_time": "2024-02-26T14:30:24.342Z"
   },
   {
    "duration": 25,
    "start_time": "2024-02-26T14:34:58.446Z"
   },
   {
    "duration": 24,
    "start_time": "2024-02-26T14:36:23.176Z"
   },
   {
    "duration": 23,
    "start_time": "2024-02-26T14:36:35.367Z"
   },
   {
    "duration": 54,
    "start_time": "2024-02-26T14:44:19.961Z"
   },
   {
    "duration": 51,
    "start_time": "2024-02-26T14:44:26.103Z"
   },
   {
    "duration": 51,
    "start_time": "2024-02-26T14:48:39.911Z"
   },
   {
    "duration": 63,
    "start_time": "2024-02-26T14:48:46.057Z"
   },
   {
    "duration": 52,
    "start_time": "2024-02-26T14:49:24.153Z"
   },
   {
    "duration": 56,
    "start_time": "2024-02-26T14:49:27.436Z"
   },
   {
    "duration": 68,
    "start_time": "2024-02-26T14:49:59.249Z"
   },
   {
    "duration": 100,
    "start_time": "2024-02-26T14:50:31.651Z"
   },
   {
    "duration": 56,
    "start_time": "2024-02-26T14:50:41.798Z"
   },
   {
    "duration": 59,
    "start_time": "2024-02-26T14:50:54.807Z"
   },
   {
    "duration": 55,
    "start_time": "2024-02-26T14:51:16.497Z"
   },
   {
    "duration": 55,
    "start_time": "2024-02-26T14:51:31.295Z"
   },
   {
    "duration": 56,
    "start_time": "2024-02-26T14:51:39.343Z"
   },
   {
    "duration": 55,
    "start_time": "2024-02-26T14:51:54.843Z"
   },
   {
    "duration": 90,
    "start_time": "2024-02-26T14:51:58.083Z"
   },
   {
    "duration": 56,
    "start_time": "2024-02-26T14:52:02.579Z"
   },
   {
    "duration": 55,
    "start_time": "2024-02-26T14:52:10.124Z"
   },
   {
    "duration": 95,
    "start_time": "2024-02-26T14:52:50.280Z"
   },
   {
    "duration": 73,
    "start_time": "2024-02-26T14:53:03.614Z"
   },
   {
    "duration": 88,
    "start_time": "2024-02-26T14:54:03.034Z"
   },
   {
    "duration": 9,
    "start_time": "2024-02-26T14:54:04.454Z"
   },
   {
    "duration": 80,
    "start_time": "2024-02-26T14:54:10.901Z"
   },
   {
    "duration": 8,
    "start_time": "2024-02-26T14:54:12.144Z"
   },
   {
    "duration": 1378,
    "start_time": "2024-02-26T14:56:09.589Z"
   },
   {
    "duration": 59,
    "start_time": "2024-02-26T14:56:23.598Z"
   },
   {
    "duration": 67,
    "start_time": "2024-02-26T14:57:44.647Z"
   },
   {
    "duration": 7,
    "start_time": "2024-02-26T15:26:03.203Z"
   },
   {
    "duration": 6,
    "start_time": "2024-02-26T15:26:14.209Z"
   },
   {
    "duration": 10,
    "start_time": "2024-02-26T15:28:18.411Z"
   },
   {
    "duration": 49,
    "start_time": "2024-02-26T15:28:30.756Z"
   },
   {
    "duration": 50,
    "start_time": "2024-02-26T15:28:33.712Z"
   },
   {
    "duration": 55,
    "start_time": "2024-02-26T15:28:51.831Z"
   },
   {
    "duration": 54,
    "start_time": "2024-02-26T15:28:57.592Z"
   },
   {
    "duration": 51,
    "start_time": "2024-02-26T15:29:03.956Z"
   },
   {
    "duration": 54,
    "start_time": "2024-02-26T15:30:14.632Z"
   },
   {
    "duration": 53,
    "start_time": "2024-02-26T15:30:17.792Z"
   },
   {
    "duration": 8,
    "start_time": "2024-02-26T15:33:57.340Z"
   },
   {
    "duration": 8,
    "start_time": "2024-02-26T15:34:46.849Z"
   },
   {
    "duration": 9,
    "start_time": "2024-02-26T15:35:56.735Z"
   },
   {
    "duration": 14,
    "start_time": "2024-02-26T15:36:19.146Z"
   },
   {
    "duration": 8,
    "start_time": "2024-02-26T15:36:26.623Z"
   },
   {
    "duration": 9,
    "start_time": "2024-02-26T15:37:15.291Z"
   },
   {
    "duration": 8,
    "start_time": "2024-02-26T15:37:25.941Z"
   },
   {
    "duration": 51,
    "start_time": "2024-02-26T15:37:33.837Z"
   },
   {
    "duration": 9,
    "start_time": "2024-02-26T15:37:37.097Z"
   },
   {
    "duration": 143,
    "start_time": "2024-02-26T15:39:58.456Z"
   },
   {
    "duration": 164,
    "start_time": "2024-02-26T15:40:57.816Z"
   },
   {
    "duration": 111,
    "start_time": "2024-02-26T15:41:26.484Z"
   },
   {
    "duration": 1242,
    "start_time": "2024-02-26T15:41:43.528Z"
   },
   {
    "duration": 107,
    "start_time": "2024-02-26T15:41:53.104Z"
   },
   {
    "duration": 139,
    "start_time": "2024-02-26T15:42:16.720Z"
   },
   {
    "duration": 1201,
    "start_time": "2024-02-26T15:42:31.283Z"
   },
   {
    "duration": 149,
    "start_time": "2024-02-26T15:42:35.492Z"
   },
   {
    "duration": 124,
    "start_time": "2024-02-26T15:43:14.625Z"
   },
   {
    "duration": 130,
    "start_time": "2024-02-26T15:43:45.959Z"
   },
   {
    "duration": 78,
    "start_time": "2024-02-26T15:43:57.831Z"
   },
   {
    "duration": 125,
    "start_time": "2024-02-26T15:44:00.777Z"
   },
   {
    "duration": 9,
    "start_time": "2024-02-26T15:44:25.859Z"
   },
   {
    "duration": 8,
    "start_time": "2024-02-26T15:44:29.986Z"
   },
   {
    "duration": 8,
    "start_time": "2024-02-26T15:44:41.442Z"
   },
   {
    "duration": 8,
    "start_time": "2024-02-26T15:47:08.124Z"
   },
   {
    "duration": 8,
    "start_time": "2024-02-26T15:47:20.292Z"
   },
   {
    "duration": 210,
    "start_time": "2024-02-26T15:47:28.128Z"
   },
   {
    "duration": 134,
    "start_time": "2024-02-26T15:48:50.427Z"
   },
   {
    "duration": 15,
    "start_time": "2024-02-26T15:49:13.203Z"
   },
   {
    "duration": 9,
    "start_time": "2024-02-26T15:49:30.927Z"
   },
   {
    "duration": 175,
    "start_time": "2024-02-26T15:49:34.020Z"
   },
   {
    "duration": 9,
    "start_time": "2024-02-26T15:50:11.638Z"
   },
   {
    "duration": 8,
    "start_time": "2024-02-26T15:50:18.119Z"
   },
   {
    "duration": 9,
    "start_time": "2024-02-26T15:50:32.349Z"
   },
   {
    "duration": 131,
    "start_time": "2024-02-26T15:50:53.245Z"
   },
   {
    "duration": 132,
    "start_time": "2024-02-26T15:51:07.752Z"
   },
   {
    "duration": 131,
    "start_time": "2024-02-26T15:51:16.349Z"
   },
   {
    "duration": 131,
    "start_time": "2024-02-26T15:51:25.532Z"
   },
   {
    "duration": 127,
    "start_time": "2024-02-26T15:51:56.197Z"
   },
   {
    "duration": 129,
    "start_time": "2024-02-26T15:52:26.396Z"
   },
   {
    "duration": 126,
    "start_time": "2024-02-26T15:52:44.768Z"
   },
   {
    "duration": 6,
    "start_time": "2024-02-26T15:58:04.683Z"
   },
   {
    "duration": 1184,
    "start_time": "2024-02-26T15:58:21.225Z"
   },
   {
    "duration": 73,
    "start_time": "2024-02-26T16:00:24.890Z"
   },
   {
    "duration": 59,
    "start_time": "2024-02-26T16:01:10.580Z"
   },
   {
    "duration": 56,
    "start_time": "2024-02-26T16:01:41.032Z"
   },
   {
    "duration": 62,
    "start_time": "2024-02-26T16:02:01.955Z"
   },
   {
    "duration": 7,
    "start_time": "2024-02-26T16:02:43.997Z"
   },
   {
    "duration": 8,
    "start_time": "2024-02-26T16:02:52.703Z"
   },
   {
    "duration": 7,
    "start_time": "2024-02-26T16:02:55.879Z"
   },
   {
    "duration": 9,
    "start_time": "2024-02-26T16:03:10.443Z"
   },
   {
    "duration": 61,
    "start_time": "2024-02-26T16:04:11.744Z"
   },
   {
    "duration": 6,
    "start_time": "2024-02-26T16:04:19.017Z"
   },
   {
    "duration": 57,
    "start_time": "2024-02-26T16:04:28.661Z"
   },
   {
    "duration": 9,
    "start_time": "2024-02-26T16:04:31.718Z"
   },
   {
    "duration": 6,
    "start_time": "2024-02-26T16:04:45.776Z"
   },
   {
    "duration": 8,
    "start_time": "2024-02-26T16:06:08.840Z"
   },
   {
    "duration": 54,
    "start_time": "2024-02-26T16:06:13.390Z"
   },
   {
    "duration": 7,
    "start_time": "2024-02-26T16:06:16.419Z"
   },
   {
    "duration": 9,
    "start_time": "2024-02-26T16:06:19.016Z"
   },
   {
    "duration": 11,
    "start_time": "2024-02-26T16:06:50.494Z"
   },
   {
    "duration": 113,
    "start_time": "2024-02-26T16:07:29.413Z"
   },
   {
    "duration": 15,
    "start_time": "2024-02-26T16:07:32.687Z"
   },
   {
    "duration": 14,
    "start_time": "2024-02-26T16:07:46.146Z"
   },
   {
    "duration": 2352,
    "start_time": "2024-02-26T16:09:28.886Z"
   },
   {
    "duration": 19,
    "start_time": "2024-02-26T16:09:43.710Z"
   },
   {
    "duration": 18,
    "start_time": "2024-02-26T16:10:01.705Z"
   },
   {
    "duration": 19,
    "start_time": "2024-02-26T16:10:09.861Z"
   },
   {
    "duration": 164,
    "start_time": "2024-02-26T16:10:16.199Z"
   },
   {
    "duration": 232,
    "start_time": "2024-02-26T16:10:45.210Z"
   },
   {
    "duration": 136,
    "start_time": "2024-02-26T16:12:00.933Z"
   },
   {
    "duration": 135,
    "start_time": "2024-02-26T16:17:47.626Z"
   },
   {
    "duration": 142,
    "start_time": "2024-02-26T16:18:30.053Z"
   },
   {
    "duration": 147,
    "start_time": "2024-02-26T16:18:37.568Z"
   },
   {
    "duration": 81,
    "start_time": "2024-02-26T16:20:11.677Z"
   },
   {
    "duration": 133,
    "start_time": "2024-02-26T16:20:15.855Z"
   },
   {
    "duration": 139,
    "start_time": "2024-02-26T16:20:26.768Z"
   },
   {
    "duration": 139,
    "start_time": "2024-02-26T16:20:33.564Z"
   },
   {
    "duration": 225,
    "start_time": "2024-02-26T16:20:37.476Z"
   },
   {
    "duration": 146,
    "start_time": "2024-02-26T16:20:45.382Z"
   },
   {
    "duration": 133,
    "start_time": "2024-02-26T16:21:00.775Z"
   },
   {
    "duration": 135,
    "start_time": "2024-02-26T16:21:07.033Z"
   },
   {
    "duration": 229,
    "start_time": "2024-02-26T16:21:16.089Z"
   },
   {
    "duration": 4,
    "start_time": "2024-02-26T16:21:47.782Z"
   },
   {
    "duration": 135,
    "start_time": "2024-02-26T16:22:05.966Z"
   },
   {
    "duration": 133,
    "start_time": "2024-02-26T16:22:09.452Z"
   },
   {
    "duration": 140,
    "start_time": "2024-02-26T16:22:12.325Z"
   },
   {
    "duration": 143,
    "start_time": "2024-02-26T16:22:15.604Z"
   },
   {
    "duration": 143,
    "start_time": "2024-02-26T16:22:18.920Z"
   },
   {
    "duration": 146,
    "start_time": "2024-02-26T16:22:23.196Z"
   },
   {
    "duration": 133,
    "start_time": "2024-02-26T16:22:25.892Z"
   },
   {
    "duration": 128,
    "start_time": "2024-02-26T16:22:27.855Z"
   },
   {
    "duration": 132,
    "start_time": "2024-02-26T16:22:32.891Z"
   },
   {
    "duration": 132,
    "start_time": "2024-02-26T16:22:36.833Z"
   },
   {
    "duration": 140,
    "start_time": "2024-02-26T16:22:39.939Z"
   },
   {
    "duration": 225,
    "start_time": "2024-02-26T16:22:45.728Z"
   },
   {
    "duration": 136,
    "start_time": "2024-02-26T16:22:48.985Z"
   },
   {
    "duration": 142,
    "start_time": "2024-02-26T16:23:07.801Z"
   },
   {
    "duration": 141,
    "start_time": "2024-02-26T16:23:12.787Z"
   },
   {
    "duration": 157,
    "start_time": "2024-02-26T16:23:16.087Z"
   },
   {
    "duration": 135,
    "start_time": "2024-02-26T16:24:05.899Z"
   },
   {
    "duration": 154,
    "start_time": "2024-02-26T16:25:05.548Z"
   },
   {
    "duration": 135,
    "start_time": "2024-02-26T16:25:24.060Z"
   },
   {
    "duration": 127,
    "start_time": "2024-02-26T16:25:57.847Z"
   },
   {
    "duration": 1090,
    "start_time": "2024-02-26T16:26:32.796Z"
   },
   {
    "duration": 4,
    "start_time": "2024-02-26T16:29:28.936Z"
   },
   {
    "duration": 8,
    "start_time": "2024-02-26T16:29:44.659Z"
   },
   {
    "duration": 5,
    "start_time": "2024-02-26T16:29:56.572Z"
   },
   {
    "duration": 5,
    "start_time": "2024-02-26T16:30:05.486Z"
   },
   {
    "duration": 99,
    "start_time": "2024-02-26T16:31:08.384Z"
   },
   {
    "duration": 3,
    "start_time": "2024-02-26T16:31:19.340Z"
   },
   {
    "duration": 4,
    "start_time": "2024-02-26T16:31:55.687Z"
   },
   {
    "duration": 847,
    "start_time": "2024-02-27T14:18:49.525Z"
   },
   {
    "duration": 736,
    "start_time": "2024-02-27T14:18:50.374Z"
   },
   {
    "duration": 39,
    "start_time": "2024-02-27T14:18:51.113Z"
   },
   {
    "duration": 3,
    "start_time": "2024-02-27T14:18:51.155Z"
   },
   {
    "duration": 72,
    "start_time": "2024-02-27T14:18:51.160Z"
   },
   {
    "duration": 87,
    "start_time": "2024-02-27T14:18:51.233Z"
   },
   {
    "duration": 90,
    "start_time": "2024-02-27T14:18:51.322Z"
   },
   {
    "duration": 10,
    "start_time": "2024-02-27T14:18:51.413Z"
   },
   {
    "duration": 40,
    "start_time": "2024-02-27T14:18:51.424Z"
   },
   {
    "duration": 32,
    "start_time": "2024-02-27T14:18:51.467Z"
   },
   {
    "duration": 10,
    "start_time": "2024-02-27T14:18:51.501Z"
   },
   {
    "duration": 50,
    "start_time": "2024-02-27T14:18:51.513Z"
   },
   {
    "duration": 31,
    "start_time": "2024-02-27T14:18:51.564Z"
   },
   {
    "duration": 85,
    "start_time": "2024-02-27T14:18:51.597Z"
   },
   {
    "duration": 306,
    "start_time": "2024-02-27T14:18:51.683Z"
   },
   {
    "duration": 230,
    "start_time": "2024-02-27T14:18:51.991Z"
   },
   {
    "duration": 228,
    "start_time": "2024-02-27T14:18:52.223Z"
   },
   {
    "duration": 8,
    "start_time": "2024-02-27T14:18:52.453Z"
   },
   {
    "duration": 253,
    "start_time": "2024-02-27T14:18:52.463Z"
   },
   {
    "duration": 41,
    "start_time": "2024-02-27T14:18:52.717Z"
   },
   {
    "duration": 14,
    "start_time": "2024-02-27T14:18:52.760Z"
   },
   {
    "duration": 42,
    "start_time": "2024-02-27T14:18:52.775Z"
   },
   {
    "duration": 23,
    "start_time": "2024-02-27T14:18:52.819Z"
   },
   {
    "duration": 68,
    "start_time": "2024-02-27T14:18:52.843Z"
   },
   {
    "duration": 6,
    "start_time": "2024-02-27T14:18:52.913Z"
   },
   {
    "duration": 13,
    "start_time": "2024-02-27T14:18:52.921Z"
   },
   {
    "duration": 163,
    "start_time": "2024-02-27T14:18:52.936Z"
   },
   {
    "duration": 80,
    "start_time": "2024-02-27T14:18:53.102Z"
   },
   {
    "duration": 4,
    "start_time": "2024-02-27T14:19:35.694Z"
   },
   {
    "duration": 14,
    "start_time": "2024-02-27T14:20:38.953Z"
   },
   {
    "duration": 36,
    "start_time": "2024-02-27T14:21:30.107Z"
   },
   {
    "duration": 88,
    "start_time": "2024-02-27T14:28:28.301Z"
   },
   {
    "duration": 98,
    "start_time": "2024-02-27T14:29:00.272Z"
   },
   {
    "duration": 77,
    "start_time": "2024-02-27T14:29:08.047Z"
   },
   {
    "duration": 76,
    "start_time": "2024-02-27T14:29:22.375Z"
   },
   {
    "duration": 93,
    "start_time": "2024-02-27T14:29:33.887Z"
   },
   {
    "duration": 79,
    "start_time": "2024-02-27T14:29:46.911Z"
   },
   {
    "duration": 133,
    "start_time": "2024-02-27T14:30:11.750Z"
   },
   {
    "duration": 74,
    "start_time": "2024-02-27T14:30:19.322Z"
   },
   {
    "duration": 92,
    "start_time": "2024-02-27T14:34:47.461Z"
   },
   {
    "duration": 5,
    "start_time": "2024-02-27T14:35:25.049Z"
   },
   {
    "duration": 28,
    "start_time": "2024-02-27T14:41:44.992Z"
   },
   {
    "duration": 11,
    "start_time": "2024-02-27T14:41:53.760Z"
   },
   {
    "duration": 20,
    "start_time": "2024-02-27T14:42:01.258Z"
   },
   {
    "duration": 20,
    "start_time": "2024-02-27T14:42:10.202Z"
   },
   {
    "duration": 24,
    "start_time": "2024-02-27T14:42:18.123Z"
   },
   {
    "duration": 8,
    "start_time": "2024-02-27T14:44:01.365Z"
   },
   {
    "duration": 413,
    "start_time": "2024-02-27T14:44:22.247Z"
   },
   {
    "duration": 19,
    "start_time": "2024-02-27T14:44:29.125Z"
   },
   {
    "duration": 18,
    "start_time": "2024-02-27T14:44:36.857Z"
   },
   {
    "duration": 19,
    "start_time": "2024-02-27T14:45:42.438Z"
   },
   {
    "duration": 21,
    "start_time": "2024-02-27T14:45:49.626Z"
   },
   {
    "duration": 20,
    "start_time": "2024-02-27T14:48:23.419Z"
   },
   {
    "duration": 56,
    "start_time": "2024-02-27T14:51:59.486Z"
   },
   {
    "duration": 23,
    "start_time": "2024-02-27T14:52:11.912Z"
   },
   {
    "duration": 100,
    "start_time": "2024-02-27T14:55:20.473Z"
   },
   {
    "duration": 110,
    "start_time": "2024-02-27T14:55:34.232Z"
   },
   {
    "duration": 98,
    "start_time": "2024-02-27T14:56:08.707Z"
   },
   {
    "duration": 104,
    "start_time": "2024-02-27T14:57:05.363Z"
   },
   {
    "duration": 6,
    "start_time": "2024-02-27T14:57:14.904Z"
   },
   {
    "duration": 6,
    "start_time": "2024-02-27T14:57:28.078Z"
   },
   {
    "duration": 102,
    "start_time": "2024-02-27T14:58:17.545Z"
   },
   {
    "duration": 3,
    "start_time": "2024-02-27T14:58:23.194Z"
   },
   {
    "duration": 95,
    "start_time": "2024-02-27T14:58:37.540Z"
   },
   {
    "duration": 8,
    "start_time": "2024-02-27T14:58:41.942Z"
   },
   {
    "duration": 2,
    "start_time": "2024-02-27T14:58:42.657Z"
   },
   {
    "duration": 8,
    "start_time": "2024-02-27T14:58:50.186Z"
   },
   {
    "duration": 120,
    "start_time": "2024-02-27T14:59:06.389Z"
   },
   {
    "duration": 8,
    "start_time": "2024-02-27T14:59:18.222Z"
   },
   {
    "duration": 9,
    "start_time": "2024-02-27T15:00:07.818Z"
   },
   {
    "duration": 8,
    "start_time": "2024-02-27T15:00:51.179Z"
   },
   {
    "duration": 8,
    "start_time": "2024-02-27T15:00:57.898Z"
   },
   {
    "duration": 8,
    "start_time": "2024-02-27T15:01:08.532Z"
   },
   {
    "duration": 5,
    "start_time": "2024-02-27T15:01:32.753Z"
   },
   {
    "duration": 29,
    "start_time": "2024-02-27T15:01:33.328Z"
   },
   {
    "duration": 21,
    "start_time": "2024-02-27T15:01:47.105Z"
   },
   {
    "duration": 22,
    "start_time": "2024-02-27T15:02:07.870Z"
   },
   {
    "duration": 83,
    "start_time": "2024-02-27T15:03:37.351Z"
   },
   {
    "duration": 8,
    "start_time": "2024-02-27T15:11:07.846Z"
   },
   {
    "duration": 2,
    "start_time": "2024-02-27T15:18:32.089Z"
   },
   {
    "duration": 4,
    "start_time": "2024-02-27T15:18:37.222Z"
   },
   {
    "duration": 2,
    "start_time": "2024-02-27T15:18:40.241Z"
   },
   {
    "duration": 21,
    "start_time": "2024-02-27T15:23:08.488Z"
   },
   {
    "duration": 16,
    "start_time": "2024-02-27T15:24:59.670Z"
   },
   {
    "duration": 16,
    "start_time": "2024-02-27T15:27:15.495Z"
   },
   {
    "duration": 17,
    "start_time": "2024-02-27T15:28:54.811Z"
   },
   {
    "duration": 25,
    "start_time": "2024-02-27T15:59:58.321Z"
   },
   {
    "duration": 17,
    "start_time": "2024-02-27T16:00:15.613Z"
   },
   {
    "duration": 18,
    "start_time": "2024-02-27T16:00:32.111Z"
   },
   {
    "duration": 18,
    "start_time": "2024-02-27T16:00:51.927Z"
   },
   {
    "duration": 21,
    "start_time": "2024-02-27T16:01:19.194Z"
   },
   {
    "duration": 16,
    "start_time": "2024-02-27T16:01:32.128Z"
   },
   {
    "duration": 17,
    "start_time": "2024-02-27T16:01:46.518Z"
   },
   {
    "duration": 23,
    "start_time": "2024-02-27T16:02:04.485Z"
   },
   {
    "duration": 17,
    "start_time": "2024-02-27T16:24:58.708Z"
   },
   {
    "duration": 25,
    "start_time": "2024-02-27T16:25:07.394Z"
   },
   {
    "duration": 18,
    "start_time": "2024-02-27T16:25:35.278Z"
   },
   {
    "duration": 19,
    "start_time": "2024-02-27T16:25:53.895Z"
   },
   {
    "duration": 12,
    "start_time": "2024-02-27T16:26:02.524Z"
   },
   {
    "duration": 7,
    "start_time": "2024-02-27T16:26:31.998Z"
   },
   {
    "duration": 34,
    "start_time": "2024-02-27T16:30:38.854Z"
   },
   {
    "duration": 20,
    "start_time": "2024-02-27T16:30:54.953Z"
   },
   {
    "duration": 21,
    "start_time": "2024-02-27T16:31:04.344Z"
   },
   {
    "duration": 21,
    "start_time": "2024-02-27T16:31:14.241Z"
   },
   {
    "duration": 1155,
    "start_time": "2024-02-27T17:08:12.348Z"
   },
   {
    "duration": 196,
    "start_time": "2024-02-27T17:08:17.698Z"
   },
   {
    "duration": 23,
    "start_time": "2024-02-27T17:08:21.372Z"
   },
   {
    "duration": 3,
    "start_time": "2024-02-27T17:08:43.227Z"
   },
   {
    "duration": 73,
    "start_time": "2024-02-27T17:08:45.924Z"
   },
   {
    "duration": 85,
    "start_time": "2024-02-27T17:09:01.582Z"
   },
   {
    "duration": 80,
    "start_time": "2024-02-27T17:09:13.748Z"
   },
   {
    "duration": 8,
    "start_time": "2024-02-27T17:09:14.119Z"
   },
   {
    "duration": 31,
    "start_time": "2024-02-27T17:09:16.500Z"
   },
   {
    "duration": 43,
    "start_time": "2024-02-27T17:10:08.000Z"
   },
   {
    "duration": 10,
    "start_time": "2024-02-27T17:10:47.001Z"
   },
   {
    "duration": 14,
    "start_time": "2024-02-27T17:11:22.893Z"
   },
   {
    "duration": 33,
    "start_time": "2024-02-27T17:11:35.216Z"
   },
   {
    "duration": 66,
    "start_time": "2024-02-27T17:12:05.641Z"
   },
   {
    "duration": 338,
    "start_time": "2024-02-27T17:12:11.011Z"
   },
   {
    "duration": 200,
    "start_time": "2024-02-27T17:13:31.526Z"
   },
   {
    "duration": 196,
    "start_time": "2024-02-27T17:14:24.483Z"
   },
   {
    "duration": 6,
    "start_time": "2024-02-27T17:14:26.723Z"
   },
   {
    "duration": 224,
    "start_time": "2024-02-27T17:15:13.590Z"
   },
   {
    "duration": 33,
    "start_time": "2024-02-27T17:15:18.602Z"
   },
   {
    "duration": 16,
    "start_time": "2024-02-27T17:15:49.481Z"
   },
   {
    "duration": 33,
    "start_time": "2024-02-27T17:16:00.877Z"
   },
   {
    "duration": 24,
    "start_time": "2024-02-27T17:18:47.109Z"
   },
   {
    "duration": 56,
    "start_time": "2024-02-27T17:20:06.087Z"
   },
   {
    "duration": 7,
    "start_time": "2024-02-27T17:21:08.612Z"
   },
   {
    "duration": 11,
    "start_time": "2024-02-27T17:21:26.381Z"
   },
   {
    "duration": 154,
    "start_time": "2024-02-27T17:21:42.635Z"
   },
   {
    "duration": 4,
    "start_time": "2024-02-27T17:22:22.977Z"
   },
   {
    "duration": 12,
    "start_time": "2024-02-27T17:31:54.279Z"
   },
   {
    "duration": 34,
    "start_time": "2024-02-27T17:32:03.670Z"
   },
   {
    "duration": 75,
    "start_time": "2024-02-27T17:33:40.694Z"
   },
   {
    "duration": 23,
    "start_time": "2024-02-27T17:34:03.710Z"
   },
   {
    "duration": 20,
    "start_time": "2024-02-27T17:34:06.158Z"
   },
   {
    "duration": 19,
    "start_time": "2024-02-27T17:34:08.255Z"
   },
   {
    "duration": 7,
    "start_time": "2024-02-27T17:34:15.057Z"
   },
   {
    "duration": 3,
    "start_time": "2024-02-27T17:35:12.218Z"
   },
   {
    "duration": 22,
    "start_time": "2024-02-27T17:35:35.295Z"
   },
   {
    "duration": 18,
    "start_time": "2024-02-27T17:35:46.047Z"
   },
   {
    "duration": 18,
    "start_time": "2024-02-27T17:36:09.525Z"
   },
   {
    "duration": 20,
    "start_time": "2024-02-27T17:36:31.180Z"
   },
   {
    "duration": 23,
    "start_time": "2024-02-27T17:37:23.350Z"
   },
   {
    "duration": 18,
    "start_time": "2024-02-27T17:37:31.602Z"
   },
   {
    "duration": 22,
    "start_time": "2024-02-27T17:37:49.639Z"
   },
   {
    "duration": 16,
    "start_time": "2024-02-27T17:38:04.071Z"
   },
   {
    "duration": 29,
    "start_time": "2024-02-27T17:38:34.490Z"
   },
   {
    "duration": 17,
    "start_time": "2024-02-27T17:38:47.710Z"
   },
   {
    "duration": 22,
    "start_time": "2024-02-27T17:39:02.749Z"
   },
   {
    "duration": 17,
    "start_time": "2024-02-27T17:39:11.853Z"
   },
   {
    "duration": 18,
    "start_time": "2024-02-27T17:39:42.917Z"
   },
   {
    "duration": 8,
    "start_time": "2024-02-27T17:39:45.364Z"
   },
   {
    "duration": 29,
    "start_time": "2024-02-27T17:40:24.825Z"
   },
   {
    "duration": 20,
    "start_time": "2024-02-27T17:40:25.266Z"
   },
   {
    "duration": 22,
    "start_time": "2024-02-27T17:40:25.658Z"
   },
   {
    "duration": 22,
    "start_time": "2024-02-27T17:40:26.045Z"
   },
   {
    "duration": 51,
    "start_time": "2024-02-28T11:23:00.487Z"
   },
   {
    "duration": 1385,
    "start_time": "2024-02-28T11:23:10.215Z"
   },
   {
    "duration": 798,
    "start_time": "2024-02-28T11:23:11.602Z"
   },
   {
    "duration": 40,
    "start_time": "2024-02-28T11:23:13.069Z"
   },
   {
    "duration": 3,
    "start_time": "2024-02-28T11:23:14.163Z"
   },
   {
    "duration": 72,
    "start_time": "2024-02-28T11:23:14.712Z"
   },
   {
    "duration": 82,
    "start_time": "2024-02-28T11:23:15.855Z"
   },
   {
    "duration": 93,
    "start_time": "2024-02-28T11:23:16.531Z"
   },
   {
    "duration": 10,
    "start_time": "2024-02-28T11:23:16.811Z"
   },
   {
    "duration": 51,
    "start_time": "2024-02-28T11:23:17.721Z"
   },
   {
    "duration": 35,
    "start_time": "2024-02-28T11:23:19.954Z"
   },
   {
    "duration": 124,
    "start_time": "2024-02-28T11:23:20.766Z"
   },
   {
    "duration": 43,
    "start_time": "2024-02-28T11:23:27.389Z"
   },
   {
    "duration": 42,
    "start_time": "2024-02-28T11:23:49.272Z"
   },
   {
    "duration": 40,
    "start_time": "2024-02-28T11:26:38.308Z"
   },
   {
    "duration": 28,
    "start_time": "2024-02-28T11:27:39.583Z"
   },
   {
    "duration": 8,
    "start_time": "2024-02-28T11:27:40.358Z"
   },
   {
    "duration": 13,
    "start_time": "2024-02-28T11:27:41.402Z"
   },
   {
    "duration": 16,
    "start_time": "2024-02-28T11:28:59.663Z"
   },
   {
    "duration": 20,
    "start_time": "2024-02-28T11:29:16.425Z"
   },
   {
    "duration": 19,
    "start_time": "2024-02-28T11:29:59.079Z"
   },
   {
    "duration": 16,
    "start_time": "2024-02-28T11:30:29.459Z"
   },
   {
    "duration": 13,
    "start_time": "2024-02-28T11:32:46.788Z"
   },
   {
    "duration": 38,
    "start_time": "2024-02-28T11:37:31.356Z"
   },
   {
    "duration": 78,
    "start_time": "2024-02-28T11:37:32.902Z"
   },
   {
    "duration": 334,
    "start_time": "2024-02-28T11:37:35.482Z"
   },
   {
    "duration": 225,
    "start_time": "2024-02-28T11:37:40.946Z"
   },
   {
    "duration": 222,
    "start_time": "2024-02-28T11:37:41.730Z"
   },
   {
    "duration": 9,
    "start_time": "2024-02-28T11:37:56.511Z"
   },
   {
    "duration": 234,
    "start_time": "2024-02-28T11:38:08.214Z"
   },
   {
    "duration": 50,
    "start_time": "2024-02-28T11:38:10.939Z"
   },
   {
    "duration": 20,
    "start_time": "2024-02-28T11:38:14.535Z"
   },
   {
    "duration": 14,
    "start_time": "2024-02-28T11:40:21.370Z"
   },
   {
    "duration": 14,
    "start_time": "2024-02-28T11:40:44.378Z"
   },
   {
    "duration": 16,
    "start_time": "2024-02-28T11:41:57.599Z"
   },
   {
    "duration": 28,
    "start_time": "2024-02-28T11:42:37.171Z"
   },
   {
    "duration": 20,
    "start_time": "2024-02-28T11:43:05.529Z"
   },
   {
    "duration": 32,
    "start_time": "2024-02-28T11:43:21.707Z"
   },
   {
    "duration": 36,
    "start_time": "2024-02-28T11:45:53.656Z"
   },
   {
    "duration": 66,
    "start_time": "2024-02-28T11:45:56.469Z"
   },
   {
    "duration": 8,
    "start_time": "2024-02-28T11:46:12.427Z"
   },
   {
    "duration": 11,
    "start_time": "2024-02-28T11:46:13.381Z"
   },
   {
    "duration": 156,
    "start_time": "2024-02-28T11:46:16.032Z"
   },
   {
    "duration": 4,
    "start_time": "2024-02-28T11:46:19.542Z"
   },
   {
    "duration": 17,
    "start_time": "2024-02-28T11:50:20.565Z"
   },
   {
    "duration": 110,
    "start_time": "2024-02-28T11:50:31.667Z"
   },
   {
    "duration": 119,
    "start_time": "2024-02-28T11:51:47.643Z"
   },
   {
    "duration": 4,
    "start_time": "2024-02-28T11:52:21.248Z"
   },
   {
    "duration": 4,
    "start_time": "2024-02-28T11:52:38.454Z"
   },
   {
    "duration": 16,
    "start_time": "2024-02-28T11:52:43.168Z"
   },
   {
    "duration": 17,
    "start_time": "2024-02-28T11:53:00.717Z"
   },
   {
    "duration": 1871,
    "start_time": "2024-02-28T11:53:24.093Z"
   },
   {
    "duration": 13,
    "start_time": "2024-02-28T11:53:33.794Z"
   },
   {
    "duration": 1590,
    "start_time": "2024-02-28T11:53:42.799Z"
   },
   {
    "duration": 10,
    "start_time": "2024-02-28T11:55:03.624Z"
   },
   {
    "duration": 3815,
    "start_time": "2024-02-28T11:55:24.404Z"
   },
   {
    "duration": 184,
    "start_time": "2024-02-28T11:55:47.780Z"
   },
   {
    "duration": 1730,
    "start_time": "2024-02-28T11:56:36.069Z"
   },
   {
    "duration": 1572,
    "start_time": "2024-02-28T11:57:05.796Z"
   },
   {
    "duration": 1709,
    "start_time": "2024-02-28T11:59:08.655Z"
   },
   {
    "duration": 2290,
    "start_time": "2024-02-28T11:59:30.995Z"
   },
   {
    "duration": 103,
    "start_time": "2024-02-28T12:01:36.296Z"
   },
   {
    "duration": 1713,
    "start_time": "2024-02-28T12:01:40.845Z"
   },
   {
    "duration": 1683,
    "start_time": "2024-02-28T12:01:53.566Z"
   },
   {
    "duration": 5,
    "start_time": "2024-02-28T12:02:12.362Z"
   },
   {
    "duration": 20,
    "start_time": "2024-02-28T12:03:43.321Z"
   },
   {
    "duration": 25,
    "start_time": "2024-02-28T12:03:59.964Z"
   },
   {
    "duration": 34,
    "start_time": "2024-02-28T12:04:05.279Z"
   },
   {
    "duration": 4,
    "start_time": "2024-02-28T12:05:38.270Z"
   },
   {
    "duration": 40,
    "start_time": "2024-02-28T12:05:43.987Z"
   },
   {
    "duration": 129,
    "start_time": "2024-02-28T12:06:18.692Z"
   },
   {
    "duration": 11,
    "start_time": "2024-02-28T12:10:13.527Z"
   },
   {
    "duration": 9,
    "start_time": "2024-02-28T12:10:48.516Z"
   },
   {
    "duration": 5,
    "start_time": "2024-02-28T12:11:14.403Z"
   },
   {
    "duration": 16,
    "start_time": "2024-02-28T12:11:33.385Z"
   },
   {
    "duration": 3,
    "start_time": "2024-02-28T12:12:20.420Z"
   },
   {
    "duration": 10,
    "start_time": "2024-02-28T12:12:29.228Z"
   },
   {
    "duration": 147,
    "start_time": "2024-02-28T12:13:06.413Z"
   },
   {
    "duration": 16,
    "start_time": "2024-02-28T12:14:03.866Z"
   },
   {
    "duration": 18,
    "start_time": "2024-02-28T12:15:02.026Z"
   },
   {
    "duration": 9,
    "start_time": "2024-02-28T12:15:12.942Z"
   },
   {
    "duration": 18,
    "start_time": "2024-02-28T12:18:16.593Z"
   },
   {
    "duration": 10,
    "start_time": "2024-02-28T12:18:36.775Z"
   },
   {
    "duration": 17,
    "start_time": "2024-02-28T12:20:10.534Z"
   },
   {
    "duration": 20,
    "start_time": "2024-02-28T12:20:41.145Z"
   },
   {
    "duration": 23,
    "start_time": "2024-02-28T12:20:47.400Z"
   },
   {
    "duration": 18,
    "start_time": "2024-02-28T12:21:00.217Z"
   },
   {
    "duration": 13,
    "start_time": "2024-02-28T12:21:06.393Z"
   },
   {
    "duration": 10,
    "start_time": "2024-02-28T12:21:30.112Z"
   },
   {
    "duration": 10,
    "start_time": "2024-02-28T12:21:38.149Z"
   },
   {
    "duration": 101,
    "start_time": "2024-02-28T12:22:10.209Z"
   },
   {
    "duration": 10,
    "start_time": "2024-02-28T12:22:16.408Z"
   },
   {
    "duration": 16,
    "start_time": "2024-02-28T12:23:41.792Z"
   },
   {
    "duration": 16,
    "start_time": "2024-02-28T12:23:48.590Z"
   },
   {
    "duration": 9,
    "start_time": "2024-02-28T12:24:03.276Z"
   },
   {
    "duration": 11,
    "start_time": "2024-02-28T12:24:21.852Z"
   },
   {
    "duration": 6,
    "start_time": "2024-02-28T12:24:57.608Z"
   },
   {
    "duration": 10,
    "start_time": "2024-02-28T12:25:27.752Z"
   },
   {
    "duration": 34,
    "start_time": "2024-02-28T12:25:28.846Z"
   },
   {
    "duration": 80,
    "start_time": "2024-02-28T12:25:30.042Z"
   },
   {
    "duration": 282,
    "start_time": "2024-02-28T12:25:30.524Z"
   },
   {
    "duration": 452,
    "start_time": "2024-02-28T12:25:30.808Z"
   },
   {
    "duration": 867,
    "start_time": "2024-02-28T12:25:31.262Z"
   },
   {
    "duration": 271,
    "start_time": "2024-02-28T12:25:32.132Z"
   },
   {
    "duration": 158,
    "start_time": "2024-02-28T12:25:32.405Z"
   },
   {
    "duration": 225,
    "start_time": "2024-02-28T12:25:32.608Z"
   },
   {
    "duration": 34,
    "start_time": "2024-02-28T12:25:33.083Z"
   },
   {
    "duration": 475,
    "start_time": "2024-02-28T12:25:33.548Z"
   },
   {
    "duration": 138,
    "start_time": "2024-02-28T12:25:34.033Z"
   },
   {
    "duration": 34,
    "start_time": "2024-02-28T12:25:34.976Z"
   },
   {
    "duration": 21,
    "start_time": "2024-02-28T12:25:35.545Z"
   },
   {
    "duration": 22,
    "start_time": "2024-02-28T12:25:36.012Z"
   },
   {
    "duration": 18,
    "start_time": "2024-02-28T12:25:36.556Z"
   },
   {
    "duration": 23,
    "start_time": "2024-02-28T12:25:37.412Z"
   },
   {
    "duration": 20,
    "start_time": "2024-02-28T12:25:37.932Z"
   },
   {
    "duration": 20,
    "start_time": "2024-02-28T12:25:38.425Z"
   },
   {
    "duration": 17,
    "start_time": "2024-02-28T12:25:38.934Z"
   },
   {
    "duration": 15,
    "start_time": "2024-02-28T12:25:39.656Z"
   },
   {
    "duration": 9,
    "start_time": "2024-02-28T12:25:40.104Z"
   },
   {
    "duration": 30,
    "start_time": "2024-02-28T12:25:41.038Z"
   },
   {
    "duration": 26,
    "start_time": "2024-02-28T12:25:41.318Z"
   },
   {
    "duration": 26,
    "start_time": "2024-02-28T12:25:41.536Z"
   },
   {
    "duration": 21,
    "start_time": "2024-02-28T12:25:41.760Z"
   },
   {
    "duration": 1293,
    "start_time": "2024-02-28T14:40:23.661Z"
   },
   {
    "duration": 701,
    "start_time": "2024-02-28T14:40:24.957Z"
   },
   {
    "duration": 23,
    "start_time": "2024-02-28T14:40:25.660Z"
   },
   {
    "duration": 3,
    "start_time": "2024-02-28T14:40:25.684Z"
   },
   {
    "duration": 70,
    "start_time": "2024-02-28T14:40:25.689Z"
   },
   {
    "duration": 79,
    "start_time": "2024-02-28T14:40:25.770Z"
   },
   {
    "duration": 100,
    "start_time": "2024-02-28T14:40:25.851Z"
   },
   {
    "duration": 17,
    "start_time": "2024-02-28T14:40:25.953Z"
   },
   {
    "duration": 39,
    "start_time": "2024-02-28T14:40:25.971Z"
   },
   {
    "duration": 44,
    "start_time": "2024-02-28T14:40:26.014Z"
   },
   {
    "duration": 26,
    "start_time": "2024-02-28T14:40:26.070Z"
   },
   {
    "duration": 8,
    "start_time": "2024-02-28T14:40:26.098Z"
   },
   {
    "duration": 33,
    "start_time": "2024-02-28T14:40:26.108Z"
   },
   {
    "duration": 48,
    "start_time": "2024-02-28T14:40:26.143Z"
   },
   {
    "duration": 85,
    "start_time": "2024-02-28T14:40:26.193Z"
   },
   {
    "duration": 318,
    "start_time": "2024-02-28T14:40:26.280Z"
   },
   {
    "duration": 208,
    "start_time": "2024-02-28T14:40:26.600Z"
   },
   {
    "duration": 213,
    "start_time": "2024-02-28T14:40:26.810Z"
   },
   {
    "duration": 13,
    "start_time": "2024-02-28T14:40:27.025Z"
   },
   {
    "duration": 219,
    "start_time": "2024-02-28T14:40:27.039Z"
   },
   {
    "duration": 36,
    "start_time": "2024-02-28T14:40:27.259Z"
   },
   {
    "duration": 22,
    "start_time": "2024-02-28T14:40:27.296Z"
   },
   {
    "duration": 57,
    "start_time": "2024-02-28T14:40:27.319Z"
   },
   {
    "duration": 25,
    "start_time": "2024-02-28T14:40:27.377Z"
   },
   {
    "duration": 75,
    "start_time": "2024-02-28T14:40:27.403Z"
   },
   {
    "duration": 7,
    "start_time": "2024-02-28T14:40:27.479Z"
   },
   {
    "duration": 12,
    "start_time": "2024-02-28T14:40:27.488Z"
   },
   {
    "duration": 279,
    "start_time": "2024-02-28T14:40:27.504Z"
   },
   {
    "duration": 4,
    "start_time": "2024-02-28T14:40:27.784Z"
   },
   {
    "duration": 13,
    "start_time": "2024-02-28T14:40:27.789Z"
   },
   {
    "duration": 85,
    "start_time": "2024-02-28T14:40:27.803Z"
   },
   {
    "duration": 127,
    "start_time": "2024-02-28T14:40:27.890Z"
   },
   {
    "duration": 16,
    "start_time": "2024-02-28T14:40:28.019Z"
   },
   {
    "duration": 34,
    "start_time": "2024-02-28T14:40:28.036Z"
   },
   {
    "duration": 18,
    "start_time": "2024-02-28T14:40:28.071Z"
   },
   {
    "duration": 5,
    "start_time": "2024-02-28T14:40:28.091Z"
   },
   {
    "duration": 5,
    "start_time": "2024-02-28T14:40:28.098Z"
   },
   {
    "duration": 41,
    "start_time": "2024-02-28T14:40:28.105Z"
   },
   {
    "duration": 23,
    "start_time": "2024-02-28T14:40:28.147Z"
   },
   {
    "duration": 19,
    "start_time": "2024-02-28T14:40:28.171Z"
   },
   {
    "duration": 22,
    "start_time": "2024-02-28T14:40:28.191Z"
   },
   {
    "duration": 28,
    "start_time": "2024-02-28T14:40:28.214Z"
   },
   {
    "duration": 31,
    "start_time": "2024-02-28T14:40:28.244Z"
   },
   {
    "duration": 16,
    "start_time": "2024-02-28T14:40:28.276Z"
   },
   {
    "duration": 17,
    "start_time": "2024-02-28T14:40:28.294Z"
   },
   {
    "duration": 21,
    "start_time": "2024-02-28T14:40:28.312Z"
   },
   {
    "duration": 42,
    "start_time": "2024-02-28T14:40:28.335Z"
   },
   {
    "duration": 16,
    "start_time": "2024-02-28T14:40:28.379Z"
   },
   {
    "duration": 28,
    "start_time": "2024-02-28T14:40:28.397Z"
   },
   {
    "duration": 14,
    "start_time": "2024-02-28T14:40:28.427Z"
   },
   {
    "duration": 8,
    "start_time": "2024-02-28T14:40:28.443Z"
   },
   {
    "duration": 50,
    "start_time": "2024-02-28T14:40:28.452Z"
   },
   {
    "duration": 19,
    "start_time": "2024-02-28T14:40:28.503Z"
   },
   {
    "duration": 22,
    "start_time": "2024-02-28T14:40:28.523Z"
   },
   {
    "duration": 39,
    "start_time": "2024-02-28T14:40:28.546Z"
   }
  ],
  "kernelspec": {
   "display_name": "Python 3 (ipykernel)",
   "language": "python",
   "name": "python3"
  },
  "language_info": {
   "codemirror_mode": {
    "name": "ipython",
    "version": 3
   },
   "file_extension": ".py",
   "mimetype": "text/x-python",
   "name": "python",
   "nbconvert_exporter": "python",
   "pygments_lexer": "ipython3",
   "version": "3.12.4"
  },
  "toc": {
   "base_numbering": 1,
   "nav_menu": {},
   "number_sections": true,
   "sideBar": true,
   "skip_h1_title": true,
   "title_cell": "Table of Contents",
   "title_sidebar": "Contents",
   "toc_cell": false,
   "toc_position": {},
   "toc_section_display": true,
   "toc_window_display": false
  }
 },
 "nbformat": 4,
 "nbformat_minor": 4
}
