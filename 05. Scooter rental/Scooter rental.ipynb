{
 "cells": [
  {
   "cell_type": "markdown",
   "id": "7755cf6b",
   "metadata": {},
   "source": [
    "# Исследовательский анализ аренды самокатов\n",
    "\n",
    "Нужно проанализировать данные популярного сервиса аренды самокатов GoFast. Они содержат информацию о некоторых пользователях из нескольких городов, а также об их поездках. После анализа данных необходимо проверить некоторые гипотезы, которые могут помочь бизнесу вырасти.\n",
    "Чтобы совершать поездки по городу, пользователи сервиса GoFast пользуются мобильным приложением. Сервисом можно пользоваться:\n",
    "\n",
    "**Без подписки**\n",
    "- абонентская плата отсутствует;\n",
    "- стоимость одной минуты поездки — 8 рублей;\n",
    "- стоимость старта (начала поездки) — 50 рублей.\n",
    "\n",
    "**С подпиской Ultra**\n",
    "-  абонентская плата — 199 рублей в месяц;\n",
    "- стоимость одной минуты поездки — 6 рублей;\n",
    "- стоимость старта — бесплатно.\n",
    "\n",
    "В рамках исследования мы:\n",
    "1. Познакомимся с данными для работы. \n",
    "2. Обработаем их на предмет пропусков и дубликатов. \n",
    "3. Опишем и визуализируем общую информацию о пользователях и поездках.\n",
    "4. Проведём необходимые агрегации и дополнительные подсчёты, которые помогут нам проверить гипотезы. \n",
    "5. Проверим гипотезы заказчика и сделаем по ним выводы. "
   ]
  },
  {
   "cell_type": "markdown",
   "id": "2dafe726-d2f6-4efb-a4ca-654b2e502397",
   "metadata": {},
   "source": [
    "**Оглавление:**\n",
    "1. [Изучение данных](#1)\n",
    "2. [Предобработка данных](#2)\n",
    "3. [Исследовательский анализ данных](#3)\n",
    "4. [Объединение данных](#4)\n",
    "5. [Подсчёт выручки](#5)\n",
    "6. [Проверка гипотез](#6)\n",
    "7. [Общий вывод](#7)"
   ]
  },
  {
   "cell_type": "markdown",
   "id": "591475ac",
   "metadata": {},
   "source": [
    "<a id=\"1\"></a>\n",
    "## Изучение данных"
   ]
  },
  {
   "cell_type": "markdown",
   "id": "2d2b8776",
   "metadata": {},
   "source": [
    "Подгружаем необходимые для работы библиотеки."
   ]
  },
  {
   "cell_type": "code",
   "execution_count": 1,
   "id": "eab59bc8",
   "metadata": {},
   "outputs": [],
   "source": [
    "import pandas as pd\n",
    "import matplotlib.pyplot as plt\n",
    "import numpy as np\n",
    "import scipy.stats as st\n",
    "from scipy.stats import binom\n",
    "from math import sqrt"
   ]
  },
  {
   "cell_type": "markdown",
   "id": "34d4a26e",
   "metadata": {},
   "source": [
    "**1.1** Сохраним 3 датафрейма с необходимыми для работы данными в 3 переменные:\n",
    "\n",
    "`users` - данные о пользователях, их поездках и подписках.\n",
    "\n",
    "`rides` - данные о поездках.\n",
    "\n",
    "`subscription` - данные о подписках.\n"
   ]
  },
  {
   "cell_type": "code",
   "execution_count": 2,
   "id": "5ec2fb0b",
   "metadata": {},
   "outputs": [],
   "source": [
    "users = pd.read_csv('datasets/users_go.csv')\n",
    "rides = pd.read_csv('datasets/rides_go.csv')\n",
    "subscription = pd.read_csv('datasets/subscriptions_go.csv')"
   ]
  },
  {
   "cell_type": "markdown",
   "id": "3e401af0",
   "metadata": {},
   "source": [
    "**1.2** Выведем первые строки каждого набора данных и изучим общую информацию о каждом датафрейме."
   ]
  },
  {
   "cell_type": "code",
   "execution_count": 3,
   "id": "94fb7f5e",
   "metadata": {},
   "outputs": [
    {
     "data": {
      "text/html": [
       "<div>\n",
       "<style scoped>\n",
       "    .dataframe tbody tr th:only-of-type {\n",
       "        vertical-align: middle;\n",
       "    }\n",
       "\n",
       "    .dataframe tbody tr th {\n",
       "        vertical-align: top;\n",
       "    }\n",
       "\n",
       "    .dataframe thead th {\n",
       "        text-align: right;\n",
       "    }\n",
       "</style>\n",
       "<table border=\"1\" class=\"dataframe\">\n",
       "  <thead>\n",
       "    <tr style=\"text-align: right;\">\n",
       "      <th></th>\n",
       "      <th>user_id</th>\n",
       "      <th>name</th>\n",
       "      <th>age</th>\n",
       "      <th>city</th>\n",
       "      <th>subscription_type</th>\n",
       "    </tr>\n",
       "  </thead>\n",
       "  <tbody>\n",
       "    <tr>\n",
       "      <th>0</th>\n",
       "      <td>1</td>\n",
       "      <td>Кира</td>\n",
       "      <td>22</td>\n",
       "      <td>Тюмень</td>\n",
       "      <td>ultra</td>\n",
       "    </tr>\n",
       "    <tr>\n",
       "      <th>1</th>\n",
       "      <td>2</td>\n",
       "      <td>Станислав</td>\n",
       "      <td>31</td>\n",
       "      <td>Омск</td>\n",
       "      <td>ultra</td>\n",
       "    </tr>\n",
       "    <tr>\n",
       "      <th>2</th>\n",
       "      <td>3</td>\n",
       "      <td>Алексей</td>\n",
       "      <td>20</td>\n",
       "      <td>Москва</td>\n",
       "      <td>ultra</td>\n",
       "    </tr>\n",
       "    <tr>\n",
       "      <th>3</th>\n",
       "      <td>4</td>\n",
       "      <td>Константин</td>\n",
       "      <td>26</td>\n",
       "      <td>Ростов-на-Дону</td>\n",
       "      <td>ultra</td>\n",
       "    </tr>\n",
       "    <tr>\n",
       "      <th>4</th>\n",
       "      <td>5</td>\n",
       "      <td>Адель</td>\n",
       "      <td>28</td>\n",
       "      <td>Омск</td>\n",
       "      <td>ultra</td>\n",
       "    </tr>\n",
       "    <tr>\n",
       "      <th>5</th>\n",
       "      <td>6</td>\n",
       "      <td>Регина</td>\n",
       "      <td>25</td>\n",
       "      <td>Краснодар</td>\n",
       "      <td>ultra</td>\n",
       "    </tr>\n",
       "    <tr>\n",
       "      <th>6</th>\n",
       "      <td>7</td>\n",
       "      <td>Игорь</td>\n",
       "      <td>23</td>\n",
       "      <td>Омск</td>\n",
       "      <td>ultra</td>\n",
       "    </tr>\n",
       "    <tr>\n",
       "      <th>7</th>\n",
       "      <td>8</td>\n",
       "      <td>Юрий</td>\n",
       "      <td>23</td>\n",
       "      <td>Краснодар</td>\n",
       "      <td>ultra</td>\n",
       "    </tr>\n",
       "    <tr>\n",
       "      <th>8</th>\n",
       "      <td>9</td>\n",
       "      <td>Ян</td>\n",
       "      <td>21</td>\n",
       "      <td>Пятигорск</td>\n",
       "      <td>ultra</td>\n",
       "    </tr>\n",
       "    <tr>\n",
       "      <th>9</th>\n",
       "      <td>10</td>\n",
       "      <td>Валерий</td>\n",
       "      <td>18</td>\n",
       "      <td>Екатеринбург</td>\n",
       "      <td>ultra</td>\n",
       "    </tr>\n",
       "  </tbody>\n",
       "</table>\n",
       "</div>"
      ],
      "text/plain": [
       "   user_id        name  age            city subscription_type\n",
       "0        1        Кира   22          Тюмень             ultra\n",
       "1        2   Станислав   31            Омск             ultra\n",
       "2        3     Алексей   20          Москва             ultra\n",
       "3        4  Константин   26  Ростов-на-Дону             ultra\n",
       "4        5       Адель   28            Омск             ultra\n",
       "5        6      Регина   25       Краснодар             ultra\n",
       "6        7       Игорь   23            Омск             ultra\n",
       "7        8        Юрий   23       Краснодар             ultra\n",
       "8        9          Ян   21       Пятигорск             ultra\n",
       "9       10     Валерий   18    Екатеринбург             ultra"
      ]
     },
     "execution_count": 3,
     "metadata": {},
     "output_type": "execute_result"
    }
   ],
   "source": [
    "users.head(10)"
   ]
  },
  {
   "cell_type": "code",
   "execution_count": 4,
   "id": "8f628e19",
   "metadata": {
    "scrolled": true
   },
   "outputs": [
    {
     "name": "stdout",
     "output_type": "stream",
     "text": [
      "<class 'pandas.core.frame.DataFrame'>\n",
      "RangeIndex: 1565 entries, 0 to 1564\n",
      "Data columns (total 5 columns):\n",
      " #   Column             Non-Null Count  Dtype \n",
      "---  ------             --------------  ----- \n",
      " 0   user_id            1565 non-null   int64 \n",
      " 1   name               1565 non-null   object\n",
      " 2   age                1565 non-null   int64 \n",
      " 3   city               1565 non-null   object\n",
      " 4   subscription_type  1565 non-null   object\n",
      "dtypes: int64(2), object(3)\n",
      "memory usage: 61.3+ KB\n"
     ]
    }
   ],
   "source": [
    "users.info()"
   ]
  },
  {
   "cell_type": "markdown",
   "id": "4aef4d1f",
   "metadata": {},
   "source": [
    "**1.3** Датафрейм `users` состоит из 1 565 строк и 5 столбцов:\n",
    "\n",
    "`user_id` - уникальный идентификатор пользователя.\n",
    "\n",
    "`name` - имя пользователя.\n",
    "\n",
    "`age` - возраст пользователя.\n",
    "\n",
    "`city` - город.\n",
    "\n",
    "`subscription_type` - тип подписки (free, ultra).\n",
    "\n",
    "В данных нет пропусков, а типы данных каждого из столбов соответствуют содержанию."
   ]
  },
  {
   "cell_type": "code",
   "execution_count": 5,
   "id": "4614368c",
   "metadata": {},
   "outputs": [
    {
     "data": {
      "text/html": [
       "<div>\n",
       "<style scoped>\n",
       "    .dataframe tbody tr th:only-of-type {\n",
       "        vertical-align: middle;\n",
       "    }\n",
       "\n",
       "    .dataframe tbody tr th {\n",
       "        vertical-align: top;\n",
       "    }\n",
       "\n",
       "    .dataframe thead th {\n",
       "        text-align: right;\n",
       "    }\n",
       "</style>\n",
       "<table border=\"1\" class=\"dataframe\">\n",
       "  <thead>\n",
       "    <tr style=\"text-align: right;\">\n",
       "      <th></th>\n",
       "      <th>user_id</th>\n",
       "      <th>distance</th>\n",
       "      <th>duration</th>\n",
       "      <th>date</th>\n",
       "    </tr>\n",
       "  </thead>\n",
       "  <tbody>\n",
       "    <tr>\n",
       "      <th>0</th>\n",
       "      <td>1</td>\n",
       "      <td>4409.919140</td>\n",
       "      <td>25.599769</td>\n",
       "      <td>2021-01-01</td>\n",
       "    </tr>\n",
       "    <tr>\n",
       "      <th>1</th>\n",
       "      <td>1</td>\n",
       "      <td>2617.592153</td>\n",
       "      <td>15.816871</td>\n",
       "      <td>2021-01-18</td>\n",
       "    </tr>\n",
       "    <tr>\n",
       "      <th>2</th>\n",
       "      <td>1</td>\n",
       "      <td>754.159807</td>\n",
       "      <td>6.232113</td>\n",
       "      <td>2021-04-20</td>\n",
       "    </tr>\n",
       "    <tr>\n",
       "      <th>3</th>\n",
       "      <td>1</td>\n",
       "      <td>2694.783254</td>\n",
       "      <td>18.511000</td>\n",
       "      <td>2021-08-11</td>\n",
       "    </tr>\n",
       "    <tr>\n",
       "      <th>4</th>\n",
       "      <td>1</td>\n",
       "      <td>4028.687306</td>\n",
       "      <td>26.265803</td>\n",
       "      <td>2021-08-28</td>\n",
       "    </tr>\n",
       "    <tr>\n",
       "      <th>5</th>\n",
       "      <td>1</td>\n",
       "      <td>2770.890808</td>\n",
       "      <td>16.650138</td>\n",
       "      <td>2021-10-09</td>\n",
       "    </tr>\n",
       "    <tr>\n",
       "      <th>6</th>\n",
       "      <td>1</td>\n",
       "      <td>3039.020292</td>\n",
       "      <td>14.927879</td>\n",
       "      <td>2021-10-19</td>\n",
       "    </tr>\n",
       "    <tr>\n",
       "      <th>7</th>\n",
       "      <td>1</td>\n",
       "      <td>2842.118050</td>\n",
       "      <td>23.117468</td>\n",
       "      <td>2021-11-06</td>\n",
       "    </tr>\n",
       "    <tr>\n",
       "      <th>8</th>\n",
       "      <td>1</td>\n",
       "      <td>3412.690668</td>\n",
       "      <td>15.238072</td>\n",
       "      <td>2021-11-14</td>\n",
       "    </tr>\n",
       "    <tr>\n",
       "      <th>9</th>\n",
       "      <td>1</td>\n",
       "      <td>748.690645</td>\n",
       "      <td>15.041884</td>\n",
       "      <td>2021-11-22</td>\n",
       "    </tr>\n",
       "  </tbody>\n",
       "</table>\n",
       "</div>"
      ],
      "text/plain": [
       "   user_id     distance   duration        date\n",
       "0        1  4409.919140  25.599769  2021-01-01\n",
       "1        1  2617.592153  15.816871  2021-01-18\n",
       "2        1   754.159807   6.232113  2021-04-20\n",
       "3        1  2694.783254  18.511000  2021-08-11\n",
       "4        1  4028.687306  26.265803  2021-08-28\n",
       "5        1  2770.890808  16.650138  2021-10-09\n",
       "6        1  3039.020292  14.927879  2021-10-19\n",
       "7        1  2842.118050  23.117468  2021-11-06\n",
       "8        1  3412.690668  15.238072  2021-11-14\n",
       "9        1   748.690645  15.041884  2021-11-22"
      ]
     },
     "execution_count": 5,
     "metadata": {},
     "output_type": "execute_result"
    }
   ],
   "source": [
    "rides.head(10)"
   ]
  },
  {
   "cell_type": "code",
   "execution_count": 6,
   "id": "dd21860c",
   "metadata": {
    "scrolled": true
   },
   "outputs": [
    {
     "name": "stdout",
     "output_type": "stream",
     "text": [
      "<class 'pandas.core.frame.DataFrame'>\n",
      "RangeIndex: 18068 entries, 0 to 18067\n",
      "Data columns (total 4 columns):\n",
      " #   Column    Non-Null Count  Dtype  \n",
      "---  ------    --------------  -----  \n",
      " 0   user_id   18068 non-null  int64  \n",
      " 1   distance  18068 non-null  float64\n",
      " 2   duration  18068 non-null  float64\n",
      " 3   date      18068 non-null  object \n",
      "dtypes: float64(2), int64(1), object(1)\n",
      "memory usage: 564.8+ KB\n"
     ]
    }
   ],
   "source": [
    "rides.info()"
   ]
  },
  {
   "cell_type": "markdown",
   "id": "d42e7563",
   "metadata": {},
   "source": [
    "**1.4** Датафрейм `rides` состоит из 18 068 строк и 4 столбцов.\n",
    "\n",
    "`user_id` - уникальный идентификатор пользователя.\n",
    "\n",
    "`distance` - расстояние, которое пользователь проехал в текущей сессии (в метрах).\n",
    "\n",
    "`duration` - продолжительность сессии (в минутах) — время с того момента, как пользователь нажал кнопку «Начать поездку» до момента, как он нажал кнопку «Завершить поездку».\n",
    "\n",
    "`date` - дата совершения поездки.\n",
    "\n",
    "В таблице нет пропусков, а типы данных в каждом из столбцов соответствуют содержанию, кроме столбца `date`: для того, чтобы можно было проводить с ним операции, надо будет перевести данные в тип `datetime`. "
   ]
  },
  {
   "cell_type": "code",
   "execution_count": 7,
   "id": "0a84cd3f",
   "metadata": {},
   "outputs": [
    {
     "data": {
      "text/html": [
       "<div>\n",
       "<style scoped>\n",
       "    .dataframe tbody tr th:only-of-type {\n",
       "        vertical-align: middle;\n",
       "    }\n",
       "\n",
       "    .dataframe tbody tr th {\n",
       "        vertical-align: top;\n",
       "    }\n",
       "\n",
       "    .dataframe thead th {\n",
       "        text-align: right;\n",
       "    }\n",
       "</style>\n",
       "<table border=\"1\" class=\"dataframe\">\n",
       "  <thead>\n",
       "    <tr style=\"text-align: right;\">\n",
       "      <th></th>\n",
       "      <th>subscription_type</th>\n",
       "      <th>minute_price</th>\n",
       "      <th>start_ride_price</th>\n",
       "      <th>subscription_fee</th>\n",
       "    </tr>\n",
       "  </thead>\n",
       "  <tbody>\n",
       "    <tr>\n",
       "      <th>0</th>\n",
       "      <td>free</td>\n",
       "      <td>8</td>\n",
       "      <td>50</td>\n",
       "      <td>0</td>\n",
       "    </tr>\n",
       "    <tr>\n",
       "      <th>1</th>\n",
       "      <td>ultra</td>\n",
       "      <td>6</td>\n",
       "      <td>0</td>\n",
       "      <td>199</td>\n",
       "    </tr>\n",
       "  </tbody>\n",
       "</table>\n",
       "</div>"
      ],
      "text/plain": [
       "  subscription_type  minute_price  start_ride_price  subscription_fee\n",
       "0              free             8                50                 0\n",
       "1             ultra             6                 0               199"
      ]
     },
     "execution_count": 7,
     "metadata": {},
     "output_type": "execute_result"
    }
   ],
   "source": [
    "subscription.head()"
   ]
  },
  {
   "cell_type": "code",
   "execution_count": 8,
   "id": "5bf2bc5d",
   "metadata": {},
   "outputs": [
    {
     "name": "stdout",
     "output_type": "stream",
     "text": [
      "<class 'pandas.core.frame.DataFrame'>\n",
      "RangeIndex: 2 entries, 0 to 1\n",
      "Data columns (total 4 columns):\n",
      " #   Column             Non-Null Count  Dtype \n",
      "---  ------             --------------  ----- \n",
      " 0   subscription_type  2 non-null      object\n",
      " 1   minute_price       2 non-null      int64 \n",
      " 2   start_ride_price   2 non-null      int64 \n",
      " 3   subscription_fee   2 non-null      int64 \n",
      "dtypes: int64(3), object(1)\n",
      "memory usage: 196.0+ bytes\n"
     ]
    }
   ],
   "source": [
    "subscription.info()"
   ]
  },
  {
   "cell_type": "markdown",
   "id": "35dc0b24",
   "metadata": {},
   "source": [
    "**1.5** Датафрейм состоит из 2 строк и 4 столбцов.\n",
    "\n",
    "`subscription_type` - тип подписки.\n",
    "\n",
    "`minute_price` - стоимость одной минуты поездки по данной подписке.\n",
    "\n",
    "`start_ride_price` - стоимость начала поездки.\n",
    "\n",
    "`subscription_fee` - стоимость ежемесячного платежа.\n",
    "\n",
    "В данных нет пропусков, а типы данных каждого из столбов соответствуют содержанию."
   ]
  },
  {
   "cell_type": "markdown",
   "id": "77414092",
   "metadata": {},
   "source": [
    "<a id=\"2\"></a>\n",
    "##  Предобработка данных"
   ]
  },
  {
   "cell_type": "markdown",
   "id": "a774d77c",
   "metadata": {},
   "source": [
    "**2.1** Как мы выяснили, все столбцы в датафреймах имеют корректный тип данных, кроме столбца `date` в таблице `rides`. Переведем данный столбец в тип `datetime`. "
   ]
  },
  {
   "cell_type": "code",
   "execution_count": 9,
   "id": "1825783f",
   "metadata": {
    "scrolled": true
   },
   "outputs": [
    {
     "name": "stdout",
     "output_type": "stream",
     "text": [
      "<class 'pandas.core.frame.DataFrame'>\n",
      "RangeIndex: 18068 entries, 0 to 18067\n",
      "Data columns (total 4 columns):\n",
      " #   Column    Non-Null Count  Dtype         \n",
      "---  ------    --------------  -----         \n",
      " 0   user_id   18068 non-null  int64         \n",
      " 1   distance  18068 non-null  float64       \n",
      " 2   duration  18068 non-null  float64       \n",
      " 3   date      18068 non-null  datetime64[ns]\n",
      "dtypes: datetime64[ns](1), float64(2), int64(1)\n",
      "memory usage: 564.8 KB\n"
     ]
    }
   ],
   "source": [
    "rides['date'] = pd.to_datetime(rides['date'], format='%Y-%m-%d')\n",
    "rides.info()"
   ]
  },
  {
   "cell_type": "markdown",
   "id": "ecc0c97a",
   "metadata": {},
   "source": [
    "**2.2** Создадим новый столбец с номером месяца на основе столбца `date`."
   ]
  },
  {
   "cell_type": "code",
   "execution_count": 10,
   "id": "7e3d5b4f",
   "metadata": {},
   "outputs": [],
   "source": [
    "rides['month'] = rides['date'].dt.month"
   ]
  },
  {
   "cell_type": "markdown",
   "id": "297c3e70",
   "metadata": {},
   "source": [
    "**2.3** Дополнительно выведем минимальное и максимальное значение в столбце `date`, чтобы проверить, данные за какой период имеются в нашем распоряжении."
   ]
  },
  {
   "cell_type": "code",
   "execution_count": 11,
   "id": "a6463019",
   "metadata": {},
   "outputs": [
    {
     "data": {
      "text/plain": [
       "Timestamp('2021-01-01 00:00:00')"
      ]
     },
     "execution_count": 11,
     "metadata": {},
     "output_type": "execute_result"
    }
   ],
   "source": [
    "rides['date'].min()"
   ]
  },
  {
   "cell_type": "code",
   "execution_count": 12,
   "id": "ef29a4f8",
   "metadata": {},
   "outputs": [
    {
     "data": {
      "text/plain": [
       "Timestamp('2021-12-30 00:00:00')"
      ]
     },
     "execution_count": 12,
     "metadata": {},
     "output_type": "execute_result"
    }
   ],
   "source": [
    "rides['date'].max()"
   ]
  },
  {
   "cell_type": "markdown",
   "id": "4ced5625",
   "metadata": {},
   "source": [
    "**2.4** Таким образом мы узнали, что работаем с данными за один год (2021).\n",
    "\n",
    "Проверим наличие пропущенных значений и дубликатов в датафреймах.\n",
    "\n",
    "Из метода `info` было видно, что пропущенных значений в таблице нет. На всякий случай убедимся в этом на 100% про помощи метода `isna()`."
   ]
  },
  {
   "cell_type": "code",
   "execution_count": 13,
   "id": "b1f98aeb",
   "metadata": {},
   "outputs": [
    {
     "data": {
      "text/plain": [
       "user_id              0\n",
       "name                 0\n",
       "age                  0\n",
       "city                 0\n",
       "subscription_type    0\n",
       "dtype: int64"
      ]
     },
     "execution_count": 13,
     "metadata": {},
     "output_type": "execute_result"
    }
   ],
   "source": [
    "users.isna().sum()"
   ]
  },
  {
   "cell_type": "code",
   "execution_count": 14,
   "id": "8d829002",
   "metadata": {},
   "outputs": [
    {
     "data": {
      "text/plain": [
       "user_id     0\n",
       "distance    0\n",
       "duration    0\n",
       "date        0\n",
       "month       0\n",
       "dtype: int64"
      ]
     },
     "execution_count": 14,
     "metadata": {},
     "output_type": "execute_result"
    }
   ],
   "source": [
    "rides.isna().sum()"
   ]
  },
  {
   "cell_type": "code",
   "execution_count": 15,
   "id": "6d31425e",
   "metadata": {
    "scrolled": true
   },
   "outputs": [
    {
     "data": {
      "text/plain": [
       "subscription_type    0\n",
       "minute_price         0\n",
       "start_ride_price     0\n",
       "subscription_fee     0\n",
       "dtype: int64"
      ]
     },
     "execution_count": 15,
     "metadata": {},
     "output_type": "execute_result"
    }
   ],
   "source": [
    "subscription.isna().sum()"
   ]
  },
  {
   "cell_type": "markdown",
   "id": "a73337cf",
   "metadata": {},
   "source": [
    "**2.5** Теперь проверим наличие дубликатов в таблицах `users` и `rides` (датафрейм с подписками состоит из 2 строк, из-за чего визуально видно, что дубликатов там нет).\n",
    "\n",
    "Начнём с таблицы `users`."
   ]
  },
  {
   "cell_type": "code",
   "execution_count": 16,
   "id": "02b6fcc4",
   "metadata": {},
   "outputs": [
    {
     "data": {
      "text/html": [
       "<div>\n",
       "<style scoped>\n",
       "    .dataframe tbody tr th:only-of-type {\n",
       "        vertical-align: middle;\n",
       "    }\n",
       "\n",
       "    .dataframe tbody tr th {\n",
       "        vertical-align: top;\n",
       "    }\n",
       "\n",
       "    .dataframe thead th {\n",
       "        text-align: right;\n",
       "    }\n",
       "</style>\n",
       "<table border=\"1\" class=\"dataframe\">\n",
       "  <thead>\n",
       "    <tr style=\"text-align: right;\">\n",
       "      <th></th>\n",
       "      <th>user_id</th>\n",
       "      <th>name</th>\n",
       "      <th>age</th>\n",
       "      <th>city</th>\n",
       "      <th>subscription_type</th>\n",
       "    </tr>\n",
       "  </thead>\n",
       "  <tbody>\n",
       "    <tr>\n",
       "      <th>0</th>\n",
       "      <td>1</td>\n",
       "      <td>Кира</td>\n",
       "      <td>22</td>\n",
       "      <td>Тюмень</td>\n",
       "      <td>ultra</td>\n",
       "    </tr>\n",
       "    <tr>\n",
       "      <th>1</th>\n",
       "      <td>2</td>\n",
       "      <td>Станислав</td>\n",
       "      <td>31</td>\n",
       "      <td>Омск</td>\n",
       "      <td>ultra</td>\n",
       "    </tr>\n",
       "    <tr>\n",
       "      <th>2</th>\n",
       "      <td>3</td>\n",
       "      <td>Алексей</td>\n",
       "      <td>20</td>\n",
       "      <td>Москва</td>\n",
       "      <td>ultra</td>\n",
       "    </tr>\n",
       "    <tr>\n",
       "      <th>3</th>\n",
       "      <td>4</td>\n",
       "      <td>Константин</td>\n",
       "      <td>26</td>\n",
       "      <td>Ростов-на-Дону</td>\n",
       "      <td>ultra</td>\n",
       "    </tr>\n",
       "    <tr>\n",
       "      <th>4</th>\n",
       "      <td>5</td>\n",
       "      <td>Адель</td>\n",
       "      <td>28</td>\n",
       "      <td>Омск</td>\n",
       "      <td>ultra</td>\n",
       "    </tr>\n",
       "    <tr>\n",
       "      <th>5</th>\n",
       "      <td>6</td>\n",
       "      <td>Регина</td>\n",
       "      <td>25</td>\n",
       "      <td>Краснодар</td>\n",
       "      <td>ultra</td>\n",
       "    </tr>\n",
       "    <tr>\n",
       "      <th>6</th>\n",
       "      <td>7</td>\n",
       "      <td>Игорь</td>\n",
       "      <td>23</td>\n",
       "      <td>Омск</td>\n",
       "      <td>ultra</td>\n",
       "    </tr>\n",
       "    <tr>\n",
       "      <th>7</th>\n",
       "      <td>8</td>\n",
       "      <td>Юрий</td>\n",
       "      <td>23</td>\n",
       "      <td>Краснодар</td>\n",
       "      <td>ultra</td>\n",
       "    </tr>\n",
       "    <tr>\n",
       "      <th>8</th>\n",
       "      <td>9</td>\n",
       "      <td>Ян</td>\n",
       "      <td>21</td>\n",
       "      <td>Пятигорск</td>\n",
       "      <td>ultra</td>\n",
       "    </tr>\n",
       "    <tr>\n",
       "      <th>9</th>\n",
       "      <td>10</td>\n",
       "      <td>Валерий</td>\n",
       "      <td>18</td>\n",
       "      <td>Екатеринбург</td>\n",
       "      <td>ultra</td>\n",
       "    </tr>\n",
       "  </tbody>\n",
       "</table>\n",
       "</div>"
      ],
      "text/plain": [
       "   user_id        name  age            city subscription_type\n",
       "0        1        Кира   22          Тюмень             ultra\n",
       "1        2   Станислав   31            Омск             ultra\n",
       "2        3     Алексей   20          Москва             ultra\n",
       "3        4  Константин   26  Ростов-на-Дону             ultra\n",
       "4        5       Адель   28            Омск             ultra\n",
       "5        6      Регина   25       Краснодар             ultra\n",
       "6        7       Игорь   23            Омск             ultra\n",
       "7        8        Юрий   23       Краснодар             ultra\n",
       "8        9          Ян   21       Пятигорск             ultra\n",
       "9       10     Валерий   18    Екатеринбург             ultra"
      ]
     },
     "execution_count": 16,
     "metadata": {},
     "output_type": "execute_result"
    }
   ],
   "source": [
    "users.head(10)"
   ]
  },
  {
   "cell_type": "markdown",
   "id": "9911385e",
   "metadata": {},
   "source": [
    "**2.6** Сначала проверим датафрейм на наличие явных дубликатов. И удалим таковые, если они имеются. "
   ]
  },
  {
   "cell_type": "code",
   "execution_count": 18,
   "id": "311baa90",
   "metadata": {},
   "outputs": [
    {
     "name": "stdout",
     "output_type": "stream",
     "text": [
      "31\n"
     ]
    }
   ],
   "source": [
    "print(users.duplicated().sum())"
   ]
  },
  {
   "cell_type": "code",
   "execution_count": 20,
   "id": "47cfd324",
   "metadata": {},
   "outputs": [],
   "source": [
    "users = users.drop_duplicates().reset_index(drop=True)"
   ]
  },
  {
   "cell_type": "markdown",
   "id": "9276b8c1",
   "metadata": {},
   "source": [
    "**2.7** Теперь проверим, нет ли повторяющихся id после удаления явных дубликатов. Для этого проверим, сколько строк осталось в таблице `users`, а затем посчитаем количество уникальных значений в столбце `user_id`. Если значения равны, значит, повторяющихся id не осталось."
   ]
  },
  {
   "cell_type": "code",
   "execution_count": 21,
   "id": "65b843da",
   "metadata": {},
   "outputs": [
    {
     "name": "stdout",
     "output_type": "stream",
     "text": [
      "<class 'pandas.core.frame.DataFrame'>\n",
      "RangeIndex: 1534 entries, 0 to 1533\n",
      "Data columns (total 5 columns):\n",
      " #   Column             Non-Null Count  Dtype \n",
      "---  ------             --------------  ----- \n",
      " 0   user_id            1534 non-null   int64 \n",
      " 1   name               1534 non-null   object\n",
      " 2   age                1534 non-null   int64 \n",
      " 3   city               1534 non-null   object\n",
      " 4   subscription_type  1534 non-null   object\n",
      "dtypes: int64(2), object(3)\n",
      "memory usage: 60.1+ KB\n"
     ]
    }
   ],
   "source": [
    "users.info()"
   ]
  },
  {
   "cell_type": "code",
   "execution_count": 22,
   "id": "9b2083f3",
   "metadata": {
    "scrolled": true
   },
   "outputs": [
    {
     "data": {
      "text/plain": [
       "1534"
      ]
     },
     "execution_count": 22,
     "metadata": {},
     "output_type": "execute_result"
    }
   ],
   "source": [
    "users['user_id'].nunique()"
   ]
  },
  {
   "cell_type": "markdown",
   "id": "3fdd3256",
   "metadata": {},
   "source": [
    "**2.8** В таблице остались только униикальные id пользователей. \n",
    "\n",
    "Теперь проверим значения в столбце `city`, чтобы исключить возможность неявных дубликатов."
   ]
  },
  {
   "cell_type": "code",
   "execution_count": 23,
   "id": "f0a1c7ba",
   "metadata": {},
   "outputs": [
    {
     "data": {
      "text/plain": [
       "array(['Тюмень', 'Омск', 'Москва', 'Ростов-на-Дону', 'Краснодар',\n",
       "       'Пятигорск', 'Екатеринбург', 'Сочи'], dtype=object)"
      ]
     },
     "execution_count": 23,
     "metadata": {},
     "output_type": "execute_result"
    }
   ],
   "source": [
    "users['city'].unique()"
   ]
  },
  {
   "cell_type": "markdown",
   "id": "916f36e4",
   "metadata": {},
   "source": [
    "**2.9** Все значения в столбце `city` униикальны. Таком образом, датафрейм `users` очищен от дубликатов (имена, возраст и тип подписки могут быть одинаковыми у разных пользователей). "
   ]
  },
  {
   "cell_type": "markdown",
   "id": "c68d224a",
   "metadata": {},
   "source": [
    "**2.10** Теперь проверим датафрейм `rides`."
   ]
  },
  {
   "cell_type": "code",
   "execution_count": 24,
   "id": "64f1b2f4",
   "metadata": {
    "scrolled": true
   },
   "outputs": [
    {
     "data": {
      "text/html": [
       "<div>\n",
       "<style scoped>\n",
       "    .dataframe tbody tr th:only-of-type {\n",
       "        vertical-align: middle;\n",
       "    }\n",
       "\n",
       "    .dataframe tbody tr th {\n",
       "        vertical-align: top;\n",
       "    }\n",
       "\n",
       "    .dataframe thead th {\n",
       "        text-align: right;\n",
       "    }\n",
       "</style>\n",
       "<table border=\"1\" class=\"dataframe\">\n",
       "  <thead>\n",
       "    <tr style=\"text-align: right;\">\n",
       "      <th></th>\n",
       "      <th>user_id</th>\n",
       "      <th>distance</th>\n",
       "      <th>duration</th>\n",
       "      <th>date</th>\n",
       "      <th>month</th>\n",
       "    </tr>\n",
       "  </thead>\n",
       "  <tbody>\n",
       "    <tr>\n",
       "      <th>0</th>\n",
       "      <td>1</td>\n",
       "      <td>4409.919140</td>\n",
       "      <td>25.599769</td>\n",
       "      <td>2021-01-01</td>\n",
       "      <td>1</td>\n",
       "    </tr>\n",
       "    <tr>\n",
       "      <th>1</th>\n",
       "      <td>1</td>\n",
       "      <td>2617.592153</td>\n",
       "      <td>15.816871</td>\n",
       "      <td>2021-01-18</td>\n",
       "      <td>1</td>\n",
       "    </tr>\n",
       "    <tr>\n",
       "      <th>2</th>\n",
       "      <td>1</td>\n",
       "      <td>754.159807</td>\n",
       "      <td>6.232113</td>\n",
       "      <td>2021-04-20</td>\n",
       "      <td>4</td>\n",
       "    </tr>\n",
       "    <tr>\n",
       "      <th>3</th>\n",
       "      <td>1</td>\n",
       "      <td>2694.783254</td>\n",
       "      <td>18.511000</td>\n",
       "      <td>2021-08-11</td>\n",
       "      <td>8</td>\n",
       "    </tr>\n",
       "    <tr>\n",
       "      <th>4</th>\n",
       "      <td>1</td>\n",
       "      <td>4028.687306</td>\n",
       "      <td>26.265803</td>\n",
       "      <td>2021-08-28</td>\n",
       "      <td>8</td>\n",
       "    </tr>\n",
       "  </tbody>\n",
       "</table>\n",
       "</div>"
      ],
      "text/plain": [
       "   user_id     distance   duration       date  month\n",
       "0        1  4409.919140  25.599769 2021-01-01      1\n",
       "1        1  2617.592153  15.816871 2021-01-18      1\n",
       "2        1   754.159807   6.232113 2021-04-20      4\n",
       "3        1  2694.783254  18.511000 2021-08-11      8\n",
       "4        1  4028.687306  26.265803 2021-08-28      8"
      ]
     },
     "execution_count": 24,
     "metadata": {},
     "output_type": "execute_result"
    }
   ],
   "source": [
    "rides.head()"
   ]
  },
  {
   "cell_type": "markdown",
   "id": "9fa15764",
   "metadata": {},
   "source": [
    "**2.11** В этой таблице могут повторяться значения в любых из столбцов, и это не будет считаться дубликатом. Например, 2 разных пользователя могут проехать одинаковое расстояние или затратить на поездку одиноковое время. Поэтому проверим датафрейм только на явные дубликаты и удалим их, если таковые имеются."
   ]
  },
  {
   "cell_type": "code",
   "execution_count": 26,
   "id": "7113233f",
   "metadata": {},
   "outputs": [
    {
     "name": "stdout",
     "output_type": "stream",
     "text": [
      "0\n"
     ]
    }
   ],
   "source": [
    "print(rides.duplicated().sum())"
   ]
  },
  {
   "cell_type": "markdown",
   "id": "e430f88e",
   "metadata": {},
   "source": [
    "**2.11** Дубликатов нет. \n",
    "\n",
    "**Вывод по предобработке:**\n",
    "\n",
    "**Таблица `users`**:\n",
    "- Был удалён 31 явный дубликат.\n",
    "\n",
    "**Таблица `rides`**:\n",
    "- Тип данных столбца `date` был переведен из `object` в `datetime`.\n",
    "\n",
    "**Таблица `subscription`**:\n",
    "- Изменений не было.\n",
    "\n",
    "Пропусков и неявных дубликатов в тиблицах не обнаружено. "
   ]
  },
  {
   "cell_type": "markdown",
   "id": "82726846",
   "metadata": {},
   "source": [
    "<a id=\"3\"></a>\n",
    "##  Исследовательский анализ данных"
   ]
  },
  {
   "cell_type": "markdown",
   "id": "ed466570",
   "metadata": {},
   "source": [
    "**3.1** Опишем и визуализируем общую информацию о пользователях и их поездках.\n",
    "\n",
    "Сначала определим **частоту встречаемости городов**. Для этого сгруппируем данные `users` по столбцу `city` по убыванию и построим столбчатую диаграмму. \n"
   ]
  },
  {
   "cell_type": "code",
   "execution_count": 30,
   "id": "43ddd804",
   "metadata": {},
   "outputs": [
    {
     "data": {
      "image/png": "[encoded data removed]",
      "text/plain": [
       "<Figure size 800x400 with 1 Axes>"
      ]
     },
     "metadata": {},
     "output_type": "display_data"
    }
   ],
   "source": [
    "users.value_counts('city', ascending=True).plot(kind='barh', figsize=(8,4))\n",
    "plt.title('Частота встречаемости городов в таблице')\n",
    "plt.xlabel('Количество пользователей')\n",
    "plt.ylabel(None)\n",
    "plt.show()"
   ]
  },
  {
   "cell_type": "code",
   "execution_count": 31,
   "id": "10ec1e5d",
   "metadata": {
    "scrolled": true
   },
   "outputs": [
    {
     "data": {
      "text/plain": [
       "city\n",
       "Пятигорск         219\n",
       "Екатеринбург      204\n",
       "Ростов-на-Дону    198\n",
       "Краснодар         193\n",
       "Сочи              189\n",
       "Омск              183\n",
       "Тюмень            180\n",
       "Москва            168\n",
       "Name: count, dtype: int64"
      ]
     },
     "execution_count": 31,
     "metadata": {},
     "output_type": "execute_result"
    }
   ],
   "source": [
    "users.value_counts('city', ascending=False)"
   ]
  },
  {
   "cell_type": "markdown",
   "id": "a20e0044",
   "metadata": {},
   "source": [
    "**3.2** Можно сказать, что количество пользователей в городах **распределено достаточно равномерно**. От 168 до 219 пользователей. \n",
    "Стоит отметить, что в данных больше всего пользователей из Пятигорска (219), а меньше всего из Москвы (168).\n",
    "Остальные города имеют небольшой разброс относиельно друг друга: от 180 до 204 пользователей. \n",
    "\n",
    "Теперь проверим **соотношение пользователей с подпиской и без подписки**.\n",
    "\n",
    "Для этого выведем количество пользователей с подпиской и без на столбчатой диаграмме, а также определим количество пользователей с подпиской по отношению к пользователям без подписки."
   ]
  },
  {
   "cell_type": "code",
   "execution_count": 33,
   "id": "455ec25e",
   "metadata": {},
   "outputs": [
    {
     "data": {
      "image/png": "[encoded data removed]",
      "text/plain": [
       "<Figure size 700x700 with 1 Axes>"
      ]
     },
     "metadata": {},
     "output_type": "display_data"
    }
   ],
   "source": [
    "users.groupby('subscription_type')['subscription_type'].count().plot(kind='pie', figsize=(7,7), autopct='%1.1f%%')\n",
    "plt.title('Количество пользователей с подпиской и без подписки')\n",
    "plt.ylabel(None)\n",
    "plt.show()"
   ]
  },
  {
   "cell_type": "code",
   "execution_count": 35,
   "id": "9fccb5eb",
   "metadata": {},
   "outputs": [
    {
     "name": "stdout",
     "output_type": "stream",
     "text": [
      "0.837125748502994\n"
     ]
    }
   ],
   "source": [
    "print(users.query('subscription_type == \"ultra\"')['subscription_type'].count() / \\\n",
    "users.query('subscription_type == \"free\"')['subscription_type'].count())"
   ]
  },
  {
   "cell_type": "markdown",
   "id": "3c1ee536",
   "metadata": {},
   "source": [
    "**3.3** Как видно из графика, пользователей с платной подпиской достаточно много (их количество близится к числу пользователей без подписки). Соотношение клиентов с подпиской и без — 0.84 к 1 соответственно. \n",
    "\n",
    "Можно сказать, что среди пользователей самокатов достаточно большой процен имеет платную подписку. \n",
    "\n",
    "Теперь визуализируем **возраст пользователей**."
   ]
  },
  {
   "cell_type": "code",
   "execution_count": 36,
   "id": "0c9dbc81",
   "metadata": {},
   "outputs": [
    {
     "data": {
      "text/plain": [
       "age\n",
       "12      4\n",
       "13      8\n",
       "14      9\n",
       "15     13\n",
       "16     19\n",
       "17     26\n",
       "18     46\n",
       "19     47\n",
       "20     71\n",
       "21     93\n",
       "22    119\n",
       "23    129\n",
       "24    132\n",
       "25    145\n",
       "26    131\n",
       "27    119\n",
       "28    112\n",
       "29     68\n",
       "30     68\n",
       "31     48\n",
       "32     41\n",
       "33     39\n",
       "34     19\n",
       "35     15\n",
       "36      6\n",
       "37      2\n",
       "38      3\n",
       "39      1\n",
       "43      1\n",
       "Name: age, dtype: int64"
      ]
     },
     "execution_count": 36,
     "metadata": {},
     "output_type": "execute_result"
    }
   ],
   "source": [
    "users.groupby('age')['age'].count()"
   ]
  },
  {
   "cell_type": "code",
   "execution_count": 37,
   "id": "e6ef1356",
   "metadata": {},
   "outputs": [
    {
     "data": {
      "image/png": "[encoded data removed]",
      "text/plain": [
       "<Figure size 800x400 with 1 Axes>"
      ]
     },
     "metadata": {},
     "output_type": "display_data"
    }
   ],
   "source": [
    "users['age'].hist(bins = 30, figsize = (8,4))\n",
    "plt.title('Распределение возраста пользователей')\n",
    "plt.xlabel('Возраст')\n",
    "plt.ylabel('Количество пользователей')\n",
    "plt.show()"
   ]
  },
  {
   "cell_type": "code",
   "execution_count": 38,
   "id": "a9852385",
   "metadata": {},
   "outputs": [
    {
     "data": {
      "text/plain": [
       "count    1534.000000\n",
       "mean       24.903520\n",
       "std         4.572367\n",
       "min        12.000000\n",
       "25%        22.000000\n",
       "50%        25.000000\n",
       "75%        28.000000\n",
       "max        43.000000\n",
       "Name: age, dtype: float64"
      ]
     },
     "execution_count": 38,
     "metadata": {},
     "output_type": "execute_result"
    }
   ],
   "source": [
    "users['age'].describe()"
   ]
  },
  {
   "cell_type": "markdown",
   "id": "500e9b25",
   "metadata": {},
   "source": [
    "**3.4** Возраст пользователей распредлён в таблиице нормально (колоколообразно). Средний возраст составляет 25 лет (145 клиентов). Средует отметить, что более 75% имеют возраст до 30 лет. Сделовательно, можно сделать вывод, что пользователи самокатов являются молодой аудиторией. Всего 13 человек из всех клиенов находятся в возрасте от 35 лет до 43 лет. Самые молодые пользователи — 12-летние.\n",
    "\n",
    "Теперь проверим, как распределено **расстояние, которое пользователи преодолевают за одну поездку**."
   ]
  },
  {
   "cell_type": "code",
   "execution_count": 39,
   "id": "a3ef7433",
   "metadata": {},
   "outputs": [
    {
     "data": {
      "image/png": "[encoded data removed]",
      "text/plain": [
       "<Figure size 1000x400 with 1 Axes>"
      ]
     },
     "metadata": {},
     "output_type": "display_data"
    }
   ],
   "source": [
    "rides['distance'].hist(bins=30, figsize=(10,4))\n",
    "plt.title('Распределение расстояния, которое пользователь преодолевает за одну поездку')\n",
    "plt.xlabel('Расстояние в метрах')\n",
    "plt.ylabel('Количество пользователей')\n",
    "plt.show()"
   ]
  },
  {
   "cell_type": "code",
   "execution_count": 40,
   "id": "854eafe7",
   "metadata": {
    "scrolled": true
   },
   "outputs": [
    {
     "data": {
      "text/plain": [
       "count    18068.000000\n",
       "mean      3070.659976\n",
       "std       1116.831209\n",
       "min          0.855683\n",
       "25%       2543.226360\n",
       "50%       3133.609994\n",
       "75%       3776.222735\n",
       "max       7211.007745\n",
       "Name: distance, dtype: float64"
      ]
     },
     "execution_count": 40,
     "metadata": {},
     "output_type": "execute_result"
    }
   ],
   "source": [
    "rides['distance'].describe()"
   ]
  },
  {
   "cell_type": "markdown",
   "id": "e7f77b03",
   "metadata": {},
   "source": [
    "**3.5** На гистограмме видно, что самая популярная дистанция, которую проезжает пользователь за одну поездку, — примерно 3-3,3 км. И подавляющее большинство поездок распределены в интервале от 2 до 4,5 км. \n",
    "Стоит отметить, что пройденное расстояние около 220-230 поездок близко к нулю. Возможно, клиенты не разобрались в управлении или передумали пользоваться самокатом, так как вряд ли пользователь будет брать самокат, чтобы преодолеть расстояние в 50 метров. Стоит обратить внимание на эти данные. \n",
    "\n",
    "Теперь рассмотрим **продолжительность поездок**."
   ]
  },
  {
   "cell_type": "code",
   "execution_count": 41,
   "id": "1df98c41",
   "metadata": {},
   "outputs": [
    {
     "data": {
      "image/png": "[encoded data removed]",
      "text/plain": [
       "<Figure size 1000x400 with 1 Axes>"
      ]
     },
     "metadata": {},
     "output_type": "display_data"
    }
   ],
   "source": [
    "rides['duration'].hist(bins=40, figsize=(10,4))\n",
    "plt.title('Распределение продолжительности поездки в минутах')\n",
    "plt.xlabel('Продолжительность поездки в минутах')\n",
    "plt.ylabel('Количество пользователей')\n",
    "plt.show()"
   ]
  },
  {
   "cell_type": "code",
   "execution_count": 42,
   "id": "9aa7391d",
   "metadata": {
    "scrolled": true
   },
   "outputs": [
    {
     "data": {
      "text/plain": [
       "count    18068.000000\n",
       "mean        17.805011\n",
       "std          6.091051\n",
       "min          0.500000\n",
       "25%         13.597563\n",
       "50%         17.678395\n",
       "75%         21.724800\n",
       "max         40.823963\n",
       "Name: duration, dtype: float64"
      ]
     },
     "execution_count": 42,
     "metadata": {},
     "output_type": "execute_result"
    }
   ],
   "source": [
    "rides['duration'].describe()"
   ]
  },
  {
   "cell_type": "markdown",
   "id": "45564861",
   "metadata": {},
   "source": [
    "**3.6** Самое популярное время поездки — 17 минут. Это показывает как среднее, так и медиана. Более 75% поездок длятся не более 22 минут. В большинстве своём поездка длится от 9 до 26 минут. \n",
    "Стоит отметить, что как и с дистанцией, здесь прослеживаются очень непродолжительные поездки, близкие по времени к нулю."
   ]
  },
  {
   "cell_type": "markdown",
   "id": "c2b965a6",
   "metadata": {},
   "source": [
    "**3.7** Посмотрим детальнее на столбцы с продолжительностью поездки и её расстоянием, где значения близки к нулю. \n",
    "\n",
    "Для столбца `duration` возьмём значения меньше 3 минут, а для столбца `distance` возьмем значения менее 100 метров."
   ]
  },
  {
   "cell_type": "code",
   "execution_count": 43,
   "id": "67c8d9ac",
   "metadata": {},
   "outputs": [
    {
     "data": {
      "text/html": [
       "<div>\n",
       "<style scoped>\n",
       "    .dataframe tbody tr th:only-of-type {\n",
       "        vertical-align: middle;\n",
       "    }\n",
       "\n",
       "    .dataframe tbody tr th {\n",
       "        vertical-align: top;\n",
       "    }\n",
       "\n",
       "    .dataframe thead th {\n",
       "        text-align: right;\n",
       "    }\n",
       "</style>\n",
       "<table border=\"1\" class=\"dataframe\">\n",
       "  <thead>\n",
       "    <tr style=\"text-align: right;\">\n",
       "      <th></th>\n",
       "      <th>user_id</th>\n",
       "      <th>distance</th>\n",
       "      <th>duration</th>\n",
       "      <th>date</th>\n",
       "      <th>month</th>\n",
       "    </tr>\n",
       "  </thead>\n",
       "  <tbody>\n",
       "    <tr>\n",
       "      <th>6531</th>\n",
       "      <td>701</td>\n",
       "      <td>4196.445201</td>\n",
       "      <td>0.500000</td>\n",
       "      <td>2021-08-31</td>\n",
       "      <td>8</td>\n",
       "    </tr>\n",
       "    <tr>\n",
       "      <th>6570</th>\n",
       "      <td>704</td>\n",
       "      <td>4830.824371</td>\n",
       "      <td>0.500000</td>\n",
       "      <td>2021-10-14</td>\n",
       "      <td>10</td>\n",
       "    </tr>\n",
       "    <tr>\n",
       "      <th>6680</th>\n",
       "      <td>712</td>\n",
       "      <td>4684.004397</td>\n",
       "      <td>0.500000</td>\n",
       "      <td>2021-03-04</td>\n",
       "      <td>3</td>\n",
       "    </tr>\n",
       "    <tr>\n",
       "      <th>6691</th>\n",
       "      <td>712</td>\n",
       "      <td>23.963062</td>\n",
       "      <td>2.053251</td>\n",
       "      <td>2021-11-22</td>\n",
       "      <td>11</td>\n",
       "    </tr>\n",
       "    <tr>\n",
       "      <th>6695</th>\n",
       "      <td>713</td>\n",
       "      <td>5215.642710</td>\n",
       "      <td>0.500000</td>\n",
       "      <td>2021-02-25</td>\n",
       "      <td>2</td>\n",
       "    </tr>\n",
       "    <tr>\n",
       "      <th>6768</th>\n",
       "      <td>718</td>\n",
       "      <td>5197.436649</td>\n",
       "      <td>0.500000</td>\n",
       "      <td>2021-02-11</td>\n",
       "      <td>2</td>\n",
       "    </tr>\n",
       "    <tr>\n",
       "      <th>6801</th>\n",
       "      <td>720</td>\n",
       "      <td>102.323624</td>\n",
       "      <td>2.292353</td>\n",
       "      <td>2021-09-20</td>\n",
       "      <td>9</td>\n",
       "    </tr>\n",
       "    <tr>\n",
       "      <th>6860</th>\n",
       "      <td>724</td>\n",
       "      <td>6225.520342</td>\n",
       "      <td>0.500000</td>\n",
       "      <td>2021-12-16</td>\n",
       "      <td>12</td>\n",
       "    </tr>\n",
       "    <tr>\n",
       "      <th>6883</th>\n",
       "      <td>726</td>\n",
       "      <td>4452.491518</td>\n",
       "      <td>0.500000</td>\n",
       "      <td>2021-03-01</td>\n",
       "      <td>3</td>\n",
       "    </tr>\n",
       "    <tr>\n",
       "      <th>7018</th>\n",
       "      <td>735</td>\n",
       "      <td>4406.954812</td>\n",
       "      <td>0.500000</td>\n",
       "      <td>2021-04-13</td>\n",
       "      <td>4</td>\n",
       "    </tr>\n",
       "    <tr>\n",
       "      <th>7160</th>\n",
       "      <td>745</td>\n",
       "      <td>5286.167732</td>\n",
       "      <td>0.500000</td>\n",
       "      <td>2021-08-17</td>\n",
       "      <td>8</td>\n",
       "    </tr>\n",
       "    <tr>\n",
       "      <th>7364</th>\n",
       "      <td>760</td>\n",
       "      <td>4881.391865</td>\n",
       "      <td>0.500000</td>\n",
       "      <td>2021-08-29</td>\n",
       "      <td>8</td>\n",
       "    </tr>\n",
       "    <tr>\n",
       "      <th>7437</th>\n",
       "      <td>766</td>\n",
       "      <td>4539.088310</td>\n",
       "      <td>0.500000</td>\n",
       "      <td>2021-12-22</td>\n",
       "      <td>12</td>\n",
       "    </tr>\n",
       "    <tr>\n",
       "      <th>7453</th>\n",
       "      <td>768</td>\n",
       "      <td>273.136262</td>\n",
       "      <td>2.744917</td>\n",
       "      <td>2021-02-20</td>\n",
       "      <td>2</td>\n",
       "    </tr>\n",
       "    <tr>\n",
       "      <th>7508</th>\n",
       "      <td>772</td>\n",
       "      <td>4718.820996</td>\n",
       "      <td>0.500000</td>\n",
       "      <td>2021-05-22</td>\n",
       "      <td>5</td>\n",
       "    </tr>\n",
       "  </tbody>\n",
       "</table>\n",
       "</div>"
      ],
      "text/plain": [
       "      user_id     distance  duration       date  month\n",
       "6531      701  4196.445201  0.500000 2021-08-31      8\n",
       "6570      704  4830.824371  0.500000 2021-10-14     10\n",
       "6680      712  4684.004397  0.500000 2021-03-04      3\n",
       "6691      712    23.963062  2.053251 2021-11-22     11\n",
       "6695      713  5215.642710  0.500000 2021-02-25      2\n",
       "6768      718  5197.436649  0.500000 2021-02-11      2\n",
       "6801      720   102.323624  2.292353 2021-09-20      9\n",
       "6860      724  6225.520342  0.500000 2021-12-16     12\n",
       "6883      726  4452.491518  0.500000 2021-03-01      3\n",
       "7018      735  4406.954812  0.500000 2021-04-13      4\n",
       "7160      745  5286.167732  0.500000 2021-08-17      8\n",
       "7364      760  4881.391865  0.500000 2021-08-29      8\n",
       "7437      766  4539.088310  0.500000 2021-12-22     12\n",
       "7453      768   273.136262  2.744917 2021-02-20      2\n",
       "7508      772  4718.820996  0.500000 2021-05-22      5"
      ]
     },
     "execution_count": 43,
     "metadata": {},
     "output_type": "execute_result"
    }
   ],
   "source": [
    "rides.query('duration < 3').head(15)"
   ]
  },
  {
   "cell_type": "code",
   "execution_count": 44,
   "id": "ca5b1f12",
   "metadata": {
    "scrolled": true
   },
   "outputs": [
    {
     "data": {
      "text/html": [
       "<div>\n",
       "<style scoped>\n",
       "    .dataframe tbody tr th:only-of-type {\n",
       "        vertical-align: middle;\n",
       "    }\n",
       "\n",
       "    .dataframe tbody tr th {\n",
       "        vertical-align: top;\n",
       "    }\n",
       "\n",
       "    .dataframe thead th {\n",
       "        text-align: right;\n",
       "    }\n",
       "</style>\n",
       "<table border=\"1\" class=\"dataframe\">\n",
       "  <thead>\n",
       "    <tr style=\"text-align: right;\">\n",
       "      <th></th>\n",
       "      <th>user_id</th>\n",
       "      <th>distance</th>\n",
       "      <th>duration</th>\n",
       "      <th>date</th>\n",
       "      <th>month</th>\n",
       "    </tr>\n",
       "  </thead>\n",
       "  <tbody>\n",
       "    <tr>\n",
       "      <th>6611</th>\n",
       "      <td>707</td>\n",
       "      <td>28.793204</td>\n",
       "      <td>14.143966</td>\n",
       "      <td>2021-09-12</td>\n",
       "      <td>9</td>\n",
       "    </tr>\n",
       "    <tr>\n",
       "      <th>6691</th>\n",
       "      <td>712</td>\n",
       "      <td>23.963062</td>\n",
       "      <td>2.053251</td>\n",
       "      <td>2021-11-22</td>\n",
       "      <td>11</td>\n",
       "    </tr>\n",
       "    <tr>\n",
       "      <th>6816</th>\n",
       "      <td>721</td>\n",
       "      <td>62.568138</td>\n",
       "      <td>7.178766</td>\n",
       "      <td>2021-09-25</td>\n",
       "      <td>9</td>\n",
       "    </tr>\n",
       "    <tr>\n",
       "      <th>6850</th>\n",
       "      <td>724</td>\n",
       "      <td>30.473763</td>\n",
       "      <td>3.166221</td>\n",
       "      <td>2021-05-09</td>\n",
       "      <td>5</td>\n",
       "    </tr>\n",
       "    <tr>\n",
       "      <th>7367</th>\n",
       "      <td>760</td>\n",
       "      <td>54.724068</td>\n",
       "      <td>8.164172</td>\n",
       "      <td>2021-10-13</td>\n",
       "      <td>10</td>\n",
       "    </tr>\n",
       "    <tr>\n",
       "      <th>7389</th>\n",
       "      <td>762</td>\n",
       "      <td>35.061903</td>\n",
       "      <td>7.087655</td>\n",
       "      <td>2021-05-27</td>\n",
       "      <td>5</td>\n",
       "    </tr>\n",
       "    <tr>\n",
       "      <th>7595</th>\n",
       "      <td>779</td>\n",
       "      <td>83.977452</td>\n",
       "      <td>3.419887</td>\n",
       "      <td>2021-09-10</td>\n",
       "      <td>9</td>\n",
       "    </tr>\n",
       "    <tr>\n",
       "      <th>7841</th>\n",
       "      <td>796</td>\n",
       "      <td>7.097072</td>\n",
       "      <td>10.026614</td>\n",
       "      <td>2021-11-26</td>\n",
       "      <td>11</td>\n",
       "    </tr>\n",
       "    <tr>\n",
       "      <th>8324</th>\n",
       "      <td>835</td>\n",
       "      <td>12.233115</td>\n",
       "      <td>4.034952</td>\n",
       "      <td>2021-09-19</td>\n",
       "      <td>9</td>\n",
       "    </tr>\n",
       "    <tr>\n",
       "      <th>8658</th>\n",
       "      <td>861</td>\n",
       "      <td>6.784447</td>\n",
       "      <td>6.015656</td>\n",
       "      <td>2021-07-21</td>\n",
       "      <td>7</td>\n",
       "    </tr>\n",
       "    <tr>\n",
       "      <th>8723</th>\n",
       "      <td>867</td>\n",
       "      <td>85.713205</td>\n",
       "      <td>12.205712</td>\n",
       "      <td>2021-04-01</td>\n",
       "      <td>4</td>\n",
       "    </tr>\n",
       "    <tr>\n",
       "      <th>8906</th>\n",
       "      <td>880</td>\n",
       "      <td>11.283615</td>\n",
       "      <td>2.035632</td>\n",
       "      <td>2021-03-28</td>\n",
       "      <td>3</td>\n",
       "    </tr>\n",
       "    <tr>\n",
       "      <th>9044</th>\n",
       "      <td>890</td>\n",
       "      <td>98.121573</td>\n",
       "      <td>10.210261</td>\n",
       "      <td>2021-08-12</td>\n",
       "      <td>8</td>\n",
       "    </tr>\n",
       "    <tr>\n",
       "      <th>9128</th>\n",
       "      <td>896</td>\n",
       "      <td>31.803410</td>\n",
       "      <td>8.079509</td>\n",
       "      <td>2021-03-16</td>\n",
       "      <td>3</td>\n",
       "    </tr>\n",
       "    <tr>\n",
       "      <th>9318</th>\n",
       "      <td>909</td>\n",
       "      <td>69.328135</td>\n",
       "      <td>8.148560</td>\n",
       "      <td>2021-12-14</td>\n",
       "      <td>12</td>\n",
       "    </tr>\n",
       "  </tbody>\n",
       "</table>\n",
       "</div>"
      ],
      "text/plain": [
       "      user_id   distance   duration       date  month\n",
       "6611      707  28.793204  14.143966 2021-09-12      9\n",
       "6691      712  23.963062   2.053251 2021-11-22     11\n",
       "6816      721  62.568138   7.178766 2021-09-25      9\n",
       "6850      724  30.473763   3.166221 2021-05-09      5\n",
       "7367      760  54.724068   8.164172 2021-10-13     10\n",
       "7389      762  35.061903   7.087655 2021-05-27      5\n",
       "7595      779  83.977452   3.419887 2021-09-10      9\n",
       "7841      796   7.097072  10.026614 2021-11-26     11\n",
       "8324      835  12.233115   4.034952 2021-09-19      9\n",
       "8658      861   6.784447   6.015656 2021-07-21      7\n",
       "8723      867  85.713205  12.205712 2021-04-01      4\n",
       "8906      880  11.283615   2.035632 2021-03-28      3\n",
       "9044      890  98.121573  10.210261 2021-08-12      8\n",
       "9128      896  31.803410   8.079509 2021-03-16      3\n",
       "9318      909  69.328135   8.148560 2021-12-14     12"
      ]
     },
     "execution_count": 44,
     "metadata": {},
     "output_type": "execute_result"
    }
   ],
   "source": [
    "rides.query('distance < 100').head(15)"
   ]
  },
  {
   "cell_type": "markdown",
   "id": "50ed5a00",
   "metadata": {},
   "source": [
    "**3.8** Из срезов данных стало понятно, что, скорее всего, значения в `duration`, близкие к нулю, появились из-за сбоя подсчёта времени. Так как мы видим, что у многих больших расстояний указана продолжительность поездки в 0.5 минуты. Скорее всего, алгоритм записал везде эту продолжительность поездки, где не смог считать реальные значения продолжительности. Я бы посоветовала удалить из таблицы строки, где продожительность поездки равна 0.5.\n",
    "\n",
    "Со столбцом `distance` не всё так однозначно. Есть клиенты, которые проехали меньше 100 метров за 10 и более минут. Возможно, они забыли завершить поездку, передумав кататься, или были какие-то другие причины. Но на систематический сбой в данных это не похоже. Можно тоже удалить такие поездки из данных, так как вряд ли они отражают поведение среднестатистического клиента. "
   ]
  },
  {
   "cell_type": "markdown",
   "id": "a3f735e3",
   "metadata": {},
   "source": [
    "**Вывод:**\n",
    "\n",
    "- Количество пользователей в городах распределено достаточно равномерно: от 168 до 219 пользователей. Больше всего пользователей из Пятигорска (219), а меньше всего из Москвы (168). Остальные города имеют небольшой разброс относиельно друг друга: от 180 до 204 пользователей.\n",
    "- Среди пользователей самокатов достаточно большой процент имеет платную подписку. Соотношение клиентов с подпиской и без — 0.84 к 1 соответственно.\n",
    "- Пользователи самокатов являются молодой аудиторией. Средний возраст составляет 25 лет. Средует отметить, что более 75% имеют возраст до 30 лет. Самые молодые пользователи — 12-летние.\n",
    "- Самая популярная дистанция, которую проезжает пользователь за одну поездку, — примерно 3-3,3 км. Подавляющее большинство поездок распределены в интервале от 2 до 4,5 км. Стоит отметить, что расстояние около 220-230 поездок близко к нулю. Возможно, стоит обратитть внимание на эти данные.\n",
    "- Самое популярное время поездки — 17 минут. Более 75% поездок длятся не более 22 минут. В продолжительности поездки также прослеживаются экстремально низкие значения."
   ]
  },
  {
   "cell_type": "markdown",
   "id": "8057df0c",
   "metadata": {},
   "source": [
    "<a id=\"4\"></a>\n",
    "##  Объединение данных"
   ]
  },
  {
   "cell_type": "markdown",
   "id": "017c7189",
   "metadata": {},
   "source": [
    "**4.1** Объединим данные о пользователях, поездках и подписках в один датафрейм. Для этого воспользуемся методом `merge()`. Предварительно выведем на экран все таблицы, чтобы было проще работать."
   ]
  },
  {
   "cell_type": "code",
   "execution_count": 45,
   "id": "620c4288",
   "metadata": {},
   "outputs": [
    {
     "data": {
      "text/html": [
       "<div>\n",
       "<style scoped>\n",
       "    .dataframe tbody tr th:only-of-type {\n",
       "        vertical-align: middle;\n",
       "    }\n",
       "\n",
       "    .dataframe tbody tr th {\n",
       "        vertical-align: top;\n",
       "    }\n",
       "\n",
       "    .dataframe thead th {\n",
       "        text-align: right;\n",
       "    }\n",
       "</style>\n",
       "<table border=\"1\" class=\"dataframe\">\n",
       "  <thead>\n",
       "    <tr style=\"text-align: right;\">\n",
       "      <th></th>\n",
       "      <th>user_id</th>\n",
       "      <th>name</th>\n",
       "      <th>age</th>\n",
       "      <th>city</th>\n",
       "      <th>subscription_type</th>\n",
       "    </tr>\n",
       "  </thead>\n",
       "  <tbody>\n",
       "    <tr>\n",
       "      <th>0</th>\n",
       "      <td>1</td>\n",
       "      <td>Кира</td>\n",
       "      <td>22</td>\n",
       "      <td>Тюмень</td>\n",
       "      <td>ultra</td>\n",
       "    </tr>\n",
       "    <tr>\n",
       "      <th>1</th>\n",
       "      <td>2</td>\n",
       "      <td>Станислав</td>\n",
       "      <td>31</td>\n",
       "      <td>Омск</td>\n",
       "      <td>ultra</td>\n",
       "    </tr>\n",
       "    <tr>\n",
       "      <th>2</th>\n",
       "      <td>3</td>\n",
       "      <td>Алексей</td>\n",
       "      <td>20</td>\n",
       "      <td>Москва</td>\n",
       "      <td>ultra</td>\n",
       "    </tr>\n",
       "    <tr>\n",
       "      <th>3</th>\n",
       "      <td>4</td>\n",
       "      <td>Константин</td>\n",
       "      <td>26</td>\n",
       "      <td>Ростов-на-Дону</td>\n",
       "      <td>ultra</td>\n",
       "    </tr>\n",
       "    <tr>\n",
       "      <th>4</th>\n",
       "      <td>5</td>\n",
       "      <td>Адель</td>\n",
       "      <td>28</td>\n",
       "      <td>Омск</td>\n",
       "      <td>ultra</td>\n",
       "    </tr>\n",
       "  </tbody>\n",
       "</table>\n",
       "</div>"
      ],
      "text/plain": [
       "   user_id        name  age            city subscription_type\n",
       "0        1        Кира   22          Тюмень             ultra\n",
       "1        2   Станислав   31            Омск             ultra\n",
       "2        3     Алексей   20          Москва             ultra\n",
       "3        4  Константин   26  Ростов-на-Дону             ultra\n",
       "4        5       Адель   28            Омск             ultra"
      ]
     },
     "execution_count": 45,
     "metadata": {},
     "output_type": "execute_result"
    }
   ],
   "source": [
    "users.head()"
   ]
  },
  {
   "cell_type": "code",
   "execution_count": 46,
   "id": "d1f757fc",
   "metadata": {},
   "outputs": [
    {
     "data": {
      "text/html": [
       "<div>\n",
       "<style scoped>\n",
       "    .dataframe tbody tr th:only-of-type {\n",
       "        vertical-align: middle;\n",
       "    }\n",
       "\n",
       "    .dataframe tbody tr th {\n",
       "        vertical-align: top;\n",
       "    }\n",
       "\n",
       "    .dataframe thead th {\n",
       "        text-align: right;\n",
       "    }\n",
       "</style>\n",
       "<table border=\"1\" class=\"dataframe\">\n",
       "  <thead>\n",
       "    <tr style=\"text-align: right;\">\n",
       "      <th></th>\n",
       "      <th>user_id</th>\n",
       "      <th>distance</th>\n",
       "      <th>duration</th>\n",
       "      <th>date</th>\n",
       "      <th>month</th>\n",
       "    </tr>\n",
       "  </thead>\n",
       "  <tbody>\n",
       "    <tr>\n",
       "      <th>0</th>\n",
       "      <td>1</td>\n",
       "      <td>4409.919140</td>\n",
       "      <td>25.599769</td>\n",
       "      <td>2021-01-01</td>\n",
       "      <td>1</td>\n",
       "    </tr>\n",
       "    <tr>\n",
       "      <th>1</th>\n",
       "      <td>1</td>\n",
       "      <td>2617.592153</td>\n",
       "      <td>15.816871</td>\n",
       "      <td>2021-01-18</td>\n",
       "      <td>1</td>\n",
       "    </tr>\n",
       "    <tr>\n",
       "      <th>2</th>\n",
       "      <td>1</td>\n",
       "      <td>754.159807</td>\n",
       "      <td>6.232113</td>\n",
       "      <td>2021-04-20</td>\n",
       "      <td>4</td>\n",
       "    </tr>\n",
       "    <tr>\n",
       "      <th>3</th>\n",
       "      <td>1</td>\n",
       "      <td>2694.783254</td>\n",
       "      <td>18.511000</td>\n",
       "      <td>2021-08-11</td>\n",
       "      <td>8</td>\n",
       "    </tr>\n",
       "    <tr>\n",
       "      <th>4</th>\n",
       "      <td>1</td>\n",
       "      <td>4028.687306</td>\n",
       "      <td>26.265803</td>\n",
       "      <td>2021-08-28</td>\n",
       "      <td>8</td>\n",
       "    </tr>\n",
       "  </tbody>\n",
       "</table>\n",
       "</div>"
      ],
      "text/plain": [
       "   user_id     distance   duration       date  month\n",
       "0        1  4409.919140  25.599769 2021-01-01      1\n",
       "1        1  2617.592153  15.816871 2021-01-18      1\n",
       "2        1   754.159807   6.232113 2021-04-20      4\n",
       "3        1  2694.783254  18.511000 2021-08-11      8\n",
       "4        1  4028.687306  26.265803 2021-08-28      8"
      ]
     },
     "execution_count": 46,
     "metadata": {},
     "output_type": "execute_result"
    }
   ],
   "source": [
    "rides.head()"
   ]
  },
  {
   "cell_type": "code",
   "execution_count": 47,
   "id": "6e9ca9c4",
   "metadata": {},
   "outputs": [
    {
     "data": {
      "text/html": [
       "<div>\n",
       "<style scoped>\n",
       "    .dataframe tbody tr th:only-of-type {\n",
       "        vertical-align: middle;\n",
       "    }\n",
       "\n",
       "    .dataframe tbody tr th {\n",
       "        vertical-align: top;\n",
       "    }\n",
       "\n",
       "    .dataframe thead th {\n",
       "        text-align: right;\n",
       "    }\n",
       "</style>\n",
       "<table border=\"1\" class=\"dataframe\">\n",
       "  <thead>\n",
       "    <tr style=\"text-align: right;\">\n",
       "      <th></th>\n",
       "      <th>subscription_type</th>\n",
       "      <th>minute_price</th>\n",
       "      <th>start_ride_price</th>\n",
       "      <th>subscription_fee</th>\n",
       "    </tr>\n",
       "  </thead>\n",
       "  <tbody>\n",
       "    <tr>\n",
       "      <th>0</th>\n",
       "      <td>free</td>\n",
       "      <td>8</td>\n",
       "      <td>50</td>\n",
       "      <td>0</td>\n",
       "    </tr>\n",
       "    <tr>\n",
       "      <th>1</th>\n",
       "      <td>ultra</td>\n",
       "      <td>6</td>\n",
       "      <td>0</td>\n",
       "      <td>199</td>\n",
       "    </tr>\n",
       "  </tbody>\n",
       "</table>\n",
       "</div>"
      ],
      "text/plain": [
       "  subscription_type  minute_price  start_ride_price  subscription_fee\n",
       "0              free             8                50                 0\n",
       "1             ultra             6                 0               199"
      ]
     },
     "execution_count": 47,
     "metadata": {},
     "output_type": "execute_result"
    }
   ],
   "source": [
    "subscription.head()"
   ]
  },
  {
   "cell_type": "code",
   "execution_count": 48,
   "id": "95ab843f",
   "metadata": {},
   "outputs": [],
   "source": [
    "users_and_rides = users.merge(rides, on='user_id')\n",
    "full_info = users_and_rides.merge(subscription, on='subscription_type')"
   ]
  },
  {
   "cell_type": "code",
   "execution_count": 49,
   "id": "2638da07",
   "metadata": {},
   "outputs": [
    {
     "data": {
      "text/html": [
       "<div>\n",
       "<style scoped>\n",
       "    .dataframe tbody tr th:only-of-type {\n",
       "        vertical-align: middle;\n",
       "    }\n",
       "\n",
       "    .dataframe tbody tr th {\n",
       "        vertical-align: top;\n",
       "    }\n",
       "\n",
       "    .dataframe thead th {\n",
       "        text-align: right;\n",
       "    }\n",
       "</style>\n",
       "<table border=\"1\" class=\"dataframe\">\n",
       "  <thead>\n",
       "    <tr style=\"text-align: right;\">\n",
       "      <th></th>\n",
       "      <th>user_id</th>\n",
       "      <th>name</th>\n",
       "      <th>age</th>\n",
       "      <th>city</th>\n",
       "      <th>subscription_type</th>\n",
       "      <th>distance</th>\n",
       "      <th>duration</th>\n",
       "      <th>date</th>\n",
       "      <th>month</th>\n",
       "      <th>minute_price</th>\n",
       "      <th>start_ride_price</th>\n",
       "      <th>subscription_fee</th>\n",
       "    </tr>\n",
       "  </thead>\n",
       "  <tbody>\n",
       "    <tr>\n",
       "      <th>0</th>\n",
       "      <td>1</td>\n",
       "      <td>Кира</td>\n",
       "      <td>22</td>\n",
       "      <td>Тюмень</td>\n",
       "      <td>ultra</td>\n",
       "      <td>4409.919140</td>\n",
       "      <td>25.599769</td>\n",
       "      <td>2021-01-01</td>\n",
       "      <td>1</td>\n",
       "      <td>6</td>\n",
       "      <td>0</td>\n",
       "      <td>199</td>\n",
       "    </tr>\n",
       "    <tr>\n",
       "      <th>1</th>\n",
       "      <td>1</td>\n",
       "      <td>Кира</td>\n",
       "      <td>22</td>\n",
       "      <td>Тюмень</td>\n",
       "      <td>ultra</td>\n",
       "      <td>2617.592153</td>\n",
       "      <td>15.816871</td>\n",
       "      <td>2021-01-18</td>\n",
       "      <td>1</td>\n",
       "      <td>6</td>\n",
       "      <td>0</td>\n",
       "      <td>199</td>\n",
       "    </tr>\n",
       "    <tr>\n",
       "      <th>2</th>\n",
       "      <td>1</td>\n",
       "      <td>Кира</td>\n",
       "      <td>22</td>\n",
       "      <td>Тюмень</td>\n",
       "      <td>ultra</td>\n",
       "      <td>754.159807</td>\n",
       "      <td>6.232113</td>\n",
       "      <td>2021-04-20</td>\n",
       "      <td>4</td>\n",
       "      <td>6</td>\n",
       "      <td>0</td>\n",
       "      <td>199</td>\n",
       "    </tr>\n",
       "    <tr>\n",
       "      <th>3</th>\n",
       "      <td>1</td>\n",
       "      <td>Кира</td>\n",
       "      <td>22</td>\n",
       "      <td>Тюмень</td>\n",
       "      <td>ultra</td>\n",
       "      <td>2694.783254</td>\n",
       "      <td>18.511000</td>\n",
       "      <td>2021-08-11</td>\n",
       "      <td>8</td>\n",
       "      <td>6</td>\n",
       "      <td>0</td>\n",
       "      <td>199</td>\n",
       "    </tr>\n",
       "    <tr>\n",
       "      <th>4</th>\n",
       "      <td>1</td>\n",
       "      <td>Кира</td>\n",
       "      <td>22</td>\n",
       "      <td>Тюмень</td>\n",
       "      <td>ultra</td>\n",
       "      <td>4028.687306</td>\n",
       "      <td>26.265803</td>\n",
       "      <td>2021-08-28</td>\n",
       "      <td>8</td>\n",
       "      <td>6</td>\n",
       "      <td>0</td>\n",
       "      <td>199</td>\n",
       "    </tr>\n",
       "  </tbody>\n",
       "</table>\n",
       "</div>"
      ],
      "text/plain": [
       "   user_id  name  age    city subscription_type     distance   duration  \\\n",
       "0        1  Кира   22  Тюмень             ultra  4409.919140  25.599769   \n",
       "1        1  Кира   22  Тюмень             ultra  2617.592153  15.816871   \n",
       "2        1  Кира   22  Тюмень             ultra   754.159807   6.232113   \n",
       "3        1  Кира   22  Тюмень             ultra  2694.783254  18.511000   \n",
       "4        1  Кира   22  Тюмень             ultra  4028.687306  26.265803   \n",
       "\n",
       "        date  month  minute_price  start_ride_price  subscription_fee  \n",
       "0 2021-01-01      1             6                 0               199  \n",
       "1 2021-01-18      1             6                 0               199  \n",
       "2 2021-04-20      4             6                 0               199  \n",
       "3 2021-08-11      8             6                 0               199  \n",
       "4 2021-08-28      8             6                 0               199  "
      ]
     },
     "execution_count": 49,
     "metadata": {},
     "output_type": "execute_result"
    }
   ],
   "source": [
    "full_info.head()"
   ]
  },
  {
   "cell_type": "markdown",
   "id": "9e104217",
   "metadata": {},
   "source": [
    "**4.2** Проверим количество строк полученной таблицы и сравним это значение с количеством строк таблиц до объединения. В данном случае мы знаем, что больше всего строк было у датафрейма `rides`. Именно на количество строк этой таблицы и будем ориентироваться, так как данные остальных таблиц должны были сагрегироваться с `rides`."
   ]
  },
  {
   "cell_type": "code",
   "execution_count": 50,
   "id": "bd648d0c",
   "metadata": {},
   "outputs": [
    {
     "data": {
      "text/plain": [
       "18068"
      ]
     },
     "execution_count": 50,
     "metadata": {},
     "output_type": "execute_result"
    }
   ],
   "source": [
    "len(full_info)"
   ]
  },
  {
   "cell_type": "code",
   "execution_count": 51,
   "id": "17307126",
   "metadata": {
    "scrolled": true
   },
   "outputs": [
    {
     "data": {
      "text/plain": [
       "18068"
      ]
     },
     "execution_count": 51,
     "metadata": {},
     "output_type": "execute_result"
    }
   ],
   "source": [
    "len(rides)"
   ]
  },
  {
   "cell_type": "markdown",
   "id": "67c1397f",
   "metadata": {},
   "source": [
    "**4.3** Количество строк одинаковое, значит, агрегация прошла верно. \n",
    "\n",
    "Мы объединили данные из 3 таблиц и записали их в переменную `full_info`.\n",
    "\n",
    "Теперь на основе полной таблицы создадим два датафрейма: с пользователями без подписки и с пользователями, имеющими подписку (`users_ultra` и `users_free`)."
   ]
  },
  {
   "cell_type": "code",
   "execution_count": 52,
   "id": "ef194770",
   "metadata": {},
   "outputs": [],
   "source": [
    "users_ultra = full_info.query('subscription_type == \"ultra\"')"
   ]
  },
  {
   "cell_type": "code",
   "execution_count": 53,
   "id": "05fed1a4",
   "metadata": {},
   "outputs": [],
   "source": [
    "users_free = full_info.query('subscription_type == \"free\"')"
   ]
  },
  {
   "cell_type": "markdown",
   "id": "77004648",
   "metadata": {},
   "source": [
    "**4.4** Проверим, правильно ли распределились данные. "
   ]
  },
  {
   "cell_type": "code",
   "execution_count": 54,
   "id": "234cd30f",
   "metadata": {
    "scrolled": true
   },
   "outputs": [
    {
     "name": "stdout",
     "output_type": "stream",
     "text": [
      "<class 'pandas.core.frame.DataFrame'>\n",
      "RangeIndex: 18068 entries, 0 to 18067\n",
      "Data columns (total 12 columns):\n",
      " #   Column             Non-Null Count  Dtype         \n",
      "---  ------             --------------  -----         \n",
      " 0   user_id            18068 non-null  int64         \n",
      " 1   name               18068 non-null  object        \n",
      " 2   age                18068 non-null  int64         \n",
      " 3   city               18068 non-null  object        \n",
      " 4   subscription_type  18068 non-null  object        \n",
      " 5   distance           18068 non-null  float64       \n",
      " 6   duration           18068 non-null  float64       \n",
      " 7   date               18068 non-null  datetime64[ns]\n",
      " 8   month              18068 non-null  int32         \n",
      " 9   minute_price       18068 non-null  int64         \n",
      " 10  start_ride_price   18068 non-null  int64         \n",
      " 11  subscription_fee   18068 non-null  int64         \n",
      "dtypes: datetime64[ns](1), float64(2), int32(1), int64(5), object(3)\n",
      "memory usage: 1.6+ MB\n"
     ]
    }
   ],
   "source": [
    "full_info.info()"
   ]
  },
  {
   "cell_type": "code",
   "execution_count": 55,
   "id": "bc1dda56",
   "metadata": {
    "scrolled": true
   },
   "outputs": [
    {
     "name": "stdout",
     "output_type": "stream",
     "text": [
      "<class 'pandas.core.frame.DataFrame'>\n",
      "Index: 6500 entries, 0 to 6499\n",
      "Data columns (total 12 columns):\n",
      " #   Column             Non-Null Count  Dtype         \n",
      "---  ------             --------------  -----         \n",
      " 0   user_id            6500 non-null   int64         \n",
      " 1   name               6500 non-null   object        \n",
      " 2   age                6500 non-null   int64         \n",
      " 3   city               6500 non-null   object        \n",
      " 4   subscription_type  6500 non-null   object        \n",
      " 5   distance           6500 non-null   float64       \n",
      " 6   duration           6500 non-null   float64       \n",
      " 7   date               6500 non-null   datetime64[ns]\n",
      " 8   month              6500 non-null   int32         \n",
      " 9   minute_price       6500 non-null   int64         \n",
      " 10  start_ride_price   6500 non-null   int64         \n",
      " 11  subscription_fee   6500 non-null   int64         \n",
      "dtypes: datetime64[ns](1), float64(2), int32(1), int64(5), object(3)\n",
      "memory usage: 634.8+ KB\n"
     ]
    }
   ],
   "source": [
    "users_ultra.info()"
   ]
  },
  {
   "cell_type": "code",
   "execution_count": 56,
   "id": "4d22e80a",
   "metadata": {
    "scrolled": true
   },
   "outputs": [
    {
     "data": {
      "text/plain": [
       "array(['ultra'], dtype=object)"
      ]
     },
     "execution_count": 56,
     "metadata": {},
     "output_type": "execute_result"
    }
   ],
   "source": [
    "users_ultra['subscription_type'].unique()"
   ]
  },
  {
   "cell_type": "code",
   "execution_count": 57,
   "id": "60268f4c",
   "metadata": {},
   "outputs": [
    {
     "name": "stdout",
     "output_type": "stream",
     "text": [
      "<class 'pandas.core.frame.DataFrame'>\n",
      "Index: 11568 entries, 6500 to 18067\n",
      "Data columns (total 12 columns):\n",
      " #   Column             Non-Null Count  Dtype         \n",
      "---  ------             --------------  -----         \n",
      " 0   user_id            11568 non-null  int64         \n",
      " 1   name               11568 non-null  object        \n",
      " 2   age                11568 non-null  int64         \n",
      " 3   city               11568 non-null  object        \n",
      " 4   subscription_type  11568 non-null  object        \n",
      " 5   distance           11568 non-null  float64       \n",
      " 6   duration           11568 non-null  float64       \n",
      " 7   date               11568 non-null  datetime64[ns]\n",
      " 8   month              11568 non-null  int32         \n",
      " 9   minute_price       11568 non-null  int64         \n",
      " 10  start_ride_price   11568 non-null  int64         \n",
      " 11  subscription_fee   11568 non-null  int64         \n",
      "dtypes: datetime64[ns](1), float64(2), int32(1), int64(5), object(3)\n",
      "memory usage: 1.1+ MB\n"
     ]
    }
   ],
   "source": [
    "users_free.info()"
   ]
  },
  {
   "cell_type": "code",
   "execution_count": 58,
   "id": "bb3212d1",
   "metadata": {},
   "outputs": [
    {
     "data": {
      "text/plain": [
       "array(['free'], dtype=object)"
      ]
     },
     "execution_count": 58,
     "metadata": {},
     "output_type": "execute_result"
    }
   ],
   "source": [
    "users_free['subscription_type'].unique()"
   ]
  },
  {
   "cell_type": "markdown",
   "id": "9a63f864",
   "metadata": {},
   "source": [
    "**4.5** Все колонки сохранены и сумма строк `users_ultra` и `users_free` равна количеству строк `full_info`. Колонки тоже сохранены. В таблице `users_ultra` только пользователи с подпиской, а в `users_free` — без подписки. Всё распределено правильно. \n",
    "\n"
   ]
  },
  {
   "cell_type": "markdown",
   "id": "b5177653",
   "metadata": {},
   "source": [
    "**4.6** Теперь визуализируем информацию о расстоянии и времени поездок для пользователей обеих категорий.\n",
    "\n",
    "Начнём с **данных о преодолеваемом расстоянии пользователями с подпиской и без неё**."
   ]
  },
  {
   "cell_type": "code",
   "execution_count": 59,
   "id": "8e2955ef",
   "metadata": {},
   "outputs": [
    {
     "data": {
      "image/png": "[encoded data removed]",
      "text/plain": [
       "<Figure size 1200x600 with 1 Axes>"
      ]
     },
     "metadata": {},
     "output_type": "display_data"
    }
   ],
   "source": [
    "fig, ax = plt.subplots(figsize=(12, 6))\n",
    "ax.hist(users_ultra['distance'], bins=40, alpha=0.4, label='ultra', color='blue')\n",
    "ax.hist(users_free['distance'], bins=40, alpha=0.3, label='free', color='green')\n",
    "plt.title('Распределение расстояния, которое пользователи с подпиской и без неё преодолели за одну поездку')\n",
    "plt.xlabel('Расстояние в метрах')\n",
    "plt.ylabel('Количество пользователей')\n",
    "plt.legend()\n",
    "plt.grid()"
   ]
  },
  {
   "cell_type": "code",
   "execution_count": 60,
   "id": "703606a7",
   "metadata": {},
   "outputs": [
    {
     "data": {
      "text/plain": [
       "count    6500.000000\n",
       "mean     3115.445388\n",
       "std       836.895330\n",
       "min       244.210438\n",
       "25%      2785.444017\n",
       "50%      3148.637229\n",
       "75%      3560.574425\n",
       "max      5699.769662\n",
       "Name: distance, dtype: float64"
      ]
     },
     "execution_count": 60,
     "metadata": {},
     "output_type": "execute_result"
    }
   ],
   "source": [
    "users_ultra['distance'].describe()"
   ]
  },
  {
   "cell_type": "code",
   "execution_count": 61,
   "id": "3d0768de",
   "metadata": {
    "scrolled": true
   },
   "outputs": [
    {
     "data": {
      "text/plain": [
       "count    11568.000000\n",
       "mean      3045.495282\n",
       "std       1246.173806\n",
       "min          0.855683\n",
       "25%       2366.562689\n",
       "50%       3114.648465\n",
       "75%       3905.697894\n",
       "max       7211.007745\n",
       "Name: distance, dtype: float64"
      ]
     },
     "execution_count": 61,
     "metadata": {},
     "output_type": "execute_result"
    }
   ],
   "source": [
    "users_free['distance'].describe()"
   ]
  },
  {
   "cell_type": "markdown",
   "id": "46006da1",
   "metadata": {},
   "source": [
    "**4.7** По данным видно, что самое популярное расстояние, которые преодолевают пользователи с подпиской, составляет около 3 км. А то время как у пользователей без подписки пик значений лежит в большем диапазоне (от 2,4 до 3,4 км). Стоит отметить, что среднее и медианное значение у обоих типов пользователей почти одинаковы. \n",
    "\n",
    "При этом пользователи без подписки иногда преодолевают расстояния сверх 5,5 км, чего нельзя сказать о платных пользователях. \n",
    "\n",
    "\n",
    "В целом у пользователей без подписки разброс расстояния шире. Это может свидетельствовать о том, что такие клиенты совершают нерегулярные поездки, в то время как пользователи с подпиской часто ездят по одному маршруту (например, на работу).\n",
    "\n",
    "\n",
    "Также стоить отметить, что у пользователей без подписок больше поездок до 1 км. Опять же, возможно, наличие платной подписки свидетельствует о том, что клиенты ориентированы на более длинные расстояния.\n",
    "\n",
    "Теперь посмотрим **данные о времени поездки пользователей с подпиской и без неё**."
   ]
  },
  {
   "cell_type": "code",
   "execution_count": 62,
   "id": "2e2eed26",
   "metadata": {},
   "outputs": [
    {
     "data": {
      "image/png": "[encoded data removed]",
      "text/plain": [
       "<Figure size 1200x600 with 1 Axes>"
      ]
     },
     "metadata": {},
     "output_type": "display_data"
    }
   ],
   "source": [
    "fig, ax = plt.subplots(figsize=(12, 6))\n",
    "ax.hist(users_ultra['duration'], bins=40, alpha=0.4, label='ultra', color='blue')\n",
    "ax.hist(users_free['duration'], bins=40, alpha=0.3, label='free', color='green')\n",
    "plt.title('Распределение продолжительности поездки пользователей с подпиской и без неё')\n",
    "plt.xlabel('Продолжительность поездки в минутах')\n",
    "plt.ylabel('Количество пользователей')\n",
    "plt.legend()\n",
    "plt.grid()"
   ]
  },
  {
   "cell_type": "code",
   "execution_count": 63,
   "id": "de97bff5",
   "metadata": {},
   "outputs": [
    {
     "data": {
      "text/plain": [
       "count    6500.000000\n",
       "mean       18.541985\n",
       "std         5.572048\n",
       "min         3.760353\n",
       "25%        14.524654\n",
       "50%        18.178153\n",
       "75%        21.884129\n",
       "max        40.823963\n",
       "Name: duration, dtype: float64"
      ]
     },
     "execution_count": 63,
     "metadata": {},
     "output_type": "execute_result"
    }
   ],
   "source": [
    "users_ultra['duration'].describe()"
   ]
  },
  {
   "cell_type": "code",
   "execution_count": 64,
   "id": "85b08c98",
   "metadata": {},
   "outputs": [
    {
     "data": {
      "text/plain": [
       "count    11568.000000\n",
       "mean        17.390909\n",
       "std          6.326803\n",
       "min          0.500000\n",
       "25%         12.958437\n",
       "50%         17.326890\n",
       "75%         21.594071\n",
       "max         34.948498\n",
       "Name: duration, dtype: float64"
      ]
     },
     "execution_count": 64,
     "metadata": {},
     "output_type": "execute_result"
    }
   ],
   "source": [
    "users_free['duration'].describe()"
   ]
  },
  {
   "cell_type": "markdown",
   "id": "cb9fc1c7",
   "metadata": {},
   "source": [
    "**4.8** Продолжительность поездок пользователей с подпиской и без неё распределена похоже. Средняя (и самая популярная) продолжительность поездки у обоих категориий приблизительно одинакова (17-18 минут). И более 75% поездок для каждой группы длятся не более 22 минут. \n",
    "\n",
    "Можно отметить, что некоторые пользователи с подпиской пользовались самокатом более 35 минут, чего нельзя сказать о пользователях без подписки. \n",
    "\n",
    "В то же время у пользователей без подписки есть поездки продолжительностью менее 3 минут, чего нет у пользователей с подпиской. Возможно, новые пользователи без подписки не оценили данный вид передвижения. "
   ]
  },
  {
   "cell_type": "markdown",
   "id": "7ce0544a",
   "metadata": {},
   "source": [
    "**Вывод:**\n",
    "- Самое популярное расстояние, которые преодолевают пользователи с подпиской, составляет около 3 км. А то время как у пользователей без подписки пик значений лежит в большем диапазоне (от 2,4 до 3,4 км). Среднее и медианное значение у обоих типов пользователей почти одинаковы.\n",
    "- Пользователи без подписки иногда преодолевают расстояния сверх 5,5 км, чего нельзя сказать о платных пользователях. \n",
    "- У пользователей без подписки разброс преодолеваемого расстояния шире. Возможно, такие клиенты совершают нерегулярные поездки, в то время как пользователи с подпиской часто ездят по одному маршруту (например, на работу).\n",
    "- У пользователей без подписок больше поездок до 1 км. Возможно, наличие платной подписки свидетельствует о том, что клиенты ориентированы на более длинные расстояния.\n",
    "\n",
    "\n",
    "- Средняя продолжительность поездки у обоих категориий приблизительно одинакова (17-18 минут). И более 75% поездок для каждой группы длятся не более 22 минут. \n",
    "- Некоторые пользователи с подпиской пользовались самокатом более 35 минут, чего нельзя сказать о пользователях без подписки.\n",
    "- У пользователей без подписки есть поездки продолжительностью менее 3 минут, чего нет у пользователей с подпиской. Возможно, новые пользователи без подписки не оценили данный вид передвижения."
   ]
  },
  {
   "cell_type": "markdown",
   "id": "a1ba43c8",
   "metadata": {},
   "source": [
    "<a id=\"5\"></a>\n",
    "##  Подсчёт выручки"
   ]
  },
  {
   "cell_type": "markdown",
   "id": "16e7be2e",
   "metadata": {},
   "source": [
    "**5.1** Создадим датафрейм с агрегированными данными о поездках на основе датафрейма с объединёнными данными из **шага 4**: найдём количество поездок, суммарное расстояние и суммарное время для каждого пользователя за каждый месяц.\n",
    "\n",
    "Сюда же добавим данные о стоимости минуты поездки, стоимости старта и стоимости подписки для дальнейшего подсчёта помесячной выручки, которую принёс каждый пользователь. \n",
    "\n",
    "Чтобы узнать, можем ли мы при агрегации взять только первое значение этих столбцов, проверим, не менял ли какой-либо пользователь тип подписки. Для этого посчитаем количество уникальных подписок для каждого пользователя. Если кол-во таких значений не превышает 1, значит, пользователь имел только один тип подписки."
   ]
  },
  {
   "cell_type": "code",
   "execution_count": 65,
   "id": "cd000485",
   "metadata": {},
   "outputs": [
    {
     "data": {
      "text/plain": [
       "np.int64(0)"
      ]
     },
     "execution_count": 65,
     "metadata": {},
     "output_type": "execute_result"
    }
   ],
   "source": [
    "x = full_info.groupby('user_id')['subscription_type'].nunique()\n",
    "x[x > 1].sum()"
   ]
  },
  {
   "cell_type": "markdown",
   "id": "0d7d8306",
   "metadata": {},
   "source": [
    "**5.2** После проверки мы уверены, что пользователи не меняли тип подписки. Значит, при агрегации данных можно взять только первое значение для каждого пользователя из столбцов `minute_price`, `start_ride_price`, `subscription_fee`, `subscription_type`.\n",
    "\n",
    "Перед созданием сводной таблицы округлим продолжительность каждой поездки в каждой строке до следующего целого числа."
   ]
  },
  {
   "cell_type": "code",
   "execution_count": 66,
   "id": "f0d4b908",
   "metadata": {},
   "outputs": [],
   "source": [
    "full_info['duration'] = np.ceil(full_info['duration'])\n"
   ]
  },
  {
   "cell_type": "code",
   "execution_count": 67,
   "id": "2dccca9a",
   "metadata": {},
   "outputs": [
    {
     "data": {
      "text/html": [
       "<div>\n",
       "<style scoped>\n",
       "    .dataframe tbody tr th:only-of-type {\n",
       "        vertical-align: middle;\n",
       "    }\n",
       "\n",
       "    .dataframe tbody tr th {\n",
       "        vertical-align: top;\n",
       "    }\n",
       "\n",
       "    .dataframe thead th {\n",
       "        text-align: right;\n",
       "    }\n",
       "</style>\n",
       "<table border=\"1\" class=\"dataframe\">\n",
       "  <thead>\n",
       "    <tr style=\"text-align: right;\">\n",
       "      <th></th>\n",
       "      <th></th>\n",
       "      <th>rides</th>\n",
       "      <th>all_distance</th>\n",
       "      <th>all_duration</th>\n",
       "      <th>minute_price</th>\n",
       "      <th>start_ride_price</th>\n",
       "      <th>subscription_fee</th>\n",
       "      <th>subscription_type</th>\n",
       "    </tr>\n",
       "    <tr>\n",
       "      <th>user_id</th>\n",
       "      <th>month</th>\n",
       "      <th></th>\n",
       "      <th></th>\n",
       "      <th></th>\n",
       "      <th></th>\n",
       "      <th></th>\n",
       "      <th></th>\n",
       "      <th></th>\n",
       "    </tr>\n",
       "  </thead>\n",
       "  <tbody>\n",
       "    <tr>\n",
       "      <th rowspan=\"6\" valign=\"top\">1</th>\n",
       "      <th>1</th>\n",
       "      <td>2</td>\n",
       "      <td>7027.511294</td>\n",
       "      <td>42.0</td>\n",
       "      <td>6</td>\n",
       "      <td>0</td>\n",
       "      <td>199</td>\n",
       "      <td>ultra</td>\n",
       "    </tr>\n",
       "    <tr>\n",
       "      <th>4</th>\n",
       "      <td>1</td>\n",
       "      <td>754.159807</td>\n",
       "      <td>7.0</td>\n",
       "      <td>6</td>\n",
       "      <td>0</td>\n",
       "      <td>199</td>\n",
       "      <td>ultra</td>\n",
       "    </tr>\n",
       "    <tr>\n",
       "      <th>8</th>\n",
       "      <td>2</td>\n",
       "      <td>6723.470560</td>\n",
       "      <td>46.0</td>\n",
       "      <td>6</td>\n",
       "      <td>0</td>\n",
       "      <td>199</td>\n",
       "      <td>ultra</td>\n",
       "    </tr>\n",
       "    <tr>\n",
       "      <th>10</th>\n",
       "      <td>2</td>\n",
       "      <td>5809.911100</td>\n",
       "      <td>32.0</td>\n",
       "      <td>6</td>\n",
       "      <td>0</td>\n",
       "      <td>199</td>\n",
       "      <td>ultra</td>\n",
       "    </tr>\n",
       "    <tr>\n",
       "      <th>11</th>\n",
       "      <td>3</td>\n",
       "      <td>7003.499363</td>\n",
       "      <td>56.0</td>\n",
       "      <td>6</td>\n",
       "      <td>0</td>\n",
       "      <td>199</td>\n",
       "      <td>ultra</td>\n",
       "    </tr>\n",
       "    <tr>\n",
       "      <th>12</th>\n",
       "      <td>2</td>\n",
       "      <td>6751.629942</td>\n",
       "      <td>28.0</td>\n",
       "      <td>6</td>\n",
       "      <td>0</td>\n",
       "      <td>199</td>\n",
       "      <td>ultra</td>\n",
       "    </tr>\n",
       "    <tr>\n",
       "      <th rowspan=\"7\" valign=\"top\">2</th>\n",
       "      <th>3</th>\n",
       "      <td>3</td>\n",
       "      <td>10187.723006</td>\n",
       "      <td>63.0</td>\n",
       "      <td>6</td>\n",
       "      <td>0</td>\n",
       "      <td>199</td>\n",
       "      <td>ultra</td>\n",
       "    </tr>\n",
       "    <tr>\n",
       "      <th>4</th>\n",
       "      <td>2</td>\n",
       "      <td>6164.381824</td>\n",
       "      <td>40.0</td>\n",
       "      <td>6</td>\n",
       "      <td>0</td>\n",
       "      <td>199</td>\n",
       "      <td>ultra</td>\n",
       "    </tr>\n",
       "    <tr>\n",
       "      <th>6</th>\n",
       "      <td>1</td>\n",
       "      <td>3255.338202</td>\n",
       "      <td>14.0</td>\n",
       "      <td>6</td>\n",
       "      <td>0</td>\n",
       "      <td>199</td>\n",
       "      <td>ultra</td>\n",
       "    </tr>\n",
       "    <tr>\n",
       "      <th>7</th>\n",
       "      <td>2</td>\n",
       "      <td>6780.722964</td>\n",
       "      <td>48.0</td>\n",
       "      <td>6</td>\n",
       "      <td>0</td>\n",
       "      <td>199</td>\n",
       "      <td>ultra</td>\n",
       "    </tr>\n",
       "    <tr>\n",
       "      <th>8</th>\n",
       "      <td>1</td>\n",
       "      <td>923.007439</td>\n",
       "      <td>7.0</td>\n",
       "      <td>6</td>\n",
       "      <td>0</td>\n",
       "      <td>199</td>\n",
       "      <td>ultra</td>\n",
       "    </tr>\n",
       "    <tr>\n",
       "      <th>10</th>\n",
       "      <td>1</td>\n",
       "      <td>2824.636598</td>\n",
       "      <td>19.0</td>\n",
       "      <td>6</td>\n",
       "      <td>0</td>\n",
       "      <td>199</td>\n",
       "      <td>ultra</td>\n",
       "    </tr>\n",
       "    <tr>\n",
       "      <th>12</th>\n",
       "      <td>1</td>\n",
       "      <td>3828.248580</td>\n",
       "      <td>12.0</td>\n",
       "      <td>6</td>\n",
       "      <td>0</td>\n",
       "      <td>199</td>\n",
       "      <td>ultra</td>\n",
       "    </tr>\n",
       "    <tr>\n",
       "      <th rowspan=\"2\" valign=\"top\">3</th>\n",
       "      <th>1</th>\n",
       "      <td>1</td>\n",
       "      <td>3061.777147</td>\n",
       "      <td>13.0</td>\n",
       "      <td>6</td>\n",
       "      <td>0</td>\n",
       "      <td>199</td>\n",
       "      <td>ultra</td>\n",
       "    </tr>\n",
       "    <tr>\n",
       "      <th>2</th>\n",
       "      <td>2</td>\n",
       "      <td>5421.152016</td>\n",
       "      <td>39.0</td>\n",
       "      <td>6</td>\n",
       "      <td>0</td>\n",
       "      <td>199</td>\n",
       "      <td>ultra</td>\n",
       "    </tr>\n",
       "  </tbody>\n",
       "</table>\n",
       "</div>"
      ],
      "text/plain": [
       "               rides  all_distance  all_duration  minute_price  \\\n",
       "user_id month                                                    \n",
       "1       1          2   7027.511294          42.0             6   \n",
       "        4          1    754.159807           7.0             6   \n",
       "        8          2   6723.470560          46.0             6   \n",
       "        10         2   5809.911100          32.0             6   \n",
       "        11         3   7003.499363          56.0             6   \n",
       "        12         2   6751.629942          28.0             6   \n",
       "2       3          3  10187.723006          63.0             6   \n",
       "        4          2   6164.381824          40.0             6   \n",
       "        6          1   3255.338202          14.0             6   \n",
       "        7          2   6780.722964          48.0             6   \n",
       "        8          1    923.007439           7.0             6   \n",
       "        10         1   2824.636598          19.0             6   \n",
       "        12         1   3828.248580          12.0             6   \n",
       "3       1          1   3061.777147          13.0             6   \n",
       "        2          2   5421.152016          39.0             6   \n",
       "\n",
       "               start_ride_price  subscription_fee subscription_type  \n",
       "user_id month                                                        \n",
       "1       1                     0               199             ultra  \n",
       "        4                     0               199             ultra  \n",
       "        8                     0               199             ultra  \n",
       "        10                    0               199             ultra  \n",
       "        11                    0               199             ultra  \n",
       "        12                    0               199             ultra  \n",
       "2       3                     0               199             ultra  \n",
       "        4                     0               199             ultra  \n",
       "        6                     0               199             ultra  \n",
       "        7                     0               199             ultra  \n",
       "        8                     0               199             ultra  \n",
       "        10                    0               199             ultra  \n",
       "        12                    0               199             ultra  \n",
       "3       1                     0               199             ultra  \n",
       "        2                     0               199             ultra  "
      ]
     },
     "execution_count": 67,
     "metadata": {},
     "output_type": "execute_result"
    }
   ],
   "source": [
    "agg_info_rides = full_info.pivot_table(index=['user_id', 'month'], \\\n",
    "            values=['distance', 'duration', 'age', 'subscription_type', 'minute_price', 'start_ride_price', 'subscription_fee'], \\\n",
    "            aggfunc={'distance':'sum', 'duration':'sum', 'age':'count', 'subscription_type':'first', 'minute_price':'first', 'start_ride_price':'first', 'subscription_fee':'first'})\n",
    "\n",
    "agg_info_rides.rename(columns = {'age':'rides', 'distance':'all_distance', 'duration':'all_duration'}, inplace=True)\n",
    "\n",
    "agg_info_rides.head(15)"
   ]
  },
  {
   "cell_type": "markdown",
   "id": "82996c31",
   "metadata": {},
   "source": [
    "**5.3** В этот же датафрейм добавим столбец `month_revenue` с помесячной выручкой, которую принёс каждый пользователь. Для этого обратимся к заранее добавленным столбцам, в которых содержится информация об условиях оплаты для подписчиков и тех, у кого нет подписки."
   ]
  },
  {
   "cell_type": "code",
   "execution_count": 68,
   "id": "2b4b9e93",
   "metadata": {},
   "outputs": [
    {
     "data": {
      "text/html": [
       "<div>\n",
       "<style scoped>\n",
       "    .dataframe tbody tr th:only-of-type {\n",
       "        vertical-align: middle;\n",
       "    }\n",
       "\n",
       "    .dataframe tbody tr th {\n",
       "        vertical-align: top;\n",
       "    }\n",
       "\n",
       "    .dataframe thead th {\n",
       "        text-align: right;\n",
       "    }\n",
       "</style>\n",
       "<table border=\"1\" class=\"dataframe\">\n",
       "  <thead>\n",
       "    <tr style=\"text-align: right;\">\n",
       "      <th></th>\n",
       "      <th></th>\n",
       "      <th>rides</th>\n",
       "      <th>all_distance</th>\n",
       "      <th>all_duration</th>\n",
       "      <th>minute_price</th>\n",
       "      <th>start_ride_price</th>\n",
       "      <th>subscription_fee</th>\n",
       "      <th>subscription_type</th>\n",
       "      <th>month_revenue</th>\n",
       "    </tr>\n",
       "    <tr>\n",
       "      <th>user_id</th>\n",
       "      <th>month</th>\n",
       "      <th></th>\n",
       "      <th></th>\n",
       "      <th></th>\n",
       "      <th></th>\n",
       "      <th></th>\n",
       "      <th></th>\n",
       "      <th></th>\n",
       "      <th></th>\n",
       "    </tr>\n",
       "  </thead>\n",
       "  <tbody>\n",
       "    <tr>\n",
       "      <th rowspan=\"6\" valign=\"top\">1</th>\n",
       "      <th>1</th>\n",
       "      <td>2</td>\n",
       "      <td>7027.511294</td>\n",
       "      <td>42.0</td>\n",
       "      <td>6</td>\n",
       "      <td>0</td>\n",
       "      <td>199</td>\n",
       "      <td>ultra</td>\n",
       "      <td>451.0</td>\n",
       "    </tr>\n",
       "    <tr>\n",
       "      <th>4</th>\n",
       "      <td>1</td>\n",
       "      <td>754.159807</td>\n",
       "      <td>7.0</td>\n",
       "      <td>6</td>\n",
       "      <td>0</td>\n",
       "      <td>199</td>\n",
       "      <td>ultra</td>\n",
       "      <td>241.0</td>\n",
       "    </tr>\n",
       "    <tr>\n",
       "      <th>8</th>\n",
       "      <td>2</td>\n",
       "      <td>6723.470560</td>\n",
       "      <td>46.0</td>\n",
       "      <td>6</td>\n",
       "      <td>0</td>\n",
       "      <td>199</td>\n",
       "      <td>ultra</td>\n",
       "      <td>475.0</td>\n",
       "    </tr>\n",
       "    <tr>\n",
       "      <th>10</th>\n",
       "      <td>2</td>\n",
       "      <td>5809.911100</td>\n",
       "      <td>32.0</td>\n",
       "      <td>6</td>\n",
       "      <td>0</td>\n",
       "      <td>199</td>\n",
       "      <td>ultra</td>\n",
       "      <td>391.0</td>\n",
       "    </tr>\n",
       "    <tr>\n",
       "      <th>11</th>\n",
       "      <td>3</td>\n",
       "      <td>7003.499363</td>\n",
       "      <td>56.0</td>\n",
       "      <td>6</td>\n",
       "      <td>0</td>\n",
       "      <td>199</td>\n",
       "      <td>ultra</td>\n",
       "      <td>535.0</td>\n",
       "    </tr>\n",
       "    <tr>\n",
       "      <th>12</th>\n",
       "      <td>2</td>\n",
       "      <td>6751.629942</td>\n",
       "      <td>28.0</td>\n",
       "      <td>6</td>\n",
       "      <td>0</td>\n",
       "      <td>199</td>\n",
       "      <td>ultra</td>\n",
       "      <td>367.0</td>\n",
       "    </tr>\n",
       "    <tr>\n",
       "      <th rowspan=\"7\" valign=\"top\">2</th>\n",
       "      <th>3</th>\n",
       "      <td>3</td>\n",
       "      <td>10187.723006</td>\n",
       "      <td>63.0</td>\n",
       "      <td>6</td>\n",
       "      <td>0</td>\n",
       "      <td>199</td>\n",
       "      <td>ultra</td>\n",
       "      <td>577.0</td>\n",
       "    </tr>\n",
       "    <tr>\n",
       "      <th>4</th>\n",
       "      <td>2</td>\n",
       "      <td>6164.381824</td>\n",
       "      <td>40.0</td>\n",
       "      <td>6</td>\n",
       "      <td>0</td>\n",
       "      <td>199</td>\n",
       "      <td>ultra</td>\n",
       "      <td>439.0</td>\n",
       "    </tr>\n",
       "    <tr>\n",
       "      <th>6</th>\n",
       "      <td>1</td>\n",
       "      <td>3255.338202</td>\n",
       "      <td>14.0</td>\n",
       "      <td>6</td>\n",
       "      <td>0</td>\n",
       "      <td>199</td>\n",
       "      <td>ultra</td>\n",
       "      <td>283.0</td>\n",
       "    </tr>\n",
       "    <tr>\n",
       "      <th>7</th>\n",
       "      <td>2</td>\n",
       "      <td>6780.722964</td>\n",
       "      <td>48.0</td>\n",
       "      <td>6</td>\n",
       "      <td>0</td>\n",
       "      <td>199</td>\n",
       "      <td>ultra</td>\n",
       "      <td>487.0</td>\n",
       "    </tr>\n",
       "    <tr>\n",
       "      <th>8</th>\n",
       "      <td>1</td>\n",
       "      <td>923.007439</td>\n",
       "      <td>7.0</td>\n",
       "      <td>6</td>\n",
       "      <td>0</td>\n",
       "      <td>199</td>\n",
       "      <td>ultra</td>\n",
       "      <td>241.0</td>\n",
       "    </tr>\n",
       "    <tr>\n",
       "      <th>10</th>\n",
       "      <td>1</td>\n",
       "      <td>2824.636598</td>\n",
       "      <td>19.0</td>\n",
       "      <td>6</td>\n",
       "      <td>0</td>\n",
       "      <td>199</td>\n",
       "      <td>ultra</td>\n",
       "      <td>313.0</td>\n",
       "    </tr>\n",
       "    <tr>\n",
       "      <th>12</th>\n",
       "      <td>1</td>\n",
       "      <td>3828.248580</td>\n",
       "      <td>12.0</td>\n",
       "      <td>6</td>\n",
       "      <td>0</td>\n",
       "      <td>199</td>\n",
       "      <td>ultra</td>\n",
       "      <td>271.0</td>\n",
       "    </tr>\n",
       "    <tr>\n",
       "      <th rowspan=\"2\" valign=\"top\">3</th>\n",
       "      <th>1</th>\n",
       "      <td>1</td>\n",
       "      <td>3061.777147</td>\n",
       "      <td>13.0</td>\n",
       "      <td>6</td>\n",
       "      <td>0</td>\n",
       "      <td>199</td>\n",
       "      <td>ultra</td>\n",
       "      <td>277.0</td>\n",
       "    </tr>\n",
       "    <tr>\n",
       "      <th>2</th>\n",
       "      <td>2</td>\n",
       "      <td>5421.152016</td>\n",
       "      <td>39.0</td>\n",
       "      <td>6</td>\n",
       "      <td>0</td>\n",
       "      <td>199</td>\n",
       "      <td>ultra</td>\n",
       "      <td>433.0</td>\n",
       "    </tr>\n",
       "  </tbody>\n",
       "</table>\n",
       "</div>"
      ],
      "text/plain": [
       "               rides  all_distance  all_duration  minute_price  \\\n",
       "user_id month                                                    \n",
       "1       1          2   7027.511294          42.0             6   \n",
       "        4          1    754.159807           7.0             6   \n",
       "        8          2   6723.470560          46.0             6   \n",
       "        10         2   5809.911100          32.0             6   \n",
       "        11         3   7003.499363          56.0             6   \n",
       "        12         2   6751.629942          28.0             6   \n",
       "2       3          3  10187.723006          63.0             6   \n",
       "        4          2   6164.381824          40.0             6   \n",
       "        6          1   3255.338202          14.0             6   \n",
       "        7          2   6780.722964          48.0             6   \n",
       "        8          1    923.007439           7.0             6   \n",
       "        10         1   2824.636598          19.0             6   \n",
       "        12         1   3828.248580          12.0             6   \n",
       "3       1          1   3061.777147          13.0             6   \n",
       "        2          2   5421.152016          39.0             6   \n",
       "\n",
       "               start_ride_price  subscription_fee subscription_type  \\\n",
       "user_id month                                                         \n",
       "1       1                     0               199             ultra   \n",
       "        4                     0               199             ultra   \n",
       "        8                     0               199             ultra   \n",
       "        10                    0               199             ultra   \n",
       "        11                    0               199             ultra   \n",
       "        12                    0               199             ultra   \n",
       "2       3                     0               199             ultra   \n",
       "        4                     0               199             ultra   \n",
       "        6                     0               199             ultra   \n",
       "        7                     0               199             ultra   \n",
       "        8                     0               199             ultra   \n",
       "        10                    0               199             ultra   \n",
       "        12                    0               199             ultra   \n",
       "3       1                     0               199             ultra   \n",
       "        2                     0               199             ultra   \n",
       "\n",
       "               month_revenue  \n",
       "user_id month                 \n",
       "1       1              451.0  \n",
       "        4              241.0  \n",
       "        8              475.0  \n",
       "        10             391.0  \n",
       "        11             535.0  \n",
       "        12             367.0  \n",
       "2       3              577.0  \n",
       "        4              439.0  \n",
       "        6              283.0  \n",
       "        7              487.0  \n",
       "        8              241.0  \n",
       "        10             313.0  \n",
       "        12             271.0  \n",
       "3       1              277.0  \n",
       "        2              433.0  "
      ]
     },
     "execution_count": 68,
     "metadata": {},
     "output_type": "execute_result"
    }
   ],
   "source": [
    "agg_info_rides['month_revenue'] = agg_info_rides['subscription_fee'] + \\\n",
    "                                  agg_info_rides['start_ride_price']*agg_info_rides['rides'] + \\\n",
    "                                  agg_info_rides['minute_price']*agg_info_rides['all_duration'] \n",
    "agg_info_rides.head(15)"
   ]
  },
  {
   "cell_type": "markdown",
   "id": "b1273f28",
   "metadata": {},
   "source": [
    "**Вывод:**\n",
    "\n",
    "В рамках **5-го шага** мы посчитали помесячную выручку, которую принёс каждый пользователь сервиса самокатов, с помощью сводной таблицы. "
   ]
  },
  {
   "cell_type": "markdown",
   "id": "a2ad00a7",
   "metadata": {},
   "source": [
    "<a id=\"6\"></a>\n",
    "##  Проверка гипотез"
   ]
  },
  {
   "cell_type": "markdown",
   "id": "78412ef2",
   "metadata": {},
   "source": [
    "Продакт-менеджеры сервиса хотят увеличить количество пользователей с подпиской. Для этого они будут проводить различные акции, но сначала нужно выяснить несколько важных моментов.\n",
    "\n",
    "**6.1** Важно понять, тратят ли пользователи с подпиской больше времени на поездки? Если да, то пользователи с подпиской могут быть «выгоднее» для компании.\n",
    "\n",
    "Итак, нам нужно узнать, тратят ли пользователи с подпиской больше времени на поездки. Сформулируем гипотезу:\n",
    "- Нулевая гипотеза: средние значения времени поездки пользователей из двух групп равны.\n",
    "- Альтернативная гипотеза: среднее значение времени поездки пользователей с подпиской больше, чем среднее значение времени поездки пользователей без подписки.\n",
    "\n",
    "Проверим гипотезу. Возьмём уровень статистической значимости 0.05."
   ]
  },
  {
   "cell_type": "code",
   "execution_count": 69,
   "id": "1218c624",
   "metadata": {},
   "outputs": [
    {
     "name": "stdout",
     "output_type": "stream",
     "text": [
      "p-значение: 1.2804098316645613e-34\n",
      "Отвергаем нулевую гипотезу\n"
     ]
    }
   ],
   "source": [
    "users_ultra_group = users_ultra['duration']\n",
    "users_free_group = users_free['duration']\n",
    "\n",
    "alpha = 0.05\n",
    "\n",
    "results = st.ttest_ind(users_ultra_group, users_free_group, alternative='greater')\n",
    "\n",
    "print('p-значение:', results.pvalue)\n",
    "\n",
    "if results.pvalue < alpha:\n",
    "    print('Отвергаем нулевую гипотезу')\n",
    "else:\n",
    "    print('Не получилось отвергнуть нулевую гипотезу') "
   ]
  },
  {
   "cell_type": "markdown",
   "id": "032227c3",
   "metadata": {},
   "source": [
    "**6.2** Для ещё большей наглядности выведем средние значения продолжительности поездок для каждой категории пользователей."
   ]
  },
  {
   "cell_type": "code",
   "execution_count": 70,
   "id": "c4eee78a",
   "metadata": {},
   "outputs": [
    {
     "name": "stdout",
     "output_type": "stream",
     "text": [
      "18.54198516280583\n"
     ]
    }
   ],
   "source": [
    "print(users_ultra['duration'].mean())"
   ]
  },
  {
   "cell_type": "code",
   "execution_count": 71,
   "id": "9b5a0278",
   "metadata": {},
   "outputs": [
    {
     "name": "stdout",
     "output_type": "stream",
     "text": [
      "17.39090929866399\n"
     ]
    }
   ],
   "source": [
    "print(users_free['duration'].mean())"
   ]
  },
  {
   "cell_type": "markdown",
   "id": "52a29e58",
   "metadata": {},
   "source": [
    "p-value имеет очень маленькое значение. Средние значения продолжительности поездок для каждой категории пользователей не равны. А значит, мы отвергаем нулевую гипотезу о равенстве средних двух совокупностей. Значит, вполне вероятно, что **пользователи с подпиской тратят больше времени на поездки**, а значит, **пользователи с подпиской могут быть «выгоднее» для компании**.\n",
    "\n",
    "**Проверим следующую гипотезу:**\n",
    "\n",
    "**6.3** Расстояние одной поездки в 3130 метров — оптимальное с точки зрения износа самоката. Можно ли сказать, что среднее расстояние, которое проезжают пользователи с подпиской за одну поездку, не превышает 3130 метров? \n",
    "\n",
    "Сформулизаем гипотезу:\n",
    "\n",
    "- Нулевая гипотеза: Среднее расстояние, которое проезжают пользователи с подпиской за одну поездку, равно 3130 метров. \n",
    "- Альтернативная гипотеза: Среднее расстояние, которое проезжают пользователи с подпиской за 1 поездку, больше 3130 метров. \n",
    "\n",
    "Проверим гипотезу. Возьмём уровень статистической значимости 0.05.\n"
   ]
  },
  {
   "cell_type": "code",
   "execution_count": 72,
   "id": "1c29aa00",
   "metadata": {},
   "outputs": [
    {
     "name": "stdout",
     "output_type": "stream",
     "text": [
      "p-значение: 0.9195368847849785\n",
      "Не отвергаем нулевую гипотезу\n"
     ]
    }
   ],
   "source": [
    "users_ultra_distance = users_ultra['distance']\n",
    "\n",
    "optimal_value = 3130\n",
    "\n",
    "alpha = 0.05\n",
    "\n",
    "results = st.ttest_1samp(users_ultra_distance, optimal_value, alternative='greater')\n",
    "\n",
    "print('p-значение:', results.pvalue)\n",
    "\n",
    "if (results.pvalue < alpha):\n",
    "    print('Отвергаем нулевую гипотезу')\n",
    "else:\n",
    "    print('Не отвергаем нулевую гипотезу') "
   ]
  },
  {
   "cell_type": "markdown",
   "id": "1b43dd84",
   "metadata": {},
   "source": [
    "p-value близко к единице (0.92), значит, среднее расстояние, которое проезжают пользователи с подпиской за одну поездку, близко к 3130 метров, так как небольшое отклонение от заданного значения не даёт оснований отвергнуть нулевую гипотезу. \n",
    "\n",
    "На основании этих данных можно предположить, что **среднее расстояние, которое проезжают пользователи с подпиской за одну поездку, не превышает 3130 метров**. Получается, такие пользователи — достаточно выгодные клиенты, так как показатель износа самокатов для такой дистанции оптимальный. \n",
    "\n",
    "**6.4** Проверим гипотезу о том, будет ли помесячная выручка от пользователей с подпиской по месяцам выше, чем выручка от пользователей без подписки. Сформулируем гипотезу:\n",
    "\n",
    "- Нулевая гипотеза: средняя помесячная выручка от пользователей с подпиской равна средней помесячной выручке от пользователей без подписки.\n",
    "- Альтернативная гипотеза: средняя помесячная выручка от пользователей с подпиской выше, чем средняя выручка от пользователей без подписки.\n",
    "\n",
    "Для проверки гипотезы нужно датафрейм `agg_info_rides`, в котором хранятся данные о помесячной выручке, разделить на два датафрейма: с клиентами с подпиской и без неё. "
   ]
  },
  {
   "cell_type": "code",
   "execution_count": 73,
   "id": "d21ffbd1",
   "metadata": {},
   "outputs": [
    {
     "data": {
      "text/html": [
       "<div>\n",
       "<style scoped>\n",
       "    .dataframe tbody tr th:only-of-type {\n",
       "        vertical-align: middle;\n",
       "    }\n",
       "\n",
       "    .dataframe tbody tr th {\n",
       "        vertical-align: top;\n",
       "    }\n",
       "\n",
       "    .dataframe thead th {\n",
       "        text-align: right;\n",
       "    }\n",
       "</style>\n",
       "<table border=\"1\" class=\"dataframe\">\n",
       "  <thead>\n",
       "    <tr style=\"text-align: right;\">\n",
       "      <th></th>\n",
       "      <th></th>\n",
       "      <th>rides</th>\n",
       "      <th>all_distance</th>\n",
       "      <th>all_duration</th>\n",
       "      <th>minute_price</th>\n",
       "      <th>start_ride_price</th>\n",
       "      <th>subscription_fee</th>\n",
       "      <th>subscription_type</th>\n",
       "      <th>month_revenue</th>\n",
       "    </tr>\n",
       "    <tr>\n",
       "      <th>user_id</th>\n",
       "      <th>month</th>\n",
       "      <th></th>\n",
       "      <th></th>\n",
       "      <th></th>\n",
       "      <th></th>\n",
       "      <th></th>\n",
       "      <th></th>\n",
       "      <th></th>\n",
       "      <th></th>\n",
       "    </tr>\n",
       "  </thead>\n",
       "  <tbody>\n",
       "    <tr>\n",
       "      <th rowspan=\"6\" valign=\"top\">1</th>\n",
       "      <th>1</th>\n",
       "      <td>2</td>\n",
       "      <td>7027.511294</td>\n",
       "      <td>42.0</td>\n",
       "      <td>6</td>\n",
       "      <td>0</td>\n",
       "      <td>199</td>\n",
       "      <td>ultra</td>\n",
       "      <td>451.0</td>\n",
       "    </tr>\n",
       "    <tr>\n",
       "      <th>4</th>\n",
       "      <td>1</td>\n",
       "      <td>754.159807</td>\n",
       "      <td>7.0</td>\n",
       "      <td>6</td>\n",
       "      <td>0</td>\n",
       "      <td>199</td>\n",
       "      <td>ultra</td>\n",
       "      <td>241.0</td>\n",
       "    </tr>\n",
       "    <tr>\n",
       "      <th>8</th>\n",
       "      <td>2</td>\n",
       "      <td>6723.470560</td>\n",
       "      <td>46.0</td>\n",
       "      <td>6</td>\n",
       "      <td>0</td>\n",
       "      <td>199</td>\n",
       "      <td>ultra</td>\n",
       "      <td>475.0</td>\n",
       "    </tr>\n",
       "    <tr>\n",
       "      <th>10</th>\n",
       "      <td>2</td>\n",
       "      <td>5809.911100</td>\n",
       "      <td>32.0</td>\n",
       "      <td>6</td>\n",
       "      <td>0</td>\n",
       "      <td>199</td>\n",
       "      <td>ultra</td>\n",
       "      <td>391.0</td>\n",
       "    </tr>\n",
       "    <tr>\n",
       "      <th>11</th>\n",
       "      <td>3</td>\n",
       "      <td>7003.499363</td>\n",
       "      <td>56.0</td>\n",
       "      <td>6</td>\n",
       "      <td>0</td>\n",
       "      <td>199</td>\n",
       "      <td>ultra</td>\n",
       "      <td>535.0</td>\n",
       "    </tr>\n",
       "    <tr>\n",
       "      <th>12</th>\n",
       "      <td>2</td>\n",
       "      <td>6751.629942</td>\n",
       "      <td>28.0</td>\n",
       "      <td>6</td>\n",
       "      <td>0</td>\n",
       "      <td>199</td>\n",
       "      <td>ultra</td>\n",
       "      <td>367.0</td>\n",
       "    </tr>\n",
       "    <tr>\n",
       "      <th rowspan=\"4\" valign=\"top\">2</th>\n",
       "      <th>3</th>\n",
       "      <td>3</td>\n",
       "      <td>10187.723006</td>\n",
       "      <td>63.0</td>\n",
       "      <td>6</td>\n",
       "      <td>0</td>\n",
       "      <td>199</td>\n",
       "      <td>ultra</td>\n",
       "      <td>577.0</td>\n",
       "    </tr>\n",
       "    <tr>\n",
       "      <th>4</th>\n",
       "      <td>2</td>\n",
       "      <td>6164.381824</td>\n",
       "      <td>40.0</td>\n",
       "      <td>6</td>\n",
       "      <td>0</td>\n",
       "      <td>199</td>\n",
       "      <td>ultra</td>\n",
       "      <td>439.0</td>\n",
       "    </tr>\n",
       "    <tr>\n",
       "      <th>6</th>\n",
       "      <td>1</td>\n",
       "      <td>3255.338202</td>\n",
       "      <td>14.0</td>\n",
       "      <td>6</td>\n",
       "      <td>0</td>\n",
       "      <td>199</td>\n",
       "      <td>ultra</td>\n",
       "      <td>283.0</td>\n",
       "    </tr>\n",
       "    <tr>\n",
       "      <th>7</th>\n",
       "      <td>2</td>\n",
       "      <td>6780.722964</td>\n",
       "      <td>48.0</td>\n",
       "      <td>6</td>\n",
       "      <td>0</td>\n",
       "      <td>199</td>\n",
       "      <td>ultra</td>\n",
       "      <td>487.0</td>\n",
       "    </tr>\n",
       "  </tbody>\n",
       "</table>\n",
       "</div>"
      ],
      "text/plain": [
       "               rides  all_distance  all_duration  minute_price  \\\n",
       "user_id month                                                    \n",
       "1       1          2   7027.511294          42.0             6   \n",
       "        4          1    754.159807           7.0             6   \n",
       "        8          2   6723.470560          46.0             6   \n",
       "        10         2   5809.911100          32.0             6   \n",
       "        11         3   7003.499363          56.0             6   \n",
       "        12         2   6751.629942          28.0             6   \n",
       "2       3          3  10187.723006          63.0             6   \n",
       "        4          2   6164.381824          40.0             6   \n",
       "        6          1   3255.338202          14.0             6   \n",
       "        7          2   6780.722964          48.0             6   \n",
       "\n",
       "               start_ride_price  subscription_fee subscription_type  \\\n",
       "user_id month                                                         \n",
       "1       1                     0               199             ultra   \n",
       "        4                     0               199             ultra   \n",
       "        8                     0               199             ultra   \n",
       "        10                    0               199             ultra   \n",
       "        11                    0               199             ultra   \n",
       "        12                    0               199             ultra   \n",
       "2       3                     0               199             ultra   \n",
       "        4                     0               199             ultra   \n",
       "        6                     0               199             ultra   \n",
       "        7                     0               199             ultra   \n",
       "\n",
       "               month_revenue  \n",
       "user_id month                 \n",
       "1       1              451.0  \n",
       "        4              241.0  \n",
       "        8              475.0  \n",
       "        10             391.0  \n",
       "        11             535.0  \n",
       "        12             367.0  \n",
       "2       3              577.0  \n",
       "        4              439.0  \n",
       "        6              283.0  \n",
       "        7              487.0  "
      ]
     },
     "execution_count": 73,
     "metadata": {},
     "output_type": "execute_result"
    }
   ],
   "source": [
    "agg_info_rides_ultra = agg_info_rides.query('subscription_type == \"ultra\"')\n",
    "agg_info_rides_ultra.head(10)"
   ]
  },
  {
   "cell_type": "code",
   "execution_count": 74,
   "id": "6ac0e3f7",
   "metadata": {
    "scrolled": true
   },
   "outputs": [
    {
     "data": {
      "text/html": [
       "<div>\n",
       "<style scoped>\n",
       "    .dataframe tbody tr th:only-of-type {\n",
       "        vertical-align: middle;\n",
       "    }\n",
       "\n",
       "    .dataframe tbody tr th {\n",
       "        vertical-align: top;\n",
       "    }\n",
       "\n",
       "    .dataframe thead th {\n",
       "        text-align: right;\n",
       "    }\n",
       "</style>\n",
       "<table border=\"1\" class=\"dataframe\">\n",
       "  <thead>\n",
       "    <tr style=\"text-align: right;\">\n",
       "      <th></th>\n",
       "      <th></th>\n",
       "      <th>rides</th>\n",
       "      <th>all_distance</th>\n",
       "      <th>all_duration</th>\n",
       "      <th>minute_price</th>\n",
       "      <th>start_ride_price</th>\n",
       "      <th>subscription_fee</th>\n",
       "      <th>subscription_type</th>\n",
       "      <th>month_revenue</th>\n",
       "    </tr>\n",
       "    <tr>\n",
       "      <th>user_id</th>\n",
       "      <th>month</th>\n",
       "      <th></th>\n",
       "      <th></th>\n",
       "      <th></th>\n",
       "      <th></th>\n",
       "      <th></th>\n",
       "      <th></th>\n",
       "      <th></th>\n",
       "      <th></th>\n",
       "    </tr>\n",
       "  </thead>\n",
       "  <tbody>\n",
       "    <tr>\n",
       "      <th rowspan=\"9\" valign=\"top\">700</th>\n",
       "      <th>1</th>\n",
       "      <td>1</td>\n",
       "      <td>2515.690719</td>\n",
       "      <td>15.0</td>\n",
       "      <td>8</td>\n",
       "      <td>50</td>\n",
       "      <td>0</td>\n",
       "      <td>free</td>\n",
       "      <td>170.0</td>\n",
       "    </tr>\n",
       "    <tr>\n",
       "      <th>2</th>\n",
       "      <td>5</td>\n",
       "      <td>13446.659764</td>\n",
       "      <td>89.0</td>\n",
       "      <td>8</td>\n",
       "      <td>50</td>\n",
       "      <td>0</td>\n",
       "      <td>free</td>\n",
       "      <td>962.0</td>\n",
       "    </tr>\n",
       "    <tr>\n",
       "      <th>3</th>\n",
       "      <td>1</td>\n",
       "      <td>3798.334905</td>\n",
       "      <td>19.0</td>\n",
       "      <td>8</td>\n",
       "      <td>50</td>\n",
       "      <td>0</td>\n",
       "      <td>free</td>\n",
       "      <td>202.0</td>\n",
       "    </tr>\n",
       "    <tr>\n",
       "      <th>4</th>\n",
       "      <td>1</td>\n",
       "      <td>2984.551206</td>\n",
       "      <td>16.0</td>\n",
       "      <td>8</td>\n",
       "      <td>50</td>\n",
       "      <td>0</td>\n",
       "      <td>free</td>\n",
       "      <td>178.0</td>\n",
       "    </tr>\n",
       "    <tr>\n",
       "      <th>6</th>\n",
       "      <td>2</td>\n",
       "      <td>5927.650988</td>\n",
       "      <td>29.0</td>\n",
       "      <td>8</td>\n",
       "      <td>50</td>\n",
       "      <td>0</td>\n",
       "      <td>free</td>\n",
       "      <td>332.0</td>\n",
       "    </tr>\n",
       "    <tr>\n",
       "      <th>7</th>\n",
       "      <td>2</td>\n",
       "      <td>4399.206279</td>\n",
       "      <td>21.0</td>\n",
       "      <td>8</td>\n",
       "      <td>50</td>\n",
       "      <td>0</td>\n",
       "      <td>free</td>\n",
       "      <td>268.0</td>\n",
       "    </tr>\n",
       "    <tr>\n",
       "      <th>8</th>\n",
       "      <td>1</td>\n",
       "      <td>4071.654669</td>\n",
       "      <td>17.0</td>\n",
       "      <td>8</td>\n",
       "      <td>50</td>\n",
       "      <td>0</td>\n",
       "      <td>free</td>\n",
       "      <td>186.0</td>\n",
       "    </tr>\n",
       "    <tr>\n",
       "      <th>10</th>\n",
       "      <td>2</td>\n",
       "      <td>6322.578618</td>\n",
       "      <td>44.0</td>\n",
       "      <td>8</td>\n",
       "      <td>50</td>\n",
       "      <td>0</td>\n",
       "      <td>free</td>\n",
       "      <td>452.0</td>\n",
       "    </tr>\n",
       "    <tr>\n",
       "      <th>11</th>\n",
       "      <td>3</td>\n",
       "      <td>8735.782625</td>\n",
       "      <td>32.0</td>\n",
       "      <td>8</td>\n",
       "      <td>50</td>\n",
       "      <td>0</td>\n",
       "      <td>free</td>\n",
       "      <td>406.0</td>\n",
       "    </tr>\n",
       "    <tr>\n",
       "      <th>701</th>\n",
       "      <th>1</th>\n",
       "      <td>1</td>\n",
       "      <td>2676.472894</td>\n",
       "      <td>18.0</td>\n",
       "      <td>8</td>\n",
       "      <td>50</td>\n",
       "      <td>0</td>\n",
       "      <td>free</td>\n",
       "      <td>194.0</td>\n",
       "    </tr>\n",
       "  </tbody>\n",
       "</table>\n",
       "</div>"
      ],
      "text/plain": [
       "               rides  all_distance  all_duration  minute_price  \\\n",
       "user_id month                                                    \n",
       "700     1          1   2515.690719          15.0             8   \n",
       "        2          5  13446.659764          89.0             8   \n",
       "        3          1   3798.334905          19.0             8   \n",
       "        4          1   2984.551206          16.0             8   \n",
       "        6          2   5927.650988          29.0             8   \n",
       "        7          2   4399.206279          21.0             8   \n",
       "        8          1   4071.654669          17.0             8   \n",
       "        10         2   6322.578618          44.0             8   \n",
       "        11         3   8735.782625          32.0             8   \n",
       "701     1          1   2676.472894          18.0             8   \n",
       "\n",
       "               start_ride_price  subscription_fee subscription_type  \\\n",
       "user_id month                                                         \n",
       "700     1                    50                 0              free   \n",
       "        2                    50                 0              free   \n",
       "        3                    50                 0              free   \n",
       "        4                    50                 0              free   \n",
       "        6                    50                 0              free   \n",
       "        7                    50                 0              free   \n",
       "        8                    50                 0              free   \n",
       "        10                   50                 0              free   \n",
       "        11                   50                 0              free   \n",
       "701     1                    50                 0              free   \n",
       "\n",
       "               month_revenue  \n",
       "user_id month                 \n",
       "700     1              170.0  \n",
       "        2              962.0  \n",
       "        3              202.0  \n",
       "        4              178.0  \n",
       "        6              332.0  \n",
       "        7              268.0  \n",
       "        8              186.0  \n",
       "        10             452.0  \n",
       "        11             406.0  \n",
       "701     1              194.0  "
      ]
     },
     "execution_count": 74,
     "metadata": {},
     "output_type": "execute_result"
    }
   ],
   "source": [
    "agg_info_rides_free = agg_info_rides.query('subscription_type == \"free\"')\n",
    "agg_info_rides_free.head(10)"
   ]
  },
  {
   "cell_type": "markdown",
   "id": "8b0523f3",
   "metadata": {},
   "source": [
    "**6.5** Теперь проверим выдвинутую гипотезу. Возьмём уровень статистической значимости 0.05."
   ]
  },
  {
   "cell_type": "code",
   "execution_count": 75,
   "id": "d5710c0e",
   "metadata": {},
   "outputs": [
    {
     "name": "stdout",
     "output_type": "stream",
     "text": [
      "p-значение: 1.8850394384715216e-31\n",
      "Отвергаем нулевую гипотезу\n"
     ]
    }
   ],
   "source": [
    "month_revenue_ultra = agg_info_rides_ultra['month_revenue']\n",
    "month_revenue_free = agg_info_rides_free['month_revenue']\n",
    "\n",
    "alpha = 0.05 \n",
    "\n",
    "results = st.ttest_ind(month_revenue_ultra, month_revenue_free, alternative = 'greater')\n",
    "\n",
    "print('p-значение:', results.pvalue)\n",
    "\n",
    "if results.pvalue < alpha:\n",
    "    print('Отвергаем нулевую гипотезу')\n",
    "else:\n",
    "    print('Не получилось отвергнуть нулевую гипотезу') "
   ]
  },
  {
   "cell_type": "markdown",
   "id": "92753eea",
   "metadata": {},
   "source": [
    "**6.6** Дополнительно выведем среднее значение выручки для каждой категории пользователей."
   ]
  },
  {
   "cell_type": "code",
   "execution_count": 77,
   "id": "e917c52d",
   "metadata": {},
   "outputs": [
    {
     "name": "stdout",
     "output_type": "stream",
     "text": [
      "362.7921906022502\n"
     ]
    }
   ],
   "source": [
    "print(agg_info_rides_ultra['month_revenue'].mean())"
   ]
  },
  {
   "cell_type": "code",
   "execution_count": 78,
   "id": "e51f610c",
   "metadata": {},
   "outputs": [
    {
     "name": "stdout",
     "output_type": "stream",
     "text": [
      "328.6413651073845\n"
     ]
    }
   ],
   "source": [
    "print(agg_info_rides_free['month_revenue'].mean())"
   ]
  },
  {
   "cell_type": "markdown",
   "id": "7202d433",
   "metadata": {},
   "source": [
    "p-value приняло очень низкое значение, и средние значения выручки каждой категории пользователей не равны. Значит, мы отвергаем нулевую гипотезу в пользу альтернативной. Получается, что предположение о том, что средняя помесячная выручка от пользователей с подпиской выше, чем средняя выручка от пользователей без подписки, является верным. Можно сделать вывод, что **пользователи с подпиской в среднем приносят больший ежемесячный доход, чем пользователи без подписки**. "
   ]
  },
  {
   "cell_type": "markdown",
   "id": "a213ddfa",
   "metadata": {},
   "source": [
    "**Вывод:**\n",
    "\n",
    "В рамках исследования были проверены 3 гипотезы и сделаны последующие выводы.\n",
    "\n",
    "**Тратят ли пользователи с подпиской больше времени на поездки?**\n",
    "\n",
    "Результат исследования показал высокую вероятность того, что пользователи с подпиской тратят больше времени на поездки, а значит, пользователи с подпиской могут быть более «выгодными» для компании.\n",
    "\n",
    "**Расстояние одной поездки в 3130 метров — оптимальное с точки зрения износа самоката. Можно ли сказать, что среднее расстояние, которое проезжают пользователи с подпиской за одну поездку, не превышает 3130 метров?**\n",
    "\n",
    "Проверка гипотезы дала основание полагать, что среднее расстояние, которое проезжают пользователи с подпиской за одну поездку, близко к 3130 метров. Получается, такие пользователи — достаточно выгодные клиенты, так как целевое значение — это оптимальный показатель с точки зрения износа самокатов.\n",
    "\n",
    "**Будет ли помесячная выручка от пользователей с подпиской по месяцам выше, чем выручка от пользователей без подписки**.\n",
    "\n",
    "В рамках проверки гипотезы был сделан вывод, что пользователи с подпиской потенциально приносят больший ежемесячный доход, чем пользователи без подписки.\n",
    "\n",
    "Таким образом все три выдвинутые гипотезы не были опровергнуты, что является хорошим результатом. \n"
   ]
  },
  {
   "cell_type": "markdown",
   "id": "5a633d59",
   "metadata": {},
   "source": [
    "<a id=\"7\"></a>\n",
    "##  Общий вывод:\n",
    "\n",
    "В рамках исследования мы:\n",
    "\n",
    "1. **Обработали исходные данные на предмет пропусков и дубликатов**.\n",
    "\n",
    "\n",
    "2. **Описали и визуализировали общую информацию о пользователях и поездках и сделали следующие выводы:**\n",
    "\n",
    "- Количество пользователей в городах распределено достаточно равномерно: от 168 до 219 пользователей. Больше всего пользователей из Пятигорска (219), а меньше всего из Москвы (168).\n",
    "- Среди пользователей самокатов достаточно большой процент имеет платную подписку.\n",
    "- Пользователи самокатов являются молодой аудиторией.\n",
    "- Самая популярная дистанция, которую проезжает пользователь за одну поездку, — примерно 3-3,3 км. Подавляющее большинство поездок распределены в интервале от 2 до 4,5 км.\n",
    "- Самое популярное время поездки — 17 минут. Более 75% поездок длятся не более 22 минут.\n",
    "\n",
    "\n",
    "3. **Отдельно рассмотрели данные о продолжительности и длительности поездок пользователей с подпиской и без неё.**\n",
    "\n",
    "- Самое популярное расстояние, которые преодолевают пользователи с подпиской, составляет около 3 км. А то время как у пользователей без подписки пик значений лежит в большем диапазоне (от 2,4 до 3,4 км). Среднее и медианное значение у обоих типов пользователей почти одинаковы.\n",
    "- Пользователи без подписки иногда преодолевают расстояния сверх 5,5 км, чего нельзя сказать о платных пользователях.\n",
    "- У пользователей без подписки разброс преодолеваемого расстояния шире. Возможно, такие клиенты совершают нерегулярные поездки, в то время как пользователи с подпиской часто ездят по одному маршруту (например, на работу).\n",
    "- У пользователей без подписок больше поездок до 1 км. Возможно, наличие платной подписки свидетельствует о том, что клиенты ориентированы на более длинные расстояния.\n",
    "\n",
    "\n",
    "- Средняя продолжительность поездки у обоих категориий приблизительно одинакова (17-18 минут). И более 75% поездок для каждой группы длятся не более 22 минут.\n",
    "- Некоторые пользователи с подпиской пользовались самокатом более 35 минут, чего нельзя сказать о пользователях без подписки.\n",
    "- У пользователей без подписки есть поездки продолжительностью менее 3 минут, чего нет у пользователей с подпиской. Возможно, новые пользователи без подписки не оценили данный вид передвижения.\n",
    "\n",
    "4. **Посчитали помесячную выручку, которую принёс каждый пользователь.**\n",
    "\n",
    "\n",
    "5. **Проверили сформулированные гипотезы и сделали следующие выводы:**\n",
    "\n",
    "- Результат исследования показал высокую вероятность того, что пользователи с подпиской тратят больше времени на поездки, а значит, пользователи с подпиской могут быть более «выгодными» для компании.\n",
    "\n",
    "- Также подтвердилась гипотеза, что среднее расстояние, которое проезжают пользователи с подпиской за одну поездку, близко к 3130 метров. Целевое значение — это оптимальный показатель с точки зрения износа самокатов.\n",
    "\n",
    "- В рамках проверки гипотезы был сделан вывод, что пользователи с подпиской потенциально приносят больший ежемесячный доход, чем пользователи без подписки.\n",
    "\n",
    "**Вывод:** Таким образом все три проверенные гипотезы дают основание полагать, что пользователи с подпиской являются более выгодными клиентами. Они тратят больше времени на поездки, приносят больший ежемесячный доход и проезжают оптимальное расстояние с точки зрения износа самокатов. \n",
    "\n",
    "\n",
    "**Рекомендации:**\n",
    "\n",
    "- В предоставленных данных есть расстояния и продолжительность поездок, близкие к нулевому значению. В ходе исследования было выявлено, что значения, отражающие слишком низкую продолжительность поездки, являются недостоверными. Надо проверить алгоритм записи данных и актуализировать или удалить подобную информацию. Низкие данные по продолжительности поездки тоже следует проверить и, возможно, удалить как выбросы, для дальшейших исследований.\n",
    "- Рекомендовано провести запланированные компанией акции по стимулированию пользователей с целью подписки, так как это может принести хороший доход компании в долгосрочной перспективе. \n",
    "- Для прогнозирования прибыли в будущем рекомендуем использовать рассчёт ежемесячного дохода, которые принёс каждый пользователь, так как этот показатель хорошо отражает приклекательность клиентов для компании. Данный рассчёт был произведён в этом исследовании. \n",
    "\n"
   ]
  },
  {
   "cell_type": "code",
   "execution_count": null,
   "id": "00afbe04-66f4-4d3f-88ae-c74fa3b2eef5",
   "metadata": {},
   "outputs": [],
   "source": []
  }
 ],
 "metadata": {
  "ExecuteTimeLog": [
   {
    "duration": 365,
    "start_time": "2023-11-27T14:30:10.834Z"
   },
   {
    "duration": 290,
    "start_time": "2023-11-27T14:30:13.205Z"
   },
   {
    "duration": 16,
    "start_time": "2023-11-27T14:30:17.560Z"
   },
   {
    "duration": 10,
    "start_time": "2023-11-27T14:30:33.557Z"
   },
   {
    "duration": 9,
    "start_time": "2023-11-27T14:31:01.129Z"
   },
   {
    "duration": 8,
    "start_time": "2023-11-27T14:36:17.078Z"
   },
   {
    "duration": 11,
    "start_time": "2023-11-27T14:36:18.268Z"
   },
   {
    "duration": 8,
    "start_time": "2023-11-27T14:36:22.924Z"
   },
   {
    "duration": 7,
    "start_time": "2023-11-27T14:41:57.852Z"
   },
   {
    "duration": 8,
    "start_time": "2023-11-27T14:42:03.620Z"
   },
   {
    "duration": 7,
    "start_time": "2023-11-27T14:42:07.290Z"
   },
   {
    "duration": 10,
    "start_time": "2023-11-27T14:42:15.264Z"
   },
   {
    "duration": 6,
    "start_time": "2023-11-27T14:42:22.498Z"
   },
   {
    "duration": 1816,
    "start_time": "2023-11-27T15:13:07.489Z"
   },
   {
    "duration": 20,
    "start_time": "2023-11-27T15:13:49.685Z"
   },
   {
    "duration": 57,
    "start_time": "2023-11-27T15:14:04.109Z"
   },
   {
    "duration": 5,
    "start_time": "2023-11-27T15:16:58.781Z"
   },
   {
    "duration": 13,
    "start_time": "2023-11-27T15:19:38.103Z"
   },
   {
    "duration": 6,
    "start_time": "2023-11-27T15:19:52.768Z"
   },
   {
    "duration": 7,
    "start_time": "2023-11-27T15:20:42.706Z"
   },
   {
    "duration": 6,
    "start_time": "2023-11-27T15:21:10.256Z"
   },
   {
    "duration": 5,
    "start_time": "2023-11-27T15:21:48.113Z"
   },
   {
    "duration": 8,
    "start_time": "2023-11-27T15:24:13.335Z"
   },
   {
    "duration": 6,
    "start_time": "2023-11-27T15:26:42.337Z"
   },
   {
    "duration": 7,
    "start_time": "2023-11-27T15:26:58.486Z"
   },
   {
    "duration": 11,
    "start_time": "2023-11-27T15:29:13.363Z"
   },
   {
    "duration": 8,
    "start_time": "2023-11-27T15:29:55.891Z"
   },
   {
    "duration": 6,
    "start_time": "2023-11-27T15:31:14.865Z"
   },
   {
    "duration": 6,
    "start_time": "2023-11-27T15:31:19.583Z"
   },
   {
    "duration": 5,
    "start_time": "2023-11-27T15:32:00.253Z"
   },
   {
    "duration": 1653,
    "start_time": "2023-11-27T15:32:58.677Z"
   },
   {
    "duration": 6,
    "start_time": "2023-11-27T15:33:11.902Z"
   },
   {
    "duration": 5,
    "start_time": "2023-11-27T15:33:19.780Z"
   },
   {
    "duration": 4,
    "start_time": "2023-11-27T15:33:37.518Z"
   },
   {
    "duration": 10,
    "start_time": "2023-11-27T15:33:58.033Z"
   },
   {
    "duration": 5,
    "start_time": "2023-11-27T15:34:28.961Z"
   },
   {
    "duration": 3,
    "start_time": "2023-11-27T15:42:14.143Z"
   },
   {
    "duration": 8,
    "start_time": "2023-11-27T15:42:25.666Z"
   },
   {
    "duration": 8,
    "start_time": "2023-11-27T15:46:01.657Z"
   },
   {
    "duration": 7,
    "start_time": "2023-11-27T15:46:09.610Z"
   },
   {
    "duration": 7,
    "start_time": "2023-11-27T15:46:18.744Z"
   },
   {
    "duration": 3,
    "start_time": "2023-11-27T15:56:36.541Z"
   },
   {
    "duration": 318,
    "start_time": "2023-11-27T15:57:17.003Z"
   },
   {
    "duration": 12,
    "start_time": "2023-11-27T15:57:40.374Z"
   },
   {
    "duration": 213,
    "start_time": "2023-11-27T15:57:59.404Z"
   },
   {
    "duration": 183,
    "start_time": "2023-11-27T15:58:10.875Z"
   },
   {
    "duration": 2,
    "start_time": "2023-11-27T15:59:04.785Z"
   },
   {
    "duration": 173,
    "start_time": "2023-11-27T15:59:11.747Z"
   },
   {
    "duration": 105,
    "start_time": "2023-11-27T16:00:50.945Z"
   },
   {
    "duration": 107,
    "start_time": "2023-11-27T16:00:59.288Z"
   },
   {
    "duration": 446,
    "start_time": "2023-11-27T16:01:08.181Z"
   },
   {
    "duration": 14,
    "start_time": "2023-11-27T16:01:17.581Z"
   },
   {
    "duration": 5,
    "start_time": "2023-11-27T16:01:56.754Z"
   },
   {
    "duration": 136,
    "start_time": "2023-11-27T16:02:15.811Z"
   },
   {
    "duration": 7,
    "start_time": "2023-11-27T16:02:23.032Z"
   },
   {
    "duration": 10,
    "start_time": "2023-11-27T16:04:44.483Z"
   },
   {
    "duration": 9,
    "start_time": "2023-11-27T16:05:18.187Z"
   },
   {
    "duration": 105,
    "start_time": "2023-11-27T16:05:34.373Z"
   },
   {
    "duration": 181,
    "start_time": "2023-11-27T16:06:08.074Z"
   },
   {
    "duration": 182,
    "start_time": "2023-11-27T16:10:51.734Z"
   },
   {
    "duration": 11,
    "start_time": "2023-11-27T16:12:19.240Z"
   },
   {
    "duration": 14,
    "start_time": "2023-11-27T16:12:22.719Z"
   },
   {
    "duration": 14,
    "start_time": "2023-11-27T16:12:39.114Z"
   },
   {
    "duration": 14,
    "start_time": "2023-11-27T16:14:46.057Z"
   },
   {
    "duration": 13,
    "start_time": "2023-11-27T16:15:04.848Z"
   },
   {
    "duration": 15,
    "start_time": "2023-11-27T16:15:13.358Z"
   },
   {
    "duration": 138,
    "start_time": "2023-11-27T16:15:37.997Z"
   },
   {
    "duration": 1655,
    "start_time": "2023-11-27T16:16:14.524Z"
   },
   {
    "duration": 1719,
    "start_time": "2023-11-27T16:16:27.226Z"
   },
   {
    "duration": 138,
    "start_time": "2023-11-27T16:16:41.292Z"
   },
   {
    "duration": 6,
    "start_time": "2023-11-27T16:17:37.279Z"
   },
   {
    "duration": 123,
    "start_time": "2023-11-27T16:17:56.705Z"
   },
   {
    "duration": 162,
    "start_time": "2023-11-27T16:19:06.945Z"
   },
   {
    "duration": 138,
    "start_time": "2023-11-27T16:19:46.408Z"
   },
   {
    "duration": 147,
    "start_time": "2023-11-27T16:19:54.364Z"
   },
   {
    "duration": 148,
    "start_time": "2023-11-27T16:19:58.314Z"
   },
   {
    "duration": 6,
    "start_time": "2023-11-27T16:22:03.767Z"
   },
   {
    "duration": 6,
    "start_time": "2023-11-27T16:24:25.181Z"
   },
   {
    "duration": 6,
    "start_time": "2023-11-27T16:31:27.436Z"
   },
   {
    "duration": 6,
    "start_time": "2023-11-27T16:31:42.440Z"
   },
   {
    "duration": 114,
    "start_time": "2023-11-27T16:31:50.531Z"
   },
   {
    "duration": 86,
    "start_time": "2023-11-27T16:31:58.770Z"
   },
   {
    "duration": 108,
    "start_time": "2023-11-27T16:32:06.091Z"
   },
   {
    "duration": 127,
    "start_time": "2023-11-27T16:33:17.862Z"
   },
   {
    "duration": 143,
    "start_time": "2023-11-27T16:33:23.673Z"
   },
   {
    "duration": 130,
    "start_time": "2023-11-27T16:33:28.883Z"
   },
   {
    "duration": 160,
    "start_time": "2023-11-27T16:33:38.845Z"
   },
   {
    "duration": 5,
    "start_time": "2023-11-27T16:38:18.999Z"
   },
   {
    "duration": 137,
    "start_time": "2023-11-27T16:38:41.466Z"
   },
   {
    "duration": 8,
    "start_time": "2023-11-27T16:41:13.571Z"
   },
   {
    "duration": 8,
    "start_time": "2023-11-27T16:41:21.861Z"
   },
   {
    "duration": 16,
    "start_time": "2023-11-27T16:42:05.067Z"
   },
   {
    "duration": 19,
    "start_time": "2023-11-27T16:42:32.586Z"
   },
   {
    "duration": 12,
    "start_time": "2023-11-27T16:42:58.974Z"
   },
   {
    "duration": 10,
    "start_time": "2023-11-27T16:43:24.473Z"
   },
   {
    "duration": 8,
    "start_time": "2023-11-27T16:43:45.125Z"
   },
   {
    "duration": 4,
    "start_time": "2023-11-27T18:26:27.312Z"
   },
   {
    "duration": 136,
    "start_time": "2023-11-27T18:26:48.963Z"
   },
   {
    "duration": 6,
    "start_time": "2023-11-27T18:27:32.613Z"
   },
   {
    "duration": 151,
    "start_time": "2023-11-27T18:28:07.494Z"
   },
   {
    "duration": 178,
    "start_time": "2023-11-27T18:29:50.023Z"
   },
   {
    "duration": 164,
    "start_time": "2023-11-27T18:30:07.359Z"
   },
   {
    "duration": 5,
    "start_time": "2023-11-27T18:32:19.400Z"
   },
   {
    "duration": 8,
    "start_time": "2023-11-27T18:32:46.133Z"
   },
   {
    "duration": 125,
    "start_time": "2023-11-27T18:39:38.754Z"
   },
   {
    "duration": 385,
    "start_time": "2023-11-27T18:40:11.128Z"
   },
   {
    "duration": 9,
    "start_time": "2023-11-27T18:40:53.723Z"
   },
   {
    "duration": 171,
    "start_time": "2023-11-27T18:52:22.642Z"
   },
   {
    "duration": 171,
    "start_time": "2023-11-27T18:52:49.904Z"
   },
   {
    "duration": 8,
    "start_time": "2023-11-27T18:53:22.807Z"
   },
   {
    "duration": 8,
    "start_time": "2023-11-27T19:07:36.998Z"
   },
   {
    "duration": 12,
    "start_time": "2023-11-27T19:07:47.590Z"
   },
   {
    "duration": 6,
    "start_time": "2023-11-27T19:08:10.764Z"
   },
   {
    "duration": 9,
    "start_time": "2023-11-27T19:10:06.949Z"
   },
   {
    "duration": 25,
    "start_time": "2023-11-27T19:10:25.043Z"
   },
   {
    "duration": 16,
    "start_time": "2023-11-27T19:12:09.108Z"
   },
   {
    "duration": 11,
    "start_time": "2023-11-27T19:12:29.138Z"
   },
   {
    "duration": 9,
    "start_time": "2023-11-27T19:16:41.611Z"
   },
   {
    "duration": 7,
    "start_time": "2023-11-27T19:16:57.990Z"
   },
   {
    "duration": 12,
    "start_time": "2023-11-27T19:17:38.969Z"
   },
   {
    "duration": 12,
    "start_time": "2023-11-27T19:18:02.573Z"
   },
   {
    "duration": 11,
    "start_time": "2023-11-27T19:18:06.151Z"
   },
   {
    "duration": 5,
    "start_time": "2023-11-27T19:23:58.126Z"
   },
   {
    "duration": 5,
    "start_time": "2023-11-27T19:24:18.535Z"
   },
   {
    "duration": 132,
    "start_time": "2023-11-27T19:40:57.738Z"
   },
   {
    "duration": 155,
    "start_time": "2023-11-27T19:42:24.077Z"
   },
   {
    "duration": 8,
    "start_time": "2023-11-27T19:43:56.352Z"
   },
   {
    "duration": 8,
    "start_time": "2023-11-27T19:44:14.042Z"
   },
   {
    "duration": 7,
    "start_time": "2023-11-27T19:44:25.917Z"
   },
   {
    "duration": 193,
    "start_time": "2023-11-27T19:57:41.950Z"
   },
   {
    "duration": 174,
    "start_time": "2023-11-27T19:57:53.451Z"
   },
   {
    "duration": 211,
    "start_time": "2023-11-27T19:58:31.926Z"
   },
   {
    "duration": 185,
    "start_time": "2023-11-27T19:58:58.310Z"
   },
   {
    "duration": 190,
    "start_time": "2023-11-27T19:59:05.365Z"
   },
   {
    "duration": 203,
    "start_time": "2023-11-27T19:59:20.842Z"
   },
   {
    "duration": 193,
    "start_time": "2023-11-27T19:59:30.644Z"
   },
   {
    "duration": 174,
    "start_time": "2023-11-27T20:00:12.189Z"
   },
   {
    "duration": 190,
    "start_time": "2023-11-27T20:00:43.795Z"
   },
   {
    "duration": 105,
    "start_time": "2023-11-27T20:02:09.630Z"
   },
   {
    "duration": 175,
    "start_time": "2023-11-27T20:02:24.714Z"
   },
   {
    "duration": 183,
    "start_time": "2023-11-27T20:03:06.644Z"
   },
   {
    "duration": 1565,
    "start_time": "2023-11-27T20:03:55.574Z"
   },
   {
    "duration": 1731,
    "start_time": "2023-11-27T20:04:11.964Z"
   },
   {
    "duration": 8,
    "start_time": "2023-11-27T20:04:30.384Z"
   },
   {
    "duration": 1829,
    "start_time": "2023-11-27T20:04:34.724Z"
   },
   {
    "duration": 8,
    "start_time": "2023-11-27T20:04:39.054Z"
   },
   {
    "duration": 10,
    "start_time": "2023-11-27T20:28:55.136Z"
   },
   {
    "duration": 32,
    "start_time": "2023-11-27T20:29:06.326Z"
   },
   {
    "duration": 3,
    "start_time": "2023-11-27T20:31:34.394Z"
   },
   {
    "duration": 98,
    "start_time": "2023-11-27T20:31:41.441Z"
   },
   {
    "duration": 102,
    "start_time": "2023-11-27T20:32:30.774Z"
   },
   {
    "duration": 13,
    "start_time": "2023-11-27T22:47:29.185Z"
   },
   {
    "duration": 15,
    "start_time": "2023-11-27T22:48:08.060Z"
   },
   {
    "duration": 14,
    "start_time": "2023-11-27T22:48:12.788Z"
   },
   {
    "duration": 16,
    "start_time": "2023-11-27T22:48:24.134Z"
   },
   {
    "duration": 49,
    "start_time": "2023-11-28T15:45:25.720Z"
   },
   {
    "duration": 779,
    "start_time": "2023-11-28T15:45:31.874Z"
   },
   {
    "duration": 188,
    "start_time": "2023-11-28T15:45:35.274Z"
   },
   {
    "duration": 179,
    "start_time": "2023-11-28T15:45:41.770Z"
   },
   {
    "duration": 773,
    "start_time": "2023-11-29T09:16:57.719Z"
   },
   {
    "duration": 210,
    "start_time": "2023-11-29T09:16:59.228Z"
   },
   {
    "duration": 14,
    "start_time": "2023-11-29T09:17:00.296Z"
   },
   {
    "duration": 13,
    "start_time": "2023-11-29T09:17:01.144Z"
   },
   {
    "duration": 10,
    "start_time": "2023-11-29T09:17:02.260Z"
   },
   {
    "duration": 11,
    "start_time": "2023-11-29T09:17:02.519Z"
   },
   {
    "duration": 7,
    "start_time": "2023-11-29T09:17:02.993Z"
   },
   {
    "duration": 10,
    "start_time": "2023-11-29T09:17:03.258Z"
   },
   {
    "duration": 15,
    "start_time": "2023-11-29T09:17:04.132Z"
   },
   {
    "duration": 6,
    "start_time": "2023-11-29T09:17:04.528Z"
   },
   {
    "duration": 8,
    "start_time": "2023-11-29T09:17:04.981Z"
   },
   {
    "duration": 7,
    "start_time": "2023-11-29T09:17:05.178Z"
   },
   {
    "duration": 6,
    "start_time": "2023-11-29T09:17:05.438Z"
   },
   {
    "duration": 9,
    "start_time": "2023-11-29T09:17:05.828Z"
   },
   {
    "duration": 6,
    "start_time": "2023-11-29T09:17:06.464Z"
   },
   {
    "duration": 5,
    "start_time": "2023-11-29T09:17:06.682Z"
   },
   {
    "duration": 11,
    "start_time": "2023-11-29T09:17:07.120Z"
   },
   {
    "duration": 4,
    "start_time": "2023-11-29T09:17:07.339Z"
   },
   {
    "duration": 4,
    "start_time": "2023-11-29T09:17:08.036Z"
   },
   {
    "duration": 4,
    "start_time": "2023-11-29T09:17:08.476Z"
   },
   {
    "duration": 8,
    "start_time": "2023-11-29T09:17:08.916Z"
   },
   {
    "duration": 9,
    "start_time": "2023-11-29T09:17:09.366Z"
   },
   {
    "duration": 168,
    "start_time": "2023-11-29T09:17:10.270Z"
   },
   {
    "duration": 6,
    "start_time": "2023-11-29T09:17:10.484Z"
   },
   {
    "duration": 136,
    "start_time": "2023-11-29T09:17:10.943Z"
   },
   {
    "duration": 9,
    "start_time": "2023-11-29T09:17:11.143Z"
   },
   {
    "duration": 6,
    "start_time": "2023-11-29T09:17:11.557Z"
   },
   {
    "duration": 170,
    "start_time": "2023-11-29T09:17:11.818Z"
   },
   {
    "duration": 8,
    "start_time": "2023-11-29T09:17:11.993Z"
   },
   {
    "duration": 207,
    "start_time": "2023-11-29T09:17:12.468Z"
   },
   {
    "duration": 9,
    "start_time": "2023-11-29T09:17:13.154Z"
   },
   {
    "duration": 268,
    "start_time": "2023-11-29T09:17:14.036Z"
   },
   {
    "duration": 9,
    "start_time": "2023-11-29T09:17:14.306Z"
   },
   {
    "duration": 9,
    "start_time": "2023-11-29T09:17:15.601Z"
   },
   {
    "duration": 11,
    "start_time": "2023-11-29T09:17:15.818Z"
   },
   {
    "duration": 7,
    "start_time": "2023-11-29T09:17:16.017Z"
   },
   {
    "duration": 17,
    "start_time": "2023-11-29T09:17:16.258Z"
   },
   {
    "duration": 12,
    "start_time": "2023-11-29T09:17:16.459Z"
   },
   {
    "duration": 9,
    "start_time": "2023-11-29T09:17:17.280Z"
   },
   {
    "duration": 8,
    "start_time": "2023-11-29T09:17:17.631Z"
   },
   {
    "duration": 11,
    "start_time": "2023-11-29T09:17:22.257Z"
   },
   {
    "duration": 12,
    "start_time": "2023-11-29T09:17:22.890Z"
   },
   {
    "duration": 4,
    "start_time": "2023-11-29T09:17:23.675Z"
   },
   {
    "duration": 12,
    "start_time": "2023-11-29T09:17:24.327Z"
   },
   {
    "duration": 6,
    "start_time": "2023-11-29T09:17:24.908Z"
   },
   {
    "duration": 172,
    "start_time": "2023-11-29T09:17:26.914Z"
   },
   {
    "duration": 8,
    "start_time": "2023-11-29T09:17:28.999Z"
   },
   {
    "duration": 181,
    "start_time": "2023-11-29T09:17:30.034Z"
   },
   {
    "duration": 9,
    "start_time": "2023-11-29T09:17:31.329Z"
   },
   {
    "duration": 180,
    "start_time": "2023-11-29T09:17:33.103Z"
   },
   {
    "duration": 8,
    "start_time": "2023-11-29T09:17:34.373Z"
   },
   {
    "duration": 184,
    "start_time": "2023-11-29T09:17:35.187Z"
   },
   {
    "duration": 8,
    "start_time": "2023-11-29T09:17:36.029Z"
   },
   {
    "duration": 117,
    "start_time": "2023-11-29T09:20:00.964Z"
   },
   {
    "duration": 82,
    "start_time": "2023-11-29T09:20:48.170Z"
   },
   {
    "duration": 96,
    "start_time": "2023-11-29T09:21:10.248Z"
   },
   {
    "duration": 103,
    "start_time": "2023-11-29T09:21:54.635Z"
   },
   {
    "duration": 87,
    "start_time": "2023-11-29T09:22:33.422Z"
   },
   {
    "duration": 99,
    "start_time": "2023-11-29T09:24:42.701Z"
   },
   {
    "duration": 79,
    "start_time": "2023-11-29T09:24:50.131Z"
   },
   {
    "duration": 78,
    "start_time": "2023-11-29T09:25:36.251Z"
   },
   {
    "duration": 35,
    "start_time": "2023-11-29T09:26:27.284Z"
   },
   {
    "duration": 92,
    "start_time": "2023-11-29T09:28:43.495Z"
   },
   {
    "duration": 26,
    "start_time": "2023-11-29T09:29:01.152Z"
   },
   {
    "duration": 25,
    "start_time": "2023-11-29T09:30:28.189Z"
   },
   {
    "duration": 26,
    "start_time": "2023-11-29T09:30:44.168Z"
   },
   {
    "duration": 4,
    "start_time": "2023-11-29T09:32:15.507Z"
   },
   {
    "duration": 4,
    "start_time": "2023-11-29T09:32:20.172Z"
   },
   {
    "duration": 24,
    "start_time": "2023-11-29T09:32:31.593Z"
   },
   {
    "duration": 31,
    "start_time": "2023-11-29T09:32:39.499Z"
   },
   {
    "duration": 27,
    "start_time": "2023-11-29T09:33:24.632Z"
   },
   {
    "duration": 17,
    "start_time": "2023-11-29T09:35:55.843Z"
   },
   {
    "duration": 13,
    "start_time": "2023-11-29T09:36:28.549Z"
   },
   {
    "duration": 18,
    "start_time": "2023-11-29T09:37:12.745Z"
   },
   {
    "duration": 13,
    "start_time": "2023-11-29T09:37:13.495Z"
   },
   {
    "duration": 13,
    "start_time": "2023-11-29T09:37:21.916Z"
   },
   {
    "duration": 22,
    "start_time": "2023-11-29T09:37:26.006Z"
   },
   {
    "duration": 12,
    "start_time": "2023-11-29T09:37:26.616Z"
   },
   {
    "duration": 26,
    "start_time": "2023-11-29T09:38:16.131Z"
   },
   {
    "duration": 21,
    "start_time": "2023-11-29T09:38:40.371Z"
   },
   {
    "duration": 20,
    "start_time": "2023-11-29T09:38:47.472Z"
   },
   {
    "duration": 22,
    "start_time": "2023-11-29T09:38:56.371Z"
   },
   {
    "duration": 24,
    "start_time": "2023-11-29T09:39:26.101Z"
   },
   {
    "duration": 22,
    "start_time": "2023-11-29T09:39:29.125Z"
   },
   {
    "duration": 22,
    "start_time": "2023-11-29T09:39:59.153Z"
   },
   {
    "duration": 24,
    "start_time": "2023-11-29T09:40:19.980Z"
   },
   {
    "duration": 13,
    "start_time": "2023-11-29T09:44:59.131Z"
   },
   {
    "duration": 28,
    "start_time": "2023-11-29T09:46:13.039Z"
   },
   {
    "duration": 7,
    "start_time": "2023-11-29T09:47:42.418Z"
   },
   {
    "duration": 20,
    "start_time": "2023-11-29T09:50:29.688Z"
   },
   {
    "duration": 14,
    "start_time": "2023-11-29T09:50:47.771Z"
   },
   {
    "duration": 13,
    "start_time": "2023-11-29T09:50:55.912Z"
   },
   {
    "duration": 9,
    "start_time": "2023-11-29T09:50:58.321Z"
   },
   {
    "duration": 12,
    "start_time": "2023-11-29T09:54:42.463Z"
   },
   {
    "duration": 30,
    "start_time": "2023-11-29T09:55:35.840Z"
   },
   {
    "duration": 28,
    "start_time": "2023-11-29T09:55:44.025Z"
   },
   {
    "duration": 42,
    "start_time": "2023-11-29T10:07:55.660Z"
   },
   {
    "duration": 38,
    "start_time": "2023-11-29T10:08:28.464Z"
   },
   {
    "duration": 40,
    "start_time": "2023-11-29T10:09:31.535Z"
   },
   {
    "duration": 3,
    "start_time": "2023-11-29T10:10:01.531Z"
   },
   {
    "duration": 3,
    "start_time": "2023-11-29T10:10:05.205Z"
   },
   {
    "duration": 3,
    "start_time": "2023-11-29T10:10:19.733Z"
   },
   {
    "duration": 10,
    "start_time": "2023-11-29T10:10:31.898Z"
   },
   {
    "duration": 30,
    "start_time": "2023-11-29T10:14:12.101Z"
   },
   {
    "duration": 10,
    "start_time": "2023-11-29T10:14:32.964Z"
   },
   {
    "duration": 46,
    "start_time": "2023-11-29T10:14:41.537Z"
   },
   {
    "duration": 13,
    "start_time": "2023-11-29T10:15:01.712Z"
   },
   {
    "duration": 80,
    "start_time": "2023-11-29T10:15:11.324Z"
   },
   {
    "duration": 14,
    "start_time": "2023-11-29T10:15:20.816Z"
   },
   {
    "duration": 24,
    "start_time": "2023-11-29T10:15:32.755Z"
   },
   {
    "duration": 21,
    "start_time": "2023-11-29T10:16:22.802Z"
   },
   {
    "duration": 17,
    "start_time": "2023-11-29T10:16:46.294Z"
   },
   {
    "duration": 86,
    "start_time": "2023-11-29T10:26:31.205Z"
   },
   {
    "duration": 83,
    "start_time": "2023-11-29T10:26:56.739Z"
   },
   {
    "duration": 90,
    "start_time": "2023-11-29T10:27:19.875Z"
   },
   {
    "duration": 8,
    "start_time": "2023-11-29T10:27:26.623Z"
   },
   {
    "duration": 8,
    "start_time": "2023-11-29T10:28:13.595Z"
   },
   {
    "duration": 79,
    "start_time": "2023-11-29T10:28:24.083Z"
   },
   {
    "duration": 7,
    "start_time": "2023-11-29T10:28:28.033Z"
   },
   {
    "duration": 8,
    "start_time": "2023-11-29T10:28:37.413Z"
   },
   {
    "duration": 38,
    "start_time": "2023-11-29T10:30:50.246Z"
   },
   {
    "duration": 44,
    "start_time": "2023-11-29T10:31:26.510Z"
   },
   {
    "duration": 8,
    "start_time": "2023-11-29T10:43:26.358Z"
   },
   {
    "duration": 547,
    "start_time": "2023-11-29T10:54:10.294Z"
   },
   {
    "duration": 6,
    "start_time": "2023-11-29T10:54:17.635Z"
   },
   {
    "duration": 5,
    "start_time": "2023-11-29T10:55:18.553Z"
   },
   {
    "duration": 6,
    "start_time": "2023-11-29T10:58:12.520Z"
   },
   {
    "duration": 6,
    "start_time": "2023-11-29T10:58:44.323Z"
   },
   {
    "duration": 5,
    "start_time": "2023-11-29T10:58:55.718Z"
   },
   {
    "duration": 7,
    "start_time": "2023-11-29T11:01:50.544Z"
   },
   {
    "duration": 6,
    "start_time": "2023-11-29T11:01:56.767Z"
   },
   {
    "duration": 6,
    "start_time": "2023-11-29T11:02:45.315Z"
   },
   {
    "duration": 5,
    "start_time": "2023-11-29T11:04:10.266Z"
   },
   {
    "duration": 5,
    "start_time": "2023-11-29T11:05:37.711Z"
   },
   {
    "duration": 4,
    "start_time": "2023-11-29T11:05:46.744Z"
   },
   {
    "duration": 6,
    "start_time": "2023-11-29T11:07:01.071Z"
   },
   {
    "duration": 6,
    "start_time": "2023-11-29T11:07:07.647Z"
   },
   {
    "duration": 6,
    "start_time": "2023-11-29T11:07:11.638Z"
   },
   {
    "duration": 5,
    "start_time": "2023-11-29T11:07:19.606Z"
   },
   {
    "duration": 5,
    "start_time": "2023-11-29T11:07:24.998Z"
   },
   {
    "duration": 6,
    "start_time": "2023-11-29T11:07:51.358Z"
   },
   {
    "duration": 5,
    "start_time": "2023-11-29T11:08:00.118Z"
   },
   {
    "duration": 6,
    "start_time": "2023-11-29T11:08:10.987Z"
   },
   {
    "duration": 8,
    "start_time": "2023-11-29T11:57:43.997Z"
   },
   {
    "duration": 83,
    "start_time": "2023-11-29T12:27:16.860Z"
   },
   {
    "duration": 5,
    "start_time": "2023-11-29T12:27:24.208Z"
   },
   {
    "duration": 4,
    "start_time": "2023-11-29T12:27:46.682Z"
   },
   {
    "duration": 6,
    "start_time": "2023-11-29T12:27:56.345Z"
   },
   {
    "duration": 6,
    "start_time": "2023-11-29T12:28:07.239Z"
   },
   {
    "duration": 5,
    "start_time": "2023-11-29T12:28:14.330Z"
   },
   {
    "duration": 6,
    "start_time": "2023-11-29T12:29:28.909Z"
   },
   {
    "duration": 6,
    "start_time": "2023-11-29T12:29:35.719Z"
   },
   {
    "duration": 10,
    "start_time": "2023-11-29T15:29:14.776Z"
   },
   {
    "duration": 8,
    "start_time": "2023-11-29T15:29:35.155Z"
   },
   {
    "duration": 17,
    "start_time": "2023-11-29T15:29:47.093Z"
   },
   {
    "duration": 16,
    "start_time": "2023-11-29T15:29:52.120Z"
   },
   {
    "duration": 15,
    "start_time": "2023-11-29T15:30:04.823Z"
   },
   {
    "duration": 13,
    "start_time": "2023-11-29T15:30:39.733Z"
   },
   {
    "duration": 14,
    "start_time": "2023-11-29T15:30:42.184Z"
   },
   {
    "duration": 17,
    "start_time": "2023-11-29T15:31:23.814Z"
   },
   {
    "duration": 16,
    "start_time": "2023-11-29T15:31:56.656Z"
   },
   {
    "duration": 16,
    "start_time": "2023-11-29T15:31:59.619Z"
   },
   {
    "duration": 49,
    "start_time": "2023-11-29T15:34:28.702Z"
   },
   {
    "duration": 14,
    "start_time": "2023-11-29T15:35:31.020Z"
   },
   {
    "duration": 15,
    "start_time": "2023-11-29T15:36:20.503Z"
   },
   {
    "duration": 20,
    "start_time": "2023-11-29T15:36:34.314Z"
   },
   {
    "duration": 6,
    "start_time": "2023-11-29T15:36:57.010Z"
   },
   {
    "duration": 317,
    "start_time": "2023-11-29T16:03:08.126Z"
   },
   {
    "duration": 298,
    "start_time": "2023-11-29T16:03:34.008Z"
   },
   {
    "duration": 298,
    "start_time": "2023-11-29T16:03:42.882Z"
   },
   {
    "duration": 297,
    "start_time": "2023-11-29T16:03:48.085Z"
   },
   {
    "duration": 426,
    "start_time": "2023-11-29T16:03:55.639Z"
   },
   {
    "duration": 315,
    "start_time": "2023-11-29T16:04:10.791Z"
   },
   {
    "duration": 306,
    "start_time": "2023-11-29T16:04:19.097Z"
   },
   {
    "duration": 298,
    "start_time": "2023-11-29T16:04:26.769Z"
   },
   {
    "duration": 273,
    "start_time": "2023-11-29T16:05:25.911Z"
   },
   {
    "duration": 309,
    "start_time": "2023-11-29T16:05:38.691Z"
   },
   {
    "duration": 312,
    "start_time": "2023-11-29T16:06:25.814Z"
   },
   {
    "duration": 311,
    "start_time": "2023-11-29T16:07:18.273Z"
   },
   {
    "duration": 295,
    "start_time": "2023-11-29T16:12:50.699Z"
   },
   {
    "duration": 294,
    "start_time": "2023-11-29T16:14:54.925Z"
   },
   {
    "duration": 307,
    "start_time": "2023-11-29T16:15:07.160Z"
   },
   {
    "duration": 141,
    "start_time": "2023-11-29T16:17:19.052Z"
   },
   {
    "duration": 136,
    "start_time": "2023-11-29T16:17:37.847Z"
   },
   {
    "duration": 136,
    "start_time": "2023-11-29T16:17:59.635Z"
   },
   {
    "duration": 140,
    "start_time": "2023-11-29T16:18:12.305Z"
   },
   {
    "duration": 136,
    "start_time": "2023-11-29T16:18:31.697Z"
   },
   {
    "duration": 1160,
    "start_time": "2023-11-29T16:26:11.473Z"
   },
   {
    "duration": 71,
    "start_time": "2023-11-29T16:26:25.521Z"
   },
   {
    "duration": 13,
    "start_time": "2023-11-29T16:26:31.325Z"
   },
   {
    "duration": 11,
    "start_time": "2023-11-29T16:26:33.616Z"
   },
   {
    "duration": 9,
    "start_time": "2023-11-29T16:27:06.114Z"
   },
   {
    "duration": 12,
    "start_time": "2023-11-29T16:27:06.827Z"
   },
   {
    "duration": 8,
    "start_time": "2023-11-29T16:27:46.651Z"
   },
   {
    "duration": 10,
    "start_time": "2023-11-29T16:27:47.313Z"
   },
   {
    "duration": 15,
    "start_time": "2023-11-29T16:28:21.595Z"
   },
   {
    "duration": 5,
    "start_time": "2023-11-29T16:28:32.011Z"
   },
   {
    "duration": 6,
    "start_time": "2023-11-29T16:28:47.266Z"
   },
   {
    "duration": 6,
    "start_time": "2023-11-29T16:28:47.822Z"
   },
   {
    "duration": 6,
    "start_time": "2023-11-29T16:28:48.383Z"
   },
   {
    "duration": 9,
    "start_time": "2023-11-29T16:29:01.481Z"
   },
   {
    "duration": 6,
    "start_time": "2023-11-29T16:29:06.979Z"
   },
   {
    "duration": 5,
    "start_time": "2023-11-29T16:29:09.663Z"
   },
   {
    "duration": 10,
    "start_time": "2023-11-29T16:29:51.907Z"
   },
   {
    "duration": 5,
    "start_time": "2023-11-29T16:29:52.511Z"
   },
   {
    "duration": 4,
    "start_time": "2023-11-29T16:30:09.752Z"
   },
   {
    "duration": 4,
    "start_time": "2023-11-29T16:30:20.796Z"
   },
   {
    "duration": 3,
    "start_time": "2023-11-29T16:30:36.391Z"
   },
   {
    "duration": 15,
    "start_time": "2023-11-29T16:30:50.771Z"
   },
   {
    "duration": 3,
    "start_time": "2023-11-29T16:32:07.094Z"
   },
   {
    "duration": 109,
    "start_time": "2023-11-29T16:32:11.031Z"
   },
   {
    "duration": 9,
    "start_time": "2023-11-29T16:32:19.295Z"
   },
   {
    "duration": 8,
    "start_time": "2023-11-29T16:32:30.054Z"
   },
   {
    "duration": 1182,
    "start_time": "2023-11-29T16:33:25.575Z"
   },
   {
    "duration": 73,
    "start_time": "2023-11-29T16:33:26.758Z"
   },
   {
    "duration": 15,
    "start_time": "2023-11-29T16:33:26.833Z"
   },
   {
    "duration": 13,
    "start_time": "2023-11-29T16:33:27.016Z"
   },
   {
    "duration": 10,
    "start_time": "2023-11-29T16:33:27.580Z"
   },
   {
    "duration": 11,
    "start_time": "2023-11-29T16:33:27.888Z"
   },
   {
    "duration": 7,
    "start_time": "2023-11-29T16:33:28.760Z"
   },
   {
    "duration": 11,
    "start_time": "2023-11-29T16:33:29.685Z"
   },
   {
    "duration": 13,
    "start_time": "2023-11-29T16:33:31.812Z"
   },
   {
    "duration": 5,
    "start_time": "2023-11-29T16:33:32.359Z"
   },
   {
    "duration": 6,
    "start_time": "2023-11-29T16:33:32.858Z"
   },
   {
    "duration": 9,
    "start_time": "2023-11-29T16:33:33.123Z"
   },
   {
    "duration": 8,
    "start_time": "2023-11-29T16:33:33.519Z"
   },
   {
    "duration": 8,
    "start_time": "2023-11-29T16:33:34.761Z"
   },
   {
    "duration": 6,
    "start_time": "2023-11-29T16:33:39.056Z"
   },
   {
    "duration": 6,
    "start_time": "2023-11-29T16:33:40.510Z"
   },
   {
    "duration": 10,
    "start_time": "2023-11-29T16:33:42.959Z"
   },
   {
    "duration": 5,
    "start_time": "2023-11-29T16:33:44.705Z"
   },
   {
    "duration": 4,
    "start_time": "2023-11-29T16:33:46.618Z"
   },
   {
    "duration": 14,
    "start_time": "2023-11-29T16:33:48.591Z"
   },
   {
    "duration": 3,
    "start_time": "2023-11-29T16:33:53.329Z"
   },
   {
    "duration": 9,
    "start_time": "2023-11-29T16:33:58.177Z"
   },
   {
    "duration": 8,
    "start_time": "2023-11-29T16:34:58.717Z"
   },
   {
    "duration": 176,
    "start_time": "2023-11-29T16:36:46.060Z"
   },
   {
    "duration": 7,
    "start_time": "2023-11-29T16:36:48.051Z"
   },
   {
    "duration": 132,
    "start_time": "2023-11-29T16:37:53.697Z"
   },
   {
    "duration": 10,
    "start_time": "2023-11-29T16:38:03.845Z"
   },
   {
    "duration": 6,
    "start_time": "2023-11-29T16:40:37.476Z"
   },
   {
    "duration": 179,
    "start_time": "2023-11-29T16:40:41.752Z"
   },
   {
    "duration": 8,
    "start_time": "2023-11-29T16:40:53.921Z"
   },
   {
    "duration": 233,
    "start_time": "2023-11-29T16:41:46.457Z"
   },
   {
    "duration": 203,
    "start_time": "2023-11-29T16:42:04.331Z"
   },
   {
    "duration": 9,
    "start_time": "2023-11-29T16:42:10.617Z"
   },
   {
    "duration": 214,
    "start_time": "2023-11-29T16:44:30.370Z"
   },
   {
    "duration": 210,
    "start_time": "2023-11-29T16:44:37.471Z"
   },
   {
    "duration": 213,
    "start_time": "2023-11-29T16:45:21.559Z"
   },
   {
    "duration": 10,
    "start_time": "2023-11-29T16:45:25.672Z"
   },
   {
    "duration": 10,
    "start_time": "2023-11-29T16:47:25.341Z"
   },
   {
    "duration": 8,
    "start_time": "2023-11-29T16:47:27.039Z"
   },
   {
    "duration": 7,
    "start_time": "2023-11-29T16:47:28.763Z"
   },
   {
    "duration": 15,
    "start_time": "2023-11-29T16:47:33.413Z"
   },
   {
    "duration": 12,
    "start_time": "2023-11-29T16:47:35.989Z"
   },
   {
    "duration": 11,
    "start_time": "2023-11-29T16:47:48.681Z"
   },
   {
    "duration": 7,
    "start_time": "2023-11-29T16:47:49.690Z"
   },
   {
    "duration": 13,
    "start_time": "2023-11-29T16:47:52.845Z"
   },
   {
    "duration": 11,
    "start_time": "2023-11-29T16:47:55.126Z"
   },
   {
    "duration": 5,
    "start_time": "2023-11-29T16:48:00.185Z"
   },
   {
    "duration": 13,
    "start_time": "2023-11-29T16:48:04.363Z"
   },
   {
    "duration": 4,
    "start_time": "2023-11-29T16:48:08.298Z"
   },
   {
    "duration": 411,
    "start_time": "2023-11-29T16:48:58.493Z"
   },
   {
    "duration": 8,
    "start_time": "2023-11-29T16:49:09.361Z"
   },
   {
    "duration": 8,
    "start_time": "2023-11-29T16:49:09.863Z"
   },
   {
    "duration": 303,
    "start_time": "2023-11-29T16:49:53.556Z"
   },
   {
    "duration": 8,
    "start_time": "2023-11-29T16:49:54.704Z"
   },
   {
    "duration": 7,
    "start_time": "2023-11-29T16:49:55.456Z"
   },
   {
    "duration": 8,
    "start_time": "2023-11-29T16:53:46.638Z"
   },
   {
    "duration": 39,
    "start_time": "2023-11-29T16:53:58.614Z"
   },
   {
    "duration": 16,
    "start_time": "2023-11-29T16:54:11.618Z"
   },
   {
    "duration": 5,
    "start_time": "2023-11-29T16:56:34.094Z"
   },
   {
    "duration": 5,
    "start_time": "2023-11-29T16:57:14.932Z"
   },
   {
    "duration": 15,
    "start_time": "2023-11-29T16:59:43.872Z"
   },
   {
    "duration": 17,
    "start_time": "2023-11-29T16:59:45.580Z"
   },
   {
    "duration": 7,
    "start_time": "2023-11-29T16:59:53.428Z"
   },
   {
    "duration": 1701,
    "start_time": "2023-11-29T17:17:00.580Z"
   },
   {
    "duration": 8,
    "start_time": "2023-11-29T17:29:55.948Z"
   },
   {
    "duration": 6,
    "start_time": "2023-11-29T17:32:16.596Z"
   },
   {
    "duration": 6,
    "start_time": "2023-11-29T17:32:23.000Z"
   },
   {
    "duration": 6,
    "start_time": "2023-11-29T17:32:32.020Z"
   },
   {
    "duration": 6,
    "start_time": "2023-11-29T17:32:38.820Z"
   },
   {
    "duration": 6,
    "start_time": "2023-11-29T17:32:44.654Z"
   },
   {
    "duration": 6,
    "start_time": "2023-11-29T17:34:22.027Z"
   },
   {
    "duration": 5,
    "start_time": "2023-11-29T17:34:40.403Z"
   },
   {
    "duration": 6,
    "start_time": "2023-11-29T17:34:44.139Z"
   },
   {
    "duration": 6,
    "start_time": "2023-11-29T17:34:47.805Z"
   },
   {
    "duration": 5,
    "start_time": "2023-11-29T17:37:02.675Z"
   },
   {
    "duration": 5,
    "start_time": "2023-11-29T17:37:07.817Z"
   },
   {
    "duration": 5,
    "start_time": "2023-11-29T17:37:10.733Z"
   },
   {
    "duration": 7,
    "start_time": "2023-11-29T17:40:55.774Z"
   },
   {
    "duration": 6,
    "start_time": "2023-11-29T17:41:08.794Z"
   },
   {
    "duration": 5,
    "start_time": "2023-11-29T17:41:23.885Z"
   },
   {
    "duration": 7,
    "start_time": "2023-11-29T17:42:35.824Z"
   },
   {
    "duration": 5,
    "start_time": "2023-11-29T17:44:57.301Z"
   },
   {
    "duration": 6,
    "start_time": "2023-11-29T17:45:02.713Z"
   },
   {
    "duration": 5,
    "start_time": "2023-11-29T17:48:56.060Z"
   },
   {
    "duration": 6,
    "start_time": "2023-11-29T17:55:03.209Z"
   },
   {
    "duration": 6,
    "start_time": "2023-11-29T17:58:36.575Z"
   },
   {
    "duration": 5,
    "start_time": "2023-11-29T18:00:45.223Z"
   },
   {
    "duration": 6,
    "start_time": "2023-11-29T18:04:37.746Z"
   },
   {
    "duration": 5,
    "start_time": "2023-11-29T18:06:35.839Z"
   },
   {
    "duration": 37312,
    "start_time": "2023-11-29T18:13:33.036Z"
   },
   {
    "duration": 1141,
    "start_time": "2023-11-30T06:10:56.169Z"
   },
   {
    "duration": 69,
    "start_time": "2023-11-30T06:10:57.311Z"
   },
   {
    "duration": 13,
    "start_time": "2023-11-30T06:10:57.382Z"
   },
   {
    "duration": 10,
    "start_time": "2023-11-30T06:10:57.396Z"
   },
   {
    "duration": 9,
    "start_time": "2023-11-30T06:10:57.407Z"
   },
   {
    "duration": 10,
    "start_time": "2023-11-30T06:10:57.418Z"
   },
   {
    "duration": 7,
    "start_time": "2023-11-30T06:10:57.429Z"
   },
   {
    "duration": 18,
    "start_time": "2023-11-30T06:10:57.437Z"
   },
   {
    "duration": 15,
    "start_time": "2023-11-30T06:10:57.457Z"
   },
   {
    "duration": 5,
    "start_time": "2023-11-30T06:10:57.475Z"
   },
   {
    "duration": 6,
    "start_time": "2023-11-30T06:10:57.489Z"
   },
   {
    "duration": 6,
    "start_time": "2023-11-30T06:10:57.496Z"
   },
   {
    "duration": 4,
    "start_time": "2023-11-30T06:10:57.504Z"
   },
   {
    "duration": 10,
    "start_time": "2023-11-30T06:10:57.510Z"
   },
   {
    "duration": 35,
    "start_time": "2023-11-30T06:10:57.521Z"
   },
   {
    "duration": 4,
    "start_time": "2023-11-30T06:10:57.558Z"
   },
   {
    "duration": 9,
    "start_time": "2023-11-30T06:10:57.564Z"
   },
   {
    "duration": 6,
    "start_time": "2023-11-30T06:10:57.575Z"
   },
   {
    "duration": 9,
    "start_time": "2023-11-30T06:10:57.582Z"
   },
   {
    "duration": 3,
    "start_time": "2023-11-30T06:10:57.592Z"
   },
   {
    "duration": 12,
    "start_time": "2023-11-30T06:10:57.596Z"
   },
   {
    "duration": 8,
    "start_time": "2023-11-30T06:10:57.609Z"
   },
   {
    "duration": 179,
    "start_time": "2023-11-30T06:10:57.618Z"
   },
   {
    "duration": 6,
    "start_time": "2023-11-30T06:10:57.799Z"
   },
   {
    "duration": 135,
    "start_time": "2023-11-30T06:10:57.806Z"
   },
   {
    "duration": 13,
    "start_time": "2023-11-30T06:10:57.943Z"
   },
   {
    "duration": 5,
    "start_time": "2023-11-30T06:10:57.958Z"
   },
   {
    "duration": 182,
    "start_time": "2023-11-30T06:10:57.966Z"
   },
   {
    "duration": 12,
    "start_time": "2023-11-30T06:10:58.149Z"
   },
   {
    "duration": 194,
    "start_time": "2023-11-30T06:10:58.163Z"
   },
   {
    "duration": 8,
    "start_time": "2023-11-30T06:10:58.359Z"
   },
   {
    "duration": 205,
    "start_time": "2023-11-30T06:10:58.369Z"
   },
   {
    "duration": 9,
    "start_time": "2023-11-30T06:10:58.575Z"
   },
   {
    "duration": 7,
    "start_time": "2023-11-30T06:10:58.585Z"
   },
   {
    "duration": 7,
    "start_time": "2023-11-30T06:10:58.594Z"
   },
   {
    "duration": 6,
    "start_time": "2023-11-30T06:10:58.603Z"
   },
   {
    "duration": 15,
    "start_time": "2023-11-30T06:10:58.611Z"
   },
   {
    "duration": 36,
    "start_time": "2023-11-30T06:10:58.627Z"
   },
   {
    "duration": 13,
    "start_time": "2023-11-30T06:10:58.664Z"
   },
   {
    "duration": 5,
    "start_time": "2023-11-30T06:10:58.679Z"
   },
   {
    "duration": 13,
    "start_time": "2023-11-30T06:10:58.685Z"
   },
   {
    "duration": 10,
    "start_time": "2023-11-30T06:10:58.699Z"
   },
   {
    "duration": 4,
    "start_time": "2023-11-30T06:10:58.711Z"
   },
   {
    "duration": 42,
    "start_time": "2023-11-30T06:10:58.716Z"
   },
   {
    "duration": 4,
    "start_time": "2023-11-30T06:10:58.759Z"
   },
   {
    "duration": 292,
    "start_time": "2023-11-30T06:10:58.765Z"
   },
   {
    "duration": 7,
    "start_time": "2023-11-30T06:10:59.059Z"
   },
   {
    "duration": 6,
    "start_time": "2023-11-30T06:10:59.068Z"
   },
   {
    "duration": 292,
    "start_time": "2023-11-30T06:10:59.076Z"
   },
   {
    "duration": 8,
    "start_time": "2023-11-30T06:10:59.369Z"
   },
   {
    "duration": 18,
    "start_time": "2023-11-30T06:10:59.378Z"
   },
   {
    "duration": 6,
    "start_time": "2023-11-30T06:10:59.398Z"
   },
   {
    "duration": 115,
    "start_time": "2023-11-30T06:10:59.405Z"
   },
   {
    "duration": 14,
    "start_time": "2023-11-30T06:10:59.522Z"
   },
   {
    "duration": 163,
    "start_time": "2023-11-30T06:10:59.537Z"
   },
   {
    "duration": 15,
    "start_time": "2023-11-30T06:10:59.702Z"
   },
   {
    "duration": 16,
    "start_time": "2023-11-30T06:10:59.718Z"
   },
   {
    "duration": 13,
    "start_time": "2023-11-30T06:10:59.736Z"
   },
   {
    "duration": 5,
    "start_time": "2023-11-30T06:10:59.750Z"
   },
   {
    "duration": 39,
    "start_time": "2023-11-30T06:10:59.756Z"
   },
   {
    "duration": 10,
    "start_time": "2023-11-30T06:10:59.796Z"
   },
   {
    "duration": 34200,
    "start_time": "2023-11-30T06:10:59.807Z"
   },
   {
    "duration": 6,
    "start_time": "2023-11-30T06:18:26.410Z"
   },
   {
    "duration": 6,
    "start_time": "2023-11-30T06:22:06.473Z"
   },
   {
    "duration": 2858,
    "start_time": "2023-11-30T06:23:32.633Z"
   },
   {
    "duration": 143,
    "start_time": "2023-11-30T06:26:23.149Z"
   },
   {
    "duration": 2889,
    "start_time": "2023-11-30T06:27:05.429Z"
   },
   {
    "duration": 1056,
    "start_time": "2023-11-30T06:28:25.850Z"
   },
   {
    "duration": 69,
    "start_time": "2023-11-30T06:28:26.907Z"
   },
   {
    "duration": 12,
    "start_time": "2023-11-30T06:28:26.977Z"
   },
   {
    "duration": 28,
    "start_time": "2023-11-30T06:28:26.991Z"
   },
   {
    "duration": 30,
    "start_time": "2023-11-30T06:28:27.020Z"
   },
   {
    "duration": 11,
    "start_time": "2023-11-30T06:28:27.051Z"
   },
   {
    "duration": 22,
    "start_time": "2023-11-30T06:28:27.064Z"
   },
   {
    "duration": 28,
    "start_time": "2023-11-30T06:28:27.087Z"
   },
   {
    "duration": 37,
    "start_time": "2023-11-30T06:28:27.116Z"
   },
   {
    "duration": 20,
    "start_time": "2023-11-30T06:28:27.155Z"
   },
   {
    "duration": 32,
    "start_time": "2023-11-30T06:28:27.176Z"
   },
   {
    "duration": 31,
    "start_time": "2023-11-30T06:28:27.209Z"
   },
   {
    "duration": 24,
    "start_time": "2023-11-30T06:28:27.241Z"
   },
   {
    "duration": 17,
    "start_time": "2023-11-30T06:28:27.267Z"
   },
   {
    "duration": 27,
    "start_time": "2023-11-30T06:28:27.286Z"
   },
   {
    "duration": 25,
    "start_time": "2023-11-30T06:28:27.315Z"
   },
   {
    "duration": 41,
    "start_time": "2023-11-30T06:28:27.342Z"
   },
   {
    "duration": 15,
    "start_time": "2023-11-30T06:28:27.385Z"
   },
   {
    "duration": 26,
    "start_time": "2023-11-30T06:28:27.401Z"
   },
   {
    "duration": 18,
    "start_time": "2023-11-30T06:28:27.429Z"
   },
   {
    "duration": 39,
    "start_time": "2023-11-30T06:28:27.449Z"
   },
   {
    "duration": 52,
    "start_time": "2023-11-30T06:28:27.489Z"
   },
   {
    "duration": 158,
    "start_time": "2023-11-30T06:28:27.543Z"
   },
   {
    "duration": 6,
    "start_time": "2023-11-30T06:28:27.703Z"
   },
   {
    "duration": 154,
    "start_time": "2023-11-30T06:28:27.710Z"
   },
   {
    "duration": 9,
    "start_time": "2023-11-30T06:28:27.866Z"
   },
   {
    "duration": 6,
    "start_time": "2023-11-30T06:28:27.876Z"
   },
   {
    "duration": 183,
    "start_time": "2023-11-30T06:28:27.886Z"
   },
   {
    "duration": 8,
    "start_time": "2023-11-30T06:28:28.070Z"
   },
   {
    "duration": 203,
    "start_time": "2023-11-30T06:28:28.080Z"
   },
   {
    "duration": 8,
    "start_time": "2023-11-30T06:28:28.285Z"
   },
   {
    "duration": 208,
    "start_time": "2023-11-30T06:28:28.294Z"
   },
   {
    "duration": 9,
    "start_time": "2023-11-30T06:28:28.504Z"
   },
   {
    "duration": 29,
    "start_time": "2023-11-30T06:28:28.514Z"
   },
   {
    "duration": 17,
    "start_time": "2023-11-30T06:28:28.545Z"
   },
   {
    "duration": 15,
    "start_time": "2023-11-30T06:28:28.564Z"
   },
   {
    "duration": 41,
    "start_time": "2023-11-30T06:28:28.581Z"
   },
   {
    "duration": 21,
    "start_time": "2023-11-30T06:28:28.624Z"
   },
   {
    "duration": 30,
    "start_time": "2023-11-30T06:28:28.647Z"
   },
   {
    "duration": 24,
    "start_time": "2023-11-30T06:28:28.678Z"
   },
   {
    "duration": 18,
    "start_time": "2023-11-30T06:28:28.704Z"
   },
   {
    "duration": 25,
    "start_time": "2023-11-30T06:28:28.724Z"
   },
   {
    "duration": 14,
    "start_time": "2023-11-30T06:28:28.750Z"
   },
   {
    "duration": 18,
    "start_time": "2023-11-30T06:28:28.765Z"
   },
   {
    "duration": 10,
    "start_time": "2023-11-30T06:28:28.785Z"
   },
   {
    "duration": 290,
    "start_time": "2023-11-30T06:28:28.796Z"
   },
   {
    "duration": 8,
    "start_time": "2023-11-30T06:28:29.088Z"
   },
   {
    "duration": 26,
    "start_time": "2023-11-30T06:28:29.097Z"
   },
   {
    "duration": 285,
    "start_time": "2023-11-30T06:28:29.124Z"
   },
   {
    "duration": 8,
    "start_time": "2023-11-30T06:28:29.411Z"
   },
   {
    "duration": 16,
    "start_time": "2023-11-30T06:28:29.421Z"
   },
   {
    "duration": 29,
    "start_time": "2023-11-30T06:28:29.438Z"
   },
   {
    "duration": 114,
    "start_time": "2023-11-30T06:28:29.469Z"
   },
   {
    "duration": 15,
    "start_time": "2023-11-30T06:28:29.585Z"
   },
   {
    "duration": 16,
    "start_time": "2023-11-30T06:28:29.602Z"
   },
   {
    "duration": 37,
    "start_time": "2023-11-30T06:28:29.620Z"
   },
   {
    "duration": 39,
    "start_time": "2023-11-30T06:28:29.659Z"
   },
   {
    "duration": 34,
    "start_time": "2023-11-30T06:28:29.699Z"
   },
   {
    "duration": 14,
    "start_time": "2023-11-30T06:28:29.735Z"
   },
   {
    "duration": 7,
    "start_time": "2023-11-30T06:28:29.751Z"
   },
   {
    "duration": 17,
    "start_time": "2023-11-30T06:28:29.759Z"
   },
   {
    "duration": 2891,
    "start_time": "2023-11-30T06:28:29.778Z"
   },
   {
    "duration": 158,
    "start_time": "2023-11-30T06:28:32.671Z"
   },
   {
    "duration": 1396,
    "start_time": "2023-11-30T11:52:03.245Z"
   },
   {
    "duration": 197,
    "start_time": "2023-11-30T11:52:04.708Z"
   },
   {
    "duration": 14,
    "start_time": "2023-11-30T11:52:06.855Z"
   },
   {
    "duration": 12,
    "start_time": "2023-11-30T11:52:08.358Z"
   },
   {
    "duration": 9,
    "start_time": "2023-11-30T11:52:10.246Z"
   },
   {
    "duration": 11,
    "start_time": "2023-11-30T11:52:11.960Z"
   },
   {
    "duration": 7,
    "start_time": "2023-11-30T11:52:13.594Z"
   },
   {
    "duration": 15,
    "start_time": "2023-11-30T11:52:14.936Z"
   },
   {
    "duration": 16,
    "start_time": "2023-11-30T11:52:23.926Z"
   },
   {
    "duration": 5,
    "start_time": "2023-11-30T11:52:39.856Z"
   },
   {
    "duration": 5,
    "start_time": "2023-11-30T11:53:05.169Z"
   },
   {
    "duration": 4,
    "start_time": "2023-11-30T11:53:24.794Z"
   },
   {
    "duration": 95,
    "start_time": "2023-11-30T11:54:04.940Z"
   },
   {
    "duration": 5,
    "start_time": "2023-11-30T11:54:18.146Z"
   },
   {
    "duration": 6,
    "start_time": "2023-11-30T11:57:25.943Z"
   },
   {
    "duration": 6,
    "start_time": "2023-11-30T11:57:27.095Z"
   },
   {
    "duration": 5,
    "start_time": "2023-11-30T11:57:27.789Z"
   },
   {
    "duration": 9,
    "start_time": "2023-11-30T11:57:33.557Z"
   },
   {
    "duration": 5,
    "start_time": "2023-11-30T11:57:42.639Z"
   },
   {
    "duration": 5,
    "start_time": "2023-11-30T11:57:43.249Z"
   },
   {
    "duration": 10,
    "start_time": "2023-11-30T11:57:49.426Z"
   },
   {
    "duration": 5,
    "start_time": "2023-11-30T11:57:49.941Z"
   },
   {
    "duration": 5,
    "start_time": "2023-11-30T11:57:55.639Z"
   },
   {
    "duration": 3,
    "start_time": "2023-11-30T11:58:02.074Z"
   },
   {
    "duration": 9,
    "start_time": "2023-11-30T11:58:06.858Z"
   },
   {
    "duration": 9,
    "start_time": "2023-11-30T11:58:12.358Z"
   },
   {
    "duration": 14,
    "start_time": "2023-11-30T11:59:12.763Z"
   },
   {
    "duration": 10,
    "start_time": "2023-11-30T11:59:27.715Z"
   },
   {
    "duration": 84,
    "start_time": "2023-11-30T12:00:06.995Z"
   },
   {
    "duration": 13,
    "start_time": "2023-11-30T12:00:14.721Z"
   },
   {
    "duration": 10,
    "start_time": "2023-11-30T12:00:38.498Z"
   },
   {
    "duration": 11,
    "start_time": "2023-11-30T12:00:58.692Z"
   },
   {
    "duration": 9,
    "start_time": "2023-11-30T12:01:03.355Z"
   },
   {
    "duration": 12,
    "start_time": "2023-11-30T12:03:18.040Z"
   },
   {
    "duration": 12,
    "start_time": "2023-11-30T12:03:27.005Z"
   },
   {
    "duration": 6,
    "start_time": "2023-11-30T12:03:41.675Z"
   },
   {
    "duration": 6,
    "start_time": "2023-11-30T12:03:48.261Z"
   },
   {
    "duration": 14,
    "start_time": "2023-11-30T12:03:59.511Z"
   },
   {
    "duration": 8,
    "start_time": "2023-11-30T12:04:09.646Z"
   },
   {
    "duration": 10,
    "start_time": "2023-11-30T12:04:14.222Z"
   },
   {
    "duration": 176,
    "start_time": "2023-11-30T12:04:25.438Z"
   },
   {
    "duration": 144,
    "start_time": "2023-11-30T12:05:00.863Z"
   },
   {
    "duration": 152,
    "start_time": "2023-11-30T12:05:13.457Z"
   },
   {
    "duration": 7,
    "start_time": "2023-11-30T12:06:41.163Z"
   },
   {
    "duration": 6,
    "start_time": "2023-11-30T12:06:54.070Z"
   },
   {
    "duration": 95,
    "start_time": "2023-11-30T12:07:44.934Z"
   },
   {
    "duration": 105,
    "start_time": "2023-11-30T12:08:05.197Z"
   },
   {
    "duration": 106,
    "start_time": "2023-11-30T12:08:22.297Z"
   },
   {
    "duration": 102,
    "start_time": "2023-11-30T12:08:26.579Z"
   },
   {
    "duration": 110,
    "start_time": "2023-11-30T12:08:30.269Z"
   },
   {
    "duration": 9,
    "start_time": "2023-11-30T12:08:50.026Z"
   },
   {
    "duration": 6,
    "start_time": "2023-11-30T12:09:05.540Z"
   },
   {
    "duration": 168,
    "start_time": "2023-11-30T12:09:07.569Z"
   },
   {
    "duration": 8,
    "start_time": "2023-11-30T12:09:10.006Z"
   },
   {
    "duration": 275,
    "start_time": "2023-11-30T12:09:14.738Z"
   },
   {
    "duration": 9,
    "start_time": "2023-11-30T12:14:18.341Z"
   },
   {
    "duration": 202,
    "start_time": "2023-11-30T12:14:20.507Z"
   },
   {
    "duration": 8,
    "start_time": "2023-11-30T12:14:22.521Z"
   },
   {
    "duration": 10,
    "start_time": "2023-11-30T12:15:47.757Z"
   },
   {
    "duration": 16,
    "start_time": "2023-11-30T12:15:55.951Z"
   },
   {
    "duration": 15,
    "start_time": "2023-11-30T12:16:07.541Z"
   },
   {
    "duration": 15,
    "start_time": "2023-11-30T12:17:21.107Z"
   },
   {
    "duration": 12,
    "start_time": "2023-11-30T12:19:44.112Z"
   },
   {
    "duration": 11,
    "start_time": "2023-11-30T12:19:50.659Z"
   },
   {
    "duration": 8,
    "start_time": "2023-11-30T12:30:02.607Z"
   },
   {
    "duration": 8,
    "start_time": "2023-11-30T12:30:03.078Z"
   },
   {
    "duration": 7,
    "start_time": "2023-11-30T12:30:04.716Z"
   },
   {
    "duration": 16,
    "start_time": "2023-11-30T12:30:05.574Z"
   },
   {
    "duration": 18,
    "start_time": "2023-11-30T13:18:09.223Z"
   },
   {
    "duration": 5,
    "start_time": "2023-11-30T13:18:14.194Z"
   },
   {
    "duration": 5,
    "start_time": "2023-11-30T13:18:51.959Z"
   },
   {
    "duration": 16,
    "start_time": "2023-11-30T13:19:23.439Z"
   },
   {
    "duration": 4,
    "start_time": "2023-11-30T13:19:55.306Z"
   },
   {
    "duration": 4,
    "start_time": "2023-11-30T13:20:10.440Z"
   },
   {
    "duration": 9,
    "start_time": "2023-11-30T13:23:17.240Z"
   },
   {
    "duration": 6,
    "start_time": "2023-11-30T13:23:17.519Z"
   },
   {
    "duration": 14,
    "start_time": "2023-11-30T13:23:18.443Z"
   },
   {
    "duration": 12,
    "start_time": "2023-11-30T13:23:18.938Z"
   },
   {
    "duration": 4,
    "start_time": "2023-11-30T13:23:19.413Z"
   },
   {
    "duration": 13,
    "start_time": "2023-11-30T13:23:24.216Z"
   },
   {
    "duration": 5,
    "start_time": "2023-11-30T13:23:24.568Z"
   },
   {
    "duration": 325,
    "start_time": "2023-11-30T13:23:26.381Z"
   },
   {
    "duration": 7,
    "start_time": "2023-11-30T13:23:26.759Z"
   },
   {
    "duration": 8,
    "start_time": "2023-11-30T13:23:27.543Z"
   },
   {
    "duration": 361,
    "start_time": "2023-11-30T13:23:28.719Z"
   },
   {
    "duration": 8,
    "start_time": "2023-11-30T13:23:29.589Z"
   },
   {
    "duration": 9,
    "start_time": "2023-11-30T13:23:30.005Z"
   },
   {
    "duration": 8,
    "start_time": "2023-11-30T13:23:38.079Z"
   },
   {
    "duration": 9,
    "start_time": "2023-11-30T13:25:13.685Z"
   },
   {
    "duration": 8,
    "start_time": "2023-11-30T13:25:38.844Z"
   },
   {
    "duration": 3,
    "start_time": "2023-11-30T13:25:53.746Z"
   },
   {
    "duration": 35,
    "start_time": "2023-11-30T13:25:55.527Z"
   },
   {
    "duration": 35,
    "start_time": "2023-11-30T13:27:04.807Z"
   },
   {
    "duration": 16,
    "start_time": "2023-11-30T13:27:11.780Z"
   },
   {
    "duration": 5,
    "start_time": "2023-11-30T13:30:10.574Z"
   },
   {
    "duration": 5,
    "start_time": "2023-11-30T13:30:19.395Z"
   },
   {
    "duration": 6,
    "start_time": "2023-11-30T13:31:31.999Z"
   },
   {
    "duration": 15,
    "start_time": "2023-11-30T13:31:39.714Z"
   },
   {
    "duration": 16,
    "start_time": "2023-11-30T13:31:42.979Z"
   },
   {
    "duration": 6,
    "start_time": "2023-11-30T13:31:48.441Z"
   },
   {
    "duration": 4,
    "start_time": "2023-11-30T13:32:43.295Z"
   },
   {
    "duration": 4,
    "start_time": "2023-11-30T13:32:51.946Z"
   },
   {
    "duration": 2,
    "start_time": "2023-11-30T13:34:30.578Z"
   },
   {
    "duration": 5,
    "start_time": "2023-11-30T14:08:19.215Z"
   },
   {
    "duration": 5,
    "start_time": "2023-11-30T14:08:22.630Z"
   },
   {
    "duration": 84,
    "start_time": "2023-11-30T14:09:38.915Z"
   },
   {
    "duration": 108,
    "start_time": "2023-11-30T14:10:00.831Z"
   },
   {
    "duration": 4,
    "start_time": "2023-11-30T14:10:15.183Z"
   },
   {
    "duration": 5,
    "start_time": "2023-11-30T14:10:16.439Z"
   },
   {
    "duration": 4,
    "start_time": "2023-11-30T14:10:19.110Z"
   },
   {
    "duration": 5,
    "start_time": "2023-11-30T14:11:07.664Z"
   },
   {
    "duration": 4,
    "start_time": "2023-11-30T14:11:19.109Z"
   },
   {
    "duration": 4,
    "start_time": "2023-11-30T14:11:34.447Z"
   },
   {
    "duration": 4,
    "start_time": "2023-11-30T14:11:44.793Z"
   },
   {
    "duration": 5,
    "start_time": "2023-11-30T14:11:48.973Z"
   },
   {
    "duration": 5,
    "start_time": "2023-11-30T14:11:53.555Z"
   },
   {
    "duration": 4,
    "start_time": "2023-11-30T14:11:58.031Z"
   },
   {
    "duration": 5,
    "start_time": "2023-11-30T14:12:02.301Z"
   },
   {
    "duration": 5,
    "start_time": "2023-11-30T14:12:05.117Z"
   },
   {
    "duration": 4,
    "start_time": "2023-11-30T14:12:09.326Z"
   },
   {
    "duration": 4,
    "start_time": "2023-11-30T14:12:16.514Z"
   },
   {
    "duration": 5,
    "start_time": "2023-11-30T14:12:24.670Z"
   },
   {
    "duration": 5,
    "start_time": "2023-11-30T14:12:31.248Z"
   },
   {
    "duration": 3,
    "start_time": "2023-11-30T16:03:47.575Z"
   },
   {
    "duration": 185,
    "start_time": "2023-11-30T16:13:05.542Z"
   },
   {
    "duration": 203,
    "start_time": "2023-11-30T16:13:30.519Z"
   },
   {
    "duration": 541,
    "start_time": "2023-11-30T16:13:47.969Z"
   },
   {
    "duration": 185,
    "start_time": "2023-11-30T16:14:00.273Z"
   },
   {
    "duration": 131,
    "start_time": "2023-11-30T16:14:58.696Z"
   },
   {
    "duration": 517,
    "start_time": "2023-11-30T16:17:43.974Z"
   },
   {
    "duration": 122,
    "start_time": "2023-11-30T16:17:57.526Z"
   },
   {
    "duration": 144,
    "start_time": "2023-11-30T16:18:01.373Z"
   },
   {
    "duration": 5,
    "start_time": "2023-11-30T16:18:35.982Z"
   },
   {
    "duration": 4,
    "start_time": "2023-11-30T16:19:01.016Z"
   },
   {
    "duration": 144,
    "start_time": "2023-11-30T16:19:31.941Z"
   },
   {
    "duration": 122,
    "start_time": "2023-11-30T16:24:43.437Z"
   },
   {
    "duration": 611,
    "start_time": "2023-11-30T16:32:48.153Z"
   },
   {
    "duration": 167,
    "start_time": "2023-11-30T16:35:02.673Z"
   },
   {
    "duration": 139,
    "start_time": "2023-11-30T16:35:21.215Z"
   },
   {
    "duration": 275,
    "start_time": "2023-11-30T16:35:57.434Z"
   },
   {
    "duration": 1184,
    "start_time": "2023-11-30T16:36:12.627Z"
   },
   {
    "duration": 282,
    "start_time": "2023-11-30T16:36:18.921Z"
   },
   {
    "duration": 148,
    "start_time": "2023-11-30T16:37:46.921Z"
   },
   {
    "duration": 1072,
    "start_time": "2023-11-30T16:38:58.380Z"
   },
   {
    "duration": 312,
    "start_time": "2023-11-30T16:39:18.115Z"
   },
   {
    "duration": 126,
    "start_time": "2023-11-30T16:39:29.205Z"
   },
   {
    "duration": 100,
    "start_time": "2023-11-30T16:43:20.114Z"
   },
   {
    "duration": 3,
    "start_time": "2023-11-30T16:43:33.614Z"
   },
   {
    "duration": 68,
    "start_time": "2023-11-30T16:43:34.251Z"
   },
   {
    "duration": 12,
    "start_time": "2023-11-30T16:43:34.626Z"
   },
   {
    "duration": 18,
    "start_time": "2023-11-30T16:43:34.842Z"
   },
   {
    "duration": 13,
    "start_time": "2023-11-30T16:43:35.245Z"
   },
   {
    "duration": 18,
    "start_time": "2023-11-30T16:43:35.443Z"
   },
   {
    "duration": 6,
    "start_time": "2023-11-30T16:43:35.833Z"
   },
   {
    "duration": 18,
    "start_time": "2023-11-30T16:43:36.049Z"
   },
   {
    "duration": 14,
    "start_time": "2023-11-30T16:43:37.100Z"
   },
   {
    "duration": 5,
    "start_time": "2023-11-30T16:43:37.514Z"
   },
   {
    "duration": 5,
    "start_time": "2023-11-30T16:43:38.339Z"
   },
   {
    "duration": 4,
    "start_time": "2023-11-30T16:43:38.576Z"
   },
   {
    "duration": 11,
    "start_time": "2023-11-30T16:43:39.147Z"
   },
   {
    "duration": 6,
    "start_time": "2023-11-30T16:43:39.381Z"
   },
   {
    "duration": 6,
    "start_time": "2023-11-30T16:43:39.684Z"
   },
   {
    "duration": 14,
    "start_time": "2023-11-30T16:43:40.143Z"
   },
   {
    "duration": 10,
    "start_time": "2023-11-30T16:43:40.642Z"
   },
   {
    "duration": 5,
    "start_time": "2023-11-30T16:43:40.903Z"
   },
   {
    "duration": 11,
    "start_time": "2023-11-30T16:43:41.316Z"
   },
   {
    "duration": 5,
    "start_time": "2023-11-30T16:43:41.539Z"
   },
   {
    "duration": 4,
    "start_time": "2023-11-30T16:43:42.123Z"
   },
   {
    "duration": 2,
    "start_time": "2023-11-30T16:43:42.529Z"
   },
   {
    "duration": 8,
    "start_time": "2023-11-30T16:43:42.986Z"
   },
   {
    "duration": 7,
    "start_time": "2023-11-30T16:43:43.619Z"
   },
   {
    "duration": 168,
    "start_time": "2023-11-30T16:43:46.118Z"
   },
   {
    "duration": 157,
    "start_time": "2023-11-30T16:44:04.625Z"
   },
   {
    "duration": 145,
    "start_time": "2023-11-30T16:44:16.065Z"
   },
   {
    "duration": 135,
    "start_time": "2023-11-30T17:02:52.638Z"
   },
   {
    "duration": 137,
    "start_time": "2023-11-30T17:03:36.650Z"
   },
   {
    "duration": 124,
    "start_time": "2023-11-30T17:03:53.882Z"
   },
   {
    "duration": 3,
    "start_time": "2023-11-30T17:06:22.648Z"
   },
   {
    "duration": 6,
    "start_time": "2023-11-30T17:06:39.112Z"
   },
   {
    "duration": 12,
    "start_time": "2023-11-30T17:18:40.193Z"
   },
   {
    "duration": 112,
    "start_time": "2023-11-30T17:18:55.454Z"
   },
   {
    "duration": 4,
    "start_time": "2023-11-30T17:20:00.084Z"
   },
   {
    "duration": 4,
    "start_time": "2023-11-30T17:20:03.210Z"
   },
   {
    "duration": 157,
    "start_time": "2023-11-30T17:20:49.958Z"
   },
   {
    "duration": 13,
    "start_time": "2023-11-30T17:21:56.634Z"
   },
   {
    "duration": 158,
    "start_time": "2023-11-30T17:22:19.375Z"
   },
   {
    "duration": 174,
    "start_time": "2023-11-30T17:27:36.778Z"
   },
   {
    "duration": 1042,
    "start_time": "2023-11-30T17:42:46.659Z"
   },
   {
    "duration": 65,
    "start_time": "2023-11-30T17:42:47.703Z"
   },
   {
    "duration": 13,
    "start_time": "2023-11-30T17:42:47.769Z"
   },
   {
    "duration": 19,
    "start_time": "2023-11-30T17:42:47.784Z"
   },
   {
    "duration": 26,
    "start_time": "2023-11-30T17:42:47.805Z"
   },
   {
    "duration": 46,
    "start_time": "2023-11-30T17:42:47.833Z"
   },
   {
    "duration": 6,
    "start_time": "2023-11-30T17:42:47.880Z"
   },
   {
    "duration": 10,
    "start_time": "2023-11-30T17:42:47.888Z"
   },
   {
    "duration": 13,
    "start_time": "2023-11-30T17:42:47.899Z"
   },
   {
    "duration": 4,
    "start_time": "2023-11-30T17:42:47.915Z"
   },
   {
    "duration": 4,
    "start_time": "2023-11-30T17:42:47.920Z"
   },
   {
    "duration": 4,
    "start_time": "2023-11-30T17:42:47.925Z"
   },
   {
    "duration": 6,
    "start_time": "2023-11-30T17:42:47.931Z"
   },
   {
    "duration": 5,
    "start_time": "2023-11-30T17:42:47.942Z"
   },
   {
    "duration": 5,
    "start_time": "2023-11-30T17:42:47.948Z"
   },
   {
    "duration": 11,
    "start_time": "2023-11-30T17:42:47.954Z"
   },
   {
    "duration": 6,
    "start_time": "2023-11-30T17:42:47.966Z"
   },
   {
    "duration": 5,
    "start_time": "2023-11-30T17:42:47.973Z"
   },
   {
    "duration": 10,
    "start_time": "2023-11-30T17:42:47.979Z"
   },
   {
    "duration": 5,
    "start_time": "2023-11-30T17:42:47.990Z"
   },
   {
    "duration": 4,
    "start_time": "2023-11-30T17:42:47.996Z"
   },
   {
    "duration": 43,
    "start_time": "2023-11-30T17:42:48.001Z"
   },
   {
    "duration": 10,
    "start_time": "2023-11-30T17:42:48.045Z"
   },
   {
    "duration": 9,
    "start_time": "2023-11-30T17:42:48.056Z"
   },
   {
    "duration": 182,
    "start_time": "2023-11-30T17:42:48.066Z"
   },
   {
    "duration": 6,
    "start_time": "2023-11-30T17:42:48.250Z"
   },
   {
    "duration": 108,
    "start_time": "2023-11-30T17:42:48.257Z"
   },
   {
    "duration": 9,
    "start_time": "2023-11-30T17:42:48.368Z"
   },
   {
    "duration": 5,
    "start_time": "2023-11-30T17:42:48.379Z"
   },
   {
    "duration": 199,
    "start_time": "2023-11-30T17:42:48.385Z"
   },
   {
    "duration": 7,
    "start_time": "2023-11-30T17:42:48.586Z"
   },
   {
    "duration": 202,
    "start_time": "2023-11-30T17:42:48.595Z"
   },
   {
    "duration": 7,
    "start_time": "2023-11-30T17:42:48.799Z"
   },
   {
    "duration": 218,
    "start_time": "2023-11-30T17:42:48.808Z"
   },
   {
    "duration": 14,
    "start_time": "2023-11-30T17:42:49.029Z"
   },
   {
    "duration": 14,
    "start_time": "2023-11-30T17:42:49.044Z"
   },
   {
    "duration": 16,
    "start_time": "2023-11-30T17:42:49.059Z"
   },
   {
    "duration": 10,
    "start_time": "2023-11-30T17:42:49.076Z"
   },
   {
    "duration": 8,
    "start_time": "2023-11-30T17:42:49.088Z"
   },
   {
    "duration": 7,
    "start_time": "2023-11-30T17:42:49.098Z"
   },
   {
    "duration": 49,
    "start_time": "2023-11-30T17:42:49.106Z"
   },
   {
    "duration": 10,
    "start_time": "2023-11-30T17:42:49.157Z"
   },
   {
    "duration": 3,
    "start_time": "2023-11-30T17:42:49.169Z"
   },
   {
    "duration": 3,
    "start_time": "2023-11-30T17:42:49.174Z"
   },
   {
    "duration": 8,
    "start_time": "2023-11-30T17:42:49.179Z"
   },
   {
    "duration": 6,
    "start_time": "2023-11-30T17:42:49.189Z"
   },
   {
    "duration": 12,
    "start_time": "2023-11-30T17:42:49.196Z"
   },
   {
    "duration": 11,
    "start_time": "2023-11-30T17:42:49.242Z"
   },
   {
    "duration": 4,
    "start_time": "2023-11-30T17:42:49.254Z"
   },
   {
    "duration": 13,
    "start_time": "2023-11-30T17:42:49.259Z"
   },
   {
    "duration": 4,
    "start_time": "2023-11-30T17:42:49.273Z"
   },
   {
    "duration": 333,
    "start_time": "2023-11-30T17:42:49.278Z"
   },
   {
    "duration": 8,
    "start_time": "2023-11-30T17:42:49.612Z"
   },
   {
    "duration": 21,
    "start_time": "2023-11-30T17:42:49.622Z"
   },
   {
    "duration": 325,
    "start_time": "2023-11-30T17:42:49.645Z"
   },
   {
    "duration": 8,
    "start_time": "2023-11-30T17:42:49.971Z"
   },
   {
    "duration": 7,
    "start_time": "2023-11-30T17:42:49.980Z"
   },
   {
    "duration": 6,
    "start_time": "2023-11-30T17:42:49.988Z"
   },
   {
    "duration": 4,
    "start_time": "2023-11-30T17:42:49.995Z"
   },
   {
    "duration": 122,
    "start_time": "2023-11-30T17:42:50.000Z"
   },
   {
    "duration": 25,
    "start_time": "2023-11-30T17:42:50.124Z"
   },
   {
    "duration": 7,
    "start_time": "2023-11-30T17:42:50.151Z"
   },
   {
    "duration": 6,
    "start_time": "2023-11-30T17:42:50.160Z"
   },
   {
    "duration": 5,
    "start_time": "2023-11-30T17:42:50.167Z"
   },
   {
    "duration": 9,
    "start_time": "2023-11-30T17:42:50.174Z"
   },
   {
    "duration": 15,
    "start_time": "2023-11-30T17:42:50.185Z"
   },
   {
    "duration": 45,
    "start_time": "2023-11-30T17:42:50.201Z"
   },
   {
    "duration": 6,
    "start_time": "2023-11-30T17:42:50.248Z"
   },
   {
    "duration": 13,
    "start_time": "2023-11-30T17:42:50.255Z"
   },
   {
    "duration": 5,
    "start_time": "2023-11-30T17:42:50.269Z"
   },
   {
    "duration": 186,
    "start_time": "2023-11-30T17:42:50.275Z"
   },
   {
    "duration": 5,
    "start_time": "2023-11-30T17:42:50.463Z"
   },
   {
    "duration": 3022,
    "start_time": "2023-11-30T17:42:50.469Z"
   },
   {
    "duration": 149,
    "start_time": "2023-11-30T17:42:53.493Z"
   },
   {
    "duration": 168,
    "start_time": "2023-11-30T17:42:53.644Z"
   },
   {
    "duration": 1025,
    "start_time": "2023-12-01T06:36:14.784Z"
   },
   {
    "duration": 185,
    "start_time": "2023-12-01T06:36:15.812Z"
   },
   {
    "duration": 14,
    "start_time": "2023-12-01T06:36:15.998Z"
   },
   {
    "duration": 10,
    "start_time": "2023-12-01T06:36:16.014Z"
   },
   {
    "duration": 16,
    "start_time": "2023-12-01T06:36:16.026Z"
   },
   {
    "duration": 11,
    "start_time": "2023-12-01T06:36:16.043Z"
   },
   {
    "duration": 6,
    "start_time": "2023-12-01T06:36:16.055Z"
   },
   {
    "duration": 18,
    "start_time": "2023-12-01T06:36:16.062Z"
   },
   {
    "duration": 17,
    "start_time": "2023-12-01T06:36:16.081Z"
   },
   {
    "duration": 4,
    "start_time": "2023-12-01T06:36:16.101Z"
   },
   {
    "duration": 4,
    "start_time": "2023-12-01T06:36:16.106Z"
   },
   {
    "duration": 8,
    "start_time": "2023-12-01T06:36:16.111Z"
   },
   {
    "duration": 6,
    "start_time": "2023-12-01T06:36:16.120Z"
   },
   {
    "duration": 6,
    "start_time": "2023-12-01T06:36:16.127Z"
   },
   {
    "duration": 4,
    "start_time": "2023-12-01T06:36:16.134Z"
   },
   {
    "duration": 10,
    "start_time": "2023-12-01T06:36:16.140Z"
   },
   {
    "duration": 35,
    "start_time": "2023-12-01T06:36:16.151Z"
   },
   {
    "duration": 6,
    "start_time": "2023-12-01T06:36:16.187Z"
   },
   {
    "duration": 10,
    "start_time": "2023-12-01T06:36:16.194Z"
   },
   {
    "duration": 12,
    "start_time": "2023-12-01T06:36:16.205Z"
   },
   {
    "duration": 4,
    "start_time": "2023-12-01T06:36:16.218Z"
   },
   {
    "duration": 25,
    "start_time": "2023-12-01T06:36:16.223Z"
   },
   {
    "duration": 27,
    "start_time": "2023-12-01T06:36:16.249Z"
   },
   {
    "duration": 9,
    "start_time": "2023-12-01T06:36:16.278Z"
   },
   {
    "duration": 160,
    "start_time": "2023-12-01T06:36:16.288Z"
   },
   {
    "duration": 6,
    "start_time": "2023-12-01T06:36:16.450Z"
   },
   {
    "duration": 105,
    "start_time": "2023-12-01T06:36:16.458Z"
   },
   {
    "duration": 16,
    "start_time": "2023-12-01T06:36:16.568Z"
   },
   {
    "duration": 5,
    "start_time": "2023-12-01T06:36:16.586Z"
   },
   {
    "duration": 171,
    "start_time": "2023-12-01T06:36:16.593Z"
   },
   {
    "duration": 16,
    "start_time": "2023-12-01T06:36:16.766Z"
   },
   {
    "duration": 211,
    "start_time": "2023-12-01T06:36:16.784Z"
   },
   {
    "duration": 8,
    "start_time": "2023-12-01T06:36:16.997Z"
   },
   {
    "duration": 191,
    "start_time": "2023-12-01T06:36:17.006Z"
   },
   {
    "duration": 8,
    "start_time": "2023-12-01T06:36:17.198Z"
   },
   {
    "duration": 10,
    "start_time": "2023-12-01T06:36:17.208Z"
   },
   {
    "duration": 10,
    "start_time": "2023-12-01T06:36:17.219Z"
   },
   {
    "duration": 7,
    "start_time": "2023-12-01T06:36:17.230Z"
   },
   {
    "duration": 8,
    "start_time": "2023-12-01T06:36:17.238Z"
   },
   {
    "duration": 38,
    "start_time": "2023-12-01T06:36:17.247Z"
   },
   {
    "duration": 18,
    "start_time": "2023-12-01T06:36:17.286Z"
   },
   {
    "duration": 10,
    "start_time": "2023-12-01T06:36:17.305Z"
   },
   {
    "duration": 5,
    "start_time": "2023-12-01T06:36:17.316Z"
   },
   {
    "duration": 4,
    "start_time": "2023-12-01T06:36:17.322Z"
   },
   {
    "duration": 9,
    "start_time": "2023-12-01T06:36:17.327Z"
   },
   {
    "duration": 5,
    "start_time": "2023-12-01T06:36:17.338Z"
   },
   {
    "duration": 11,
    "start_time": "2023-12-01T06:36:17.345Z"
   },
   {
    "duration": 33,
    "start_time": "2023-12-01T06:36:17.358Z"
   },
   {
    "duration": 3,
    "start_time": "2023-12-01T06:36:17.393Z"
   },
   {
    "duration": 11,
    "start_time": "2023-12-01T06:36:17.398Z"
   },
   {
    "duration": 4,
    "start_time": "2023-12-01T06:36:17.411Z"
   },
   {
    "duration": 313,
    "start_time": "2023-12-01T06:36:17.416Z"
   },
   {
    "duration": 8,
    "start_time": "2023-12-01T06:36:17.730Z"
   },
   {
    "duration": 7,
    "start_time": "2023-12-01T06:36:17.739Z"
   },
   {
    "duration": 305,
    "start_time": "2023-12-01T06:36:17.748Z"
   },
   {
    "duration": 7,
    "start_time": "2023-12-01T06:36:18.055Z"
   },
   {
    "duration": 19,
    "start_time": "2023-12-01T06:36:18.063Z"
   },
   {
    "duration": 6,
    "start_time": "2023-12-01T06:36:18.083Z"
   },
   {
    "duration": 8,
    "start_time": "2023-12-01T06:36:18.090Z"
   },
   {
    "duration": 95,
    "start_time": "2023-12-01T06:36:18.099Z"
   },
   {
    "duration": 15,
    "start_time": "2023-12-01T06:36:18.196Z"
   },
   {
    "duration": 10,
    "start_time": "2023-12-01T06:36:18.212Z"
   },
   {
    "duration": 6,
    "start_time": "2023-12-01T06:36:18.223Z"
   },
   {
    "duration": 11,
    "start_time": "2023-12-01T06:36:18.231Z"
   },
   {
    "duration": 4,
    "start_time": "2023-12-01T06:36:18.244Z"
   },
   {
    "duration": 36,
    "start_time": "2023-12-01T06:36:18.250Z"
   },
   {
    "duration": 13,
    "start_time": "2023-12-01T06:36:18.288Z"
   },
   {
    "duration": 5,
    "start_time": "2023-12-01T06:36:18.302Z"
   },
   {
    "duration": 5,
    "start_time": "2023-12-01T06:36:18.308Z"
   },
   {
    "duration": 7,
    "start_time": "2023-12-01T06:36:18.314Z"
   },
   {
    "duration": 133,
    "start_time": "2023-12-01T06:36:18.322Z"
   },
   {
    "duration": 4,
    "start_time": "2023-12-01T06:36:18.457Z"
   },
   {
    "duration": 3089,
    "start_time": "2023-12-01T06:36:18.463Z"
   },
   {
    "duration": 178,
    "start_time": "2023-12-01T06:36:21.554Z"
   },
   {
    "duration": 179,
    "start_time": "2023-12-01T06:36:21.733Z"
   },
   {
    "duration": 148,
    "start_time": "2023-12-01T06:41:43.796Z"
   },
   {
    "duration": 148,
    "start_time": "2023-12-01T06:41:56.693Z"
   },
   {
    "duration": 150,
    "start_time": "2023-12-01T06:43:01.626Z"
   },
   {
    "duration": 160,
    "start_time": "2023-12-01T06:43:09.441Z"
   },
   {
    "duration": 138,
    "start_time": "2023-12-01T06:43:12.853Z"
   },
   {
    "duration": 50,
    "start_time": "2023-12-01T12:24:30.024Z"
   },
   {
    "duration": 1308,
    "start_time": "2023-12-01T12:24:39.944Z"
   },
   {
    "duration": 302,
    "start_time": "2023-12-01T12:24:41.255Z"
   },
   {
    "duration": 13,
    "start_time": "2023-12-01T12:24:41.661Z"
   },
   {
    "duration": 11,
    "start_time": "2023-12-01T12:24:41.675Z"
   },
   {
    "duration": 13,
    "start_time": "2023-12-01T12:24:41.687Z"
   },
   {
    "duration": 993,
    "start_time": "2023-12-01T12:25:04.229Z"
   },
   {
    "duration": 69,
    "start_time": "2023-12-01T12:25:07.327Z"
   },
   {
    "duration": 13,
    "start_time": "2023-12-01T12:25:07.717Z"
   },
   {
    "duration": 10,
    "start_time": "2023-12-01T12:25:07.905Z"
   },
   {
    "duration": 9,
    "start_time": "2023-12-01T12:25:08.251Z"
   },
   {
    "duration": 10,
    "start_time": "2023-12-01T12:25:08.447Z"
   },
   {
    "duration": 6,
    "start_time": "2023-12-01T12:25:08.835Z"
   },
   {
    "duration": 9,
    "start_time": "2023-12-01T12:25:09.029Z"
   },
   {
    "duration": 14,
    "start_time": "2023-12-01T12:25:10.015Z"
   },
   {
    "duration": 4,
    "start_time": "2023-12-01T12:25:10.379Z"
   },
   {
    "duration": 4,
    "start_time": "2023-12-01T12:25:11.287Z"
   },
   {
    "duration": 3,
    "start_time": "2023-12-01T12:25:11.697Z"
   },
   {
    "duration": 6,
    "start_time": "2023-12-01T12:25:12.125Z"
   },
   {
    "duration": 5,
    "start_time": "2023-12-01T12:25:12.321Z"
   },
   {
    "duration": 5,
    "start_time": "2023-12-01T12:25:12.513Z"
   },
   {
    "duration": 9,
    "start_time": "2023-12-01T12:25:12.904Z"
   },
   {
    "duration": 5,
    "start_time": "2023-12-01T12:25:13.271Z"
   },
   {
    "duration": 5,
    "start_time": "2023-12-01T12:25:13.465Z"
   },
   {
    "duration": 11,
    "start_time": "2023-12-01T12:25:13.853Z"
   },
   {
    "duration": 5,
    "start_time": "2023-12-01T12:25:14.047Z"
   },
   {
    "duration": 4,
    "start_time": "2023-12-01T12:25:14.653Z"
   },
   {
    "duration": 3,
    "start_time": "2023-12-01T12:25:15.087Z"
   },
   {
    "duration": 9,
    "start_time": "2023-12-01T12:25:15.493Z"
   },
   {
    "duration": 8,
    "start_time": "2023-12-01T12:25:15.953Z"
   },
   {
    "duration": 146,
    "start_time": "2023-12-01T12:25:17.203Z"
   },
   {
    "duration": 6,
    "start_time": "2023-12-01T12:25:19.567Z"
   },
   {
    "duration": 91,
    "start_time": "2023-12-01T12:25:20.905Z"
   },
   {
    "duration": 9,
    "start_time": "2023-12-01T12:25:41.929Z"
   },
   {
    "duration": 6,
    "start_time": "2023-12-01T12:25:42.378Z"
   },
   {
    "duration": 179,
    "start_time": "2023-12-01T12:25:44.517Z"
   },
   {
    "duration": 7,
    "start_time": "2023-12-01T12:25:44.796Z"
   },
   {
    "duration": 196,
    "start_time": "2023-12-01T12:25:47.377Z"
   },
   {
    "duration": 9,
    "start_time": "2023-12-01T12:26:01.299Z"
   },
   {
    "duration": 201,
    "start_time": "2023-12-01T12:26:03.501Z"
   },
   {
    "duration": 8,
    "start_time": "2023-12-01T12:26:03.766Z"
   },
   {
    "duration": 14,
    "start_time": "2023-12-01T12:26:20.105Z"
   },
   {
    "duration": 12,
    "start_time": "2023-12-01T12:26:22.000Z"
   },
   {
    "duration": 9,
    "start_time": "2023-12-01T12:26:26.074Z"
   },
   {
    "duration": 9,
    "start_time": "2023-12-01T12:26:26.484Z"
   },
   {
    "duration": 7,
    "start_time": "2023-12-01T12:26:28.324Z"
   },
   {
    "duration": 17,
    "start_time": "2023-12-01T12:26:28.772Z"
   },
   {
    "duration": 11,
    "start_time": "2023-12-01T12:26:37.499Z"
   },
   {
    "duration": 4,
    "start_time": "2023-12-01T12:26:46.339Z"
   },
   {
    "duration": 3,
    "start_time": "2023-12-01T12:26:47.005Z"
   },
   {
    "duration": 9,
    "start_time": "2023-12-01T12:26:52.504Z"
   },
   {
    "duration": 8,
    "start_time": "2023-12-01T12:26:52.733Z"
   },
   {
    "duration": 14,
    "start_time": "2023-12-01T12:26:53.787Z"
   },
   {
    "duration": 13,
    "start_time": "2023-12-01T12:26:54.236Z"
   },
   {
    "duration": 5,
    "start_time": "2023-12-01T12:26:55.927Z"
   },
   {
    "duration": 13,
    "start_time": "2023-12-01T12:26:56.329Z"
   },
   {
    "duration": 5,
    "start_time": "2023-12-01T12:26:58.275Z"
   },
   {
    "duration": 314,
    "start_time": "2023-12-01T12:26:59.906Z"
   },
   {
    "duration": 8,
    "start_time": "2023-12-01T12:27:01.771Z"
   },
   {
    "duration": 8,
    "start_time": "2023-12-01T12:27:02.179Z"
   },
   {
    "duration": 320,
    "start_time": "2023-12-01T12:27:04.094Z"
   },
   {
    "duration": 9,
    "start_time": "2023-12-01T12:27:04.909Z"
   },
   {
    "duration": 8,
    "start_time": "2023-12-01T12:27:05.254Z"
   },
   {
    "duration": 7,
    "start_time": "2023-12-01T12:27:11.132Z"
   },
   {
    "duration": 3,
    "start_time": "2023-12-01T12:27:18.725Z"
   },
   {
    "duration": 99,
    "start_time": "2023-12-01T12:27:19.775Z"
   },
   {
    "duration": 17,
    "start_time": "2023-12-01T12:27:20.652Z"
   },
   {
    "duration": 7,
    "start_time": "2023-12-01T12:27:29.094Z"
   },
   {
    "duration": 4,
    "start_time": "2023-12-01T12:27:32.030Z"
   },
   {
    "duration": 4,
    "start_time": "2023-12-01T12:27:32.270Z"
   },
   {
    "duration": 5,
    "start_time": "2023-12-01T12:27:33.126Z"
   },
   {
    "duration": 15,
    "start_time": "2023-12-01T12:27:34.966Z"
   },
   {
    "duration": 16,
    "start_time": "2023-12-01T12:27:36.334Z"
   },
   {
    "duration": 5,
    "start_time": "2023-12-01T12:27:37.104Z"
   },
   {
    "duration": 4,
    "start_time": "2023-12-01T12:27:40.226Z"
   },
   {
    "duration": 4,
    "start_time": "2023-12-01T12:27:40.596Z"
   },
   {
    "duration": 127,
    "start_time": "2023-12-01T12:27:55.490Z"
   },
   {
    "duration": 5,
    "start_time": "2023-12-01T12:28:04.485Z"
   },
   {
    "duration": 3024,
    "start_time": "2023-12-01T12:28:09.335Z"
   },
   {
    "duration": 161,
    "start_time": "2023-12-01T12:29:19.710Z"
   },
   {
    "duration": 164,
    "start_time": "2023-12-01T12:29:20.659Z"
   },
   {
    "duration": 1261,
    "start_time": "2023-12-11T11:03:45.526Z"
   },
   {
    "duration": 299,
    "start_time": "2023-12-11T11:03:46.789Z"
   },
   {
    "duration": 13,
    "start_time": "2023-12-11T11:03:47.089Z"
   },
   {
    "duration": 27,
    "start_time": "2023-12-11T11:03:47.104Z"
   },
   {
    "duration": 24,
    "start_time": "2023-12-11T11:03:47.133Z"
   },
   {
    "duration": 53,
    "start_time": "2023-12-11T11:03:47.158Z"
   },
   {
    "duration": 6,
    "start_time": "2023-12-11T11:03:47.521Z"
   },
   {
    "duration": 13,
    "start_time": "2023-12-11T11:03:47.672Z"
   },
   {
    "duration": 13,
    "start_time": "2023-12-11T11:03:48.541Z"
   },
   {
    "duration": 6,
    "start_time": "2023-12-11T11:03:48.911Z"
   },
   {
    "duration": 5,
    "start_time": "2023-12-11T11:03:49.774Z"
   },
   {
    "duration": 4,
    "start_time": "2023-12-11T11:03:49.948Z"
   },
   {
    "duration": 7,
    "start_time": "2023-12-11T11:03:50.316Z"
   },
   {
    "duration": 6,
    "start_time": "2023-12-11T11:03:50.513Z"
   },
   {
    "duration": 6,
    "start_time": "2023-12-11T11:03:50.708Z"
   },
   {
    "duration": 8,
    "start_time": "2023-12-11T11:03:51.079Z"
   },
   {
    "duration": 5,
    "start_time": "2023-12-11T11:03:51.491Z"
   },
   {
    "duration": 4,
    "start_time": "2023-12-11T11:03:51.709Z"
   },
   {
    "duration": 10,
    "start_time": "2023-12-11T11:03:52.082Z"
   },
   {
    "duration": 5,
    "start_time": "2023-12-11T11:03:52.279Z"
   },
   {
    "duration": 3,
    "start_time": "2023-12-11T11:03:52.647Z"
   },
   {
    "duration": 3,
    "start_time": "2023-12-11T11:03:53.005Z"
   },
   {
    "duration": 9,
    "start_time": "2023-12-11T11:03:53.306Z"
   },
   {
    "duration": 8,
    "start_time": "2023-12-11T11:03:53.660Z"
   },
   {
    "duration": 151,
    "start_time": "2023-12-11T11:03:54.475Z"
   },
   {
    "duration": 6,
    "start_time": "2023-12-11T11:03:55.003Z"
   },
   {
    "duration": 100,
    "start_time": "2023-12-11T11:03:55.704Z"
   },
   {
    "duration": 10,
    "start_time": "2023-12-11T11:03:56.239Z"
   },
   {
    "duration": 6,
    "start_time": "2023-12-11T11:03:56.606Z"
   },
   {
    "duration": 166,
    "start_time": "2023-12-11T11:03:56.779Z"
   },
   {
    "duration": 7,
    "start_time": "2023-12-11T11:03:56.991Z"
   },
   {
    "duration": 182,
    "start_time": "2023-12-11T11:03:57.546Z"
   },
   {
    "duration": 9,
    "start_time": "2023-12-11T11:03:58.485Z"
   },
   {
    "duration": 181,
    "start_time": "2023-12-11T11:03:58.789Z"
   },
   {
    "duration": 7,
    "start_time": "2023-12-11T11:03:58.972Z"
   },
   {
    "duration": 12,
    "start_time": "2023-12-11T11:04:00.011Z"
   },
   {
    "duration": 12,
    "start_time": "2023-12-11T11:04:00.205Z"
   },
   {
    "duration": 8,
    "start_time": "2023-12-11T11:04:01.163Z"
   },
   {
    "duration": 8,
    "start_time": "2023-12-11T11:04:01.352Z"
   },
   {
    "duration": 8,
    "start_time": "2023-12-11T11:04:01.504Z"
   },
   {
    "duration": 16,
    "start_time": "2023-12-11T11:04:01.682Z"
   },
   {
    "duration": 10,
    "start_time": "2023-12-11T11:04:01.985Z"
   },
   {
    "duration": 4,
    "start_time": "2023-12-11T11:04:02.721Z"
   },
   {
    "duration": 4,
    "start_time": "2023-12-11T11:04:02.941Z"
   },
   {
    "duration": 8,
    "start_time": "2023-12-11T11:04:03.307Z"
   },
   {
    "duration": 7,
    "start_time": "2023-12-11T11:04:03.481Z"
   },
   {
    "duration": 11,
    "start_time": "2023-12-11T11:04:04.049Z"
   },
   {
    "duration": 11,
    "start_time": "2023-12-11T11:04:04.243Z"
   },
   {
    "duration": 5,
    "start_time": "2023-12-11T11:04:04.437Z"
   },
   {
    "duration": 13,
    "start_time": "2023-12-11T11:04:04.679Z"
   },
   {
    "duration": 4,
    "start_time": "2023-12-11T11:04:04.851Z"
   },
   {
    "duration": 299,
    "start_time": "2023-12-11T11:04:05.551Z"
   },
   {
    "duration": 8,
    "start_time": "2023-12-11T11:04:05.967Z"
   },
   {
    "duration": 8,
    "start_time": "2023-12-11T11:04:06.407Z"
   },
   {
    "duration": 283,
    "start_time": "2023-12-11T11:04:06.929Z"
   },
   {
    "duration": 8,
    "start_time": "2023-12-11T11:04:07.214Z"
   },
   {
    "duration": 8,
    "start_time": "2023-12-11T11:04:07.541Z"
   },
   {
    "duration": 7,
    "start_time": "2023-12-11T11:04:09.683Z"
   },
   {
    "duration": 3,
    "start_time": "2023-12-11T11:04:11.619Z"
   },
   {
    "duration": 103,
    "start_time": "2023-12-11T11:04:12.675Z"
   },
   {
    "duration": 16,
    "start_time": "2023-12-11T11:04:13.479Z"
   },
   {
    "duration": 5,
    "start_time": "2023-12-11T11:04:15.841Z"
   },
   {
    "duration": 4,
    "start_time": "2023-12-11T11:04:16.520Z"
   },
   {
    "duration": 4,
    "start_time": "2023-12-11T11:04:16.694Z"
   },
   {
    "duration": 5,
    "start_time": "2023-12-11T11:04:17.041Z"
   },
   {
    "duration": 15,
    "start_time": "2023-12-11T11:04:17.371Z"
   },
   {
    "duration": 15,
    "start_time": "2023-12-11T11:04:17.743Z"
   },
   {
    "duration": 6,
    "start_time": "2023-12-11T11:04:18.155Z"
   },
   {
    "duration": 4,
    "start_time": "2023-12-11T11:04:20.225Z"
   },
   {
    "duration": 4,
    "start_time": "2023-12-11T11:04:20.403Z"
   },
   {
    "duration": 116,
    "start_time": "2023-12-11T11:04:23.319Z"
   },
   {
    "duration": 5,
    "start_time": "2023-12-11T11:04:24.220Z"
   },
   {
    "duration": 2842,
    "start_time": "2023-12-11T11:04:25.273Z"
   },
   {
    "duration": 142,
    "start_time": "2023-12-11T11:04:28.116Z"
   },
   {
    "duration": 158,
    "start_time": "2023-12-11T11:04:28.260Z"
   },
   {
    "duration": 62,
    "start_time": "2024-04-25T11:59:53.523Z"
   }
  ],
  "kernelspec": {
   "display_name": "Python 3 (ipykernel)",
   "language": "python",
   "name": "python3"
  },
  "language_info": {
   "codemirror_mode": {
    "name": "ipython",
    "version": 3
   },
   "file_extension": ".py",
   "mimetype": "text/x-python",
   "name": "python",
   "nbconvert_exporter": "python",
   "pygments_lexer": "ipython3",
   "version": "3.12.4"
  },
  "toc": {
   "base_numbering": 1,
   "nav_menu": {},
   "number_sections": true,
   "sideBar": true,
   "skip_h1_title": true,
   "title_cell": "Table of Contents",
   "title_sidebar": "Contents",
   "toc_cell": false,
   "toc_position": {},
   "toc_section_display": true,
   "toc_window_display": false
  }
 },
 "nbformat": 4,
 "nbformat_minor": 5
}
